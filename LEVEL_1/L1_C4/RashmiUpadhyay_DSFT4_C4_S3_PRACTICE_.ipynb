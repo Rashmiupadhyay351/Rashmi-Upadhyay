{
 "cells": [
  {
   "cell_type": "code",
   "execution_count": 2,
   "id": "4dfe4438",
   "metadata": {},
   "outputs": [
    {
     "data": {
      "text/plain": [
       "100     Rashmi\n",
       "120       Prem\n",
       "130    Khushbu\n",
       "150     Manish\n",
       "160    Akshata\n",
       "170     Shreya\n",
       "180      Arfat\n",
       "150      Pawan\n",
       "195     Danish\n",
       "145    Anthony\n",
       "dtype: object"
      ]
     },
     "execution_count": 2,
     "metadata": {},
     "output_type": "execute_result"
    }
   ],
   "source": [
    "#TASK 1\n",
    "\n",
    "name = [\"Rashmi\", \"Prem\", \"Khushbu\", \"Manish\", \"Akshata\", \"Shreya\", \"Arfat\", \"Pawan\", \"Danish\", \"Anthony\"]\n",
    "marks_obtd_maths = [100, 120, 130, 150, 160, 170, 180, 150, 195, 145,]\n",
    "import pandas as pd\n",
    "S = pd.Series(name, index = marks_obtd_maths)\n",
    "S"
   ]
  },
  {
   "cell_type": "code",
   "execution_count": 3,
   "id": "ff81060a",
   "metadata": {},
   "outputs": [
    {
     "data": {
      "text/plain": [
       "array([ 0,  1,  2,  3,  4,  5,  6,  7,  8,  9, 10])"
      ]
     },
     "execution_count": 3,
     "metadata": {},
     "output_type": "execute_result"
    }
   ],
   "source": [
    "import numpy as np\n",
    "np.arange(0,11)"
   ]
  },
  {
   "cell_type": "code",
   "execution_count": 4,
   "id": "52f705fa",
   "metadata": {},
   "outputs": [
    {
     "data": {
      "text/plain": [
       "Rashmi     0\n",
       "Prem       1\n",
       "Khushbu    2\n",
       "Manish     3\n",
       "Akshata    4\n",
       "Shreya     5\n",
       "Arfat      6\n",
       "Pawan      7\n",
       "Danish     8\n",
       "Anthony    9\n",
       "dtype: int32"
      ]
     },
     "execution_count": 4,
     "metadata": {},
     "output_type": "execute_result"
    }
   ],
   "source": [
    "S = pd.Series(np.arange(0,10), index=name)\n",
    "S"
   ]
  },
  {
   "cell_type": "code",
   "execution_count": 5,
   "id": "d0de75b3",
   "metadata": {},
   "outputs": [
    {
     "data": {
      "text/plain": [
       "1      Rashmi\n",
       "2        Prem\n",
       "3     Khushbu\n",
       "4      Manish\n",
       "5     Akshata\n",
       "6      Shreya\n",
       "7       Arfat\n",
       "8       Pawan\n",
       "9      Danish\n",
       "10    Anthony\n",
       "dtype: object"
      ]
     },
     "execution_count": 5,
     "metadata": {},
     "output_type": "execute_result"
    }
   ],
   "source": [
    "import numpy as np\n",
    "S1 = pd.Series(name, index=np.arange(1,11))\n",
    "S1"
   ]
  },
  {
   "cell_type": "code",
   "execution_count": 6,
   "id": "eaffcf98",
   "metadata": {},
   "outputs": [
    {
     "data": {
      "text/plain": [
       "150     Rashmi\n",
       "120       Prem\n",
       "130    Khushbu\n",
       "150     Manish\n",
       "160    Akshata\n",
       "170     Shreya\n",
       "180      Arfat\n",
       "150      Pawan\n",
       "195     Danish\n",
       "145    Anthony\n",
       "dtype: object"
      ]
     },
     "execution_count": 6,
     "metadata": {},
     "output_type": "execute_result"
    }
   ],
   "source": [
    "#TASK 2\n",
    "\n",
    "name = [\"Rashmi\", \"Prem\", \"Khushbu\", \"Manish\", \"Akshata\", \"Shreya\", \"Arfat\", \"Pawan\", \"Danish\", \"Anthony\"]\n",
    "marks_obtd_physics = [150, 120, 130, 150, 160, 170, 180, 150, 195, 145,]\n",
    "import pandas as pd\n",
    "S1 = pd.Series(name, index = marks_obtd_physics)\n",
    "S1"
   ]
  },
  {
   "cell_type": "code",
   "execution_count": 7,
   "id": "aca022bf",
   "metadata": {},
   "outputs": [
    {
     "data": {
      "text/plain": [
       "Rashmi     0\n",
       "Prem       1\n",
       "Khushbu    2\n",
       "Manish     3\n",
       "Akshata    4\n",
       "Shreya     5\n",
       "Arfat      6\n",
       "Pawan      7\n",
       "Danish     8\n",
       "Anthony    9\n",
       "dtype: int32"
      ]
     },
     "execution_count": 7,
     "metadata": {},
     "output_type": "execute_result"
    }
   ],
   "source": [
    "S"
   ]
  },
  {
   "cell_type": "code",
   "execution_count": 8,
   "id": "d2d13e50",
   "metadata": {},
   "outputs": [
    {
     "name": "stdout",
     "output_type": "stream",
     "text": [
      "The number of students whose score is 150 in maths and physics:\n",
      " [100, 120, 130, 150, 160, 170, 180, 150, 195, 145] [150, 120, 130, 150, 160, 170, 180, 150, 195, 145]\n"
     ]
    }
   ],
   "source": [
    "print(\"The number of students whose score is 150 in maths and physics:\\n\", marks_obtd_maths, marks_obtd_physics)"
   ]
  },
  {
   "cell_type": "code",
   "execution_count": 9,
   "id": "6f177007",
   "metadata": {},
   "outputs": [
    {
     "data": {
      "text/html": [
       "<div>\n",
       "<style scoped>\n",
       "    .dataframe tbody tr th:only-of-type {\n",
       "        vertical-align: middle;\n",
       "    }\n",
       "\n",
       "    .dataframe tbody tr th {\n",
       "        vertical-align: top;\n",
       "    }\n",
       "\n",
       "    .dataframe thead th {\n",
       "        text-align: right;\n",
       "    }\n",
       "</style>\n",
       "<table border=\"1\" class=\"dataframe\">\n",
       "  <thead>\n",
       "    <tr style=\"text-align: right;\">\n",
       "      <th></th>\n",
       "      <th>Name</th>\n",
       "      <th>marks_obtd_maths</th>\n",
       "      <th>marks_obtd_physics</th>\n",
       "    </tr>\n",
       "  </thead>\n",
       "  <tbody>\n",
       "    <tr>\n",
       "      <th>0</th>\n",
       "      <td>Rashmi</td>\n",
       "      <td>100</td>\n",
       "      <td>150</td>\n",
       "    </tr>\n",
       "    <tr>\n",
       "      <th>1</th>\n",
       "      <td>Prem</td>\n",
       "      <td>120</td>\n",
       "      <td>120</td>\n",
       "    </tr>\n",
       "    <tr>\n",
       "      <th>2</th>\n",
       "      <td>Khushbu</td>\n",
       "      <td>130</td>\n",
       "      <td>130</td>\n",
       "    </tr>\n",
       "    <tr>\n",
       "      <th>3</th>\n",
       "      <td>Manish</td>\n",
       "      <td>150</td>\n",
       "      <td>150</td>\n",
       "    </tr>\n",
       "    <tr>\n",
       "      <th>4</th>\n",
       "      <td>Akshata</td>\n",
       "      <td>160</td>\n",
       "      <td>160</td>\n",
       "    </tr>\n",
       "    <tr>\n",
       "      <th>5</th>\n",
       "      <td>Shreya</td>\n",
       "      <td>170</td>\n",
       "      <td>170</td>\n",
       "    </tr>\n",
       "    <tr>\n",
       "      <th>6</th>\n",
       "      <td>Arfat</td>\n",
       "      <td>180</td>\n",
       "      <td>180</td>\n",
       "    </tr>\n",
       "    <tr>\n",
       "      <th>7</th>\n",
       "      <td>Pawan</td>\n",
       "      <td>150</td>\n",
       "      <td>150</td>\n",
       "    </tr>\n",
       "    <tr>\n",
       "      <th>8</th>\n",
       "      <td>Danish</td>\n",
       "      <td>195</td>\n",
       "      <td>195</td>\n",
       "    </tr>\n",
       "    <tr>\n",
       "      <th>9</th>\n",
       "      <td>Anthony</td>\n",
       "      <td>145</td>\n",
       "      <td>145</td>\n",
       "    </tr>\n",
       "  </tbody>\n",
       "</table>\n",
       "</div>"
      ],
      "text/plain": [
       "      Name  marks_obtd_maths  marks_obtd_physics\n",
       "0   Rashmi               100                 150\n",
       "1     Prem               120                 120\n",
       "2  Khushbu               130                 130\n",
       "3   Manish               150                 150\n",
       "4  Akshata               160                 160\n",
       "5   Shreya               170                 170\n",
       "6    Arfat               180                 180\n",
       "7    Pawan               150                 150\n",
       "8   Danish               195                 195\n",
       "9  Anthony               145                 145"
      ]
     },
     "execution_count": 9,
     "metadata": {},
     "output_type": "execute_result"
    }
   ],
   "source": [
    "# TASK 3\n",
    "dic={'Name':[\"Rashmi\", \"Prem\", \"Khushbu\", \"Manish\", \"Akshata\", \"Shreya\", \"Arfat\", \"Pawan\", \"Danish\", \"Anthony\"],'marks_obtd_maths':\n",
    "    [100, 120, 130, 150, 160, 170, 180, 150, 195, 145,],'marks_obtd_physics':[150, 120, 130, 150, 160, 170, 180, 150, 195, 145,]}\n",
    "\n",
    "DF=pd.DataFrame(dic)\n",
    "DF\n",
    "   "
   ]
  },
  {
   "cell_type": "code",
   "execution_count": 10,
   "id": "f97192e5",
   "metadata": {},
   "outputs": [
    {
     "name": "stdout",
     "output_type": "stream",
     "text": [
      "Price value of 20 cars:\n",
      " 101    33210\n",
      "102    46967\n",
      "103    39514\n",
      "104    46317\n",
      "105    37443\n",
      "106    37615\n",
      "107    33921\n",
      "108    30067\n",
      "109    32443\n",
      "110    44262\n",
      "111    37860\n",
      "112    40886\n",
      "113    48608\n",
      "114    47359\n",
      "115    45968\n",
      "116    46840\n",
      "117    44912\n",
      "118    32131\n",
      "119    44247\n",
      "120    49708\n",
      "dtype: int32\n"
     ]
    }
   ],
   "source": [
    "#TASK - 4\n",
    "import pandas as pd\n",
    "import numpy as np\n",
    "\n",
    "price=np.random.randint(30000,50000,20)\n",
    "c_module= np.arange(101,121)\n",
    "c_price=pd.Series(price, index=c_module)\n",
    "print(\"Price value of 20 cars:\\n\",c_price)"
   ]
  },
  {
   "cell_type": "code",
   "execution_count": 11,
   "id": "fa80b0b3",
   "metadata": {},
   "outputs": [
    {
     "name": "stdout",
     "output_type": "stream",
     "text": [
      "[46967 46317 44262 40886 48608 47359 45968 46840 44912 44247 49708]\n",
      "Total no of cars having price greater than $40000: 11\n"
     ]
    }
   ],
   "source": [
    "# TASK- 5\n",
    "c_price1=price[price>40000]\n",
    "print(c_price1)\n",
    "print(\"Total no of cars having price greater than $40000:\",c_price1.size)"
   ]
  },
  {
   "cell_type": "code",
   "execution_count": 12,
   "id": "9586d558",
   "metadata": {},
   "outputs": [
    {
     "data": {
      "text/plain": [
       "111    49566\n",
       "112    47491\n",
       "113    42861\n",
       "114    33179\n",
       "115    46517\n",
       "116    49676\n",
       "dtype: int32"
      ]
     },
     "execution_count": 12,
     "metadata": {},
     "output_type": "execute_result"
    }
   ],
   "source": [
    "# TASK- 6\n",
    "import pandas as pd\n",
    "import numpy as np\n",
    "\n",
    "price=np.random.randint(30000,50000,20)\n",
    "c_module= np.arange(101,121)\n",
    "c_price=pd.Series(price, index=c_module)\n",
    "c_price[10:16]\n"
   ]
  },
  {
   "cell_type": "code",
   "execution_count": 13,
   "id": "b6145faa",
   "metadata": {},
   "outputs": [
    {
     "name": "stdout",
     "output_type": "stream",
     "text": [
      "Number of cars in the range between $30000 to $40000 are: 9\n"
     ]
    }
   ],
   "source": [
    "# TASK- 7\n",
    "c_data = c_price[(c_price>30000)&(c_price<40000)]\n",
    "print(\"Number of cars in the range between $30000 to $40000 are:\",c_data.size)"
   ]
  },
  {
   "cell_type": "code",
   "execution_count": 14,
   "id": "2c1e58c8",
   "metadata": {},
   "outputs": [
    {
     "name": "stdout",
     "output_type": "stream",
     "text": [
      "Average price:  40307.75\n",
      "The number of cars priced above the average price: 11\n"
     ]
    }
   ],
   "source": [
    "#TASK - 8\n",
    "\n",
    "avg=c_price.mean()\n",
    "print(\"Average price: \",avg)\n",
    "c_price2=c_price[c_price>avg]\n",
    "print(\"The number of cars priced above the average price:\",c_price2.size)"
   ]
  },
  {
   "cell_type": "code",
   "execution_count": 15,
   "id": "fa08acf5",
   "metadata": {},
   "outputs": [
    {
     "name": "stdout",
     "output_type": "stream",
     "text": [
      "After adding the new record:\n",
      " 102    30041\n",
      "103    34703\n",
      "105    39820\n",
      "106    31668\n",
      "108    31488\n",
      "114    33179\n",
      "117    30130\n",
      "118    32282\n",
      "120    38735\n",
      "201    34000\n",
      "202    45000\n",
      "203    54000\n",
      "dtype: int64\n"
     ]
    }
   ],
   "source": [
    "\n",
    "#TASK - 9\n",
    "\n",
    "new_sal=[34000,45000,54000]\n",
    "new_id=[201,202,203]\n",
    "new=pd.Series(new_sal,index=new_id)\n",
    "\n",
    "new_data=pd.concat([c_data,new])\n",
    "print(\"After adding the new record:\\n\",new_data)\n"
   ]
  },
  {
   "cell_type": "code",
   "execution_count": 33,
   "id": "4d07b705",
   "metadata": {},
   "outputs": [
    {
     "name": "stdout",
     "output_type": "stream",
     "text": [
      "Before decrement\n",
      "102    30041\n",
      "103    34703\n",
      "105    39820\n",
      "106    31668\n",
      "108    31488\n",
      "114    33179\n",
      "117    30130\n",
      "118    32282\n",
      "120    38735\n",
      "dtype: int32\n",
      "After decrement by 10%\n",
      "102    27036.9\n",
      "103    31232.7\n",
      "105    35838.0\n",
      "106    28501.2\n",
      "108    28339.2\n",
      "114    29861.1\n",
      "117    27117.0\n",
      "118    29053.8\n",
      "120    34861.5\n",
      "dtype: float64\n"
     ]
    }
   ],
   "source": [
    "#TASK-10\n",
    "\n",
    "print('Before decrement')\n",
    "print(c_data)\n",
    "S10=c_data\n",
    "S11=S10*0.9\n",
    "#S10[(S10>40000*0.9)]\n",
    "print(\"After decrement by 10%\")\n",
    "print(S11)"
   ]
  },
  {
   "cell_type": "code",
   "execution_count": 40,
   "id": "065f0733",
   "metadata": {},
   "outputs": [
    {
     "name": "stdout",
     "output_type": "stream",
     "text": [
      "Before decrement\n",
      "9\n",
      "After decrement\n",
      "9\n"
     ]
    }
   ],
   "source": [
    "# TASK- 11\n",
    "\n",
    "print(\"Before decrement\")\n",
    "print(c_data.size)\n",
    "S10=c_data\n",
    "S11=S10[(S10>30000) & (S10<40000)]*0.9\n",
    "print(\"After decrement\")\n",
    "print(S11.size)\n"
   ]
  },
  {
   "cell_type": "code",
   "execution_count": 51,
   "id": "9b8e125c",
   "metadata": {},
   "outputs": [
    {
     "name": "stdout",
     "output_type": "stream",
     "text": [
      "Top 5 cheepest car price:  [30130 31488 31668 32282 33179]\n"
     ]
    }
   ],
   "source": [
    "#TASK - 12\n",
    "\n",
    "import numpy as np\n",
    "import pandas as pd\n",
    "num=np.sort(c_price)\n",
    "av=num\n",
    "print(\"Top 5 cheepest car price: \",av[1:6])\n"
   ]
  },
  {
   "cell_type": "code",
   "execution_count": null,
   "id": "ede6846b",
   "metadata": {},
   "outputs": [],
   "source": []
  },
  {
   "cell_type": "code",
   "execution_count": null,
   "id": "6bd71673",
   "metadata": {},
   "outputs": [],
   "source": []
  }
 ],
 "metadata": {
  "kernelspec": {
   "display_name": "Python 3 (ipykernel)",
   "language": "python",
   "name": "python3"
  },
  "language_info": {
   "codemirror_mode": {
    "name": "ipython",
    "version": 3
   },
   "file_extension": ".py",
   "mimetype": "text/x-python",
   "name": "python",
   "nbconvert_exporter": "python",
   "pygments_lexer": "ipython3",
   "version": "3.9.7"
  }
 },
 "nbformat": 4,
 "nbformat_minor": 5
}
