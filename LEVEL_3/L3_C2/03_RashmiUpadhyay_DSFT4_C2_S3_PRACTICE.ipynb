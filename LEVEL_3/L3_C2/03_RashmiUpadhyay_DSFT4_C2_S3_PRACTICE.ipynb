{
  "nbformat": 4,
  "nbformat_minor": 0,
  "metadata": {
    "colab": {
      "name": "03_RashmiUpadhyay+DSFT4_C2_S3_PRACTICE",
      "provenance": [],
      "collapsed_sections": []
    },
    "kernelspec": {
      "name": "python3",
      "display_name": "Python 3"
    },
    "language_info": {
      "name": "python"
    }
  },
  "cells": [
    {
      "cell_type": "code",
      "source": [
        "import tensorflow as tf\n",
        "from tensorflow import keras\n",
        "import numpy as np\n",
        "import matplotlib.pyplot as plt\n",
        "import pandas as pd\n",
        "import io\n"
      ],
      "metadata": {
        "id": "DnIBQOWmCKsG"
      },
      "execution_count": null,
      "outputs": []
    },
    {
      "cell_type": "code",
      "source": [
        "!pip install neurolab"
      ],
      "metadata": {
        "colab": {
          "base_uri": "https://localhost:8080/"
        },
        "id": "owR7-AoIZHnx",
        "outputId": "efd03c2a-0b30-45bf-a735-f5d2c0a60b0a"
      },
      "execution_count": null,
      "outputs": [
        {
          "output_type": "stream",
          "name": "stdout",
          "text": [
            "Collecting neurolab\n",
            "  Downloading neurolab-0.3.5.tar.gz (645 kB)\n",
            "\u001b[?25l\r\u001b[K     |▌                               | 10 kB 26.1 MB/s eta 0:00:01\r\u001b[K     |█                               | 20 kB 28.3 MB/s eta 0:00:01\r\u001b[K     |█▌                              | 30 kB 19.1 MB/s eta 0:00:01\r\u001b[K     |██                              | 40 kB 7.2 MB/s eta 0:00:01\r\u001b[K     |██▌                             | 51 kB 5.8 MB/s eta 0:00:01\r\u001b[K     |███                             | 61 kB 6.8 MB/s eta 0:00:01\r\u001b[K     |███▌                            | 71 kB 7.2 MB/s eta 0:00:01\r\u001b[K     |████                            | 81 kB 6.3 MB/s eta 0:00:01\r\u001b[K     |████▋                           | 92 kB 7.0 MB/s eta 0:00:01\r\u001b[K     |█████                           | 102 kB 7.6 MB/s eta 0:00:01\r\u001b[K     |█████▋                          | 112 kB 7.6 MB/s eta 0:00:01\r\u001b[K     |██████                          | 122 kB 7.6 MB/s eta 0:00:01\r\u001b[K     |██████▋                         | 133 kB 7.6 MB/s eta 0:00:01\r\u001b[K     |███████                         | 143 kB 7.6 MB/s eta 0:00:01\r\u001b[K     |███████▋                        | 153 kB 7.6 MB/s eta 0:00:01\r\u001b[K     |████████▏                       | 163 kB 7.6 MB/s eta 0:00:01\r\u001b[K     |████████▋                       | 174 kB 7.6 MB/s eta 0:00:01\r\u001b[K     |█████████▏                      | 184 kB 7.6 MB/s eta 0:00:01\r\u001b[K     |█████████▋                      | 194 kB 7.6 MB/s eta 0:00:01\r\u001b[K     |██████████▏                     | 204 kB 7.6 MB/s eta 0:00:01\r\u001b[K     |██████████▋                     | 215 kB 7.6 MB/s eta 0:00:01\r\u001b[K     |███████████▏                    | 225 kB 7.6 MB/s eta 0:00:01\r\u001b[K     |███████████▊                    | 235 kB 7.6 MB/s eta 0:00:01\r\u001b[K     |████████████▏                   | 245 kB 7.6 MB/s eta 0:00:01\r\u001b[K     |████████████▊                   | 256 kB 7.6 MB/s eta 0:00:01\r\u001b[K     |█████████████▏                  | 266 kB 7.6 MB/s eta 0:00:01\r\u001b[K     |█████████████▊                  | 276 kB 7.6 MB/s eta 0:00:01\r\u001b[K     |██████████████▏                 | 286 kB 7.6 MB/s eta 0:00:01\r\u001b[K     |██████████████▊                 | 296 kB 7.6 MB/s eta 0:00:01\r\u001b[K     |███████████████▎                | 307 kB 7.6 MB/s eta 0:00:01\r\u001b[K     |███████████████▊                | 317 kB 7.6 MB/s eta 0:00:01\r\u001b[K     |████████████████▎               | 327 kB 7.6 MB/s eta 0:00:01\r\u001b[K     |████████████████▊               | 337 kB 7.6 MB/s eta 0:00:01\r\u001b[K     |█████████████████▎              | 348 kB 7.6 MB/s eta 0:00:01\r\u001b[K     |█████████████████▊              | 358 kB 7.6 MB/s eta 0:00:01\r\u001b[K     |██████████████████▎             | 368 kB 7.6 MB/s eta 0:00:01\r\u001b[K     |██████████████████▉             | 378 kB 7.6 MB/s eta 0:00:01\r\u001b[K     |███████████████████▎            | 389 kB 7.6 MB/s eta 0:00:01\r\u001b[K     |███████████████████▉            | 399 kB 7.6 MB/s eta 0:00:01\r\u001b[K     |████████████████████▎           | 409 kB 7.6 MB/s eta 0:00:01\r\u001b[K     |████████████████████▉           | 419 kB 7.6 MB/s eta 0:00:01\r\u001b[K     |█████████████████████▎          | 430 kB 7.6 MB/s eta 0:00:01\r\u001b[K     |█████████████████████▉          | 440 kB 7.6 MB/s eta 0:00:01\r\u001b[K     |██████████████████████▍         | 450 kB 7.6 MB/s eta 0:00:01\r\u001b[K     |██████████████████████▉         | 460 kB 7.6 MB/s eta 0:00:01\r\u001b[K     |███████████████████████▍        | 471 kB 7.6 MB/s eta 0:00:01\r\u001b[K     |███████████████████████▉        | 481 kB 7.6 MB/s eta 0:00:01\r\u001b[K     |████████████████████████▍       | 491 kB 7.6 MB/s eta 0:00:01\r\u001b[K     |████████████████████████▉       | 501 kB 7.6 MB/s eta 0:00:01\r\u001b[K     |█████████████████████████▍      | 512 kB 7.6 MB/s eta 0:00:01\r\u001b[K     |██████████████████████████      | 522 kB 7.6 MB/s eta 0:00:01\r\u001b[K     |██████████████████████████▍     | 532 kB 7.6 MB/s eta 0:00:01\r\u001b[K     |███████████████████████████     | 542 kB 7.6 MB/s eta 0:00:01\r\u001b[K     |███████████████████████████▍    | 552 kB 7.6 MB/s eta 0:00:01\r\u001b[K     |████████████████████████████    | 563 kB 7.6 MB/s eta 0:00:01\r\u001b[K     |████████████████████████████▍   | 573 kB 7.6 MB/s eta 0:00:01\r\u001b[K     |█████████████████████████████   | 583 kB 7.6 MB/s eta 0:00:01\r\u001b[K     |█████████████████████████████▌  | 593 kB 7.6 MB/s eta 0:00:01\r\u001b[K     |██████████████████████████████  | 604 kB 7.6 MB/s eta 0:00:01\r\u001b[K     |██████████████████████████████▌ | 614 kB 7.6 MB/s eta 0:00:01\r\u001b[K     |███████████████████████████████ | 624 kB 7.6 MB/s eta 0:00:01\r\u001b[K     |███████████████████████████████▌| 634 kB 7.6 MB/s eta 0:00:01\r\u001b[K     |████████████████████████████████| 645 kB 7.6 MB/s eta 0:00:01\r\u001b[K     |████████████████████████████████| 645 kB 7.6 MB/s \n",
            "\u001b[?25hBuilding wheels for collected packages: neurolab\n",
            "  Building wheel for neurolab (setup.py) ... \u001b[?25l\u001b[?25hdone\n",
            "  Created wheel for neurolab: filename=neurolab-0.3.5-py3-none-any.whl size=22180 sha256=b765c692ce794f374994416358f06097cbbb28cd5d35731104818d39cb33bbd6\n",
            "  Stored in directory: /root/.cache/pip/wheels/3e/07/63/e3d6e066089d7186465184a6f9a1884471485f38beef1edeaa\n",
            "Successfully built neurolab\n",
            "Installing collected packages: neurolab\n",
            "Successfully installed neurolab-0.3.5\n"
          ]
        }
      ]
    },
    {
      "cell_type": "markdown",
      "source": [
        "**TASK - 1**"
      ],
      "metadata": {
        "id": "Toz9YAwSQj7G"
      }
    },
    {
      "cell_type": "markdown",
      "source": [
        "**Tanh Activation**"
      ],
      "metadata": {
        "id": "4zmYes02Qj-t"
      }
    },
    {
      "cell_type": "code",
      "execution_count": null,
      "metadata": {
        "id": "tTsNHYYfAauC"
      },
      "outputs": [],
      "source": [
        "def tanh(x):\n",
        "  return np.tanh(x)        "
      ]
    },
    {
      "cell_type": "code",
      "source": [
        "x = np.linspace(-15, 15)\n",
        "plt.plot(x, tanh(x))\n",
        "plt.axis('tight')\n",
        "plt.title('Activation Function :Tanh')\n",
        "plt.show()"
      ],
      "metadata": {
        "colab": {
          "base_uri": "https://localhost:8080/",
          "height": 281
        },
        "id": "KnazlWvTCJvu",
        "outputId": "fe0ec912-576e-4182-e617-39107e2629e5"
      },
      "execution_count": null,
      "outputs": [
        {
          "output_type": "display_data",
          "data": {
            "text/plain": [
              "<Figure size 432x288 with 1 Axes>"
            ],
            "image/png": "[encoded data removed]"
          },
          "metadata": {
            "needs_background": "light"
          }
        }
      ]
    },
    {
      "cell_type": "markdown",
      "source": [
        "**Sigmoid Activation**"
      ],
      "metadata": {
        "id": "lJvtUZwdDFvk"
      }
    },
    {
      "cell_type": "code",
      "source": [
        "def sigmoid(x):\n",
        "    return (1/(1+np.exp(-x)))"
      ],
      "metadata": {
        "id": "lSEyNPuMCK2J"
      },
      "execution_count": null,
      "outputs": []
    },
    {
      "cell_type": "code",
      "source": [
        "x = np.linspace(-15, 15)\n",
        "plt.plot(x, sigmoid(x))\n",
        "plt.axis('tight')\n",
        "plt.title('Activation Function :Sigmoid')\n",
        "plt.show()"
      ],
      "metadata": {
        "colab": {
          "base_uri": "https://localhost:8080/",
          "height": 281
        },
        "id": "YOeLjXHnCK4d",
        "outputId": "10080561-6a4e-4475-eea3-4bdb8c15966d"
      },
      "execution_count": null,
      "outputs": [
        {
          "output_type": "display_data",
          "data": {
            "text/plain": [
              "<Figure size 432x288 with 1 Axes>"
            ],
            "image/png": "[encoded data removed]"
          },
          "metadata": {
            "needs_background": "light"
          }
        }
      ]
    },
    {
      "cell_type": "markdown",
      "source": [
        "**Softmax Activation**"
      ],
      "metadata": {
        "id": "TlXeKKNREEZA"
      }
    },
    {
      "cell_type": "code",
      "source": [
        "def softmax(x):\n",
        "    return np.exp(x) / np.sum(np.exp(x), axis=0)"
      ],
      "metadata": {
        "id": "jizB-0xBCK8m"
      },
      "execution_count": null,
      "outputs": []
    },
    {
      "cell_type": "code",
      "source": [
        "x = np.linspace(-15, 15)\n",
        "plt.plot(x, softmax(x))\n",
        "plt.axis('tight')\n",
        "plt.title('Activation Function :Softmax')        \n",
        "plt.show()"
      ],
      "metadata": {
        "colab": {
          "base_uri": "https://localhost:8080/",
          "height": 281
        },
        "id": "O2FjEtmmCK_p",
        "outputId": "d416b621-75e4-4306-9cb7-30bc97413369"
      },
      "execution_count": null,
      "outputs": [
        {
          "output_type": "display_data",
          "data": {
            "text/plain": [
              "<Figure size 432x288 with 1 Axes>"
            ],
            "image/png": "[encoded data removed]"
          },
          "metadata": {
            "needs_background": "light"
          }
        }
      ]
    },
    {
      "cell_type": "markdown",
      "source": [
        "**Custom Activation**"
      ],
      "metadata": {
        "id": "nMcB0jxlQaNg"
      }
    },
    {
      "cell_type": "code",
      "source": [
        "from keras import backend as K\n",
        "def custom_activation(x):\n",
        "  return (3*x**2+5)        \n",
        "  get_custom_objects().update({'custom_activation': Activation(custom_activation)})\n"
      ],
      "metadata": {
        "id": "8ze3_GthMJS7"
      },
      "execution_count": null,
      "outputs": []
    },
    {
      "cell_type": "code",
      "source": [
        "x = np.linspace(-15, 15)\n",
        "plt.plot(x, custom_activation(x))\n",
        "plt.axis('tight')\n",
        "plt.title('Custom Activation')        \n",
        "plt.show()"
      ],
      "metadata": {
        "colab": {
          "base_uri": "https://localhost:8080/",
          "height": 281
        },
        "id": "cy9wfCFh_OEi",
        "outputId": "d6c8c89f-7b52-47cc-9245-de6f621824df"
      },
      "execution_count": null,
      "outputs": [
        {
          "output_type": "display_data",
          "data": {
            "text/plain": [
              "<Figure size 432x288 with 1 Axes>"
            ],
            "image/png": "[encoded data removed]"
          },
          "metadata": {
            "needs_background": "light"
          }
        }
      ]
    },
    {
      "cell_type": "markdown",
      "source": [
        "**TASK - 2**"
      ],
      "metadata": {
        "id": "BYYIiRqmQ0dc"
      }
    },
    {
      "cell_type": "markdown",
      "source": [
        "**A**"
      ],
      "metadata": {
        "id": "OOU9YmPNAxED"
      }
    },
    {
      "cell_type": "code",
      "source": [
        "#generating data\n",
        "\n",
        "x=np.linspace(-15,15,130)"
      ],
      "metadata": {
        "id": "5gGYLF6T_zR1"
      },
      "execution_count": null,
      "outputs": []
    },
    {
      "cell_type": "code",
      "source": [
        "x"
      ],
      "metadata": {
        "colab": {
          "base_uri": "https://localhost:8080/"
        },
        "id": "f_A6orab_zVD",
        "outputId": "0d610c16-39e5-46ec-a967-4f0b85e40550"
      },
      "execution_count": null,
      "outputs": [
        {
          "output_type": "execute_result",
          "data": {
            "text/plain": [
              "array([-15.        , -14.76744186, -14.53488372, -14.30232558,\n",
              "       -14.06976744, -13.8372093 , -13.60465116, -13.37209302,\n",
              "       -13.13953488, -12.90697674, -12.6744186 , -12.44186047,\n",
              "       -12.20930233, -11.97674419, -11.74418605, -11.51162791,\n",
              "       -11.27906977, -11.04651163, -10.81395349, -10.58139535,\n",
              "       -10.34883721, -10.11627907,  -9.88372093,  -9.65116279,\n",
              "        -9.41860465,  -9.18604651,  -8.95348837,  -8.72093023,\n",
              "        -8.48837209,  -8.25581395,  -8.02325581,  -7.79069767,\n",
              "        -7.55813953,  -7.3255814 ,  -7.09302326,  -6.86046512,\n",
              "        -6.62790698,  -6.39534884,  -6.1627907 ,  -5.93023256,\n",
              "        -5.69767442,  -5.46511628,  -5.23255814,  -5.        ,\n",
              "        -4.76744186,  -4.53488372,  -4.30232558,  -4.06976744,\n",
              "        -3.8372093 ,  -3.60465116,  -3.37209302,  -3.13953488,\n",
              "        -2.90697674,  -2.6744186 ,  -2.44186047,  -2.20930233,\n",
              "        -1.97674419,  -1.74418605,  -1.51162791,  -1.27906977,\n",
              "        -1.04651163,  -0.81395349,  -0.58139535,  -0.34883721,\n",
              "        -0.11627907,   0.11627907,   0.34883721,   0.58139535,\n",
              "         0.81395349,   1.04651163,   1.27906977,   1.51162791,\n",
              "         1.74418605,   1.97674419,   2.20930233,   2.44186047,\n",
              "         2.6744186 ,   2.90697674,   3.13953488,   3.37209302,\n",
              "         3.60465116,   3.8372093 ,   4.06976744,   4.30232558,\n",
              "         4.53488372,   4.76744186,   5.        ,   5.23255814,\n",
              "         5.46511628,   5.69767442,   5.93023256,   6.1627907 ,\n",
              "         6.39534884,   6.62790698,   6.86046512,   7.09302326,\n",
              "         7.3255814 ,   7.55813953,   7.79069767,   8.02325581,\n",
              "         8.25581395,   8.48837209,   8.72093023,   8.95348837,\n",
              "         9.18604651,   9.41860465,   9.65116279,   9.88372093,\n",
              "        10.11627907,  10.34883721,  10.58139535,  10.81395349,\n",
              "        11.04651163,  11.27906977,  11.51162791,  11.74418605,\n",
              "        11.97674419,  12.20930233,  12.44186047,  12.6744186 ,\n",
              "        12.90697674,  13.13953488,  13.37209302,  13.60465116,\n",
              "        13.8372093 ,  14.06976744,  14.30232558,  14.53488372,\n",
              "        14.76744186,  15.        ])"
            ]
          },
          "metadata": {},
          "execution_count": 130
        }
      ]
    },
    {
      "cell_type": "code",
      "source": [
        "y=softmax(x)"
      ],
      "metadata": {
        "id": "j_GuPAQBAiAM"
      },
      "execution_count": null,
      "outputs": []
    },
    {
      "cell_type": "markdown",
      "source": [
        "**B**"
      ],
      "metadata": {
        "id": "9kC9KQerA16u"
      }
    },
    {
      "cell_type": "code",
      "source": [
        "# generating data \n",
        "\n",
        "data=x.reshape(130,1)"
      ],
      "metadata": {
        "id": "59BewUce_zYP"
      },
      "execution_count": null,
      "outputs": []
    },
    {
      "cell_type": "code",
      "source": [
        "#generating labels\n",
        "\n",
        "labels=y.reshape(130,1)"
      ],
      "metadata": {
        "id": "a6txtEaO_za9"
      },
      "execution_count": null,
      "outputs": []
    },
    {
      "cell_type": "code",
      "source": [
        "labels"
      ],
      "metadata": {
        "colab": {
          "base_uri": "https://localhost:8080/"
        },
        "id": "scHwjIqQA74L",
        "outputId": "48ade2ab-472f-492a-b525-524f520d79dd"
      },
      "execution_count": null,
      "outputs": [
        {
          "output_type": "execute_result",
          "data": {
            "text/plain": [
              "array([[1.94167240e-14],\n",
              "       [2.45004846e-14],\n",
              "       [3.09152947e-14],\n",
              "       [3.90096549e-14],\n",
              "       [4.92233112e-14],\n",
              "       [6.21111459e-14],\n",
              "       [7.83733225e-14],\n",
              "       [9.88933241e-14],\n",
              "       [1.24785951e-13],\n",
              "       [1.57457883e-13],\n",
              "       [1.98684105e-13],\n",
              "       [2.50704334e-13],\n",
              "       [3.16344697e-13],\n",
              "       [3.99171270e-13],\n",
              "       [5.03683811e-13],\n",
              "       [6.35560223e-13],\n",
              "       [8.01965020e-13],\n",
              "       [1.01193855e-12],\n",
              "       [1.27688816e-12],\n",
              "       [1.61120787e-12],\n",
              "       [2.03306045e-12],\n",
              "       [2.56536408e-12],\n",
              "       [3.23703746e-12],\n",
              "       [4.08457093e-12],\n",
              "       [5.15400884e-12],\n",
              "       [6.50345105e-12],\n",
              "       [8.20620936e-12],\n",
              "       [1.03547903e-11],\n",
              "       [1.30659209e-11],\n",
              "       [1.64868901e-11],\n",
              "       [2.08035504e-11],\n",
              "       [2.62504152e-11],\n",
              "       [3.31233988e-11],\n",
              "       [4.17958931e-11],\n",
              "       [5.27390529e-11],\n",
              "       [6.65473925e-11],\n",
              "       [8.39710841e-11],\n",
              "       [1.05956713e-10],\n",
              "       [1.33698703e-10],\n",
              "       [1.68704206e-10],\n",
              "       [2.12874983e-10],\n",
              "       [2.68610722e-10],\n",
              "       [3.38939403e-10],\n",
              "       [4.27681808e-10],\n",
              "       [5.39659086e-10],\n",
              "       [6.80954682e-10],\n",
              "       [8.59244829e-10],\n",
              "       [1.08421558e-09],\n",
              "       [1.36808903e-09],\n",
              "       [1.72628731e-09],\n",
              "       [2.17827042e-09],\n",
              "       [2.74859347e-09],\n",
              "       [3.46824068e-09],\n",
              "       [4.37630865e-09],\n",
              "       [5.52213044e-09],\n",
              "       [6.96795565e-09],\n",
              "       [8.79233232e-09],\n",
              "       [1.10943742e-08],\n",
              "       [1.39991455e-08],\n",
              "       [1.76644551e-08],\n",
              "       [2.22894299e-08],\n",
              "       [2.81253333e-08],\n",
              "       [3.54892151e-08],\n",
              "       [4.47811365e-08],\n",
              "       [5.65059041e-08],\n",
              "       [7.13004950e-08],\n",
              "       [8.99686620e-08],\n",
              "       [1.13524599e-07],\n",
              "       [1.43248042e-07],\n",
              "       [1.80753790e-07],\n",
              "       [2.28079435e-07],\n",
              "       [2.87796061e-07],\n",
              "       [3.63147921e-07],\n",
              "       [4.58228692e-07],\n",
              "       [5.78203872e-07],\n",
              "       [7.29591410e-07],\n",
              "       [9.20615810e-07],\n",
              "       [1.16165495e-06],\n",
              "       [1.46580386e-06],\n",
              "       [1.84958621e-06],\n",
              "       [2.33385191e-06],\n",
              "       [2.94490990e-06],\n",
              "       [3.71595742e-06],\n",
              "       [4.68888354e-06],\n",
              "       [5.91654487e-06],\n",
              "       [7.46563717e-06],\n",
              "       [9.42031871e-06],\n",
              "       [1.18867824e-05],\n",
              "       [1.49990250e-05],\n",
              "       [1.89261268e-05],\n",
              "       [2.38814374e-05],\n",
              "       [3.01341662e-05],\n",
              "       [3.80240083e-05],\n",
              "       [4.79795989e-05],\n",
              "       [6.05418001e-05],\n",
              "       [7.63930846e-05],\n",
              "       [9.63946128e-05],\n",
              "       [1.21633017e-04],\n",
              "       [1.53479437e-04],\n",
              "       [1.93664007e-04],\n",
              "       [2.44369854e-04],\n",
              "       [3.08351700e-04],\n",
              "       [3.89085515e-04],\n",
              "       [4.90957366e-04],\n",
              "       [6.19501692e-04],\n",
              "       [7.81701983e-04],\n",
              "       [9.86370172e-04],\n",
              "       [1.24462536e-03],\n",
              "       [1.57049791e-03],\n",
              "       [1.98169166e-03],\n",
              "       [2.50054571e-03],\n",
              "       [3.15524810e-03],\n",
              "       [3.98136717e-03],\n",
              "       [5.02378387e-03],\n",
              "       [6.33913009e-03],\n",
              "       [7.99886526e-03],\n",
              "       [1.00931586e-02],\n",
              "       [1.27357878e-02],\n",
              "       [1.60703202e-02],\n",
              "       [2.02779126e-02],\n",
              "       [2.55871529e-02],\n",
              "       [3.22864787e-02],\n",
              "       [4.07398474e-02],\n",
              "       [5.14065093e-02],\n",
              "       [6.48659572e-02],\n",
              "       [8.18494091e-02],\n",
              "       [1.03279533e-01],\n",
              "       [1.30320573e-01],\n",
              "       [1.64441602e-01],\n",
              "       [2.07496328e-01]])"
            ]
          },
          "metadata": {},
          "execution_count": 134
        }
      ]
    },
    {
      "cell_type": "markdown",
      "source": [
        "**C**"
      ],
      "metadata": {
        "id": "t81fqiADA5Rw"
      }
    },
    {
      "cell_type": "code",
      "source": [
        "# Plotting the  input data\n",
        "\n",
        "plt.figure()\n",
        "plt.scatter(data,labels)               \n",
        "plt.xlabel('Dimension 1')\n",
        "plt.ylabel('Dimension 2')       \n",
        "plt.title('Input data')"
      ],
      "metadata": {
        "colab": {
          "base_uri": "https://localhost:8080/",
          "height": 312
        },
        "id": "X2c2CEgD_zcx",
        "outputId": "589a30e5-95f6-4c1b-d01e-bacca5f36688"
      },
      "execution_count": null,
      "outputs": [
        {
          "output_type": "execute_result",
          "data": {
            "text/plain": [
              "Text(0.5, 1.0, 'Input data')"
            ]
          },
          "metadata": {},
          "execution_count": 135
        },
        {
          "output_type": "display_data",
          "data": {
            "text/plain": [
              "<Figure size 432x288 with 1 Axes>"
            ],
            "image/png": "[encoded data removed]"
          },
          "metadata": {
            "needs_background": "light"
          }
        }
      ]
    },
    {
      "cell_type": "markdown",
      "source": [
        "**D**"
      ],
      "metadata": {
        "id": "XONWSPCqBUHg"
      }
    },
    {
      "cell_type": "code",
      "source": [
        "#defining multilayes neural network\n",
        "\n",
        "neunet=nl.net.newff([[-15,15]],[10,6,1])"
      ],
      "metadata": {
        "id": "Kcrike4H_ze1"
      },
      "execution_count": null,
      "outputs": []
    },
    {
      "cell_type": "markdown",
      "source": [
        "**E**"
      ],
      "metadata": {
        "id": "CJRnG-c2B2oZ"
      }
    },
    {
      "cell_type": "code",
      "source": [
        "#training algorithm to gradient descent\n",
        "\n",
        "neunet.trainf=nl.train.train_gd               "
      ],
      "metadata": {
        "id": "BVwf6Q-1_zhX"
      },
      "execution_count": null,
      "outputs": []
    },
    {
      "cell_type": "markdown",
      "source": [
        "**F**"
      ],
      "metadata": {
        "id": "oYC00-PcCZBk"
      }
    },
    {
      "cell_type": "code",
      "source": [
        "#training neural network with data and labels\n",
        "\n",
        "error_progress=neunet.train(data,labels,epochs=1000,show=50,goal=0.01)"
      ],
      "metadata": {
        "colab": {
          "base_uri": "https://localhost:8080/"
        },
        "id": "QbAu6bCj_zlY",
        "outputId": "c2dd97c9-6500-43d8-b8ba-9061840cf3d1"
      },
      "execution_count": null,
      "outputs": [
        {
          "output_type": "stream",
          "name": "stdout",
          "text": [
            "Epoch: 50; Error: 5.38583753981605;\n",
            "Epoch: 100; Error: 2.4098066327618595;\n",
            "Epoch: 150; Error: 0.13449945633075405;\n",
            "Epoch: 200; Error: 0.2083473032382538;\n",
            "Epoch: 250; Error: 0.08983160137750783;\n",
            "Epoch: 300; Error: 0.06045907984310279;\n",
            "Epoch: 350; Error: 0.05073827896719245;\n",
            "Epoch: 400; Error: 0.09798407237751991;\n",
            "Epoch: 450; Error: 0.0672557740058265;\n",
            "Epoch: 500; Error: 0.08829745647473461;\n",
            "Epoch: 550; Error: 0.07659009278111928;\n",
            "Epoch: 600; Error: 0.08298857539522891;\n",
            "Epoch: 650; Error: 0.0747103249669365;\n",
            "Epoch: 700; Error: 0.07414983021448687;\n",
            "Epoch: 750; Error: 0.06751339059183961;\n",
            "Epoch: 800; Error: 0.06517133333528184;\n",
            "Epoch: 850; Error: 0.06024794181149466;\n",
            "Epoch: 900; Error: 0.05833531173189872;\n",
            "Epoch: 950; Error: 0.05774583107357292;\n",
            "Epoch: 1000; Error: 0.0507199636188447;\n",
            "The maximum number of train epochs is reached\n"
          ]
        }
      ]
    },
    {
      "cell_type": "markdown",
      "source": [
        "**G**"
      ],
      "metadata": {
        "id": "wos5Dl7WDBLT"
      }
    },
    {
      "cell_type": "code",
      "source": [
        "#running the neural network on training datapoints \n",
        "\n",
        "output=neunet.sim(data)"
      ],
      "metadata": {
        "id": "Hj9TeaQRDKhp"
      },
      "execution_count": null,
      "outputs": []
    },
    {
      "cell_type": "code",
      "source": [
        "y_prediction=output.reshape(130)"
      ],
      "metadata": {
        "id": "fMvVSNjnDKke"
      },
      "execution_count": null,
      "outputs": []
    },
    {
      "cell_type": "markdown",
      "source": [
        "**H**"
      ],
      "metadata": {
        "id": "8ax8cs9TDmCF"
      }
    },
    {
      "cell_type": "code",
      "source": [
        "#Plotting the training errors\n",
        "\n",
        "plt.figure()\n",
        "plt.plot(error_progress)               \n",
        "plt.xlabel('Epochs')\n",
        "plt.ylabel('Error')       \n",
        "plt.title('Training error')\n",
        "plt.show()"
      ],
      "metadata": {
        "colab": {
          "base_uri": "https://localhost:8080/",
          "height": 295
        },
        "id": "b1_ZD5wLDKnP",
        "outputId": "891b3d8b-b0fb-4d65-c645-1427f5bf5c24"
      },
      "execution_count": null,
      "outputs": [
        {
          "output_type": "display_data",
          "data": {
            "text/plain": [
              "<Figure size 432x288 with 1 Axes>"
            ],
            "image/png": "[encoded data removed]"
          },
          "metadata": {
            "needs_background": "light"
          }
        }
      ]
    },
    {
      "cell_type": "markdown",
      "source": [
        "**I**"
      ],
      "metadata": {
        "id": "4AAewJbdEKR5"
      }
    },
    {
      "cell_type": "code",
      "source": [
        "#plotting the output\n",
        "x_dense=np.linspace(-15,15,130*2)\n",
        "y_dense_prediction=neunet.sim(x_dense.reshape(x_dense.size,1)).reshape(x_dense.size)\n",
        "plt.figure()\n",
        "plt.plot(x_dense,y_dense_prediction,',',x,y, ',',x,y_prediction,'p')\n",
        "plt.title('Actual vs Predicted')\n",
        "plt.show()"
      ],
      "metadata": {
        "colab": {
          "base_uri": "https://localhost:8080/",
          "height": 281
        },
        "id": "2ShvcNULENiN",
        "outputId": "4c0749cf-40c7-4fa6-f84b-dd7d87bb56d5"
      },
      "execution_count": null,
      "outputs": [
        {
          "output_type": "display_data",
          "data": {
            "text/plain": [
              "<Figure size 432x288 with 1 Axes>"
            ],
            "image/png": "[encoded data removed]"
          },
          "metadata": {
            "needs_background": "light"
          }
        }
      ]
    },
    {
      "cell_type": "markdown",
      "source": [
        "**J**"
      ],
      "metadata": {
        "id": "WAlZVL_4IYOD"
      }
    },
    {
      "cell_type": "markdown",
      "source": [
        "**Comparing labels by using different activations**"
      ],
      "metadata": {
        "id": "GqLMuK0RJGWI"
      }
    },
    {
      "cell_type": "code",
      "source": [
        "# labels using tanh activation\n",
        "\n",
        "y=tanh(x)\n",
        "labels=y.reshape(130,1)\n",
        "labels"
      ],
      "metadata": {
        "colab": {
          "base_uri": "https://localhost:8080/"
        },
        "id": "Fsyv_FlqIbXq",
        "outputId": "47a6f7ad-25e7-44ca-af73-703bf32384da"
      },
      "execution_count": null,
      "outputs": [
        {
          "output_type": "execute_result",
          "data": {
            "text/plain": [
              "array([[-1.        ],\n",
              "       [-1.        ],\n",
              "       [-1.        ],\n",
              "       [-1.        ],\n",
              "       [-1.        ],\n",
              "       [-1.        ],\n",
              "       [-1.        ],\n",
              "       [-1.        ],\n",
              "       [-1.        ],\n",
              "       [-1.        ],\n",
              "       [-1.        ],\n",
              "       [-1.        ],\n",
              "       [-1.        ],\n",
              "       [-1.        ],\n",
              "       [-1.        ],\n",
              "       [-1.        ],\n",
              "       [-1.        ],\n",
              "       [-1.        ],\n",
              "       [-1.        ],\n",
              "       [-1.        ],\n",
              "       [-1.        ],\n",
              "       [-1.        ],\n",
              "       [-0.99999999],\n",
              "       [-0.99999999],\n",
              "       [-0.99999999],\n",
              "       [-0.99999998],\n",
              "       [-0.99999997],\n",
              "       [-0.99999995],\n",
              "       [-0.99999992],\n",
              "       [-0.99999987],\n",
              "       [-0.99999979],\n",
              "       [-0.99999966],\n",
              "       [-0.99999946],\n",
              "       [-0.99999913],\n",
              "       [-0.99999862],\n",
              "       [-0.9999978 ],\n",
              "       [-0.9999965 ],\n",
              "       [-0.99999443],\n",
              "       [-0.99999113],\n",
              "       [-0.99998587],\n",
              "       [-0.9999775 ],\n",
              "       [-0.99996418],\n",
              "       [-0.99994297],\n",
              "       [-0.9999092 ],\n",
              "       [-0.99985544],\n",
              "       [-0.99976984],\n",
              "       [-0.99963356],\n",
              "       [-0.99941662],\n",
              "       [-0.99907131],\n",
              "       [-0.99852175],\n",
              "       [-0.99764736],\n",
              "       [-0.99625673],\n",
              "       [-0.99404657],\n",
              "       [-0.99053763],\n",
              "       [-0.98497612],\n",
              "       [-0.97618492],\n",
              "       [-0.96234717],\n",
              "       [-0.94071021],\n",
              "       [-0.90722752],\n",
              "       [-0.85623687],\n",
              "       [-0.78044645],\n",
              "       [-0.67176543],\n",
              "       [-0.52367886],\n",
              "       [-0.33534392],\n",
              "       [-0.11575783],\n",
              "       [ 0.11575783],\n",
              "       [ 0.33534392],\n",
              "       [ 0.52367886],\n",
              "       [ 0.67176543],\n",
              "       [ 0.78044645],\n",
              "       [ 0.85623687],\n",
              "       [ 0.90722752],\n",
              "       [ 0.94071021],\n",
              "       [ 0.96234717],\n",
              "       [ 0.97618492],\n",
              "       [ 0.98497612],\n",
              "       [ 0.99053763],\n",
              "       [ 0.99404657],\n",
              "       [ 0.99625673],\n",
              "       [ 0.99764736],\n",
              "       [ 0.99852175],\n",
              "       [ 0.99907131],\n",
              "       [ 0.99941662],\n",
              "       [ 0.99963356],\n",
              "       [ 0.99976984],\n",
              "       [ 0.99985544],\n",
              "       [ 0.9999092 ],\n",
              "       [ 0.99994297],\n",
              "       [ 0.99996418],\n",
              "       [ 0.9999775 ],\n",
              "       [ 0.99998587],\n",
              "       [ 0.99999113],\n",
              "       [ 0.99999443],\n",
              "       [ 0.9999965 ],\n",
              "       [ 0.9999978 ],\n",
              "       [ 0.99999862],\n",
              "       [ 0.99999913],\n",
              "       [ 0.99999946],\n",
              "       [ 0.99999966],\n",
              "       [ 0.99999979],\n",
              "       [ 0.99999987],\n",
              "       [ 0.99999992],\n",
              "       [ 0.99999995],\n",
              "       [ 0.99999997],\n",
              "       [ 0.99999998],\n",
              "       [ 0.99999999],\n",
              "       [ 0.99999999],\n",
              "       [ 0.99999999],\n",
              "       [ 1.        ],\n",
              "       [ 1.        ],\n",
              "       [ 1.        ],\n",
              "       [ 1.        ],\n",
              "       [ 1.        ],\n",
              "       [ 1.        ],\n",
              "       [ 1.        ],\n",
              "       [ 1.        ],\n",
              "       [ 1.        ],\n",
              "       [ 1.        ],\n",
              "       [ 1.        ],\n",
              "       [ 1.        ],\n",
              "       [ 1.        ],\n",
              "       [ 1.        ],\n",
              "       [ 1.        ],\n",
              "       [ 1.        ],\n",
              "       [ 1.        ],\n",
              "       [ 1.        ],\n",
              "       [ 1.        ],\n",
              "       [ 1.        ],\n",
              "       [ 1.        ],\n",
              "       [ 1.        ]])"
            ]
          },
          "metadata": {},
          "execution_count": 149
        }
      ]
    },
    {
      "cell_type": "code",
      "source": [
        "# labels using sigmoid activation\n",
        "\n",
        "y=sigmoid(x)\n",
        "labels=y.reshape(130,1)\n",
        "labels"
      ],
      "metadata": {
        "colab": {
          "base_uri": "https://localhost:8080/"
        },
        "id": "nFnqA4NMIban",
        "outputId": "3b8314b8-88ad-4fed-93d7-d8353a29b20d"
      },
      "execution_count": null,
      "outputs": [
        {
          "output_type": "execute_result",
          "data": {
            "text/plain": [
              "array([[3.05902227e-07],\n",
              "       [3.85994681e-07],\n",
              "       [4.87057229e-07],\n",
              "       [6.14580328e-07],\n",
              "       [7.75491964e-07],\n",
              "       [9.78534022e-07],\n",
              "       [1.23473721e-06],\n",
              "       [1.55802030e-06],\n",
              "       [1.96594630e-06],\n",
              "       [2.48067657e-06],\n",
              "       [3.13017472e-06],\n",
              "       [3.94972574e-06],\n",
              "       [4.98385281e-06],\n",
              "       [6.28873592e-06],\n",
              "       [7.93526362e-06],\n",
              "       [1.00128837e-05],\n",
              "       [1.26344620e-05],\n",
              "       [1.59424121e-05],\n",
              "       [2.01164312e-05],\n",
              "       [2.53832581e-05],\n",
              "       [3.20289864e-05],\n",
              "       [4.04145987e-05],\n",
              "       [5.09955631e-05],\n",
              "       [6.43465564e-05],\n",
              "       [8.11926488e-05],\n",
              "       [1.02448639e-04],\n",
              "       [1.29268664e-04],\n",
              "       [1.63108758e-04],\n",
              "       [2.05805724e-04],\n",
              "       [2.59676570e-04],\n",
              "       [3.27643801e-04],\n",
              "       [4.13393285e-04],\n",
              "       [5.21573036e-04],\n",
              "       [6.58043411e-04],\n",
              "       [8.30191806e-04],\n",
              "       [1.04732813e-03],\n",
              "       [1.32118128e-03],\n",
              "       [1.66652152e-03],\n",
              "       [2.10193937e-03],\n",
              "       [2.65081830e-03],\n",
              "       [3.34254575e-03],\n",
              "       [4.21401586e-03],\n",
              "       [5.31148522e-03],\n",
              "       [6.69285092e-03],\n",
              "       [8.43042559e-03],\n",
              "       [1.06142829e-02],\n",
              "       [1.33562370e-02],\n",
              "       [1.67944878e-02],\n",
              "       [2.10989084e-02],\n",
              "       [2.64768416e-02],\n",
              "       [3.31791027e-02],\n",
              "       [4.15056190e-02],\n",
              "       [5.18097533e-02],\n",
              "       [6.44998381e-02],\n",
              "       [8.00358189e-02],\n",
              "       [9.89182419e-02],\n",
              "       [1.21666338e-01],\n",
              "       [1.48782009e-01],\n",
              "       [1.80697663e-01],\n",
              "       [2.17708611e-01],\n",
              "       [2.59895526e-01],\n",
              "       [3.07048672e-01],\n",
              "       [3.58611587e-01],\n",
              "       [4.13664423e-01],\n",
              "       [4.70962942e-01],\n",
              "       [5.29037058e-01],\n",
              "       [5.86335577e-01],\n",
              "       [6.41388413e-01],\n",
              "       [6.92951328e-01],\n",
              "       [7.40104474e-01],\n",
              "       [7.82291389e-01],\n",
              "       [8.19302337e-01],\n",
              "       [8.51217991e-01],\n",
              "       [8.78333662e-01],\n",
              "       [9.01081758e-01],\n",
              "       [9.19964181e-01],\n",
              "       [9.35500162e-01],\n",
              "       [9.48190247e-01],\n",
              "       [9.58494381e-01],\n",
              "       [9.66820897e-01],\n",
              "       [9.73523158e-01],\n",
              "       [9.78901092e-01],\n",
              "       [9.83205512e-01],\n",
              "       [9.86643763e-01],\n",
              "       [9.89385717e-01],\n",
              "       [9.91569574e-01],\n",
              "       [9.93307149e-01],\n",
              "       [9.94688515e-01],\n",
              "       [9.95785984e-01],\n",
              "       [9.96657454e-01],\n",
              "       [9.97349182e-01],\n",
              "       [9.97898061e-01],\n",
              "       [9.98333478e-01],\n",
              "       [9.98678819e-01],\n",
              "       [9.98952672e-01],\n",
              "       [9.99169808e-01],\n",
              "       [9.99341957e-01],\n",
              "       [9.99478427e-01],\n",
              "       [9.99586607e-01],\n",
              "       [9.99672356e-01],\n",
              "       [9.99740323e-01],\n",
              "       [9.99794194e-01],\n",
              "       [9.99836891e-01],\n",
              "       [9.99870731e-01],\n",
              "       [9.99897551e-01],\n",
              "       [9.99918807e-01],\n",
              "       [9.99935653e-01],\n",
              "       [9.99949004e-01],\n",
              "       [9.99959585e-01],\n",
              "       [9.99967971e-01],\n",
              "       [9.99974617e-01],\n",
              "       [9.99979884e-01],\n",
              "       [9.99984058e-01],\n",
              "       [9.99987366e-01],\n",
              "       [9.99989987e-01],\n",
              "       [9.99992065e-01],\n",
              "       [9.99993711e-01],\n",
              "       [9.99995016e-01],\n",
              "       [9.99996050e-01],\n",
              "       [9.99996870e-01],\n",
              "       [9.99997519e-01],\n",
              "       [9.99998034e-01],\n",
              "       [9.99998442e-01],\n",
              "       [9.99998765e-01],\n",
              "       [9.99999021e-01],\n",
              "       [9.99999225e-01],\n",
              "       [9.99999385e-01],\n",
              "       [9.99999513e-01],\n",
              "       [9.99999614e-01],\n",
              "       [9.99999694e-01]])"
            ]
          },
          "metadata": {},
          "execution_count": 150
        }
      ]
    },
    {
      "cell_type": "code",
      "source": [
        "# labels using custom activation\n",
        "\n",
        "y=custom_activation(x)\n",
        "labels=y.reshape(130,1)\n",
        "labels"
      ],
      "metadata": {
        "colab": {
          "base_uri": "https://localhost:8080/"
        },
        "id": "0IKrzy50Ibd5",
        "outputId": "693083c9-f984-467d-fe23-4f59c53dff91"
      },
      "execution_count": null,
      "outputs": [
        {
          "output_type": "execute_result",
          "data": {
            "text/plain": [
              "array([[680.        ],\n",
              "       [659.23201731],\n",
              "       [638.78853434],\n",
              "       [618.66955111],\n",
              "       [598.8750676 ],\n",
              "       [579.40508383],\n",
              "       [560.25959978],\n",
              "       [541.43861547],\n",
              "       [522.94213088],\n",
              "       [504.77014602],\n",
              "       [486.9226609 ],\n",
              "       [469.3996755 ],\n",
              "       [452.20118983],\n",
              "       [435.32720389],\n",
              "       [418.77771769],\n",
              "       [402.55273121],\n",
              "       [386.65224446],\n",
              "       [371.07625744],\n",
              "       [355.82477015],\n",
              "       [340.89778259],\n",
              "       [326.29529475],\n",
              "       [312.01730665],\n",
              "       [298.06381828],\n",
              "       [284.43482964],\n",
              "       [271.13034072],\n",
              "       [258.15035154],\n",
              "       [245.49486209],\n",
              "       [233.16387236],\n",
              "       [221.15738237],\n",
              "       [209.4753921 ],\n",
              "       [198.11790157],\n",
              "       [187.08491076],\n",
              "       [176.37641969],\n",
              "       [165.99242834],\n",
              "       [155.93293672],\n",
              "       [146.19794484],\n",
              "       [136.78745268],\n",
              "       [127.70146025],\n",
              "       [118.93996755],\n",
              "       [110.50297458],\n",
              "       [102.39048134],\n",
              "       [ 94.60248783],\n",
              "       [ 87.13899405],\n",
              "       [ 80.        ],\n",
              "       [ 73.18550568],\n",
              "       [ 66.69551109],\n",
              "       [ 60.53001622],\n",
              "       [ 54.68902109],\n",
              "       [ 49.17252569],\n",
              "       [ 43.98053002],\n",
              "       [ 39.11303407],\n",
              "       [ 34.57003786],\n",
              "       [ 30.35154137],\n",
              "       [ 26.45754462],\n",
              "       [ 22.88804759],\n",
              "       [ 19.6430503 ],\n",
              "       [ 16.72255273],\n",
              "       [ 14.12655489],\n",
              "       [ 11.85505679],\n",
              "       [  9.90805841],\n",
              "       [  8.28555976],\n",
              "       [  6.98756084],\n",
              "       [  6.01406165],\n",
              "       [  5.3650622 ],\n",
              "       [  5.04056247],\n",
              "       [  5.04056247],\n",
              "       [  5.3650622 ],\n",
              "       [  6.01406165],\n",
              "       [  6.98756084],\n",
              "       [  8.28555976],\n",
              "       [  9.90805841],\n",
              "       [ 11.85505679],\n",
              "       [ 14.12655489],\n",
              "       [ 16.72255273],\n",
              "       [ 19.6430503 ],\n",
              "       [ 22.88804759],\n",
              "       [ 26.45754462],\n",
              "       [ 30.35154137],\n",
              "       [ 34.57003786],\n",
              "       [ 39.11303407],\n",
              "       [ 43.98053002],\n",
              "       [ 49.17252569],\n",
              "       [ 54.68902109],\n",
              "       [ 60.53001622],\n",
              "       [ 66.69551109],\n",
              "       [ 73.18550568],\n",
              "       [ 80.        ],\n",
              "       [ 87.13899405],\n",
              "       [ 94.60248783],\n",
              "       [102.39048134],\n",
              "       [110.50297458],\n",
              "       [118.93996755],\n",
              "       [127.70146025],\n",
              "       [136.78745268],\n",
              "       [146.19794484],\n",
              "       [155.93293672],\n",
              "       [165.99242834],\n",
              "       [176.37641969],\n",
              "       [187.08491076],\n",
              "       [198.11790157],\n",
              "       [209.4753921 ],\n",
              "       [221.15738237],\n",
              "       [233.16387236],\n",
              "       [245.49486209],\n",
              "       [258.15035154],\n",
              "       [271.13034072],\n",
              "       [284.43482964],\n",
              "       [298.06381828],\n",
              "       [312.01730665],\n",
              "       [326.29529475],\n",
              "       [340.89778259],\n",
              "       [355.82477015],\n",
              "       [371.07625744],\n",
              "       [386.65224446],\n",
              "       [402.55273121],\n",
              "       [418.77771769],\n",
              "       [435.32720389],\n",
              "       [452.20118983],\n",
              "       [469.3996755 ],\n",
              "       [486.9226609 ],\n",
              "       [504.77014602],\n",
              "       [522.94213088],\n",
              "       [541.43861547],\n",
              "       [560.25959978],\n",
              "       [579.40508383],\n",
              "       [598.8750676 ],\n",
              "       [618.66955111],\n",
              "       [638.78853434],\n",
              "       [659.23201731],\n",
              "       [680.        ]])"
            ]
          },
          "metadata": {},
          "execution_count": 151
        }
      ]
    }
  ]
}
