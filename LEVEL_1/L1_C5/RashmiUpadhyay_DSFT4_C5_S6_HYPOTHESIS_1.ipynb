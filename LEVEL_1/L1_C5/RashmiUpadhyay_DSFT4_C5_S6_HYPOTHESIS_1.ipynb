{
 "cells": [
  {
   "cell_type": "code",
   "execution_count": 19,
   "id": "87dfe7de",
   "metadata": {},
   "outputs": [],
   "source": [
    "import pandas as pd\n",
    "import statistics as st\n",
    "import numpy as np\n",
    "from scipy.stats import norm\n",
    "import seaborn as sns\n",
    "import matplotlib.pyplot as plt\n",
    "from scipy import stats\n",
    "from scipy.stats import binom\n",
    "from scipy.stats import poisson"
   ]
  },
  {
   "cell_type": "code",
   "execution_count": 7,
   "id": "8642b20a",
   "metadata": {},
   "outputs": [
    {
     "name": "stdout",
     "output_type": "stream",
     "text": [
      "z_statistics is :  -9.296875000000016\n",
      "P value is :7.231705434385679e-21\n",
      "z-critical value is: 1.6448536269514722\n",
      "True\n",
      "True\n"
     ]
    }
   ],
   "source": [
    "import math\n",
    "from scipy.stats import norm\n",
    "\n",
    "# TASK- 1\n",
    "sample_mean =  32.18\n",
    "p_mean = 33.88\n",
    "p_sd = 1.28\n",
    "n = 49\n",
    "alpha = 0.05\n",
    "\n",
    "z_statistic = (sample_mean - p_mean)/ (p_sd/math.sqrt(n))\n",
    "print(\"z_statistics is : \",z_statistic)\n",
    "\n",
    "p_value=norm.sf(abs(z_statistic))        # one tailed\n",
    "print(\"P value is :\"+str(p_value))\n",
    "\n",
    "z_critical= norm.ppf(1-alpha)\n",
    "print(\"z-critical value is: \"+str(z_critical))     \n",
    "print(p_value<alpha)\n",
    "print(z_statistic<z_critical)"
   ]
  },
  {
   "cell_type": "code",
   "execution_count": 3,
   "id": "190b1e24",
   "metadata": {},
   "outputs": [],
   "source": [
    "#p_value= 7.23 > alpha=0.05, which leads to acceptance of Null Hypothesis\n",
    "#z_statistic=(-9.29) < z-critical =1.64, which leads to acceptance of Null Hypothesis"
   ]
  },
  {
   "cell_type": "code",
   "execution_count": 15,
   "id": "3d171503",
   "metadata": {},
   "outputs": [
    {
     "data": {
      "image/png": "[encoded data removed]",
      "text/plain": [
       "<Figure size 432x288 with 1 Axes>"
      ]
     },
     "metadata": {
      "needs_background": "light"
     },
     "output_type": "display_data"
    }
   ],
   "source": [
    "mn=p_mean - sample_mean\n",
    "\n",
    "n=np.arange(0,50)\n",
    "mn_pmf = poisson.pmf(n,mn)\n",
    "plt.plot(n,mn_pmf, 'gd-')\n",
    "plt.xlabel(\"distribution\")\n",
    "plt.ylabel(\"mean\")\n",
    "plt.show()\n"
   ]
  },
  {
   "cell_type": "code",
   "execution_count": 17,
   "id": "67f9a84f",
   "metadata": {},
   "outputs": [
    {
     "name": "stdout",
     "output_type": "stream",
     "text": [
      "z_statistics is :  -1.3468700594029477\n",
      "P value is :0.089011042957713\n",
      "z-critical value is: 1.6448536269514722\n",
      "False\n",
      "True\n"
     ]
    }
   ],
   "source": [
    "# TASK- 2\n",
    "sample1_mean=87\n",
    "p1_sd=2.1\n",
    "p1_mean= 87.5\n",
    "n1=32\n",
    "alpha1=0.05\n",
    "\n",
    "z1_statistic = (sample1_mean - p1_mean) / (p1_sd/math.sqrt(n1))\n",
    "print(\"z_statistics is : \",z1_statistic)\n",
    "\n",
    "p1_value=norm.sf(abs(z1_statistic))                 # one tailed\n",
    "print(\"P value is :\"+str(p1_value))\n",
    "\n",
    "z1_critical= norm.ppf(1-alpha1)\n",
    "print(\"z-critical value is: \"+str(z1_critical))     # two tailed\n",
    "print(p1_value<alpha1)\n",
    "print(z1_statistic<z1_critical)\n"
   ]
  },
  {
   "cell_type": "code",
   "execution_count": 18,
   "id": "434f6336",
   "metadata": {},
   "outputs": [
    {
     "data": {
      "image/png": "[encoded data removed]",
      "text/plain": [
       "<Figure size 432x288 with 1 Axes>"
      ]
     },
     "metadata": {
      "needs_background": "light"
     },
     "output_type": "display_data"
    }
   ],
   "source": [
    "mn1=p1_mean - sample1_mean\n",
    "\n",
    "num=np.arange(0,33)\n",
    "mn1_pmf = poisson.pmf(num,mn1)\n",
    "plt.plot(num,mn1_pmf, 'rd-')\n",
    "plt.xlabel(\"distribution\")\n",
    "plt.ylabel(\"mean\")\n",
    "plt.show()"
   ]
  },
  {
   "cell_type": "code",
   "execution_count": null,
   "id": "37f4c67b",
   "metadata": {},
   "outputs": [],
   "source": [
    "#p_value= 0.089 > alpha=0.05, which leads to acceptance of Null Hypothesis\n",
    "#z_statistic=(-1.34) < z-critical =1.64, which leads to acceptance of Null Hypothesis"
   ]
  },
  {
   "cell_type": "code",
   "execution_count": 71,
   "id": "2815b355",
   "metadata": {},
   "outputs": [],
   "source": [
    "# TASK- 3"
   ]
  },
  {
   "cell_type": "code",
   "execution_count": 5,
   "id": "6e1a5456",
   "metadata": {},
   "outputs": [
    {
     "data": {
      "text/plain": [
       "'C:\\\\Users\\\\Manish'"
      ]
     },
     "execution_count": 5,
     "metadata": {},
     "output_type": "execute_result"
    }
   ],
   "source": [
    "pwd"
   ]
  },
  {
   "cell_type": "code",
   "execution_count": 41,
   "id": "bdfbe831",
   "metadata": {},
   "outputs": [
    {
     "data": {
      "text/html": [
       "<div>\n",
       "<style scoped>\n",
       "    .dataframe tbody tr th:only-of-type {\n",
       "        vertical-align: middle;\n",
       "    }\n",
       "\n",
       "    .dataframe tbody tr th {\n",
       "        vertical-align: top;\n",
       "    }\n",
       "\n",
       "    .dataframe thead th {\n",
       "        text-align: right;\n",
       "    }\n",
       "</style>\n",
       "<table border=\"1\" class=\"dataframe\">\n",
       "  <thead>\n",
       "    <tr style=\"text-align: right;\">\n",
       "      <th></th>\n",
       "      <th>California</th>\n",
       "      <th>Florida</th>\n",
       "    </tr>\n",
       "  </thead>\n",
       "  <tbody>\n",
       "    <tr>\n",
       "      <th>0</th>\n",
       "      <td>2.55</td>\n",
       "      <td>2.25</td>\n",
       "    </tr>\n",
       "    <tr>\n",
       "      <th>1</th>\n",
       "      <td>2.36</td>\n",
       "      <td>2.40</td>\n",
       "    </tr>\n",
       "    <tr>\n",
       "      <th>2</th>\n",
       "      <td>2.38</td>\n",
       "      <td>2.19</td>\n",
       "    </tr>\n",
       "    <tr>\n",
       "      <th>3</th>\n",
       "      <td>2.43</td>\n",
       "      <td>2.39</td>\n",
       "    </tr>\n",
       "    <tr>\n",
       "      <th>4</th>\n",
       "      <td>2.73</td>\n",
       "      <td>2.39</td>\n",
       "    </tr>\n",
       "    <tr>\n",
       "      <th>5</th>\n",
       "      <td>2.67</td>\n",
       "      <td>2.50</td>\n",
       "    </tr>\n",
       "    <tr>\n",
       "      <th>6</th>\n",
       "      <td>2.54</td>\n",
       "      <td>2.33</td>\n",
       "    </tr>\n",
       "    <tr>\n",
       "      <th>7</th>\n",
       "      <td>2.24</td>\n",
       "      <td>2.33</td>\n",
       "    </tr>\n",
       "    <tr>\n",
       "      <th>8</th>\n",
       "      <td>2.43</td>\n",
       "      <td>2.40</td>\n",
       "    </tr>\n",
       "    <tr>\n",
       "      <th>9</th>\n",
       "      <td>2.80</td>\n",
       "      <td>2.49</td>\n",
       "    </tr>\n",
       "    <tr>\n",
       "      <th>10</th>\n",
       "      <td>2.50</td>\n",
       "      <td>2.19</td>\n",
       "    </tr>\n",
       "    <tr>\n",
       "      <th>11</th>\n",
       "      <td>2.64</td>\n",
       "      <td>2.29</td>\n",
       "    </tr>\n",
       "    <tr>\n",
       "      <th>12</th>\n",
       "      <td>2.25</td>\n",
       "      <td>2.59</td>\n",
       "    </tr>\n",
       "    <tr>\n",
       "      <th>13</th>\n",
       "      <td>2.38</td>\n",
       "      <td>2.23</td>\n",
       "    </tr>\n",
       "    <tr>\n",
       "      <th>14</th>\n",
       "      <td>2.61</td>\n",
       "      <td>2.41</td>\n",
       "    </tr>\n",
       "    <tr>\n",
       "      <th>15</th>\n",
       "      <td>2.71</td>\n",
       "      <td>2.56</td>\n",
       "    </tr>\n",
       "    <tr>\n",
       "      <th>16</th>\n",
       "      <td>2.80</td>\n",
       "      <td>2.48</td>\n",
       "    </tr>\n",
       "    <tr>\n",
       "      <th>17</th>\n",
       "      <td>2.49</td>\n",
       "      <td>2.29</td>\n",
       "    </tr>\n",
       "    <tr>\n",
       "      <th>18</th>\n",
       "      <td>2.69</td>\n",
       "      <td>2.28</td>\n",
       "    </tr>\n",
       "    <tr>\n",
       "      <th>19</th>\n",
       "      <td>2.43</td>\n",
       "      <td>2.39</td>\n",
       "    </tr>\n",
       "    <tr>\n",
       "      <th>20</th>\n",
       "      <td>2.23</td>\n",
       "      <td>2.59</td>\n",
       "    </tr>\n",
       "    <tr>\n",
       "      <th>21</th>\n",
       "      <td>2.61</td>\n",
       "      <td>2.58</td>\n",
       "    </tr>\n",
       "    <tr>\n",
       "      <th>22</th>\n",
       "      <td>2.57</td>\n",
       "      <td>2.53</td>\n",
       "    </tr>\n",
       "    <tr>\n",
       "      <th>23</th>\n",
       "      <td>2.36</td>\n",
       "      <td>2.26</td>\n",
       "    </tr>\n",
       "    <tr>\n",
       "      <th>24</th>\n",
       "      <td>2.57</td>\n",
       "      <td>2.39</td>\n",
       "    </tr>\n",
       "    <tr>\n",
       "      <th>25</th>\n",
       "      <td>2.56</td>\n",
       "      <td>2.58</td>\n",
       "    </tr>\n",
       "    <tr>\n",
       "      <th>26</th>\n",
       "      <td>2.38</td>\n",
       "      <td>2.29</td>\n",
       "    </tr>\n",
       "    <tr>\n",
       "      <th>27</th>\n",
       "      <td>2.43</td>\n",
       "      <td>2.27</td>\n",
       "    </tr>\n",
       "    <tr>\n",
       "      <th>28</th>\n",
       "      <td>2.71</td>\n",
       "      <td>2.45</td>\n",
       "    </tr>\n",
       "    <tr>\n",
       "      <th>29</th>\n",
       "      <td>2.25</td>\n",
       "      <td>2.56</td>\n",
       "    </tr>\n",
       "    <tr>\n",
       "      <th>30</th>\n",
       "      <td>2.64</td>\n",
       "      <td>NaN</td>\n",
       "    </tr>\n",
       "    <tr>\n",
       "      <th>31</th>\n",
       "      <td>2.27</td>\n",
       "      <td>NaN</td>\n",
       "    </tr>\n",
       "    <tr>\n",
       "      <th>32</th>\n",
       "      <td>2.18</td>\n",
       "      <td>NaN</td>\n",
       "    </tr>\n",
       "  </tbody>\n",
       "</table>\n",
       "</div>"
      ],
      "text/plain": [
       "    California  Florida\n",
       "0         2.55     2.25\n",
       "1         2.36     2.40\n",
       "2         2.38     2.19\n",
       "3         2.43     2.39\n",
       "4         2.73     2.39\n",
       "5         2.67     2.50\n",
       "6         2.54     2.33\n",
       "7         2.24     2.33\n",
       "8         2.43     2.40\n",
       "9         2.80     2.49\n",
       "10        2.50     2.19\n",
       "11        2.64     2.29\n",
       "12        2.25     2.59\n",
       "13        2.38     2.23\n",
       "14        2.61     2.41\n",
       "15        2.71     2.56\n",
       "16        2.80     2.48\n",
       "17        2.49     2.29\n",
       "18        2.69     2.28\n",
       "19        2.43     2.39\n",
       "20        2.23     2.59\n",
       "21        2.61     2.58\n",
       "22        2.57     2.53\n",
       "23        2.36     2.26\n",
       "24        2.57     2.39\n",
       "25        2.56     2.58\n",
       "26        2.38     2.29\n",
       "27        2.43     2.27\n",
       "28        2.71     2.45\n",
       "29        2.25     2.56\n",
       "30        2.64      NaN\n",
       "31        2.27      NaN\n",
       "32        2.18      NaN"
      ]
     },
     "execution_count": 41,
     "metadata": {},
     "output_type": "execute_result"
    }
   ],
   "source": [
    "price_df=pd.read_csv('C:\\\\Users\\\\Manish\\\\DS1_C5_S6_Hypothesis_I_Practice_CityPrice_Data.csv ')\n",
    "price_df"
   ]
  },
  {
   "cell_type": "code",
   "execution_count": 11,
   "id": "41af9c3b",
   "metadata": {},
   "outputs": [
    {
     "data": {
      "text/plain": [
       "California    2.496667\n",
       "Florida       2.396000\n",
       "dtype: float64"
      ]
     },
     "execution_count": 11,
     "metadata": {},
     "output_type": "execute_result"
    }
   ],
   "source": [
    "mean=price_df.mean()\n",
    "mean"
   ]
  },
  {
   "cell_type": "code",
   "execution_count": 18,
   "id": "251217aa",
   "metadata": {},
   "outputs": [
    {
     "name": "stdout",
     "output_type": "stream",
     "text": [
      "c_value for  99% confidence interval:  2.5758293035489004\n"
     ]
    }
   ],
   "source": [
    "# (A)\n",
    "\n",
    "n1=33  #california\n",
    "sd_var1 = 0.028\n",
    "n2=30 # florida\n",
    "sd_var2 = 0.015\n",
    "s_mean1 = 2.496         \n",
    "s_mean2 = 2.396\n",
    "\n",
    "ci=0.99                            #confidence interval 99%\n",
    "c_value=norm.ppf(ci+(1-ci)/2)\n",
    "print(\"c_value for  99% confidence interval: \",c_value)\n",
    "  \n"
   ]
  },
  {
   "cell_type": "code",
   "execution_count": 19,
   "id": "36eb9fb0",
   "metadata": {},
   "outputs": [
    {
     "name": "stdout",
     "output_type": "stream",
     "text": [
      "0.005257957877959324\n",
      "0.19474204212204085\n"
     ]
    }
   ],
   "source": [
    "#c_value for  at  99% confidence interval = 2.58 \n",
    "\n",
    "cal = (s_mean1 - s_mean2) - 2.58*(math.sqrt(sd_var1/n1 + sd_var2/n2))\n",
    "print(cal)\n",
    "flo = (s_mean1 - s_mean2) + 2.58*(math.sqrt(sd_var1/n1 + sd_var2/n2))\n",
    "print(flo)"
   ]
  },
  {
   "cell_type": "code",
   "execution_count": null,
   "id": "0479a145",
   "metadata": {},
   "outputs": [],
   "source": [
    "# we are  99% confident that the actual difference in mean price between two cities is between USD 0.005 and USD 0.19\n",
    "# The point estimate is (s_mean1 - s_mean2) = $ 0.10"
   ]
  },
  {
   "cell_type": "code",
   "execution_count": 67,
   "id": "3be637cf",
   "metadata": {},
   "outputs": [
    {
     "data": {
      "text/plain": [
       "0.0012533144654324165"
      ]
     },
     "execution_count": 67,
     "metadata": {},
     "output_type": "execute_result"
    }
   ],
   "source": [
    "ci=0.001                          # 1% significance\n",
    "c_value=norm.ppf(ci+(1-ci)/2)\n",
    "c_value"
   ]
  },
  {
   "cell_type": "code",
   "execution_count": 68,
   "id": "b4930903",
   "metadata": {},
   "outputs": [
    {
     "name": "stdout",
     "output_type": "stream",
     "text": [
      "c_value for  1%:  0.0012533144654324165\n",
      "0.09995593393389682\n",
      "0.10004406606610336\n"
     ]
    }
   ],
   "source": [
    "print(\"c_value for  1%: \",c_value)\n",
    "cal1 = (s_mean1 - s_mean2) - 0.0012*(math.sqrt(sd_var1/n1 + sd_var2/n2))\n",
    "print(cal1)\n",
    "flo1 = (s_mean1 - s_mean2) + 0.0012*(math.sqrt(sd_var1/n1 + sd_var2/n2))\n",
    "print(flo1)"
   ]
  },
  {
   "cell_type": "code",
   "execution_count": null,
   "id": "f965afa7",
   "metadata": {},
   "outputs": [],
   "source": []
  }
 ],
 "metadata": {
  "kernelspec": {
   "display_name": "Python 3 (ipykernel)",
   "language": "python",
   "name": "python3"
  },
  "language_info": {
   "codemirror_mode": {
    "name": "ipython",
    "version": 3
   },
   "file_extension": ".py",
   "mimetype": "text/x-python",
   "name": "python",
   "nbconvert_exporter": "python",
   "pygments_lexer": "ipython3",
   "version": "3.9.7"
  }
 },
 "nbformat": 4,
 "nbformat_minor": 5
}
