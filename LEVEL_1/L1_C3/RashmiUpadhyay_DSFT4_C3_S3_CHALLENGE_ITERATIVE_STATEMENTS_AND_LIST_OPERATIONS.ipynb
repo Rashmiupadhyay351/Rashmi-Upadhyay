{
 "cells": [
  {
   "cell_type": "code",
   "execution_count": 1,
   "id": "04280eb6",
   "metadata": {},
   "outputs": [
    {
     "name": "stdout",
     "output_type": "stream",
     "text": [
      "enter the list size4\n",
      "\n",
      "\n",
      "Enter the elements 0\n",
      "grapes\n",
      "Reversed list ['grapes']\n",
      "Enter the elements 1\n",
      "banana\n",
      "Reversed list ['banana', 'grapes']\n",
      "Enter the elements 2\n",
      "apple\n",
      "Reversed list ['apple', 'grapes', 'banana']\n",
      "Enter the elements 3\n",
      "mango\n",
      "Reversed list ['mango', 'banana', 'grapes', 'apple']\n"
     ]
    }
   ],
   "source": [
    "#-TASK 1\n",
    "\n",
    "number_list=[]\n",
    "n=int(input(\"enter the list size\"))\n",
    "print(\"\\n\")\n",
    "for i in range (0,n):\n",
    "    print(\"Enter the elements\",i, )\n",
    "    item=str(input())\n",
    "    number_list.append(item)\n",
    "    number_list.reverse()\n",
    "    print(\"Reversed list\",(number_list))"
   ]
  },
  {
   "cell_type": "code",
   "execution_count": 1,
   "id": "1fee0d4c",
   "metadata": {
    "scrolled": true
   },
   "outputs": [
    {
     "name": "stdout",
     "output_type": "stream",
     "text": [
      "enter the list size5\n",
      "\n",
      "\n",
      "Enter the elements 0\n",
      "grapes\n",
      "Reversed list ['grapes']\n",
      "Enter the elements 1\n",
      "guaua\n",
      "Reversed list ['guaua', 'grapes']\n",
      "Enter the elements 2\n",
      "peer\n",
      "Reversed list ['peer', 'grapes', 'guaua']\n",
      "Enter the elements 3\n",
      "apple\n",
      "Reversed list ['apple', 'guaua', 'grapes', 'peer']\n",
      "Enter the elements 4\n",
      "mango\n",
      "Reversed list ['mango', 'peer', 'grapes', 'guaua', 'apple']\n"
     ]
    }
   ],
   "source": [
    "#TASK - 2\n",
    "\n",
    "number_list=[]\n",
    "n=int(input(\"enter the list size\"))\n",
    "print(\"\\n\")\n",
    "for i in range (0,n):\n",
    "    print(\"Enter the elements\",i, )\n",
    "    item=str(input())\n",
    "    number_list.append(item)\n",
    "    number_list.reverse()\n",
    "    print(\"Reversed list\",(number_list))"
   ]
  },
  {
   "cell_type": "code",
   "execution_count": 2,
   "id": "6144509a",
   "metadata": {
    "scrolled": true
   },
   "outputs": [
    {
     "name": "stdout",
     "output_type": "stream",
     "text": [
      "enter the list size10\n",
      "\n",
      "\n",
      "Enter the elements 0\n",
      "India\n",
      "List : ['India']\n",
      "Enter the elements 1\n",
      "USA\n",
      "List : ['India', 'USA']\n",
      "Enter the elements 2\n",
      "Pakistan\n",
      "List : ['India', 'USA', 'Pakistan']\n",
      "Enter the elements 3\n",
      "NewZealand\n",
      "List : ['India', 'USA', 'Pakistan', 'NewZealand']\n",
      "Enter the elements 4\n",
      "India\n",
      "List : ['India', 'USA', 'Pakistan', 'NewZealand', 'India']\n",
      "Enter the elements 5\n",
      "Afghanistan\n",
      "List : ['India', 'USA', 'Pakistan', 'NewZealand', 'India', 'Afghanistan']\n",
      "Enter the elements 6\n",
      "India\n",
      "List : ['India', 'USA', 'Pakistan', 'NewZealand', 'India', 'Afghanistan', 'India']\n",
      "Enter the elements 7\n",
      "Australia\n",
      "List : ['India', 'USA', 'Pakistan', 'NewZealand', 'India', 'Afghanistan', 'India', 'Australia']\n",
      "Enter the elements 8\n",
      "Nepal \n",
      "List : ['India', 'USA', 'Pakistan', 'NewZealand', 'India', 'Afghanistan', 'India', 'Australia', 'Nepal ']\n",
      "Enter the elements 9\n",
      "UK\n",
      "List : ['India', 'USA', 'Pakistan', 'NewZealand', 'India', 'Afghanistan', 'India', 'Australia', 'Nepal ', 'UK']\n"
     ]
    }
   ],
   "source": [
    "#TASK -3\n",
    "\n",
    "alist=[]\n",
    "n=int(input(\"enter the list size\"))\n",
    "print(\"\\n\")\n",
    "for i in range (0,n):\n",
    "    print(\"Enter the elements\",i, )\n",
    "    item=str(input())\n",
    "    alist.append(item)\n",
    "   \n",
    "    print(\"List :\",(alist))"
   ]
  },
  {
   "cell_type": "code",
   "execution_count": 29,
   "id": "66d1693f",
   "metadata": {
    "scrolled": true
   },
   "outputs": [
    {
     "name": "stdout",
     "output_type": "stream",
     "text": [
      "Afghanistan\n",
      "India\n",
      "Nepal\n",
      "USA\n",
      "Pakistan\n",
      "Australia\n",
      "UK\n",
      "NewZealand\n",
      "None\n"
     ]
    }
   ],
   "source": [
    "#TASK - 4\n",
    "\n",
    "blist=['NewZealand','UK','India','Australia','Pakistan','USA','Nepal','Afghanistan']\n",
    "def catch_unique(list_in):\n",
    "    unq_list=set(blist)\n",
    "    \n",
    "    for x in list_in:\n",
    "        if x not in unq_list:\n",
    "            unq_list.append(x)\n",
    "    for x in unq_list:\n",
    "        print(x)\n",
    "        \n",
    "print(catch_unique(blist))               "
   ]
  },
  {
   "cell_type": "code",
   "execution_count": 30,
   "id": "65b1caf2",
   "metadata": {},
   "outputs": [
    {
     "name": "stdout",
     "output_type": "stream",
     "text": [
      "['Afghanistan', 'Australia', 'India', 'Nepal', 'NewZealand', 'Pakistan', 'UK', 'USA']\n"
     ]
    }
   ],
   "source": [
    "#TASK - 5\n",
    "\n",
    "blist.sort()\n",
    "print(blist)"
   ]
  },
  {
   "cell_type": "code",
   "execution_count": 6,
   "id": "48096697",
   "metadata": {},
   "outputs": [
    {
     "name": "stdout",
     "output_type": "stream",
     "text": [
      "['Australia', 'India', 'Nepal', 'NewZealand', 'Pakistan', 'UK', 'USA']\n",
      "['Australia', 'Nepal', 'NewZealand', 'Pakistan', 'UK', 'USA']\n",
      "['Australia', 'Nepal', 'Pakistan', 'UK', 'USA']\n",
      "['Australia', 'Nepal', 'Pakistan', 'USA']\n"
     ]
    }
   ],
   "source": [
    "# TASK- 6\n",
    "blist.pop(0)\n",
    "print(blist)\n",
    "blist.pop(1)\n",
    "print(blist)\n",
    "blist.pop(2)\n",
    "print(blist)\n",
    "blist.pop(3)\n",
    "print(blist)"
   ]
  },
  {
   "cell_type": "code",
   "execution_count": 7,
   "id": "2aaa3499",
   "metadata": {},
   "outputs": [
    {
     "name": "stdout",
     "output_type": "stream",
     "text": [
      "Numbers are: 1505,1540,1575,1610,1645,1680,1715,1750,1785,1820,1855,1890,1925,1960,1995,2030,2065,2100,2135,2170,2205,2240,2275,2310,2345,2380,2415,2450,2485,2520,2555,2590,2625,2660,2695\n"
     ]
    }
   ],
   "source": [
    "# TASK 7  \n",
    "list=[] \n",
    "for x in range(1500, 2701):\n",
    "    if (x%7==0) and (x%5==0):\n",
    "        list.append(str(x))\n",
    "print(\"Numbers are:\",','.join(list))"
   ]
  },
  {
   "cell_type": "code",
   "execution_count": 17,
   "id": "bb609ac8",
   "metadata": {},
   "outputs": [
    {
     "name": "stdout",
     "output_type": "stream",
     "text": [
      "Enter a number:2\n",
      "1\n",
      "3\n",
      "5\n",
      "7\n",
      "9\n",
      "11\n",
      "13\n",
      "15\n",
      "17\n",
      "19\n",
      "21\n",
      "23\n",
      "25\n",
      "27\n",
      "29\n"
     ]
    }
   ],
   "source": [
    "# TASK - 8\n",
    "i=1\n",
    "a=1\n",
    "n=int(input(\"Enter a number:\"))\n",
    "    \n",
    "for i in range(1,31):\n",
    "    if((i%n)==0):\n",
    "           i=i+1\n",
    "    else:\n",
    "        print(i)"
   ]
  },
  {
   "cell_type": "code",
   "execution_count": 9,
   "id": "41fa3d48",
   "metadata": {},
   "outputs": [
    {
     "name": "stdout",
     "output_type": "stream",
     "text": [
      "[20, 20, 20]\n",
      "[20, 20, 20]\n",
      "[20, 20, 20]\n"
     ]
    }
   ],
   "source": [
    "# TASK- 9\n",
    "firstlist=[[1,2,3],[4,5,6],[7,8,9]]\n",
    "secondlist=[[19,18,17],[16,15,14],[13,12,11]]\n",
    "result=[[firstlist[i][j] + secondlist[i][j] for j in range (len(firstlist[0]))] for i in range(len(firstlist))]\n",
    "for r in result:\n",
    "    print(r)"
   ]
  },
  {
   "cell_type": "code",
   "execution_count": 22,
   "id": "0ef46ddc",
   "metadata": {},
   "outputs": [
    {
     "name": "stdout",
     "output_type": "stream",
     "text": [
      "Enter number of row :2\n",
      "Enter number of col :3\n",
      "Enter the elements: 1 2 3 4 5 6 7 8 9 19 18 17 16 15 14 13 12 11\n"
     ]
    },
    {
     "ename": "ValueError",
     "evalue": "invalid literal for int() with base 10: '1 2 3 4 5 6 7 8 9 19 18 17 16 15 14 13 12 11'",
     "output_type": "error",
     "traceback": [
      "\u001b[1;31m---------------------------------------------------------------------------\u001b[0m",
      "\u001b[1;31mValueError\u001b[0m                                Traceback (most recent call last)",
      "\u001b[1;32m~\\AppData\\Local\\Temp/ipykernel_32292/4251773375.py\u001b[0m in \u001b[0;36m<module>\u001b[1;34m\u001b[0m\n\u001b[0;32m     12\u001b[0m \u001b[1;32mfor\u001b[0m \u001b[0mi\u001b[0m \u001b[1;32min\u001b[0m \u001b[0mrange\u001b[0m\u001b[1;33m(\u001b[0m\u001b[0mlen\u001b[0m\u001b[1;33m(\u001b[0m\u001b[0mmat\u001b[0m\u001b[1;33m)\u001b[0m\u001b[1;33m)\u001b[0m\u001b[1;33m:\u001b[0m\u001b[1;33m\u001b[0m\u001b[1;33m\u001b[0m\u001b[0m\n\u001b[0;32m     13\u001b[0m     \u001b[1;32mfor\u001b[0m \u001b[0mj\u001b[0m \u001b[1;32min\u001b[0m \u001b[0mrange\u001b[0m\u001b[1;33m(\u001b[0m\u001b[0mlen\u001b[0m\u001b[1;33m(\u001b[0m\u001b[0mmat\u001b[0m\u001b[1;33m[\u001b[0m\u001b[1;36m0\u001b[0m\u001b[1;33m]\u001b[0m\u001b[1;33m)\u001b[0m\u001b[1;33m)\u001b[0m\u001b[1;33m:\u001b[0m\u001b[1;33m\u001b[0m\u001b[1;33m\u001b[0m\u001b[0m\n\u001b[1;32m---> 14\u001b[1;33m         \u001b[0mmat\u001b[0m\u001b[1;33m[\u001b[0m\u001b[0mi\u001b[0m\u001b[1;33m]\u001b[0m\u001b[1;33m[\u001b[0m\u001b[0mj\u001b[0m\u001b[1;33m]\u001b[0m\u001b[1;33m=\u001b[0m\u001b[0mint\u001b[0m\u001b[1;33m(\u001b[0m\u001b[0minput\u001b[0m\u001b[1;33m(\u001b[0m\u001b[1;34m\"Enter the elements: \"\u001b[0m\u001b[1;33m)\u001b[0m\u001b[1;33m)\u001b[0m\u001b[1;33m\u001b[0m\u001b[1;33m\u001b[0m\u001b[0m\n\u001b[0m\u001b[0;32m     15\u001b[0m \u001b[0mprint\u001b[0m\u001b[1;33m(\u001b[0m\u001b[1;34m\"Matrix: \"\u001b[0m\u001b[1;33m,\u001b[0m\u001b[0mmat\u001b[0m\u001b[1;33m)\u001b[0m\u001b[1;33m\u001b[0m\u001b[1;33m\u001b[0m\u001b[0m\n",
      "\u001b[1;31mValueError\u001b[0m: invalid literal for int() with base 10: '1 2 3 4 5 6 7 8 9 19 18 17 16 15 14 13 12 11'"
     ]
    }
   ],
   "source": [
    "# TASK- 10\n",
    "\n",
    "row=int(input(\"Enter number of row :\"))\n",
    "col=int(input(\"Enter number of col :\"))\n",
    "        mat=[]\n",
    "for m in range(row):\n",
    "        a=[]\n",
    "for n in range(col):\n",
    "        a.append(0)\n",
    "        mat.append(a)\n",
    "    \n",
    "for i in range(len(mat)):\n",
    "    for j in range(len(mat[0])):\n",
    "        mat[i][j]=int(input(\"Enter the elements: \"))\n",
    "print(\"Matrix: \",mat)"
   ]
  },
  {
   "cell_type": "code",
   "execution_count": null,
   "id": "f8e4c0cd",
   "metadata": {},
   "outputs": [],
   "source": []
  },
  {
   "cell_type": "code",
   "execution_count": null,
   "id": "00b2e062",
   "metadata": {},
   "outputs": [],
   "source": []
  }
 ],
 "metadata": {
  "kernelspec": {
   "display_name": "Python 3 (ipykernel)",
   "language": "python",
   "name": "python3"
  },
  "language_info": {
   "codemirror_mode": {
    "name": "ipython",
    "version": 3
   },
   "file_extension": ".py",
   "mimetype": "text/x-python",
   "name": "python",
   "nbconvert_exporter": "python",
   "pygments_lexer": "ipython3",
   "version": "3.9.7"
  }
 },
 "nbformat": 4,
 "nbformat_minor": 5
}
