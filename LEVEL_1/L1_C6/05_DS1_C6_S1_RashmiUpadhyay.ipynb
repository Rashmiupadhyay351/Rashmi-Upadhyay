{
 "cells": [
  {
   "cell_type": "code",
   "execution_count": 8,
   "id": "4741ddc7",
   "metadata": {},
   "outputs": [],
   "source": [
    "import matplotlib.pyplot as plt\n",
    "from tabulate import tabulate\n",
    "import matplotlib as mat\n",
    "import seaborn as sns\n",
    "import pandas as pd\n",
    "import numpy as np"
   ]
  },
  {
   "cell_type": "code",
   "execution_count": 2,
   "id": "1b7d419b",
   "metadata": {},
   "outputs": [
    {
     "name": "stdout",
     "output_type": "stream",
     "text": [
      "Requirement already satisfied: tabulate in c:\\users\\manish\\anaconda3\\lib\\site-packages (0.8.9)\n",
      "Note: you may need to restart the kernel to use updated packages.\n"
     ]
    }
   ],
   "source": [
    "pip install tabulate"
   ]
  },
  {
   "cell_type": "code",
   "execution_count": 9,
   "id": "a79fba80",
   "metadata": {},
   "outputs": [
    {
     "data": {
      "text/plain": [
       "'C:\\\\Users\\\\Manish'"
      ]
     },
     "execution_count": 9,
     "metadata": {},
     "output_type": "execute_result"
    }
   ],
   "source": [
    "pwd"
   ]
  },
  {
   "cell_type": "code",
   "execution_count": 10,
   "id": "b8ef2fc8",
   "metadata": {
    "scrolled": true
   },
   "outputs": [
    {
     "data": {
      "text/html": [
       "<div>\n",
       "<style scoped>\n",
       "    .dataframe tbody tr th:only-of-type {\n",
       "        vertical-align: middle;\n",
       "    }\n",
       "\n",
       "    .dataframe tbody tr th {\n",
       "        vertical-align: top;\n",
       "    }\n",
       "\n",
       "    .dataframe thead th {\n",
       "        text-align: right;\n",
       "    }\n",
       "</style>\n",
       "<table border=\"1\" class=\"dataframe\">\n",
       "  <thead>\n",
       "    <tr style=\"text-align: right;\">\n",
       "      <th></th>\n",
       "      <th>CLIENTNUM</th>\n",
       "      <th>Attrition_Flag</th>\n",
       "      <th>Customer_Age</th>\n",
       "      <th>Gender</th>\n",
       "      <th>Dependent_count</th>\n",
       "      <th>Education_Level</th>\n",
       "      <th>Marital_Status</th>\n",
       "      <th>Income_Category</th>\n",
       "      <th>Card_Category</th>\n",
       "      <th>Months_on_book</th>\n",
       "      <th>Total_Relationship_Count</th>\n",
       "      <th>Months_Inactive_12_mon</th>\n",
       "      <th>Contacts_Count_12_mon</th>\n",
       "      <th>Credit_Limit</th>\n",
       "      <th>Total_Revolving_Bal</th>\n",
       "      <th>Avg_Open_To_Buy</th>\n",
       "      <th>Total_Trans_Amt</th>\n",
       "      <th>Total_Trans_Ct</th>\n",
       "      <th>Avg_Utilization_Ratio</th>\n",
       "    </tr>\n",
       "  </thead>\n",
       "  <tbody>\n",
       "    <tr>\n",
       "      <th>0</th>\n",
       "      <td>768805383</td>\n",
       "      <td>Existing Customer</td>\n",
       "      <td>45</td>\n",
       "      <td>M</td>\n",
       "      <td>3</td>\n",
       "      <td>High School</td>\n",
       "      <td>Married</td>\n",
       "      <td>$60K - $80K</td>\n",
       "      <td>Blue</td>\n",
       "      <td>39</td>\n",
       "      <td>5</td>\n",
       "      <td>1</td>\n",
       "      <td>3</td>\n",
       "      <td>12691.0</td>\n",
       "      <td>777</td>\n",
       "      <td>11914.0</td>\n",
       "      <td>1144</td>\n",
       "      <td>42</td>\n",
       "      <td>0.061</td>\n",
       "    </tr>\n",
       "    <tr>\n",
       "      <th>1</th>\n",
       "      <td>818770008</td>\n",
       "      <td>Existing Customer</td>\n",
       "      <td>49</td>\n",
       "      <td>F</td>\n",
       "      <td>5</td>\n",
       "      <td>Graduate</td>\n",
       "      <td>Single</td>\n",
       "      <td>Less than $40K</td>\n",
       "      <td>Blue</td>\n",
       "      <td>44</td>\n",
       "      <td>6</td>\n",
       "      <td>1</td>\n",
       "      <td>2</td>\n",
       "      <td>8256.0</td>\n",
       "      <td>864</td>\n",
       "      <td>7392.0</td>\n",
       "      <td>1291</td>\n",
       "      <td>33</td>\n",
       "      <td>0.105</td>\n",
       "    </tr>\n",
       "    <tr>\n",
       "      <th>2</th>\n",
       "      <td>713982108</td>\n",
       "      <td>Existing Customer</td>\n",
       "      <td>51</td>\n",
       "      <td>M</td>\n",
       "      <td>3</td>\n",
       "      <td>Graduate</td>\n",
       "      <td>Married</td>\n",
       "      <td>$80K - $120K</td>\n",
       "      <td>Blue</td>\n",
       "      <td>36</td>\n",
       "      <td>4</td>\n",
       "      <td>1</td>\n",
       "      <td>0</td>\n",
       "      <td>3418.0</td>\n",
       "      <td>0</td>\n",
       "      <td>3418.0</td>\n",
       "      <td>1887</td>\n",
       "      <td>20</td>\n",
       "      <td>0.000</td>\n",
       "    </tr>\n",
       "    <tr>\n",
       "      <th>3</th>\n",
       "      <td>769911858</td>\n",
       "      <td>Existing Customer</td>\n",
       "      <td>40</td>\n",
       "      <td>F</td>\n",
       "      <td>4</td>\n",
       "      <td>High School</td>\n",
       "      <td>Unknown</td>\n",
       "      <td>Less than $40K</td>\n",
       "      <td>Blue</td>\n",
       "      <td>34</td>\n",
       "      <td>3</td>\n",
       "      <td>4</td>\n",
       "      <td>1</td>\n",
       "      <td>3313.0</td>\n",
       "      <td>2517</td>\n",
       "      <td>796.0</td>\n",
       "      <td>1171</td>\n",
       "      <td>20</td>\n",
       "      <td>0.760</td>\n",
       "    </tr>\n",
       "    <tr>\n",
       "      <th>4</th>\n",
       "      <td>709106358</td>\n",
       "      <td>Existing Customer</td>\n",
       "      <td>40</td>\n",
       "      <td>M</td>\n",
       "      <td>3</td>\n",
       "      <td>Uneducated</td>\n",
       "      <td>Married</td>\n",
       "      <td>$60K - $80K</td>\n",
       "      <td>Blue</td>\n",
       "      <td>21</td>\n",
       "      <td>5</td>\n",
       "      <td>1</td>\n",
       "      <td>0</td>\n",
       "      <td>4716.0</td>\n",
       "      <td>0</td>\n",
       "      <td>4716.0</td>\n",
       "      <td>816</td>\n",
       "      <td>28</td>\n",
       "      <td>0.000</td>\n",
       "    </tr>\n",
       "    <tr>\n",
       "      <th>...</th>\n",
       "      <td>...</td>\n",
       "      <td>...</td>\n",
       "      <td>...</td>\n",
       "      <td>...</td>\n",
       "      <td>...</td>\n",
       "      <td>...</td>\n",
       "      <td>...</td>\n",
       "      <td>...</td>\n",
       "      <td>...</td>\n",
       "      <td>...</td>\n",
       "      <td>...</td>\n",
       "      <td>...</td>\n",
       "      <td>...</td>\n",
       "      <td>...</td>\n",
       "      <td>...</td>\n",
       "      <td>...</td>\n",
       "      <td>...</td>\n",
       "      <td>...</td>\n",
       "      <td>...</td>\n",
       "    </tr>\n",
       "    <tr>\n",
       "      <th>10122</th>\n",
       "      <td>772366833</td>\n",
       "      <td>Existing Customer</td>\n",
       "      <td>50</td>\n",
       "      <td>M</td>\n",
       "      <td>2</td>\n",
       "      <td>Graduate</td>\n",
       "      <td>Single</td>\n",
       "      <td>$40K - $60K</td>\n",
       "      <td>Blue</td>\n",
       "      <td>40</td>\n",
       "      <td>3</td>\n",
       "      <td>2</td>\n",
       "      <td>3</td>\n",
       "      <td>4003.0</td>\n",
       "      <td>1851</td>\n",
       "      <td>2152.0</td>\n",
       "      <td>15476</td>\n",
       "      <td>117</td>\n",
       "      <td>0.462</td>\n",
       "    </tr>\n",
       "    <tr>\n",
       "      <th>10123</th>\n",
       "      <td>710638233</td>\n",
       "      <td>Attrited Customer</td>\n",
       "      <td>41</td>\n",
       "      <td>M</td>\n",
       "      <td>2</td>\n",
       "      <td>Unknown</td>\n",
       "      <td>Divorced</td>\n",
       "      <td>$40K - $60K</td>\n",
       "      <td>Blue</td>\n",
       "      <td>25</td>\n",
       "      <td>4</td>\n",
       "      <td>2</td>\n",
       "      <td>3</td>\n",
       "      <td>4277.0</td>\n",
       "      <td>2186</td>\n",
       "      <td>2091.0</td>\n",
       "      <td>8764</td>\n",
       "      <td>69</td>\n",
       "      <td>0.511</td>\n",
       "    </tr>\n",
       "    <tr>\n",
       "      <th>10124</th>\n",
       "      <td>716506083</td>\n",
       "      <td>Attrited Customer</td>\n",
       "      <td>44</td>\n",
       "      <td>F</td>\n",
       "      <td>1</td>\n",
       "      <td>High School</td>\n",
       "      <td>Married</td>\n",
       "      <td>Less than $40K</td>\n",
       "      <td>Blue</td>\n",
       "      <td>36</td>\n",
       "      <td>5</td>\n",
       "      <td>3</td>\n",
       "      <td>4</td>\n",
       "      <td>5409.0</td>\n",
       "      <td>0</td>\n",
       "      <td>5409.0</td>\n",
       "      <td>10291</td>\n",
       "      <td>60</td>\n",
       "      <td>0.000</td>\n",
       "    </tr>\n",
       "    <tr>\n",
       "      <th>10125</th>\n",
       "      <td>717406983</td>\n",
       "      <td>Attrited Customer</td>\n",
       "      <td>30</td>\n",
       "      <td>M</td>\n",
       "      <td>2</td>\n",
       "      <td>Graduate</td>\n",
       "      <td>Unknown</td>\n",
       "      <td>$40K - $60K</td>\n",
       "      <td>Blue</td>\n",
       "      <td>36</td>\n",
       "      <td>4</td>\n",
       "      <td>3</td>\n",
       "      <td>3</td>\n",
       "      <td>5281.0</td>\n",
       "      <td>0</td>\n",
       "      <td>5281.0</td>\n",
       "      <td>8395</td>\n",
       "      <td>62</td>\n",
       "      <td>0.000</td>\n",
       "    </tr>\n",
       "    <tr>\n",
       "      <th>10126</th>\n",
       "      <td>714337233</td>\n",
       "      <td>Attrited Customer</td>\n",
       "      <td>43</td>\n",
       "      <td>F</td>\n",
       "      <td>2</td>\n",
       "      <td>Graduate</td>\n",
       "      <td>Married</td>\n",
       "      <td>Less than $40K</td>\n",
       "      <td>Silver</td>\n",
       "      <td>25</td>\n",
       "      <td>6</td>\n",
       "      <td>2</td>\n",
       "      <td>4</td>\n",
       "      <td>10388.0</td>\n",
       "      <td>1961</td>\n",
       "      <td>8427.0</td>\n",
       "      <td>10294</td>\n",
       "      <td>61</td>\n",
       "      <td>0.189</td>\n",
       "    </tr>\n",
       "  </tbody>\n",
       "</table>\n",
       "<p>10127 rows × 19 columns</p>\n",
       "</div>"
      ],
      "text/plain": [
       "       CLIENTNUM     Attrition_Flag  Customer_Age Gender  Dependent_count  \\\n",
       "0      768805383  Existing Customer            45      M                3   \n",
       "1      818770008  Existing Customer            49      F                5   \n",
       "2      713982108  Existing Customer            51      M                3   \n",
       "3      769911858  Existing Customer            40      F                4   \n",
       "4      709106358  Existing Customer            40      M                3   \n",
       "...          ...                ...           ...    ...              ...   \n",
       "10122  772366833  Existing Customer            50      M                2   \n",
       "10123  710638233  Attrited Customer            41      M                2   \n",
       "10124  716506083  Attrited Customer            44      F                1   \n",
       "10125  717406983  Attrited Customer            30      M                2   \n",
       "10126  714337233  Attrited Customer            43      F                2   \n",
       "\n",
       "      Education_Level Marital_Status Income_Category Card_Category  \\\n",
       "0         High School        Married     $60K - $80K          Blue   \n",
       "1            Graduate         Single  Less than $40K          Blue   \n",
       "2            Graduate        Married    $80K - $120K          Blue   \n",
       "3         High School        Unknown  Less than $40K          Blue   \n",
       "4          Uneducated        Married     $60K - $80K          Blue   \n",
       "...               ...            ...             ...           ...   \n",
       "10122        Graduate         Single     $40K - $60K          Blue   \n",
       "10123         Unknown       Divorced     $40K - $60K          Blue   \n",
       "10124     High School        Married  Less than $40K          Blue   \n",
       "10125        Graduate        Unknown     $40K - $60K          Blue   \n",
       "10126        Graduate        Married  Less than $40K        Silver   \n",
       "\n",
       "       Months_on_book  Total_Relationship_Count  Months_Inactive_12_mon  \\\n",
       "0                  39                         5                       1   \n",
       "1                  44                         6                       1   \n",
       "2                  36                         4                       1   \n",
       "3                  34                         3                       4   \n",
       "4                  21                         5                       1   \n",
       "...               ...                       ...                     ...   \n",
       "10122              40                         3                       2   \n",
       "10123              25                         4                       2   \n",
       "10124              36                         5                       3   \n",
       "10125              36                         4                       3   \n",
       "10126              25                         6                       2   \n",
       "\n",
       "       Contacts_Count_12_mon  Credit_Limit  Total_Revolving_Bal  \\\n",
       "0                          3       12691.0                  777   \n",
       "1                          2        8256.0                  864   \n",
       "2                          0        3418.0                    0   \n",
       "3                          1        3313.0                 2517   \n",
       "4                          0        4716.0                    0   \n",
       "...                      ...           ...                  ...   \n",
       "10122                      3        4003.0                 1851   \n",
       "10123                      3        4277.0                 2186   \n",
       "10124                      4        5409.0                    0   \n",
       "10125                      3        5281.0                    0   \n",
       "10126                      4       10388.0                 1961   \n",
       "\n",
       "       Avg_Open_To_Buy  Total_Trans_Amt  Total_Trans_Ct  Avg_Utilization_Ratio  \n",
       "0              11914.0             1144              42                  0.061  \n",
       "1               7392.0             1291              33                  0.105  \n",
       "2               3418.0             1887              20                  0.000  \n",
       "3                796.0             1171              20                  0.760  \n",
       "4               4716.0              816              28                  0.000  \n",
       "...                ...              ...             ...                    ...  \n",
       "10122           2152.0            15476             117                  0.462  \n",
       "10123           2091.0             8764              69                  0.511  \n",
       "10124           5409.0            10291              60                  0.000  \n",
       "10125           5281.0             8395              62                  0.000  \n",
       "10126           8427.0            10294              61                  0.189  \n",
       "\n",
       "[10127 rows x 19 columns]"
      ]
     },
     "execution_count": 10,
     "metadata": {},
     "output_type": "execute_result"
    }
   ],
   "source": [
    "df=pd.read_csv('C:\\\\Users\\\\Manish\\\\data.csv')\n",
    "df"
   ]
  },
  {
   "cell_type": "markdown",
   "id": "325bf299",
   "metadata": {},
   "source": [
    "### 7. Card category wise analysis of customers who are high school pass outs and churned out"
   ]
  },
  {
   "cell_type": "code",
   "execution_count": 11,
   "id": "8922b0d2",
   "metadata": {},
   "outputs": [
    {
     "name": "stdout",
     "output_type": "stream",
     "text": [
      "Blue        0.931966\n",
      "Silver      0.054427\n",
      "Gold        0.011606\n",
      "Platinum    0.002001\n",
      "Name: Card_Category, dtype: float64\n"
     ]
    }
   ],
   "source": [
    "data = df[(df.Education_Level == \"High School\") & (df.Attrition_Flag == \"Attrited Customer\")]\n",
    "data = df[\"Card_Category\"].value_counts()\n",
    "print(data/sum(data))\n"
   ]
  },
  {
   "cell_type": "code",
   "execution_count": 13,
   "id": "8e4a5899",
   "metadata": {},
   "outputs": [
    {
     "data": {
      "image/png": "[encoded data removed]",
      "text/plain": [
       "<Figure size 720x432 with 1 Axes>"
      ]
     },
     "metadata": {},
     "output_type": "display_data"
    }
   ],
   "source": [
    "pie, ax = plt.subplots(figsize = [10,6])  \n",
    "labels = data.keys()\n",
    "ax.pie(x = data, labels = labels)\n",
    "plt.title(\"Card Category\")\n",
    "plt.show()                                          "
   ]
  },
  {
   "cell_type": "markdown",
   "id": "af8ef1a3",
   "metadata": {},
   "source": [
    "Interpretation: Blue card category has higher (0.931966) number of customers who are high school pass outs and churned out."
   ]
  },
  {
   "cell_type": "markdown",
   "id": "22afffbb",
   "metadata": {},
   "source": [
    "### 8. Income category wise breakdown of customers who are high school passouts and still with the bank."
   ]
  },
  {
   "cell_type": "code",
   "execution_count": 14,
   "id": "b20df922",
   "metadata": {},
   "outputs": [
    {
     "name": "stdout",
     "output_type": "stream",
     "text": [
      "Less than $40K    0.333919\n",
      "$40K - $60K       0.178090\n",
      "$80K - $120K      0.156415\n",
      "$60K - $80K       0.155243\n",
      "Unknown           0.106620\n",
      "$120K +           0.069713\n",
      "Name: Income_Category, dtype: float64\n"
     ]
    }
   ],
   "source": [
    "data = df[(df.Education_Level == \"High School\") & (df.Attrition_Flag ==\"Existing Customer\")]\n",
    "data = data[\"Income_Category\"].value_counts()\n",
    "print(data/sum(data))\n"
   ]
  },
  {
   "cell_type": "code",
   "execution_count": 15,
   "id": "4d819c8a",
   "metadata": {},
   "outputs": [
    {
     "data": {
      "image/png": "[encoded data removed]",
      "text/plain": [
       "<Figure size 720x432 with 1 Axes>"
      ]
     },
     "metadata": {},
     "output_type": "display_data"
    }
   ],
   "source": [
    "pie, ax = plt.subplots(figsize = [10,6])\n",
    "labels = data.keys()\n",
    "ax.pie(x = data, labels = labels)\n",
    "plt.title(\"Income Category\")\n",
    "plt.show()"
   ]
  },
  {
   "cell_type": "markdown",
   "id": "ffe2f820",
   "metadata": {},
   "source": [
    "Interpretation:The highest number of customers who are high school passouts and still with the bank, having income less than 40k."
   ]
  },
  {
   "cell_type": "markdown",
   "id": "3c882ff5",
   "metadata": {},
   "source": [
    "### 9. Present the details of Total Transaction Amount of existing customers who are high school pass outs. "
   ]
  },
  {
   "cell_type": "code",
   "execution_count": 12,
   "id": "b8d09058",
   "metadata": {},
   "outputs": [
    {
     "data": {
      "text/plain": [
       "0         1144\n",
       "3         1171\n",
       "7         1538\n",
       "18        1336\n",
       "22         931\n",
       "         ...  \n",
       "10091    16344\n",
       "10093    15349\n",
       "10097    17744\n",
       "10109    17093\n",
       "10120    15577\n",
       "Name: Total_Trans_Amt, Length: 1707, dtype: int64"
      ]
     },
     "execution_count": 12,
     "metadata": {},
     "output_type": "execute_result"
    }
   ],
   "source": [
    "data = df[(df.Education_Level == \"High School\") & (df.Attrition_Flag == \"Existing Customer\")]\n",
    "data[\"Total_Trans_Amt\"]"
   ]
  },
  {
   "cell_type": "code",
   "execution_count": 16,
   "id": "a922afbb",
   "metadata": {},
   "outputs": [
    {
     "data": {
      "text/plain": [
       "7921729"
      ]
     },
     "execution_count": 16,
     "metadata": {},
     "output_type": "execute_result"
    }
   ],
   "source": [
    "data = df[(df.Education_Level == \"High School\") & (df.Attrition_Flag == \"Existing Customer\")]\n",
    "data[\"Total_Trans_Amt\"].sum()"
   ]
  },
  {
   "cell_type": "code",
   "execution_count": 13,
   "id": "2682a4ae",
   "metadata": {
    "scrolled": true
   },
   "outputs": [
    {
     "data": {
      "image/png": "[encoded data removed]",
      "text/plain": [
       "<Figure size 432x288 with 1 Axes>"
      ]
     },
     "metadata": {
      "needs_background": "light"
     },
     "output_type": "display_data"
    }
   ],
   "source": [
    "sns.boxplot(x = data[\"Total_Trans_Amt\"])\n",
    "plt.title(\"High School Passed Existing Customers\")      \n",
    "plt.show()       \n"
   ]
  },
  {
   "cell_type": "markdown",
   "id": "a95bcfd7",
   "metadata": {},
   "source": [
    "Interpretation: The sum of total transaction amount of existing customers who are high school pass outs : 7921729"
   ]
  },
  {
   "cell_type": "markdown",
   "id": "9b3d0798",
   "metadata": {},
   "source": [
    "### 10. Analysis of the education level of the customers who are with the bank and those who left"
   ]
  },
  {
   "cell_type": "code",
   "execution_count": 27,
   "id": "304e6c95",
   "metadata": {},
   "outputs": [
    {
     "data": {
      "image/png": "[encoded data removed]",
      "text/plain": [
       "<Figure size 1008x504 with 2 Axes>"
      ]
     },
     "metadata": {
      "needs_background": "light"
     },
     "output_type": "display_data"
    }
   ],
   "source": [
    "g = sns.FacetGrid(df, col = \"Attrition_Flag\", height = 7)\n",
    "g.map(sns.countplot, \"Education_Level\", order = [\"Unknown\", \"Uneducated\",\"High School\", \"College\",\"Graduate\", \"Post-Graduate\", \"Doctorate\"])\n",
    "plt.show()\n"
   ]
  },
  {
   "cell_type": "markdown",
   "id": "e55558be",
   "metadata": {},
   "source": [
    "Interpretation: In existing customer, gradutes customers are more than others and customers who has left was graduate and highschool(in comparison to others). "
   ]
  },
  {
   "cell_type": "markdown",
   "id": "049a684d",
   "metadata": {},
   "source": [
    "### 11. Analysis of Transaction Amount (mean, median, and mode) made by the existing customers and comparing it with those who are not existing"
   ]
  },
  {
   "cell_type": "code",
   "execution_count": 24,
   "id": "bf7e6d07",
   "metadata": {},
   "outputs": [
    {
     "name": "stdout",
     "output_type": "stream",
     "text": [
      "Existing customers:\n",
      " count     8500.000000\n",
      "mean      4654.655882\n",
      "std       3512.772635\n",
      "min        816.000000\n",
      "25%       2384.750000\n",
      "50%       4100.000000\n",
      "75%       4781.250000\n",
      "max      18484.000000\n",
      "Name: Total_Trans_Amt, dtype: float64\n",
      "Not existing customers:\n",
      " count     1627.000000\n",
      "mean      3095.025814\n",
      "std       2308.227629\n",
      "min        510.000000\n",
      "25%       1903.500000\n",
      "50%       2329.000000\n",
      "75%       2772.000000\n",
      "max      10583.000000\n",
      "Name: Total_Trans_Amt, dtype: float64\n"
     ]
    }
   ],
   "source": [
    "exis = df[df.Attrition_Flag == \"Existing Customer\"]\n",
    "att = df[df.Attrition_Flag == \"Attrited Customer\"]\n",
    "print(\"Existing customers:\\n\",exis[\"Total_Trans_Amt\"].describe())\n",
    "print(\"Not existing customers:\\n\",att[\"Total_Trans_Amt\"].describe())\n"
   ]
  },
  {
   "cell_type": "markdown",
   "id": "5da2060a",
   "metadata": {},
   "source": [
    "Interpretation: The mean, median mode of existing customers are 4654.66, 3512.77, 8500.00 and for Non-existing are 3095.03,2308.23,1627.00."
   ]
  },
  {
   "cell_type": "markdown",
   "id": "6ee76c28",
   "metadata": {},
   "source": [
    "### 12. What is the average utilization ratio of the existing customers?"
   ]
  },
  {
   "cell_type": "code",
   "execution_count": 16,
   "id": "e73f7ac7",
   "metadata": {},
   "outputs": [
    {
     "name": "stdout",
     "output_type": "stream",
     "text": [
      "Average utilization ratio of existing customers :  0.3027891036906852\n"
     ]
    },
    {
     "data": {
      "image/png": "[encoded data removed]",
      "text/plain": [
       "<Figure size 432x288 with 1 Axes>"
      ]
     },
     "metadata": {
      "needs_background": "light"
     },
     "output_type": "display_data"
    }
   ],
   "source": [
    "print(\"Average utilization ratio of existing customers : \",data[\"Avg_Utilization_Ratio\"].mean())\n",
    "data = df[df.Attrition_Flag == \"Existing Customer\"]\n",
    "sns.histplot(x = data[\"Avg_Utilization_Ratio\"])\n",
    "plt.show()\n"
   ]
  },
  {
   "cell_type": "markdown",
   "id": "dd77fbd1",
   "metadata": {},
   "source": [
    "Interpretation: The average utilization ratio of existing customers is 0.30 ."
   ]
  },
  {
   "cell_type": "markdown",
   "id": "a187bd82",
   "metadata": {},
   "source": [
    "### 13. Analysis of the churned out customers who hold the blue card with respect to their income categories"
   ]
  },
  {
   "cell_type": "code",
   "execution_count": 17,
   "id": "577f9191",
   "metadata": {},
   "outputs": [
    {
     "data": {
      "image/png": "[encoded data removed]",
      "text/plain": [
       "<Figure size 576x288 with 1 Axes>"
      ]
     },
     "metadata": {
      "needs_background": "light"
     },
     "output_type": "display_data"
    }
   ],
   "source": [
    "data = df[(df.Attrition_Flag == \"Attrited Customer\") & (df.Card_Category == \"Blue\")]\n",
    "fig, ax = plt.subplots(figsize = (8, 4))\n",
    "sns.countplot(x = data[\"Income_Category\"])\n",
    "plt.show()\n"
   ]
  },
  {
   "cell_type": "markdown",
   "id": "732f8b14",
   "metadata": {},
   "source": [
    "Interpretation: The highest number of blue card holders are Customers with income less than 40K."
   ]
  },
  {
   "cell_type": "markdown",
   "id": "766ef4cd",
   "metadata": {},
   "source": [
    "### 14. Analysis of transaction amount (mean, median, mode) for blue card customers who are no longer with the bank and comparing it with the existing customers."
   ]
  },
  {
   "cell_type": "code",
   "execution_count": 18,
   "id": "3f52d355",
   "metadata": {},
   "outputs": [
    {
     "name": "stdout",
     "output_type": "stream",
     "text": [
      "Existing customers:\n",
      " count     7814.000000\n",
      "mean      4473.625160\n",
      "std       3302.296779\n",
      "min        816.000000\n",
      "25%       2315.000000\n",
      "50%       4087.000000\n",
      "75%       4738.750000\n",
      "max      18484.000000\n",
      "Name: Total_Trans_Amt, dtype: float64\n",
      "Customers who are no longer with the bank:\n",
      " count     1501.000000\n",
      "mean      2942.893404\n",
      "std       2167.401917\n",
      "min        510.000000\n",
      "25%       1893.000000\n",
      "50%       2314.000000\n",
      "75%       2705.000000\n",
      "max      10583.000000\n",
      "Name: Total_Trans_Amt, dtype: float64\n"
     ]
    }
   ],
   "source": [
    "exi = df[(df.Attrition_Flag == \"Existing Customer\") & (df.Card_Category == \"Blue\")][\"Total_Trans_Amt\"]\n",
    "attr = df[(df.Attrition_Flag == \"Attrited Customer\") & (df.Card_Category == \"Blue\")][\"Total_Trans_Amt\"]\n",
    "print(\"Existing customers:\\n\",exi.describe())\n",
    "print(\"Customers who are no longer with the bank:\\n\",attr.describe())\n"
   ]
  },
  {
   "cell_type": "markdown",
   "id": "486c0f79",
   "metadata": {},
   "source": [
    "Interpretation: With blue card category Existing customers has more number of transactions in comparison to customers who has left."
   ]
  },
  {
   "cell_type": "markdown",
   "id": "8f724e32",
   "metadata": {},
   "source": [
    "### 15. How is the credit limit of the blue card customers affecting the churn?"
   ]
  },
  {
   "cell_type": "code",
   "execution_count": 19,
   "id": "aa2d87ff",
   "metadata": {},
   "outputs": [
    {
     "data": {
      "image/png": "[encoded data removed]",
      "text/plain": [
       "<Figure size 504x504 with 1 Axes>"
      ]
     },
     "metadata": {
      "needs_background": "light"
     },
     "output_type": "display_data"
    }
   ],
   "source": [
    "ata = df[df.Card_Category == \"Blue\"]\n",
    "g = sns.FacetGrid(data, col = \"Attrition_Flag\", height = 7)\n",
    "g.map(sns.histplot, \"Credit_Limit\")\n",
    "plt.show()\n"
   ]
  },
  {
   "cell_type": "markdown",
   "id": "0b9775c9",
   "metadata": {},
   "source": [
    "Interpretation: Customers with higher credit limits has less churn rate."
   ]
  },
  {
   "cell_type": "markdown",
   "id": "7bc111dd",
   "metadata": {},
   "source": [
    "### 16. Analysis of the dependent count with respect to the customers who have churned out and the customers who are still using the services"
   ]
  },
  {
   "cell_type": "code",
   "execution_count": 20,
   "id": "4d1fa8dc",
   "metadata": {},
   "outputs": [
    {
     "data": {
      "image/png": "[encoded data removed]",
      "text/plain": [
       "<Figure size 720x360 with 2 Axes>"
      ]
     },
     "metadata": {
      "needs_background": "light"
     },
     "output_type": "display_data"
    }
   ],
   "source": [
    "g = sns.FacetGrid(df, col = \"Attrition_Flag\", height = 5)\n",
    "g.map(sns.countplot, \"Dependent_count\", order = [1,2,3,4,5])\n",
    "plt.show()\n"
   ]
  },
  {
   "cell_type": "markdown",
   "id": "9d9d65fd",
   "metadata": {},
   "source": [
    "Interpretation: Existing customers has more number of dependants count than who have churned out and no longer with the bank."
   ]
  },
  {
   "cell_type": "markdown",
   "id": "25a7c6b2",
   "metadata": {},
   "source": [
    "### 17. Is there a relation between the credit limit and the attrition of the customers?"
   ]
  },
  {
   "cell_type": "code",
   "execution_count": 21,
   "id": "89f98cc9",
   "metadata": {},
   "outputs": [
    {
     "data": {
      "image/png": "[encoded data removed]",
      "text/plain": [
       "<Figure size 1008x504 with 2 Axes>"
      ]
     },
     "metadata": {
      "needs_background": "light"
     },
     "output_type": "display_data"
    }
   ],
   "source": [
    "g = sns.FacetGrid(df, col = \"Attrition_Flag\", height = 7)\n",
    "g.map(sns.histplot, \"Credit_Limit\")\n",
    "plt.show()"
   ]
  },
  {
   "cell_type": "markdown",
   "id": "3f482ba8",
   "metadata": {},
   "source": [
    "Interpretation: Less credit limit has high attrition rate."
   ]
  },
  {
   "cell_type": "markdown",
   "id": "8812d155",
   "metadata": {},
   "source": [
    "### 18. What is the average utilization ratio of the credit card for each age sub-group between 40 and 50? (We need to group the customers into 4 buckets between 40 and 50.)"
   ]
  },
  {
   "cell_type": "code",
   "execution_count": 22,
   "id": "358b309a",
   "metadata": {},
   "outputs": [
    {
     "data": {
      "text/plain": [
       "0.2571893954609358"
      ]
     },
     "execution_count": 22,
     "metadata": {},
     "output_type": "execute_result"
    }
   ],
   "source": [
    "data = df[(df.Customer_Age >= 40) & (df.Customer_Age <= 50)]\n",
    "data[\"Avg_Utilization_Ratio\"].mean()"
   ]
  },
  {
   "cell_type": "markdown",
   "id": "a87c0347",
   "metadata": {},
   "source": [
    "Interpretation: The average utilization ratio of the credit card for each age sub group between 40 to 50 is 0.26"
   ]
  },
  {
   "cell_type": "markdown",
   "id": "baabc7ce",
   "metadata": {},
   "source": [
    "### 19. How are the education level and income category affecting the customer churn?"
   ]
  },
  {
   "cell_type": "code",
   "execution_count": 23,
   "id": "a25fa932",
   "metadata": {
    "scrolled": false
   },
   "outputs": [
    {
     "data": {
      "image/png": "[encoded data removed]",
      "text/plain": [
       "<Figure size 720x2160 with 12 Axes>"
      ]
     },
     "metadata": {
      "needs_background": "light"
     },
     "output_type": "display_data"
    }
   ],
   "source": [
    "g = sns.FacetGrid(df, col = \"Attrition_Flag\", row = \"Income_Category\", height= 5)\n",
    "g.map(sns.countplot, \"Education_Level\", order = [\"Unknown\", \"Uneducated\",\"High School\", \"College\", \"Post-Graduate\", \"Doctorate\"])\n",
    "plt.show()"
   ]
  },
  {
   "cell_type": "markdown",
   "id": "5fbfd46f",
   "metadata": {},
   "source": [
    "Interpretation: Customers with income less than 40k in all education category has higher attrition rate."
   ]
  },
  {
   "cell_type": "markdown",
   "id": "340514b0",
   "metadata": {},
   "source": [
    "### 20. Identify the churned out customers with high income category, high education level, and high credit limit."
   ]
  },
  {
   "cell_type": "code",
   "execution_count": 30,
   "id": "5b54957e",
   "metadata": {},
   "outputs": [
    {
     "data": {
      "text/html": [
       "<div>\n",
       "<style scoped>\n",
       "    .dataframe tbody tr th:only-of-type {\n",
       "        vertical-align: middle;\n",
       "    }\n",
       "\n",
       "    .dataframe tbody tr th {\n",
       "        vertical-align: top;\n",
       "    }\n",
       "\n",
       "    .dataframe thead th {\n",
       "        text-align: right;\n",
       "    }\n",
       "</style>\n",
       "<table border=\"1\" class=\"dataframe\">\n",
       "  <thead>\n",
       "    <tr style=\"text-align: right;\">\n",
       "      <th></th>\n",
       "      <th>CLIENTNUM</th>\n",
       "      <th>Customer_Age</th>\n",
       "      <th>Dependent_count</th>\n",
       "      <th>Months_on_book</th>\n",
       "      <th>Total_Relationship_Count</th>\n",
       "      <th>Months_Inactive_12_mon</th>\n",
       "      <th>Contacts_Count_12_mon</th>\n",
       "      <th>Credit_Limit</th>\n",
       "      <th>Total_Revolving_Bal</th>\n",
       "      <th>Avg_Open_To_Buy</th>\n",
       "      <th>Total_Trans_Amt</th>\n",
       "      <th>Total_Trans_Ct</th>\n",
       "      <th>Avg_Utilization_Ratio</th>\n",
       "    </tr>\n",
       "  </thead>\n",
       "  <tbody>\n",
       "    <tr>\n",
       "      <th>count</th>\n",
       "      <td>2.000000e+00</td>\n",
       "      <td>2.000000</td>\n",
       "      <td>2.000000</td>\n",
       "      <td>2.0</td>\n",
       "      <td>2.000000</td>\n",
       "      <td>2.0</td>\n",
       "      <td>2.0</td>\n",
       "      <td>2.0</td>\n",
       "      <td>2.00000</td>\n",
       "      <td>2.00000</td>\n",
       "      <td>2.000000</td>\n",
       "      <td>2.000000</td>\n",
       "      <td>2.000000</td>\n",
       "    </tr>\n",
       "    <tr>\n",
       "      <th>mean</th>\n",
       "      <td>7.837503e+08</td>\n",
       "      <td>51.000000</td>\n",
       "      <td>2.500000</td>\n",
       "      <td>45.0</td>\n",
       "      <td>3.500000</td>\n",
       "      <td>3.0</td>\n",
       "      <td>3.0</td>\n",
       "      <td>34516.0</td>\n",
       "      <td>275.00000</td>\n",
       "      <td>34241.00000</td>\n",
       "      <td>4957.000000</td>\n",
       "      <td>63.000000</td>\n",
       "      <td>0.008000</td>\n",
       "    </tr>\n",
       "    <tr>\n",
       "      <th>std</th>\n",
       "      <td>3.535106e+07</td>\n",
       "      <td>1.414214</td>\n",
       "      <td>0.707107</td>\n",
       "      <td>0.0</td>\n",
       "      <td>3.535534</td>\n",
       "      <td>0.0</td>\n",
       "      <td>0.0</td>\n",
       "      <td>0.0</td>\n",
       "      <td>388.90873</td>\n",
       "      <td>388.90873</td>\n",
       "      <td>3371.485133</td>\n",
       "      <td>11.313708</td>\n",
       "      <td>0.011314</td>\n",
       "    </tr>\n",
       "    <tr>\n",
       "      <th>min</th>\n",
       "      <td>7.587533e+08</td>\n",
       "      <td>50.000000</td>\n",
       "      <td>2.000000</td>\n",
       "      <td>45.0</td>\n",
       "      <td>1.000000</td>\n",
       "      <td>3.0</td>\n",
       "      <td>3.0</td>\n",
       "      <td>34516.0</td>\n",
       "      <td>0.00000</td>\n",
       "      <td>33966.00000</td>\n",
       "      <td>2573.000000</td>\n",
       "      <td>55.000000</td>\n",
       "      <td>0.000000</td>\n",
       "    </tr>\n",
       "    <tr>\n",
       "      <th>25%</th>\n",
       "      <td>7.712518e+08</td>\n",
       "      <td>50.500000</td>\n",
       "      <td>2.250000</td>\n",
       "      <td>45.0</td>\n",
       "      <td>2.250000</td>\n",
       "      <td>3.0</td>\n",
       "      <td>3.0</td>\n",
       "      <td>34516.0</td>\n",
       "      <td>137.50000</td>\n",
       "      <td>34103.50000</td>\n",
       "      <td>3765.000000</td>\n",
       "      <td>59.000000</td>\n",
       "      <td>0.004000</td>\n",
       "    </tr>\n",
       "    <tr>\n",
       "      <th>50%</th>\n",
       "      <td>7.837503e+08</td>\n",
       "      <td>51.000000</td>\n",
       "      <td>2.500000</td>\n",
       "      <td>45.0</td>\n",
       "      <td>3.500000</td>\n",
       "      <td>3.0</td>\n",
       "      <td>3.0</td>\n",
       "      <td>34516.0</td>\n",
       "      <td>275.00000</td>\n",
       "      <td>34241.00000</td>\n",
       "      <td>4957.000000</td>\n",
       "      <td>63.000000</td>\n",
       "      <td>0.008000</td>\n",
       "    </tr>\n",
       "    <tr>\n",
       "      <th>75%</th>\n",
       "      <td>7.962487e+08</td>\n",
       "      <td>51.500000</td>\n",
       "      <td>2.750000</td>\n",
       "      <td>45.0</td>\n",
       "      <td>4.750000</td>\n",
       "      <td>3.0</td>\n",
       "      <td>3.0</td>\n",
       "      <td>34516.0</td>\n",
       "      <td>412.50000</td>\n",
       "      <td>34378.50000</td>\n",
       "      <td>6149.000000</td>\n",
       "      <td>67.000000</td>\n",
       "      <td>0.012000</td>\n",
       "    </tr>\n",
       "    <tr>\n",
       "      <th>max</th>\n",
       "      <td>8.087472e+08</td>\n",
       "      <td>52.000000</td>\n",
       "      <td>3.000000</td>\n",
       "      <td>45.0</td>\n",
       "      <td>6.000000</td>\n",
       "      <td>3.0</td>\n",
       "      <td>3.0</td>\n",
       "      <td>34516.0</td>\n",
       "      <td>550.00000</td>\n",
       "      <td>34516.00000</td>\n",
       "      <td>7341.000000</td>\n",
       "      <td>71.000000</td>\n",
       "      <td>0.016000</td>\n",
       "    </tr>\n",
       "  </tbody>\n",
       "</table>\n",
       "</div>"
      ],
      "text/plain": [
       "          CLIENTNUM  Customer_Age  Dependent_count  Months_on_book  \\\n",
       "count  2.000000e+00      2.000000         2.000000             2.0   \n",
       "mean   7.837503e+08     51.000000         2.500000            45.0   \n",
       "std    3.535106e+07      1.414214         0.707107             0.0   \n",
       "min    7.587533e+08     50.000000         2.000000            45.0   \n",
       "25%    7.712518e+08     50.500000         2.250000            45.0   \n",
       "50%    7.837503e+08     51.000000         2.500000            45.0   \n",
       "75%    7.962487e+08     51.500000         2.750000            45.0   \n",
       "max    8.087472e+08     52.000000         3.000000            45.0   \n",
       "\n",
       "       Total_Relationship_Count  Months_Inactive_12_mon  \\\n",
       "count                  2.000000                     2.0   \n",
       "mean                   3.500000                     3.0   \n",
       "std                    3.535534                     0.0   \n",
       "min                    1.000000                     3.0   \n",
       "25%                    2.250000                     3.0   \n",
       "50%                    3.500000                     3.0   \n",
       "75%                    4.750000                     3.0   \n",
       "max                    6.000000                     3.0   \n",
       "\n",
       "       Contacts_Count_12_mon  Credit_Limit  Total_Revolving_Bal  \\\n",
       "count                    2.0           2.0              2.00000   \n",
       "mean                     3.0       34516.0            275.00000   \n",
       "std                      0.0           0.0            388.90873   \n",
       "min                      3.0       34516.0              0.00000   \n",
       "25%                      3.0       34516.0            137.50000   \n",
       "50%                      3.0       34516.0            275.00000   \n",
       "75%                      3.0       34516.0            412.50000   \n",
       "max                      3.0       34516.0            550.00000   \n",
       "\n",
       "       Avg_Open_To_Buy  Total_Trans_Amt  Total_Trans_Ct  Avg_Utilization_Ratio  \n",
       "count          2.00000         2.000000        2.000000               2.000000  \n",
       "mean       34241.00000      4957.000000       63.000000               0.008000  \n",
       "std          388.90873      3371.485133       11.313708               0.011314  \n",
       "min        33966.00000      2573.000000       55.000000               0.000000  \n",
       "25%        34103.50000      3765.000000       59.000000               0.004000  \n",
       "50%        34241.00000      4957.000000       63.000000               0.008000  \n",
       "75%        34378.50000      6149.000000       67.000000               0.012000  \n",
       "max        34516.00000      7341.000000       71.000000               0.016000  "
      ]
     },
     "execution_count": 30,
     "metadata": {},
     "output_type": "execute_result"
    }
   ],
   "source": [
    "df.Income_Category.unique()\n",
    "df.Education_Level.unique()\n",
    "data = df[(df.Education_Level == \"Doctorate\") & (df.Income_Category ==\"$120K +\") & (df.Credit_Limit > 23000)& (df.Attrition_Flag==\"Attrited Customer\")]\n",
    "data.describe()\n",
    "\n",
    "\n",
    "\n"
   ]
  },
  {
   "cell_type": "code",
   "execution_count": 31,
   "id": "82a54f23",
   "metadata": {},
   "outputs": [
    {
     "data": {
      "image/png": "[encoded data removed]",
      "text/plain": [
       "<Figure size 720x360 with 2 Axes>"
      ]
     },
     "metadata": {
      "needs_background": "light"
     },
     "output_type": "display_data"
    }
   ],
   "source": [
    "fig, ax = plt.subplots(1, 2, figsize = (10, 5))\n",
    "sns.boxplot(x = df[\"Credit_Limit\"], ax = ax[0])\n",
    "sns.histplot(x = df[\"Credit_Limit\"], ax = ax[1])\n",
    "plt.show()\n"
   ]
  },
  {
   "cell_type": "markdown",
   "id": "3f0a6280",
   "metadata": {},
   "source": [
    "### 21. Is there is a relation between the attrition and the age of customers who have a lower utilization ratio?"
   ]
  },
  {
   "cell_type": "code",
   "execution_count": 26,
   "id": "a3355e12",
   "metadata": {},
   "outputs": [
    {
     "data": {
      "image/png": "[encoded data removed]",
      "text/plain": [
       "<Figure size 432x288 with 1 Axes>"
      ]
     },
     "metadata": {
      "needs_background": "light"
     },
     "output_type": "display_data"
    },
    {
     "data": {
      "image/png": "[encoded data removed]",
      "text/plain": [
       "<Figure size 1008x504 with 2 Axes>"
      ]
     },
     "metadata": {
      "needs_background": "light"
     },
     "output_type": "display_data"
    }
   ],
   "source": [
    "sns.histplot(df[\"Avg_Utilization_Ratio\"])\n",
    "plt.show()\n",
    "data = df[df[\"Avg_Utilization_Ratio\"] <= 0.25]\n",
    "g = sns.FacetGrid(data, col = \"Attrition_Flag\", height = 7)\n",
    "g.map(sns.histplot, \"Customer_Age\")\n",
    "plt.show()"
   ]
  },
  {
   "cell_type": "markdown",
   "id": "6ea4a2d3",
   "metadata": {},
   "source": [
    "Interpretation:  Average age is between 25-70 With low utilization ratio(less than<0.25)"
   ]
  },
  {
   "cell_type": "markdown",
   "id": "8fb1137e",
   "metadata": {},
   "source": [
    "### 22. Analysis of marital status and utilization ratio of the customers who are leaving out the bank versus those who are still with the bank"
   ]
  },
  {
   "cell_type": "code",
   "execution_count": 27,
   "id": "6ac4418c",
   "metadata": {},
   "outputs": [
    {
     "data": {
      "image/png": "[encoded data removed]",
      "text/plain": [
       "<Figure size 864x432 with 2 Axes>"
      ]
     },
     "metadata": {
      "needs_background": "light"
     },
     "output_type": "display_data"
    }
   ],
   "source": [
    "new_df=df[(df.Marital_Status =='Married')]\n",
    "g = sns.FacetGrid(new_df, col = \"Attrition_Flag\", row = \"Marital_Status\", height= 6)\n",
    "g.map(sns.histplot, \"Avg_Utilization_Ratio\")\n",
    "plt.show()"
   ]
  },
  {
   "cell_type": "markdown",
   "id": "273b500b",
   "metadata": {},
   "source": [
    "Interpretation: Higher number of married customers are who has utilization ratio less than 0.2."
   ]
  },
  {
   "cell_type": "markdown",
   "id": "0709015f",
   "metadata": {},
   "source": [
    "### 23. Is there a relation between the credit limit offered to the customers (having a lower utilization ratio) compared to those who are having a higher utilization ratio?"
   ]
  },
  {
   "cell_type": "code",
   "execution_count": 28,
   "id": "28a85874",
   "metadata": {},
   "outputs": [
    {
     "data": {
      "text/plain": [
       "count    10127.000000\n",
       "mean         0.274894\n",
       "std          0.275691\n",
       "min          0.000000\n",
       "25%          0.023000\n",
       "50%          0.176000\n",
       "75%          0.503000\n",
       "max          0.999000\n",
       "Name: Avg_Utilization_Ratio, dtype: float64"
      ]
     },
     "execution_count": 28,
     "metadata": {},
     "output_type": "execute_result"
    }
   ],
   "source": [
    "df[\"Avg_Utilization_Ratio\"].describe()\n"
   ]
  },
  {
   "cell_type": "code",
   "execution_count": 30,
   "id": "bab00dc2",
   "metadata": {},
   "outputs": [
    {
     "data": {
      "image/png": "[encoded data removed]",
      "text/plain": [
       "<Figure size 1080x504 with 2 Axes>"
      ]
     },
     "metadata": {
      "needs_background": "light"
     },
     "output_type": "display_data"
    }
   ],
   "source": [
    "bel = df[df.Avg_Utilization_Ratio < 0.023]\n",
    "abov = df[df.Avg_Utilization_Ratio > 0.50]\n",
    "fig, ax = plt.subplots(1, 2, figsize = (15, 7))\n",
    "sns.histplot(bel[\"Credit_Limit\"], ax = ax[0])\n",
    "sns.histplot(abov[\"Credit_Limit\"], ax = ax[1])\n",
    "ax[0].set_title(\"Having lower utilzation ratio:\")\n",
    "ax[1].set_title(\"Having higher utilization ratio:\")\n",
    "plt.show()"
   ]
  },
  {
   "cell_type": "markdown",
   "id": "faf5f92c",
   "metadata": {},
   "source": [
    "Interpretation: Customers with higher utilization ratio has higher credit limit."
   ]
  },
  {
   "cell_type": "code",
   "execution_count": null,
   "id": "a3b8ad6c",
   "metadata": {},
   "outputs": [],
   "source": []
  }
 ],
 "metadata": {
  "kernelspec": {
   "display_name": "Python 3 (ipykernel)",
   "language": "python",
   "name": "python3"
  },
  "language_info": {
   "codemirror_mode": {
    "name": "ipython",
    "version": 3
   },
   "file_extension": ".py",
   "mimetype": "text/x-python",
   "name": "python",
   "nbconvert_exporter": "python",
   "pygments_lexer": "ipython3",
   "version": "3.9.7"
  }
 },
 "nbformat": 4,
 "nbformat_minor": 5
}
