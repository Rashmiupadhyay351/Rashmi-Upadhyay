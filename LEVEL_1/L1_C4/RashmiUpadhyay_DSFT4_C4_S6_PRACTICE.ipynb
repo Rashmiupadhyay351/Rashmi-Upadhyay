{
 "cells": [
  {
   "cell_type": "code",
   "execution_count": 63,
   "id": "1f09c260",
   "metadata": {},
   "outputs": [
    {
     "data": {
      "text/plain": [
       "'C:\\\\Users\\\\Manish'"
      ]
     },
     "execution_count": 63,
     "metadata": {},
     "output_type": "execute_result"
    }
   ],
   "source": [
    "pwd"
   ]
  },
  {
   "cell_type": "code",
   "execution_count": 68,
   "id": "a4cc3b70",
   "metadata": {},
   "outputs": [
    {
     "name": "stdout",
     "output_type": "stream",
     "text": [
      "    Employee_Code   Gender Department  Annual Salary  ($)  Age  \\\n",
      "0             1010    Male        IT                27000   22   \n",
      "1             1011  Female        IT                48000   27   \n",
      "2             1012    Male      Sales               75000   31   \n",
      "3             1013    Male      Sales               61000   29   \n",
      "4             1014  Female    Finance               45000   27   \n",
      "..             ...     ...        ...                 ...  ...   \n",
      "65            1074  Female         HR               82500   43   \n",
      "66            1075    Male      Sales               53500   28   \n",
      "67            1076  Female         HR               57000   29   \n",
      "68            1077    Male      Sales               66500   33   \n",
      "69            1078    Male    Finance               92000   45   \n",
      "\n",
      "    Work_Experience  \n",
      "0                 0  \n",
      "1                 4  \n",
      "2                 7  \n",
      "3                 6  \n",
      "4                 4  \n",
      "..              ...  \n",
      "65               13  \n",
      "66                5  \n",
      "67                6  \n",
      "68                7  \n",
      "69               19  \n",
      "\n",
      "[70 rows x 6 columns]\n"
     ]
    }
   ],
   "source": [
    "emp=pd.read_excel('C:\\\\Users\\\\Manish\\\\Employee.xlsx', sheet_name=0)\n",
    "print(emp)"
   ]
  },
  {
   "cell_type": "code",
   "execution_count": 65,
   "id": "2dc6ae7d",
   "metadata": {},
   "outputs": [],
   "source": [
    "\n",
    "import matplotlib.pyplot as plt\n",
    "import pandas as pd"
   ]
  },
  {
   "cell_type": "code",
   "execution_count": 69,
   "id": "bb2a8e68",
   "metadata": {},
   "outputs": [
    {
     "data": {
      "text/plain": [
       "0     27000\n",
       "1     48000\n",
       "2     75000\n",
       "3     61000\n",
       "4     45000\n",
       "      ...  \n",
       "65    82500\n",
       "66    53500\n",
       "67    57000\n",
       "68    66500\n",
       "69    92000\n",
       "Name: Annual Salary  ($), Length: 70, dtype: int64"
      ]
     },
     "execution_count": 69,
     "metadata": {},
     "output_type": "execute_result"
    }
   ],
   "source": [
    "emp['Annual Salary  ($)']"
   ]
  },
  {
   "cell_type": "code",
   "execution_count": 72,
   "id": "0bb4fb2a",
   "metadata": {},
   "outputs": [
    {
     "data": {
      "text/plain": [
       "Department\n",
       "Finance     790000\n",
       "HR          987000\n",
       "IT         1282900\n",
       "Sales      1089000\n",
       "Name: Annual Salary  ($), dtype: int64"
      ]
     },
     "execution_count": 72,
     "metadata": {},
     "output_type": "execute_result"
    }
   ],
   "source": [
    "#TASK - 1\n",
    "emp.groupby(by=['Department'])['Annual Salary  ($)'].sum()"
   ]
  },
  {
   "cell_type": "code",
   "execution_count": 73,
   "id": "2a8d46f8",
   "metadata": {},
   "outputs": [
    {
     "data": {
      "image/png": "[encoded data removed]",
      "text/plain": [
       "<Figure size 432x288 with 1 Axes>"
      ]
     },
     "metadata": {
      "needs_background": "light"
     },
     "output_type": "display_data"
    }
   ],
   "source": [
    "plt.bar(emp['Department'],emp['Annual Salary  ($)'])\n",
    "plt.title('Bar chart')\n",
    "plt.show()"
   ]
  },
  {
   "cell_type": "code",
   "execution_count": 96,
   "id": "f9a24cc2",
   "metadata": {},
   "outputs": [
    {
     "name": "stdout",
     "output_type": "stream",
     "text": [
      "Index(['Finance', 'HR', 'IT ', 'Sales'], dtype='object', name='Department')\n",
      "[[ 2 11]\n",
      " [11  4]\n",
      " [10 12]\n",
      " [ 4 16]]\n"
     ]
    },
    {
     "data": {
      "text/html": [
       "<div>\n",
       "<style scoped>\n",
       "    .dataframe tbody tr th:only-of-type {\n",
       "        vertical-align: middle;\n",
       "    }\n",
       "\n",
       "    .dataframe tbody tr th {\n",
       "        vertical-align: top;\n",
       "    }\n",
       "\n",
       "    .dataframe thead th {\n",
       "        text-align: right;\n",
       "    }\n",
       "</style>\n",
       "<table border=\"1\" class=\"dataframe\">\n",
       "  <thead>\n",
       "    <tr style=\"text-align: right;\">\n",
       "      <th>Gender</th>\n",
       "      <th>Female</th>\n",
       "      <th>Male</th>\n",
       "    </tr>\n",
       "    <tr>\n",
       "      <th>Department</th>\n",
       "      <th></th>\n",
       "      <th></th>\n",
       "    </tr>\n",
       "  </thead>\n",
       "  <tbody>\n",
       "    <tr>\n",
       "      <th>Finance</th>\n",
       "      <td>2</td>\n",
       "      <td>11</td>\n",
       "    </tr>\n",
       "    <tr>\n",
       "      <th>HR</th>\n",
       "      <td>11</td>\n",
       "      <td>4</td>\n",
       "    </tr>\n",
       "    <tr>\n",
       "      <th>IT</th>\n",
       "      <td>10</td>\n",
       "      <td>12</td>\n",
       "    </tr>\n",
       "    <tr>\n",
       "      <th>Sales</th>\n",
       "      <td>4</td>\n",
       "      <td>16</td>\n",
       "    </tr>\n",
       "  </tbody>\n",
       "</table>\n",
       "</div>"
      ],
      "text/plain": [
       "Gender      Female  Male\n",
       "Department              \n",
       "Finance          2    11\n",
       "HR              11     4\n",
       "IT              10    12\n",
       "Sales            4    16"
      ]
     },
     "execution_count": 96,
     "metadata": {},
     "output_type": "execute_result"
    }
   ],
   "source": [
    "#TASK 2\n",
    "\n",
    "c=pd.crosstab(emp.Department,emp.Gender,rownames=['Department'],colnames=['Gender'])\n",
    "\n",
    "print(c.index)\n",
    "print(c.values)\n",
    "c"
   ]
  },
  {
   "cell_type": "code",
   "execution_count": 99,
   "id": "bd42f5e3",
   "metadata": {
    "scrolled": true
   },
   "outputs": [
    {
     "name": "stdout",
     "output_type": "stream",
     "text": [
      "Department  Gender\n",
      "Finance     Female     2\n",
      "            Male      11\n",
      "HR          Female    11\n",
      "            Male       4\n",
      "IT          Female    10\n",
      "            Male      12\n",
      "Sales       Female     4\n",
      "            Male      16\n",
      "Name: Gender, dtype: int64\n",
      "MultiIndex([('Finance', 'Female'),\n",
      "            ('Finance',   'Male'),\n",
      "            (     'HR', 'Female'),\n",
      "            (     'HR',   'Male'),\n",
      "            (    'IT ', 'Female'),\n",
      "            (    'IT ',   'Male'),\n",
      "            (  'Sales', 'Female'),\n",
      "            (  'Sales',   'Male')],\n",
      "           names=['Department', 'Gender'])\n",
      "[ 2 11 11  4 10 12  4 16]\n"
     ]
    }
   ],
   "source": [
    "c1=emp.groupby(['Department','Gender'])['Gender'].count()\n",
    "print(c1)\n",
    "print(c1.index)\n",
    "print(c1.values)"
   ]
  },
  {
   "cell_type": "code",
   "execution_count": 106,
   "id": "05f46d31",
   "metadata": {
    "scrolled": true
   },
   "outputs": [],
   "source": [
    "c2=pd.DataFrame({'Department': ['Finance','HR', 'IT', 'Sales'], 'Female':[2,11,10,4],'Male':[11,4,12,16]})\n",
    "              "
   ]
  },
  {
   "cell_type": "code",
   "execution_count": 107,
   "id": "0dd88456",
   "metadata": {},
   "outputs": [
    {
     "data": {
      "image/png": "[encoded data removed]",
      "text/plain": [
       "<Figure size 432x288 with 1 Axes>"
      ]
     },
     "metadata": {
      "needs_background": "light"
     },
     "output_type": "display_data"
    }
   ],
   "source": [
    "c2.plot(x='Department', kind='bar')\n",
    "plt.show()"
   ]
  },
  {
   "cell_type": "code",
   "execution_count": 84,
   "id": "3e88238e",
   "metadata": {},
   "outputs": [
    {
     "data": {
      "text/plain": [
       "28100.0"
      ]
     },
     "execution_count": 84,
     "metadata": {},
     "output_type": "execute_result"
    }
   ],
   "source": [
    "#TASK-3\n",
    "\n",
    "df=emp[(emp.Department=='IT ')&(emp.Work_Experience<=0)]['Annual Salary  ($)']\n",
    "df\n",
    "df.mean()"
   ]
  },
  {
   "cell_type": "code",
   "execution_count": 112,
   "id": "746e13c6",
   "metadata": {},
   "outputs": [
    {
     "data": {
      "text/plain": [
       "Text(0.5, 1.0, 'Spread of IT fresher salary')"
      ]
     },
     "execution_count": 112,
     "metadata": {},
     "output_type": "execute_result"
    },
    {
     "data": {
      "image/png": "[encoded data removed]",
      "text/plain": [
       "<Figure size 432x288 with 1 Axes>"
      ]
     },
     "metadata": {
      "needs_background": "light"
     },
     "output_type": "display_data"
    }
   ],
   "source": [
    "df.plot.box()\n",
    "plt.title(\"Spread of IT fresher salary\")"
   ]
  },
  {
   "cell_type": "code",
   "execution_count": 83,
   "id": "9c526dad",
   "metadata": {},
   "outputs": [
    {
     "data": {
      "text/plain": [
       "Department\n",
       "Finance     790000\n",
       "HR          987000\n",
       "IT         1282900\n",
       "Sales      1089000\n",
       "Name: Annual Salary  ($), dtype: int64"
      ]
     },
     "execution_count": 83,
     "metadata": {},
     "output_type": "execute_result"
    }
   ],
   "source": [
    "#TASK - 4\n",
    "\n",
    "df=emp.groupby(by=['Department'])['Annual Salary  ($)'].sum()\n",
    "df"
   ]
  },
  {
   "cell_type": "code",
   "execution_count": 86,
   "id": "833f935f",
   "metadata": {},
   "outputs": [
    {
     "data": {
      "text/plain": [
       "(array([12., 26., 13.,  7.,  4.,  4.,  4.]),\n",
       " array([22., 26., 30., 34., 38., 42., 46., 50.]),\n",
       " <BarContainer object of 7 artists>)"
      ]
     },
     "execution_count": 86,
     "metadata": {},
     "output_type": "execute_result"
    },
    {
     "data": {
      "image/png": "[encoded data removed]",
      "text/plain": [
       "<Figure size 432x288 with 1 Axes>"
      ]
     },
     "metadata": {
      "needs_background": "light"
     },
     "output_type": "display_data"
    }
   ],
   "source": [
    "#TASK - 5\n",
    "\n",
    "plt.hist(emp['Age'], bins=7)\n",
    "#plt.show()"
   ]
  },
  {
   "cell_type": "code",
   "execution_count": 88,
   "id": "e56047b9",
   "metadata": {},
   "outputs": [
    {
     "data": {
      "text/plain": [
       "Work_Experience\n",
       "0      28071.428571\n",
       "1      30125.000000\n",
       "2      35666.666667\n",
       "3      38000.000000\n",
       "4      47250.000000\n",
       "5      52642.857143\n",
       "6      59000.000000\n",
       "7      65000.000000\n",
       "8      69750.000000\n",
       "9      77833.333333\n",
       "10     80500.000000\n",
       "11     76000.000000\n",
       "12     83800.000000\n",
       "13     80833.333333\n",
       "15     85000.000000\n",
       "16     88000.000000\n",
       "17     90000.000000\n",
       "19     92000.000000\n",
       "20    140000.000000\n",
       "24    170000.000000\n",
       "Name: Annual Salary  ($), dtype: float64"
      ]
     },
     "execution_count": 88,
     "metadata": {},
     "output_type": "execute_result"
    }
   ],
   "source": [
    "#TASK - 6\n",
    "\n",
    "b = emp.groupby(by='Work_Experience')['Annual Salary  ($)'].mean()\n",
    "b"
   ]
  },
  {
   "cell_type": "code",
   "execution_count": 90,
   "id": "a00efe22",
   "metadata": {},
   "outputs": [
    {
     "data": {
      "text/plain": [
       "Text(0.5, 1.0, 'salary increases with increase in work experience')"
      ]
     },
     "execution_count": 90,
     "metadata": {},
     "output_type": "execute_result"
    },
    {
     "data": {
      "image/png": "[encoded data removed]",
      "text/plain": [
       "<Figure size 432x288 with 1 Axes>"
      ]
     },
     "metadata": {
      "needs_background": "light"
     },
     "output_type": "display_data"
    }
   ],
   "source": [
    "plt.plot(b.index, b.values)\n",
    "plt.title(\"salary increases with increase in work experience\")"
   ]
  },
  {
   "cell_type": "code",
   "execution_count": 108,
   "id": "b380030e",
   "metadata": {},
   "outputs": [
    {
     "data": {
      "image/png": "[encoded data removed]",
      "text/plain": [
       "<Figure size 432x288 with 1 Axes>"
      ]
     },
     "metadata": {
      "needs_background": "light"
     },
     "output_type": "display_data"
    }
   ],
   "source": [
    "#TASK - 7\n",
    "\n",
    "emp.boxplot(column=['Annual Salary  ($)'],by='Department')\n",
    "plt.show()"
   ]
  },
  {
   "cell_type": "code",
   "execution_count": 110,
   "id": "3e682c32",
   "metadata": {},
   "outputs": [
    {
     "data": {
      "image/png": "[encoded data removed]",
      "text/plain": [
       "<Figure size 432x288 with 1 Axes>"
      ]
     },
     "metadata": {
      "needs_background": "light"
     },
     "output_type": "display_data"
    }
   ],
   "source": [
    "fin=emp[(emp.Department=='Finance')]\n",
    "fin.boxplot(['Annual Salary  ($)'])\n",
    "plt.show()"
   ]
  },
  {
   "cell_type": "code",
   "execution_count": null,
   "id": "4c80b3ed",
   "metadata": {},
   "outputs": [],
   "source": []
  }
 ],
 "metadata": {
  "kernelspec": {
   "display_name": "Python 3 (ipykernel)",
   "language": "python",
   "name": "python3"
  },
  "language_info": {
   "codemirror_mode": {
    "name": "ipython",
    "version": 3
   },
   "file_extension": ".py",
   "mimetype": "text/x-python",
   "name": "python",
   "nbconvert_exporter": "python",
   "pygments_lexer": "ipython3",
   "version": "3.9.7"
  }
 },
 "nbformat": 4,
 "nbformat_minor": 5
}
