{
 "cells": [
  {
   "cell_type": "code",
   "execution_count": 1,
   "id": "98ab1911",
   "metadata": {},
   "outputs": [],
   "source": [
    "import numpy as np\n",
    "import pandas as pd \n",
    "from sklearn.linear_model import LinearRegression \n",
    "import matplotlib.pyplot as plt\n",
    "from sklearn.metrics import mean_squared_error\n",
    "from sklearn.metrics import mean_absolute_error\n",
    "from sklearn import metrics\n",
    "from sklearn.datasets import make_regression\n"
   ]
  },
  {
   "cell_type": "code",
   "execution_count": 4,
   "id": "561a93cf",
   "metadata": {
    "scrolled": true
   },
   "outputs": [
    {
     "data": {
      "text/html": [
       "<div>\n",
       "<style scoped>\n",
       "    .dataframe tbody tr th:only-of-type {\n",
       "        vertical-align: middle;\n",
       "    }\n",
       "\n",
       "    .dataframe tbody tr th {\n",
       "        vertical-align: top;\n",
       "    }\n",
       "\n",
       "    .dataframe thead th {\n",
       "        text-align: right;\n",
       "    }\n",
       "</style>\n",
       "<table border=\"1\" class=\"dataframe\">\n",
       "  <thead>\n",
       "    <tr style=\"text-align: right;\">\n",
       "      <th></th>\n",
       "      <th>0</th>\n",
       "      <th>1</th>\n",
       "      <th>2</th>\n",
       "      <th>3</th>\n",
       "      <th>4</th>\n",
       "      <th>5</th>\n",
       "      <th>6</th>\n",
       "      <th>7</th>\n",
       "      <th>8</th>\n",
       "      <th>9</th>\n",
       "      <th>...</th>\n",
       "      <th>118</th>\n",
       "      <th>119</th>\n",
       "      <th>120</th>\n",
       "      <th>121</th>\n",
       "      <th>122</th>\n",
       "      <th>123</th>\n",
       "      <th>124</th>\n",
       "      <th>125</th>\n",
       "      <th>126</th>\n",
       "      <th>127</th>\n",
       "    </tr>\n",
       "  </thead>\n",
       "  <tbody>\n",
       "    <tr>\n",
       "      <th>0</th>\n",
       "      <td>8</td>\n",
       "      <td>?</td>\n",
       "      <td>?</td>\n",
       "      <td>Lakewoodcity</td>\n",
       "      <td>1</td>\n",
       "      <td>0.19</td>\n",
       "      <td>0.33</td>\n",
       "      <td>0.02</td>\n",
       "      <td>0.90</td>\n",
       "      <td>0.12</td>\n",
       "      <td>...</td>\n",
       "      <td>0.12</td>\n",
       "      <td>0.26</td>\n",
       "      <td>0.20</td>\n",
       "      <td>0.06</td>\n",
       "      <td>0.04</td>\n",
       "      <td>0.9</td>\n",
       "      <td>0.5</td>\n",
       "      <td>0.32</td>\n",
       "      <td>0.14</td>\n",
       "      <td>0.20</td>\n",
       "    </tr>\n",
       "    <tr>\n",
       "      <th>1</th>\n",
       "      <td>53</td>\n",
       "      <td>?</td>\n",
       "      <td>?</td>\n",
       "      <td>Tukwilacity</td>\n",
       "      <td>1</td>\n",
       "      <td>0.00</td>\n",
       "      <td>0.16</td>\n",
       "      <td>0.12</td>\n",
       "      <td>0.74</td>\n",
       "      <td>0.45</td>\n",
       "      <td>...</td>\n",
       "      <td>0.02</td>\n",
       "      <td>0.12</td>\n",
       "      <td>0.45</td>\n",
       "      <td>?</td>\n",
       "      <td>?</td>\n",
       "      <td>?</td>\n",
       "      <td>?</td>\n",
       "      <td>0.00</td>\n",
       "      <td>?</td>\n",
       "      <td>0.67</td>\n",
       "    </tr>\n",
       "    <tr>\n",
       "      <th>2</th>\n",
       "      <td>24</td>\n",
       "      <td>?</td>\n",
       "      <td>?</td>\n",
       "      <td>Aberdeentown</td>\n",
       "      <td>1</td>\n",
       "      <td>0.00</td>\n",
       "      <td>0.42</td>\n",
       "      <td>0.49</td>\n",
       "      <td>0.56</td>\n",
       "      <td>0.17</td>\n",
       "      <td>...</td>\n",
       "      <td>0.01</td>\n",
       "      <td>0.21</td>\n",
       "      <td>0.02</td>\n",
       "      <td>?</td>\n",
       "      <td>?</td>\n",
       "      <td>?</td>\n",
       "      <td>?</td>\n",
       "      <td>0.00</td>\n",
       "      <td>?</td>\n",
       "      <td>0.43</td>\n",
       "    </tr>\n",
       "    <tr>\n",
       "      <th>3</th>\n",
       "      <td>34</td>\n",
       "      <td>5</td>\n",
       "      <td>81440</td>\n",
       "      <td>Willingborotownship</td>\n",
       "      <td>1</td>\n",
       "      <td>0.04</td>\n",
       "      <td>0.77</td>\n",
       "      <td>1.00</td>\n",
       "      <td>0.08</td>\n",
       "      <td>0.12</td>\n",
       "      <td>...</td>\n",
       "      <td>0.02</td>\n",
       "      <td>0.39</td>\n",
       "      <td>0.28</td>\n",
       "      <td>?</td>\n",
       "      <td>?</td>\n",
       "      <td>?</td>\n",
       "      <td>?</td>\n",
       "      <td>0.00</td>\n",
       "      <td>?</td>\n",
       "      <td>0.12</td>\n",
       "    </tr>\n",
       "    <tr>\n",
       "      <th>4</th>\n",
       "      <td>42</td>\n",
       "      <td>95</td>\n",
       "      <td>6096</td>\n",
       "      <td>Bethlehemtownship</td>\n",
       "      <td>1</td>\n",
       "      <td>0.01</td>\n",
       "      <td>0.55</td>\n",
       "      <td>0.02</td>\n",
       "      <td>0.95</td>\n",
       "      <td>0.09</td>\n",
       "      <td>...</td>\n",
       "      <td>0.04</td>\n",
       "      <td>0.09</td>\n",
       "      <td>0.02</td>\n",
       "      <td>?</td>\n",
       "      <td>?</td>\n",
       "      <td>?</td>\n",
       "      <td>?</td>\n",
       "      <td>0.00</td>\n",
       "      <td>?</td>\n",
       "      <td>0.03</td>\n",
       "    </tr>\n",
       "    <tr>\n",
       "      <th>...</th>\n",
       "      <td>...</td>\n",
       "      <td>...</td>\n",
       "      <td>...</td>\n",
       "      <td>...</td>\n",
       "      <td>...</td>\n",
       "      <td>...</td>\n",
       "      <td>...</td>\n",
       "      <td>...</td>\n",
       "      <td>...</td>\n",
       "      <td>...</td>\n",
       "      <td>...</td>\n",
       "      <td>...</td>\n",
       "      <td>...</td>\n",
       "      <td>...</td>\n",
       "      <td>...</td>\n",
       "      <td>...</td>\n",
       "      <td>...</td>\n",
       "      <td>...</td>\n",
       "      <td>...</td>\n",
       "      <td>...</td>\n",
       "      <td>...</td>\n",
       "    </tr>\n",
       "    <tr>\n",
       "      <th>1989</th>\n",
       "      <td>12</td>\n",
       "      <td>?</td>\n",
       "      <td>?</td>\n",
       "      <td>TempleTerracecity</td>\n",
       "      <td>10</td>\n",
       "      <td>0.01</td>\n",
       "      <td>0.40</td>\n",
       "      <td>0.10</td>\n",
       "      <td>0.87</td>\n",
       "      <td>0.12</td>\n",
       "      <td>...</td>\n",
       "      <td>0.01</td>\n",
       "      <td>0.28</td>\n",
       "      <td>0.05</td>\n",
       "      <td>?</td>\n",
       "      <td>?</td>\n",
       "      <td>?</td>\n",
       "      <td>?</td>\n",
       "      <td>0.00</td>\n",
       "      <td>?</td>\n",
       "      <td>0.09</td>\n",
       "    </tr>\n",
       "    <tr>\n",
       "      <th>1990</th>\n",
       "      <td>6</td>\n",
       "      <td>?</td>\n",
       "      <td>?</td>\n",
       "      <td>Seasidecity</td>\n",
       "      <td>10</td>\n",
       "      <td>0.05</td>\n",
       "      <td>0.96</td>\n",
       "      <td>0.46</td>\n",
       "      <td>0.28</td>\n",
       "      <td>0.83</td>\n",
       "      <td>...</td>\n",
       "      <td>0.02</td>\n",
       "      <td>0.37</td>\n",
       "      <td>0.20</td>\n",
       "      <td>?</td>\n",
       "      <td>?</td>\n",
       "      <td>?</td>\n",
       "      <td>?</td>\n",
       "      <td>0.00</td>\n",
       "      <td>?</td>\n",
       "      <td>0.45</td>\n",
       "    </tr>\n",
       "    <tr>\n",
       "      <th>1991</th>\n",
       "      <td>9</td>\n",
       "      <td>9</td>\n",
       "      <td>80070</td>\n",
       "      <td>Waterburytown</td>\n",
       "      <td>10</td>\n",
       "      <td>0.16</td>\n",
       "      <td>0.37</td>\n",
       "      <td>0.25</td>\n",
       "      <td>0.69</td>\n",
       "      <td>0.04</td>\n",
       "      <td>...</td>\n",
       "      <td>0.08</td>\n",
       "      <td>0.32</td>\n",
       "      <td>0.18</td>\n",
       "      <td>0.08</td>\n",
       "      <td>0.06</td>\n",
       "      <td>0.78</td>\n",
       "      <td>0</td>\n",
       "      <td>0.91</td>\n",
       "      <td>0.28</td>\n",
       "      <td>0.23</td>\n",
       "    </tr>\n",
       "    <tr>\n",
       "      <th>1992</th>\n",
       "      <td>25</td>\n",
       "      <td>17</td>\n",
       "      <td>72600</td>\n",
       "      <td>Walthamcity</td>\n",
       "      <td>10</td>\n",
       "      <td>0.08</td>\n",
       "      <td>0.51</td>\n",
       "      <td>0.06</td>\n",
       "      <td>0.87</td>\n",
       "      <td>0.22</td>\n",
       "      <td>...</td>\n",
       "      <td>0.03</td>\n",
       "      <td>0.38</td>\n",
       "      <td>0.33</td>\n",
       "      <td>0.02</td>\n",
       "      <td>0.02</td>\n",
       "      <td>0.79</td>\n",
       "      <td>0</td>\n",
       "      <td>0.22</td>\n",
       "      <td>0.18</td>\n",
       "      <td>0.19</td>\n",
       "    </tr>\n",
       "    <tr>\n",
       "      <th>1993</th>\n",
       "      <td>6</td>\n",
       "      <td>?</td>\n",
       "      <td>?</td>\n",
       "      <td>Ontariocity</td>\n",
       "      <td>10</td>\n",
       "      <td>0.20</td>\n",
       "      <td>0.78</td>\n",
       "      <td>0.14</td>\n",
       "      <td>0.46</td>\n",
       "      <td>0.24</td>\n",
       "      <td>...</td>\n",
       "      <td>0.11</td>\n",
       "      <td>0.30</td>\n",
       "      <td>0.05</td>\n",
       "      <td>0.08</td>\n",
       "      <td>0.04</td>\n",
       "      <td>0.73</td>\n",
       "      <td>0.5</td>\n",
       "      <td>1.00</td>\n",
       "      <td>0.13</td>\n",
       "      <td>0.48</td>\n",
       "    </tr>\n",
       "  </tbody>\n",
       "</table>\n",
       "<p>1994 rows × 128 columns</p>\n",
       "</div>"
      ],
      "text/plain": [
       "      0   1      2                    3    4     5     6     7     8     9    \\\n",
       "0       8   ?      ?         Lakewoodcity    1  0.19  0.33  0.02  0.90  0.12   \n",
       "1      53   ?      ?          Tukwilacity    1  0.00  0.16  0.12  0.74  0.45   \n",
       "2      24   ?      ?         Aberdeentown    1  0.00  0.42  0.49  0.56  0.17   \n",
       "3      34   5  81440  Willingborotownship    1  0.04  0.77  1.00  0.08  0.12   \n",
       "4      42  95   6096    Bethlehemtownship    1  0.01  0.55  0.02  0.95  0.09   \n",
       "...   ...  ..    ...                  ...  ...   ...   ...   ...   ...   ...   \n",
       "1989   12   ?      ?    TempleTerracecity   10  0.01  0.40  0.10  0.87  0.12   \n",
       "1990    6   ?      ?          Seasidecity   10  0.05  0.96  0.46  0.28  0.83   \n",
       "1991    9   9  80070        Waterburytown   10  0.16  0.37  0.25  0.69  0.04   \n",
       "1992   25  17  72600          Walthamcity   10  0.08  0.51  0.06  0.87  0.22   \n",
       "1993    6   ?      ?          Ontariocity   10  0.20  0.78  0.14  0.46  0.24   \n",
       "\n",
       "      ...   118   119   120   121   122   123  124   125   126   127  \n",
       "0     ...  0.12  0.26  0.20  0.06  0.04   0.9  0.5  0.32  0.14  0.20  \n",
       "1     ...  0.02  0.12  0.45     ?     ?     ?    ?  0.00     ?  0.67  \n",
       "2     ...  0.01  0.21  0.02     ?     ?     ?    ?  0.00     ?  0.43  \n",
       "3     ...  0.02  0.39  0.28     ?     ?     ?    ?  0.00     ?  0.12  \n",
       "4     ...  0.04  0.09  0.02     ?     ?     ?    ?  0.00     ?  0.03  \n",
       "...   ...   ...   ...   ...   ...   ...   ...  ...   ...   ...   ...  \n",
       "1989  ...  0.01  0.28  0.05     ?     ?     ?    ?  0.00     ?  0.09  \n",
       "1990  ...  0.02  0.37  0.20     ?     ?     ?    ?  0.00     ?  0.45  \n",
       "1991  ...  0.08  0.32  0.18  0.08  0.06  0.78    0  0.91  0.28  0.23  \n",
       "1992  ...  0.03  0.38  0.33  0.02  0.02  0.79    0  0.22  0.18  0.19  \n",
       "1993  ...  0.11  0.30  0.05  0.08  0.04  0.73  0.5  1.00  0.13  0.48  \n",
       "\n",
       "[1994 rows x 128 columns]"
      ]
     },
     "execution_count": 4,
     "metadata": {},
     "output_type": "execute_result"
    }
   ],
   "source": [
    "# TASK - 1\n",
    "\n",
    "df=pd.read_csv(\"communities.data\",header=None)\n",
    "df"
   ]
  },
  {
   "cell_type": "code",
   "execution_count": 5,
   "id": "5c91d319",
   "metadata": {},
   "outputs": [
    {
     "name": "stdout",
     "output_type": "stream",
     "text": [
      "       5     6     7     8     9     10    11    12    13    14   ...   118  \\\n",
      "0     0.19  0.33  0.02  0.90  0.12  0.17  0.34  0.47  0.29  0.32  ...  0.12   \n",
      "1     0.00  0.16  0.12  0.74  0.45  0.07  0.26  0.59  0.35  0.27  ...  0.02   \n",
      "2     0.00  0.42  0.49  0.56  0.17  0.04  0.39  0.47  0.28  0.32  ...  0.01   \n",
      "3     0.04  0.77  1.00  0.08  0.12  0.10  0.51  0.50  0.34  0.21  ...  0.02   \n",
      "4     0.01  0.55  0.02  0.95  0.09  0.05  0.38  0.38  0.23  0.36  ...  0.04   \n",
      "...    ...   ...   ...   ...   ...   ...   ...   ...   ...   ...  ...   ...   \n",
      "1989  0.01  0.40  0.10  0.87  0.12  0.16  0.43  0.51  0.35  0.30  ...  0.01   \n",
      "1990  0.05  0.96  0.46  0.28  0.83  0.32  0.69  0.86  0.73  0.14  ...  0.02   \n",
      "1991  0.16  0.37  0.25  0.69  0.04  0.25  0.35  0.50  0.31  0.54  ...  0.08   \n",
      "1992  0.08  0.51  0.06  0.87  0.22  0.10  0.58  0.74  0.63  0.41  ...  0.03   \n",
      "1993  0.20  0.78  0.14  0.46  0.24  0.77  0.50  0.62  0.40  0.17  ...  0.11   \n",
      "\n",
      "       119   120   121   122   123  124   125   126   127  \n",
      "0     0.26  0.20  0.06  0.04   0.9  0.5  0.32  0.14  0.20  \n",
      "1     0.12  0.45     ?     ?     ?    ?  0.00     ?  0.67  \n",
      "2     0.21  0.02     ?     ?     ?    ?  0.00     ?  0.43  \n",
      "3     0.39  0.28     ?     ?     ?    ?  0.00     ?  0.12  \n",
      "4     0.09  0.02     ?     ?     ?    ?  0.00     ?  0.03  \n",
      "...    ...   ...   ...   ...   ...  ...   ...   ...   ...  \n",
      "1989  0.28  0.05     ?     ?     ?    ?  0.00     ?  0.09  \n",
      "1990  0.37  0.20     ?     ?     ?    ?  0.00     ?  0.45  \n",
      "1991  0.32  0.18  0.08  0.06  0.78    0  0.91  0.28  0.23  \n",
      "1992  0.38  0.33  0.02  0.02  0.79    0  0.22  0.18  0.19  \n",
      "1993  0.30  0.05  0.08  0.04  0.73  0.5  1.00  0.13  0.48  \n",
      "\n",
      "[1994 rows x 123 columns]\n"
     ]
    }
   ],
   "source": [
    "N=5\n",
    "for i in range (N):\n",
    "    df.pop(df.columns.values[0])\n",
    "print(df)"
   ]
  },
  {
   "cell_type": "code",
   "execution_count": 6,
   "id": "d9350f7a",
   "metadata": {
    "scrolled": true
   },
   "outputs": [
    {
     "data": {
      "text/html": [
       "<div>\n",
       "<style scoped>\n",
       "    .dataframe tbody tr th:only-of-type {\n",
       "        vertical-align: middle;\n",
       "    }\n",
       "\n",
       "    .dataframe tbody tr th {\n",
       "        vertical-align: top;\n",
       "    }\n",
       "\n",
       "    .dataframe thead th {\n",
       "        text-align: right;\n",
       "    }\n",
       "</style>\n",
       "<table border=\"1\" class=\"dataframe\">\n",
       "  <thead>\n",
       "    <tr style=\"text-align: right;\">\n",
       "      <th></th>\n",
       "      <th>5</th>\n",
       "      <th>6</th>\n",
       "      <th>7</th>\n",
       "      <th>8</th>\n",
       "      <th>9</th>\n",
       "      <th>10</th>\n",
       "      <th>11</th>\n",
       "      <th>12</th>\n",
       "      <th>13</th>\n",
       "      <th>14</th>\n",
       "      <th>...</th>\n",
       "      <th>118</th>\n",
       "      <th>119</th>\n",
       "      <th>120</th>\n",
       "      <th>121</th>\n",
       "      <th>122</th>\n",
       "      <th>123</th>\n",
       "      <th>124</th>\n",
       "      <th>125</th>\n",
       "      <th>126</th>\n",
       "      <th>127</th>\n",
       "    </tr>\n",
       "  </thead>\n",
       "  <tbody>\n",
       "    <tr>\n",
       "      <th>0</th>\n",
       "      <td>0.19</td>\n",
       "      <td>0.33</td>\n",
       "      <td>0.02</td>\n",
       "      <td>0.90</td>\n",
       "      <td>0.12</td>\n",
       "      <td>0.17</td>\n",
       "      <td>0.34</td>\n",
       "      <td>0.47</td>\n",
       "      <td>0.29</td>\n",
       "      <td>0.32</td>\n",
       "      <td>...</td>\n",
       "      <td>0.12</td>\n",
       "      <td>0.26</td>\n",
       "      <td>0.20</td>\n",
       "      <td>0.06</td>\n",
       "      <td>0.04</td>\n",
       "      <td>0.9</td>\n",
       "      <td>0.5</td>\n",
       "      <td>0.32</td>\n",
       "      <td>0.14</td>\n",
       "      <td>0.20</td>\n",
       "    </tr>\n",
       "    <tr>\n",
       "      <th>1</th>\n",
       "      <td>0.00</td>\n",
       "      <td>0.16</td>\n",
       "      <td>0.12</td>\n",
       "      <td>0.74</td>\n",
       "      <td>0.45</td>\n",
       "      <td>0.07</td>\n",
       "      <td>0.26</td>\n",
       "      <td>0.59</td>\n",
       "      <td>0.35</td>\n",
       "      <td>0.27</td>\n",
       "      <td>...</td>\n",
       "      <td>0.02</td>\n",
       "      <td>0.12</td>\n",
       "      <td>0.45</td>\n",
       "      <td>NaN</td>\n",
       "      <td>NaN</td>\n",
       "      <td>NaN</td>\n",
       "      <td>NaN</td>\n",
       "      <td>0.00</td>\n",
       "      <td>NaN</td>\n",
       "      <td>0.67</td>\n",
       "    </tr>\n",
       "    <tr>\n",
       "      <th>2</th>\n",
       "      <td>0.00</td>\n",
       "      <td>0.42</td>\n",
       "      <td>0.49</td>\n",
       "      <td>0.56</td>\n",
       "      <td>0.17</td>\n",
       "      <td>0.04</td>\n",
       "      <td>0.39</td>\n",
       "      <td>0.47</td>\n",
       "      <td>0.28</td>\n",
       "      <td>0.32</td>\n",
       "      <td>...</td>\n",
       "      <td>0.01</td>\n",
       "      <td>0.21</td>\n",
       "      <td>0.02</td>\n",
       "      <td>NaN</td>\n",
       "      <td>NaN</td>\n",
       "      <td>NaN</td>\n",
       "      <td>NaN</td>\n",
       "      <td>0.00</td>\n",
       "      <td>NaN</td>\n",
       "      <td>0.43</td>\n",
       "    </tr>\n",
       "    <tr>\n",
       "      <th>3</th>\n",
       "      <td>0.04</td>\n",
       "      <td>0.77</td>\n",
       "      <td>1.00</td>\n",
       "      <td>0.08</td>\n",
       "      <td>0.12</td>\n",
       "      <td>0.10</td>\n",
       "      <td>0.51</td>\n",
       "      <td>0.50</td>\n",
       "      <td>0.34</td>\n",
       "      <td>0.21</td>\n",
       "      <td>...</td>\n",
       "      <td>0.02</td>\n",
       "      <td>0.39</td>\n",
       "      <td>0.28</td>\n",
       "      <td>NaN</td>\n",
       "      <td>NaN</td>\n",
       "      <td>NaN</td>\n",
       "      <td>NaN</td>\n",
       "      <td>0.00</td>\n",
       "      <td>NaN</td>\n",
       "      <td>0.12</td>\n",
       "    </tr>\n",
       "    <tr>\n",
       "      <th>4</th>\n",
       "      <td>0.01</td>\n",
       "      <td>0.55</td>\n",
       "      <td>0.02</td>\n",
       "      <td>0.95</td>\n",
       "      <td>0.09</td>\n",
       "      <td>0.05</td>\n",
       "      <td>0.38</td>\n",
       "      <td>0.38</td>\n",
       "      <td>0.23</td>\n",
       "      <td>0.36</td>\n",
       "      <td>...</td>\n",
       "      <td>0.04</td>\n",
       "      <td>0.09</td>\n",
       "      <td>0.02</td>\n",
       "      <td>NaN</td>\n",
       "      <td>NaN</td>\n",
       "      <td>NaN</td>\n",
       "      <td>NaN</td>\n",
       "      <td>0.00</td>\n",
       "      <td>NaN</td>\n",
       "      <td>0.03</td>\n",
       "    </tr>\n",
       "    <tr>\n",
       "      <th>...</th>\n",
       "      <td>...</td>\n",
       "      <td>...</td>\n",
       "      <td>...</td>\n",
       "      <td>...</td>\n",
       "      <td>...</td>\n",
       "      <td>...</td>\n",
       "      <td>...</td>\n",
       "      <td>...</td>\n",
       "      <td>...</td>\n",
       "      <td>...</td>\n",
       "      <td>...</td>\n",
       "      <td>...</td>\n",
       "      <td>...</td>\n",
       "      <td>...</td>\n",
       "      <td>...</td>\n",
       "      <td>...</td>\n",
       "      <td>...</td>\n",
       "      <td>...</td>\n",
       "      <td>...</td>\n",
       "      <td>...</td>\n",
       "      <td>...</td>\n",
       "    </tr>\n",
       "    <tr>\n",
       "      <th>1989</th>\n",
       "      <td>0.01</td>\n",
       "      <td>0.40</td>\n",
       "      <td>0.10</td>\n",
       "      <td>0.87</td>\n",
       "      <td>0.12</td>\n",
       "      <td>0.16</td>\n",
       "      <td>0.43</td>\n",
       "      <td>0.51</td>\n",
       "      <td>0.35</td>\n",
       "      <td>0.30</td>\n",
       "      <td>...</td>\n",
       "      <td>0.01</td>\n",
       "      <td>0.28</td>\n",
       "      <td>0.05</td>\n",
       "      <td>NaN</td>\n",
       "      <td>NaN</td>\n",
       "      <td>NaN</td>\n",
       "      <td>NaN</td>\n",
       "      <td>0.00</td>\n",
       "      <td>NaN</td>\n",
       "      <td>0.09</td>\n",
       "    </tr>\n",
       "    <tr>\n",
       "      <th>1990</th>\n",
       "      <td>0.05</td>\n",
       "      <td>0.96</td>\n",
       "      <td>0.46</td>\n",
       "      <td>0.28</td>\n",
       "      <td>0.83</td>\n",
       "      <td>0.32</td>\n",
       "      <td>0.69</td>\n",
       "      <td>0.86</td>\n",
       "      <td>0.73</td>\n",
       "      <td>0.14</td>\n",
       "      <td>...</td>\n",
       "      <td>0.02</td>\n",
       "      <td>0.37</td>\n",
       "      <td>0.20</td>\n",
       "      <td>NaN</td>\n",
       "      <td>NaN</td>\n",
       "      <td>NaN</td>\n",
       "      <td>NaN</td>\n",
       "      <td>0.00</td>\n",
       "      <td>NaN</td>\n",
       "      <td>0.45</td>\n",
       "    </tr>\n",
       "    <tr>\n",
       "      <th>1991</th>\n",
       "      <td>0.16</td>\n",
       "      <td>0.37</td>\n",
       "      <td>0.25</td>\n",
       "      <td>0.69</td>\n",
       "      <td>0.04</td>\n",
       "      <td>0.25</td>\n",
       "      <td>0.35</td>\n",
       "      <td>0.50</td>\n",
       "      <td>0.31</td>\n",
       "      <td>0.54</td>\n",
       "      <td>...</td>\n",
       "      <td>0.08</td>\n",
       "      <td>0.32</td>\n",
       "      <td>0.18</td>\n",
       "      <td>0.08</td>\n",
       "      <td>0.06</td>\n",
       "      <td>0.78</td>\n",
       "      <td>0</td>\n",
       "      <td>0.91</td>\n",
       "      <td>0.28</td>\n",
       "      <td>0.23</td>\n",
       "    </tr>\n",
       "    <tr>\n",
       "      <th>1992</th>\n",
       "      <td>0.08</td>\n",
       "      <td>0.51</td>\n",
       "      <td>0.06</td>\n",
       "      <td>0.87</td>\n",
       "      <td>0.22</td>\n",
       "      <td>0.10</td>\n",
       "      <td>0.58</td>\n",
       "      <td>0.74</td>\n",
       "      <td>0.63</td>\n",
       "      <td>0.41</td>\n",
       "      <td>...</td>\n",
       "      <td>0.03</td>\n",
       "      <td>0.38</td>\n",
       "      <td>0.33</td>\n",
       "      <td>0.02</td>\n",
       "      <td>0.02</td>\n",
       "      <td>0.79</td>\n",
       "      <td>0</td>\n",
       "      <td>0.22</td>\n",
       "      <td>0.18</td>\n",
       "      <td>0.19</td>\n",
       "    </tr>\n",
       "    <tr>\n",
       "      <th>1993</th>\n",
       "      <td>0.20</td>\n",
       "      <td>0.78</td>\n",
       "      <td>0.14</td>\n",
       "      <td>0.46</td>\n",
       "      <td>0.24</td>\n",
       "      <td>0.77</td>\n",
       "      <td>0.50</td>\n",
       "      <td>0.62</td>\n",
       "      <td>0.40</td>\n",
       "      <td>0.17</td>\n",
       "      <td>...</td>\n",
       "      <td>0.11</td>\n",
       "      <td>0.30</td>\n",
       "      <td>0.05</td>\n",
       "      <td>0.08</td>\n",
       "      <td>0.04</td>\n",
       "      <td>0.73</td>\n",
       "      <td>0.5</td>\n",
       "      <td>1.00</td>\n",
       "      <td>0.13</td>\n",
       "      <td>0.48</td>\n",
       "    </tr>\n",
       "  </tbody>\n",
       "</table>\n",
       "<p>1994 rows × 123 columns</p>\n",
       "</div>"
      ],
      "text/plain": [
       "       5     6     7     8     9     10    11    12    13    14   ...   118  \\\n",
       "0     0.19  0.33  0.02  0.90  0.12  0.17  0.34  0.47  0.29  0.32  ...  0.12   \n",
       "1     0.00  0.16  0.12  0.74  0.45  0.07  0.26  0.59  0.35  0.27  ...  0.02   \n",
       "2     0.00  0.42  0.49  0.56  0.17  0.04  0.39  0.47  0.28  0.32  ...  0.01   \n",
       "3     0.04  0.77  1.00  0.08  0.12  0.10  0.51  0.50  0.34  0.21  ...  0.02   \n",
       "4     0.01  0.55  0.02  0.95  0.09  0.05  0.38  0.38  0.23  0.36  ...  0.04   \n",
       "...    ...   ...   ...   ...   ...   ...   ...   ...   ...   ...  ...   ...   \n",
       "1989  0.01  0.40  0.10  0.87  0.12  0.16  0.43  0.51  0.35  0.30  ...  0.01   \n",
       "1990  0.05  0.96  0.46  0.28  0.83  0.32  0.69  0.86  0.73  0.14  ...  0.02   \n",
       "1991  0.16  0.37  0.25  0.69  0.04  0.25  0.35  0.50  0.31  0.54  ...  0.08   \n",
       "1992  0.08  0.51  0.06  0.87  0.22  0.10  0.58  0.74  0.63  0.41  ...  0.03   \n",
       "1993  0.20  0.78  0.14  0.46  0.24  0.77  0.50  0.62  0.40  0.17  ...  0.11   \n",
       "\n",
       "       119   120   121   122   123  124   125   126   127  \n",
       "0     0.26  0.20  0.06  0.04   0.9  0.5  0.32  0.14  0.20  \n",
       "1     0.12  0.45   NaN   NaN   NaN  NaN  0.00   NaN  0.67  \n",
       "2     0.21  0.02   NaN   NaN   NaN  NaN  0.00   NaN  0.43  \n",
       "3     0.39  0.28   NaN   NaN   NaN  NaN  0.00   NaN  0.12  \n",
       "4     0.09  0.02   NaN   NaN   NaN  NaN  0.00   NaN  0.03  \n",
       "...    ...   ...   ...   ...   ...  ...   ...   ...   ...  \n",
       "1989  0.28  0.05   NaN   NaN   NaN  NaN  0.00   NaN  0.09  \n",
       "1990  0.37  0.20   NaN   NaN   NaN  NaN  0.00   NaN  0.45  \n",
       "1991  0.32  0.18  0.08  0.06  0.78    0  0.91  0.28  0.23  \n",
       "1992  0.38  0.33  0.02  0.02  0.79    0  0.22  0.18  0.19  \n",
       "1993  0.30  0.05  0.08  0.04  0.73  0.5  1.00  0.13  0.48  \n",
       "\n",
       "[1994 rows x 123 columns]"
      ]
     },
     "execution_count": 6,
     "metadata": {},
     "output_type": "execute_result"
    }
   ],
   "source": [
    "df=df.replace('?',np.nan)\n",
    "df"
   ]
  },
  {
   "cell_type": "code",
   "execution_count": 9,
   "id": "0a3b7db0",
   "metadata": {},
   "outputs": [
    {
     "name": "stdout",
     "output_type": "stream",
     "text": [
      "      5     6     7     8     9     10    11    12    13    14   ...   118  \\\n",
      "0    0.19  0.33  0.02  0.90  0.12  0.17  0.34  0.47  0.29  0.32  ...  0.12   \n",
      "1    0.15  0.31  0.40  0.63  0.14  0.06  0.58  0.72  0.65  0.47  ...  0.06   \n",
      "2    0.25  0.54  0.05  0.71  0.48  0.30  0.42  0.48  0.28  0.32  ...  0.09   \n",
      "3    1.00  0.42  0.47  0.59  0.12  0.05  0.41  0.53  0.34  0.33  ...  1.00   \n",
      "4    0.11  0.43  0.04  0.89  0.09  0.06  0.45  0.48  0.31  0.46  ...  0.16   \n",
      "..    ...   ...   ...   ...   ...   ...   ...   ...   ...   ...  ...   ...   \n",
      "314  1.00  0.29  0.21  0.29  1.00  0.26  0.24  0.47  0.28  0.46  ...  0.13   \n",
      "315  0.07  0.38  0.17  0.84  0.11  0.04  0.35  0.41  0.30  0.64  ...  0.09   \n",
      "316  0.16  0.37  0.25  0.69  0.04  0.25  0.35  0.50  0.31  0.54  ...  0.08   \n",
      "317  0.08  0.51  0.06  0.87  0.22  0.10  0.58  0.74  0.63  0.41  ...  0.03   \n",
      "318  0.20  0.78  0.14  0.46  0.24  0.77  0.50  0.62  0.40  0.17  ...  0.11   \n",
      "\n",
      "      119   120   121   122   123  124   125   126   127  \n",
      "0    0.26  0.20  0.06  0.04  0.90  0.5  0.32  0.14  0.20  \n",
      "1    0.39  0.84  0.06  0.06  0.91  0.5  0.88  0.26  0.49  \n",
      "2    0.46  0.05  0.09  0.05  0.88  0.5  0.76  0.13  0.34  \n",
      "3    0.07  0.15  1.00  0.35  0.73  0.0  0.31  0.21  0.69  \n",
      "4    0.12  0.07  0.04  0.01  0.81  1.0  0.56  0.09  0.63  \n",
      "..    ...   ...   ...   ...   ...  ...   ...   ...   ...  \n",
      "314  1.00  1.00  0.53  0.62  0.64  0.5  0.64  0.35  0.75  \n",
      "315  0.13  0.17  0.02  0.01  0.72  0.0  0.62  0.15  0.07  \n",
      "316  0.32  0.18  0.08  0.06  0.78  0.0  0.91  0.28  0.23  \n",
      "317  0.38  0.33  0.02  0.02  0.79  0.0  0.22  0.18  0.19  \n",
      "318  0.30  0.05  0.08  0.04  0.73  0.5  1.00  0.13  0.48  \n",
      "\n",
      "[319 rows x 123 columns]\n"
     ]
    }
   ],
   "source": [
    "df1 = df.apply (pd.to_numeric, errors='coerce')\n",
    "df1 = df.dropna()\n",
    "df1 = df.reset_index(drop=True)\n",
    "\n",
    "print (df1)"
   ]
  },
  {
   "cell_type": "code",
   "execution_count": 10,
   "id": "74ec8131",
   "metadata": {},
   "outputs": [],
   "source": [
    "# TASK - 2\n",
    "from sklearn.model_selection import train_test_split\n",
    "independent_data = df1.iloc[:, :-1]\n",
    "dependent_data = df1.iloc[:, 1:]"
   ]
  },
  {
   "cell_type": "code",
   "execution_count": 11,
   "id": "1ace5687",
   "metadata": {},
   "outputs": [],
   "source": [
    "Independent_train, Independent_test, Dependent_train, Dependent_test = \\\n",
    "train_test_split ( independent_data, dependent_data, test_size = 0.33, random_state = 0)"
   ]
  },
  {
   "cell_type": "code",
   "execution_count": 12,
   "id": "830e8ff1",
   "metadata": {
    "scrolled": true
   },
   "outputs": [],
   "source": [
    "#print(\"actual values of text dependent: \", Dependent_test)"
   ]
  },
  {
   "cell_type": "code",
   "execution_count": 13,
   "id": "8ba6a873",
   "metadata": {},
   "outputs": [
    {
     "data": {
      "text/plain": [
       "LinearRegression()"
      ]
     },
     "execution_count": 13,
     "metadata": {},
     "output_type": "execute_result"
    }
   ],
   "source": [
    "Model = LinearRegression()\n",
    "Model.fit(Independent_train, Dependent_train)"
   ]
  },
  {
   "cell_type": "code",
   "execution_count": 14,
   "id": "b9a4ef82",
   "metadata": {},
   "outputs": [],
   "source": [
    "from sklearn.linear_model import Ridge\n",
    "myRidge = Ridge(alpha=1).fit(Independent_train, Dependent_train)        "
   ]
  },
  {
   "cell_type": "code",
   "execution_count": 15,
   "id": "376c0154",
   "metadata": {},
   "outputs": [
    {
     "data": {
      "text/plain": [
       "0.9787129672991384"
      ]
     },
     "execution_count": 15,
     "metadata": {},
     "output_type": "execute_result"
    }
   ],
   "source": [
    "myRidge.score(Independent_train, Dependent_train)"
   ]
  },
  {
   "cell_type": "code",
   "execution_count": 16,
   "id": "ff396a09",
   "metadata": {},
   "outputs": [],
   "source": [
    "prediction = myRidge.predict(Independent_test)\n"
   ]
  },
  {
   "cell_type": "code",
   "execution_count": 17,
   "id": "3987464e",
   "metadata": {},
   "outputs": [
    {
     "data": {
      "text/plain": [
       "0.0006852425392376203"
      ]
     },
     "execution_count": 17,
     "metadata": {},
     "output_type": "execute_result"
    }
   ],
   "source": [
    "# TASK - 3\n",
    "\n",
    "mean_squared_error(Dependent_train, myRidge.predict(Independent_train))"
   ]
  },
  {
   "cell_type": "code",
   "execution_count": 18,
   "id": "87d75bc2",
   "metadata": {},
   "outputs": [
    {
     "data": {
      "text/plain": [
       "0.017486775009614743"
      ]
     },
     "execution_count": 18,
     "metadata": {},
     "output_type": "execute_result"
    }
   ],
   "source": [
    "mean_absolute_error(Dependent_train, myRidge.predict(Independent_train))"
   ]
  },
  {
   "cell_type": "code",
   "execution_count": 19,
   "id": "9a4fe70b",
   "metadata": {},
   "outputs": [
    {
     "data": {
      "text/plain": [
       "0.037229050715653564"
      ]
     },
     "execution_count": 19,
     "metadata": {},
     "output_type": "execute_result"
    }
   ],
   "source": [
    "import math\n",
    "math.sqrt(mean_squared_error(Dependent_test,prediction))"
   ]
  },
  {
   "cell_type": "code",
   "execution_count": 20,
   "id": "e9127e89",
   "metadata": {},
   "outputs": [
    {
     "data": {
      "text/plain": [
       "array([[-1.30415115e-03,  1.77804763e-01,  1.00312641e-02, ...,\n",
       "        -3.52099496e-03,  3.93849690e-03,  4.41893447e-03],\n",
       "       [ 7.13435828e-03,  1.00312641e-02,  5.40486545e-01, ...,\n",
       "         8.62190931e-03, -6.03272873e-04, -2.24714092e-03],\n",
       "       [-5.36950860e-03,  5.61673453e-03, -1.94311229e-01, ...,\n",
       "        -2.36661228e-03, -5.76906812e-03,  2.46231481e-02],\n",
       "       ...,\n",
       "       [-6.50332758e-03,  3.93849690e-03, -6.03272873e-04, ...,\n",
       "        -5.31494491e-03,  9.02305389e-01,  9.44669755e-03],\n",
       "       [-1.81678461e-02,  4.41893447e-03, -2.24714092e-03, ...,\n",
       "         5.95306677e-03,  9.44669755e-03,  4.21328088e-01],\n",
       "       [-4.45102798e-02,  3.29862985e-02,  7.58500257e-02, ...,\n",
       "         5.42120987e-02, -3.48819717e-02,  1.31283480e-02]])"
      ]
     },
     "execution_count": 20,
     "metadata": {},
     "output_type": "execute_result"
    }
   ],
   "source": [
    "myRidge.coef_"
   ]
  },
  {
   "cell_type": "code",
   "execution_count": 21,
   "id": "d7e7b50a",
   "metadata": {},
   "outputs": [
    {
     "data": {
      "text/plain": [
       "array([ 7.77639387e-02,  2.13202497e-01,  3.76152193e-01,  2.17876649e-01,\n",
       "        7.64984977e-02,  2.97604341e-01,  4.99785101e-01,  2.03253410e-01,\n",
       "        4.60385540e-01,  3.94007647e-02,  8.01119940e-01,  9.70654634e-02,\n",
       "        3.54820038e-01,  1.89749998e-01,  2.58008730e-01,  4.24808764e-01,\n",
       "        3.82589715e-01,  4.93042145e-01,  6.24013580e-02,  1.56158568e-01,\n",
       "        2.18559070e-01,  1.13135416e-01,  3.33658108e-02, -2.76087612e-02,\n",
       "       -6.75518012e-02,  6.55464812e-03, -1.18190910e-01,  3.09082584e-01,\n",
       "        3.56745037e-02,  1.97333191e-01,  2.19586485e-01,  2.95329075e-01,\n",
       "        3.88256418e-01,  5.24426828e-02,  9.61737478e-02,  1.62228207e-01,\n",
       "        3.08191408e-01,  4.20880549e-01,  1.62715744e-01,  3.62774664e-01,\n",
       "        4.28331578e-01,  2.27609388e-01,  3.11154775e-01,  3.88981262e-01,\n",
       "        2.86492257e-01,  2.53776211e-01,  2.26228538e-01,  9.28273029e-02,\n",
       "        5.06497405e-02,  3.32625536e-01, -4.04055424e-02, -8.69337782e-02,\n",
       "       -3.13650653e-03,  1.18170776e-01,  1.60243161e-01,  9.19407121e-03,\n",
       "        7.93228711e-03,  1.62435775e-02, -3.16484390e-04,  5.86591959e-01,\n",
       "        1.69268434e-01, -1.68242320e-01, -1.98528940e-01,  1.80190820e-01,\n",
       "        2.16895230e-01,  2.40971653e-01,  2.15396033e-01,  7.32070358e-02,\n",
       "        5.09191197e-01,  9.19470223e-02,  2.14861561e-01,  1.60487707e-01,\n",
       "        2.17116682e-01, -1.52728440e-03,  1.71319997e-01,  3.83760544e-01,\n",
       "        2.85022041e-01, -5.95111952e-02, -4.42530171e-02,  4.29928711e-03,\n",
       "        3.20060572e-02, -1.85519521e-02,  2.39378551e-02, -5.94400427e-02,\n",
       "        7.95031437e-02,  8.35708435e-02,  2.40445601e-01,  2.28371695e-01,\n",
       "        4.25221443e-02, -1.31996353e-01,  1.01172436e-01,  2.58922394e-01,\n",
       "        2.57426669e-01,  1.84680193e-01, -1.27737161e-01,  2.20990129e-01,\n",
       "        1.60750867e-01,  7.51899730e-01,  1.92848019e-01, -3.57421607e-02,\n",
       "        6.52528574e-02, -8.98690862e-02,  1.60750867e-01,  9.81848807e-02,\n",
       "        3.94580194e-01, -9.09857614e-02,  1.38192008e-01,  2.44943514e-02,\n",
       "        1.24093981e-01,  1.77200882e-01, -9.27096188e-03,  6.75915776e-02,\n",
       "        1.83155210e-02,  1.44691212e-01,  9.51453990e-02, -1.49186790e-02,\n",
       "        1.59156556e-01,  2.20729303e-01,  2.84781017e-02,  9.11850079e-02,\n",
       "       -1.73149563e-02,  6.77354608e-01])"
      ]
     },
     "execution_count": 21,
     "metadata": {},
     "output_type": "execute_result"
    }
   ],
   "source": [
    "myRidge.intercept_"
   ]
  },
  {
   "cell_type": "code",
   "execution_count": 51,
   "id": "d8dbde7f",
   "metadata": {
    "scrolled": true
   },
   "outputs": [
    {
     "data": {
      "image/png": "[encoded data removed]",
      "text/plain": [
       "<Figure size 432x288 with 1 Axes>"
      ]
     },
     "metadata": {
      "needs_background": "light"
     },
     "output_type": "display_data"
    }
   ],
   "source": [
    "v=[]\n",
    "u =[]\n",
    "for i in range(0,21):\n",
    "    n=i-10\n",
    "    a=10**n\n",
    "    myRidge=Ridge(alpha=a).fit(Independent_train,Dependent_train)\n",
    "    prediction=myRidge.predict(Independent_test)\n",
    "    v.append(mean_squared_error(Dependent_test,prediction))\n",
    "    u.append(a)\n",
    "    \n",
    "plt.plot(u,v)\n",
    "plt.xscale(\"log\")\n",
    "plt.show()"
   ]
  },
  {
   "cell_type": "code",
   "execution_count": 54,
   "id": "e4a1f5b1",
   "metadata": {},
   "outputs": [],
   "source": [
    "# TASK- 4                                                               \n",
    "\n",
    "a_independent=df.iloc[:,:-1]\n",
    "a_dependent=df.iloc[:,-1:]\n",
    "a_independenttrain,a_independenttest,a_dependenttrain,a_dependenttest=\\\n",
    "train_test_split(a_independent,a_dependent,test_size=0.33,random_state=1)\n",
    "\n",
    "train_error=[]\n",
    "test_error=[]\n",
    "\n",
    "for i in range(-10,11,1):\n",
    "    a_model=Ridge(alpha=10**(i)).fit(a_independenttrain,a_dependenttrain)\n",
    "    ay_prediction=a_model.predict(a_independenttest)\n",
    "    ax_prediction=a_model.predict(a_independenttrain)\n",
    "    \n",
    "    test_error.append(mean_squared_error(a_dependenttest,ay_prediction))\n",
    "    train_error.append(mean_squared_error(a_dependenttrain,ax_prediction))\n",
    "    \n",
    "\n"
   ]
  },
  {
   "cell_type": "code",
   "execution_count": 55,
   "id": "e756be77",
   "metadata": {},
   "outputs": [],
   "source": [
    "alpha1=[]\n",
    "for i in range(-10,11,1):\n",
    "    alpha1.append(10**(i))"
   ]
  },
  {
   "cell_type": "code",
   "execution_count": 56,
   "id": "8ed28522",
   "metadata": {},
   "outputs": [],
   "source": [
    "i_alpha_optim = np.argmax(test_error)\n",
    "alpha_optim = alpha1[i_alpha_optim]"
   ]
  },
  {
   "cell_type": "code",
   "execution_count": 72,
   "id": "e6e014e7",
   "metadata": {},
   "outputs": [
    {
     "data": {
      "image/png": "[encoded data removed]",
      "text/plain": [
       "<Figure size 720x720 with 1 Axes>"
      ]
     },
     "metadata": {
      "needs_background": "light"
     },
     "output_type": "display_data"
    }
   ],
   "source": [
    "plt.figure(figsize=(10,10))   \n",
    "plt.subplot(2, 1, 1)\n",
    "plt.semilogx(alpha1, train_error, label=\"Train Error\")\n",
    "plt.semilogx(alpha1, test_error, label=\"Test Error\")\n",
    "plt.legend(loc=\"upper right\")\n",
    "plt.ylim([0, 0.1])\n",
    "ax.set_xlabel('lambda')\n",
    "ax.set_ylabel('error')\n",
    "plt.gca().invert_xaxis()"
   ]
  },
  {
   "cell_type": "code",
   "execution_count": 84,
   "id": "96a5770b",
   "metadata": {},
   "outputs": [
    {
     "name": "stdout",
     "output_type": "stream",
     "text": [
      "0.005440573484356086\n"
     ]
    }
   ],
   "source": [
    "# TASK - 5 \n",
    "from sklearn import linear_model\n",
    "lasso = Lasso(alpha=0.1).fit(Independent_train,Dependent_train)\n",
    "\n",
    "print(lasso.score(Independent_train,Dependent_train))"
   ]
  },
  {
   "cell_type": "code",
   "execution_count": 78,
   "id": "e9a385e5",
   "metadata": {},
   "outputs": [
    {
     "data": {
      "text/plain": [
       "array([[0.43647887, 0.3288773 , 0.58413146, ..., 0.5841784 , 0.19370892,\n",
       "        0.44187793],\n",
       "       [0.43647887, 0.32755023, 0.58413146, ..., 0.5841784 , 0.19370892,\n",
       "        0.44187793],\n",
       "       [0.43647887, 0.32894365, 0.58413146, ..., 0.5841784 , 0.19370892,\n",
       "        0.44187793],\n",
       "       ...,\n",
       "       [0.43647887, 0.32768294, 0.58413146, ..., 0.5841784 , 0.19370892,\n",
       "        0.44187793],\n",
       "       [0.43647887, 0.32834647, 0.58413146, ..., 0.5841784 , 0.19370892,\n",
       "        0.44187793],\n",
       "       [0.43647887, 0.33299122, 0.58413146, ..., 0.5841784 , 0.19370892,\n",
       "        0.44187793]])"
      ]
     },
     "execution_count": 78,
     "metadata": {},
     "output_type": "execute_result"
    }
   ],
   "source": [
    "prediction = lasso.predict(Independent_test)\n",
    "prediction"
   ]
  },
  {
   "cell_type": "code",
   "execution_count": 82,
   "id": "ea3bb382",
   "metadata": {},
   "outputs": [
    {
     "data": {
      "text/plain": [
       "0.035644539178979334"
      ]
     },
     "execution_count": 82,
     "metadata": {},
     "output_type": "execute_result"
    }
   ],
   "source": [
    "mean_squared_error(Dependent_test,prediction)"
   ]
  },
  {
   "cell_type": "code",
   "execution_count": 83,
   "id": "240d81c7",
   "metadata": {},
   "outputs": [
    {
     "data": {
      "text/plain": [
       "0.14196407290028476"
      ]
     },
     "execution_count": 83,
     "metadata": {},
     "output_type": "execute_result"
    }
   ],
   "source": [
    "mean_absolute_error(Dependent_test,prediction)"
   ]
  },
  {
   "cell_type": "code",
   "execution_count": 85,
   "id": "aa3c97e6",
   "metadata": {},
   "outputs": [
    {
     "data": {
      "text/plain": [
       "0.18879761433603798"
      ]
     },
     "execution_count": 85,
     "metadata": {},
     "output_type": "execute_result"
    }
   ],
   "source": [
    "np.sqrt(mean_squared_error(Dependent_test,prediction))"
   ]
  },
  {
   "cell_type": "code",
   "execution_count": 86,
   "id": "3f8a44d2",
   "metadata": {},
   "outputs": [
    {
     "data": {
      "text/plain": [
       "1.0"
      ]
     },
     "execution_count": 86,
     "metadata": {},
     "output_type": "execute_result"
    }
   ],
   "source": [
    "lasso.score(Independent_test,prediction)"
   ]
  },
  {
   "cell_type": "code",
   "execution_count": 88,
   "id": "4f134d80",
   "metadata": {},
   "outputs": [
    {
     "data": {
      "text/plain": [
       "array([[-0.        ,  0.        ,  0.        , ..., -0.        ,\n",
       "         0.        , -0.        ],\n",
       "       [ 0.        ,  0.        ,  0.00663535, ...,  0.        ,\n",
       "         0.        ,  0.        ],\n",
       "       [-0.        , -0.        , -0.        , ..., -0.        ,\n",
       "        -0.        , -0.        ],\n",
       "       ...,\n",
       "       [-0.        ,  0.        ,  0.        , ...,  0.        ,\n",
       "         0.        ,  0.        ],\n",
       "       [-0.        , -0.        ,  0.        , ...,  0.        ,\n",
       "         0.        ,  0.        ],\n",
       "       [ 0.        ,  0.        ,  0.        , ...,  0.        ,\n",
       "         0.        ,  0.        ]])"
      ]
     },
     "execution_count": 88,
     "metadata": {},
     "output_type": "execute_result"
    }
   ],
   "source": [
    "lasso.coef_"
   ]
  },
  {
   "cell_type": "code",
   "execution_count": 89,
   "id": "af3d0c50",
   "metadata": {},
   "outputs": [
    {
     "data": {
      "text/plain": [
       "array([0.43647887, 0.32748388, 0.58413146, 0.23173709, 0.24070423,\n",
       "       0.42516432, 0.53751174, 0.36915493, 0.40586854, 0.25366197,\n",
       "       0.99338028, 0.30699531, 0.53694836, 0.21723005, 0.43197183,\n",
       "       0.44737089, 0.4229108 , 0.44262911, 0.32920188, 0.33206573,\n",
       "       0.38539906, 0.25887324, 0.2013615 , 0.29098592, 0.27638498,\n",
       "       0.35183099, 0.23455399, 0.40122066, 0.35629108, 0.4299061 ,\n",
       "       0.35943662, 0.45802817, 0.47868545, 0.35300469, 0.45633803,\n",
       "       0.38460094, 0.42957746, 0.55948357, 0.54755869, 0.59197183,\n",
       "       0.59967136, 0.50901408, 0.4658216 , 0.46906103, 0.52657277,\n",
       "       0.44755869, 0.47920188, 0.48239437, 0.18079812, 0.44389671,\n",
       "       0.12676056, 0.39957746, 0.44530516, 0.48934272, 0.5215493 ,\n",
       "       0.32375587, 0.32661972, 0.33098592, 0.32793427, 0.66901408,\n",
       "       0.26586854, 0.34948357, 0.30126761, 0.43629108, 0.48544601,\n",
       "       0.41075117, 0.42732394, 0.29197183, 0.60539906, 0.16431925,\n",
       "       0.28619718, 0.67      , 0.41774648, 0.3658216 , 0.40713615,\n",
       "       0.4156338 , 0.32389671, 0.30873239, 0.2742723 , 0.28107981,\n",
       "       0.29544601, 0.34258216, 0.37239437, 0.43248826, 0.37737089,\n",
       "       0.55638498, 0.48788732, 0.43051643, 0.14868545, 0.112723  ,\n",
       "       0.34061033, 0.53873239, 0.4999061 , 0.63652582, 0.60262911,\n",
       "       0.0756338 , 0.2129108 , 0.91957746, 0.24089202, 0.10450704,\n",
       "       0.21201878, 0.34779343, 0.2129108 , 0.69079812, 0.72215962,\n",
       "       0.21230047, 0.1486385 , 0.13347418, 0.26521127, 0.07957746,\n",
       "       0.56338028, 0.30446009, 0.16685446, 0.36093897, 0.31042254,\n",
       "       0.16723005, 0.08389671, 0.69690141, 0.26782852, 0.5841784 ,\n",
       "       0.19370892, 0.44187793])"
      ]
     },
     "execution_count": 89,
     "metadata": {},
     "output_type": "execute_result"
    }
   ],
   "source": [
    "lasso.intercept_"
   ]
  },
  {
   "cell_type": "code",
   "execution_count": null,
   "id": "75b5314a",
   "metadata": {},
   "outputs": [],
   "source": []
  },
  {
   "cell_type": "code",
   "execution_count": null,
   "id": "909650e8",
   "metadata": {},
   "outputs": [],
   "source": []
  }
 ],
 "metadata": {
  "kernelspec": {
   "display_name": "Python 3 (ipykernel)",
   "language": "python",
   "name": "python3"
  },
  "language_info": {
   "codemirror_mode": {
    "name": "ipython",
    "version": 3
   },
   "file_extension": ".py",
   "mimetype": "text/x-python",
   "name": "python",
   "nbconvert_exporter": "python",
   "pygments_lexer": "ipython3",
   "version": "3.9.7"
  }
 },
 "nbformat": 4,
 "nbformat_minor": 5
}
