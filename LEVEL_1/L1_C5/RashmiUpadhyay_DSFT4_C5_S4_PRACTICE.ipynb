{
 "cells": [
  {
   "cell_type": "markdown",
   "id": "3a2f0f90",
   "metadata": {},
   "source": [
    "# TASK- 1 \n",
    "\n",
    "A) No of days lost due to extreme \n",
    "P(X<=10)\n",
    "=0.03+0.08+0.15+0.2+0.19\n",
    "=0.65\n",
    "\n",
    "B) If 8 and 12 are inclusive then probability\n",
    "=P(8<=X<=12)\n",
    "=P(X=8)+P(X=9)+P(X=10)+P(X=12)\n",
    "=0.15+0.2+0.19+0.16+0.10\n",
    "=0.80\n",
    "\n",
    "C)Probability that number of days wil not be lost\n",
    "=1-P(X>=6)\n",
    "=1-(0.03+0.08+0.15+0.2+0.19+0.16+0.1+0.07+0.02)\n",
    "=0.0\n"
   ]
  },
  {
   "cell_type": "code",
   "execution_count": 30,
   "id": "214b3165",
   "metadata": {},
   "outputs": [],
   "source": [
    "import pandas as pd\n",
    "import statistics as st\n",
    "import numpy as np\n",
    "from scipy.stats import norm\n",
    "import seaborn as sns\n",
    "import matplotlib.pyplot as plt\n",
    "from scipy import stats\n",
    "from scipy.stats import binom"
   ]
  },
  {
   "cell_type": "code",
   "execution_count": 31,
   "id": "ca61b270",
   "metadata": {},
   "outputs": [
    {
     "name": "stdout",
     "output_type": "stream",
     "text": [
      "    X  P(X)\n",
      "0   6  0.03\n",
      "1   7  0.08\n",
      "2   8  0.15\n",
      "3   9  0.20\n",
      "4  10  0.19\n",
      "5  11  0.16\n",
      "6  12  0.10\n",
      "7  13  0.07\n",
      "8  14  0.02\n"
     ]
    }
   ],
   "source": [
    "#D)\n",
    "import pandas as pd \n",
    "data={'X':[6,7,8,9,10,11,12,13,14],'P(X)':[0.03,0.08,0.15,0.20,0.19,0.16,0.10,0.07,0.02]}\n",
    "df_data=pd.DataFrame(data)\n",
    "print(df_data)"
   ]
  },
  {
   "cell_type": "code",
   "execution_count": 32,
   "id": "5b9b5b6c",
   "metadata": {},
   "outputs": [
    {
     "name": "stdout",
     "output_type": "stream",
     "text": [
      "Mean:  10.0\n",
      "Standard Deviation:  2.7386127875258306\n"
     ]
    }
   ],
   "source": [
    "import numpy as np\n",
    "mn=df_data['X'].mean()\n",
    "print(\"Mean: \",mn)\n",
    "sd=df_data['X']\n",
    "b=sd.std()\n",
    "print(\"Standard Deviation: \",b)"
   ]
  },
  {
   "cell_type": "code",
   "execution_count": 33,
   "id": "894ad4fc",
   "metadata": {},
   "outputs": [
    {
     "data": {
      "image/png": "[encoded data removed]",
      "text/plain": [
       "<Figure size 432x288 with 1 Axes>"
      ]
     },
     "metadata": {
      "needs_background": "light"
     },
     "output_type": "display_data"
    }
   ],
   "source": [
    "#Distribution\n",
    "#(E)\n",
    "X=[6,7,8,9,10,11,12,13,14]\n",
    "PX=[0.03,0.08,0.15,0.20,0.19,0.16,0.10,0.07,0.02]\n",
    "plt.bar(X, PX)\n",
    "plt.show()"
   ]
  },
  {
   "cell_type": "code",
   "execution_count": 34,
   "id": "75336805",
   "metadata": {},
   "outputs": [
    {
     "name": "stdout",
     "output_type": "stream",
     "text": [
      "[ 0  1  2  3  4  5  6  7  8  9 10 11 12 13 14 15 16 17 18 19 20]\n"
     ]
    }
   ],
   "source": [
    "# TASK- 2\n",
    "import numpy as np\n",
    "p = 0.1\n",
    "q = 1-p\n",
    "n = 20\n",
    "k = np.arange(0, n+1)\n",
    "print(k)"
   ]
  },
  {
   "cell_type": "code",
   "execution_count": 35,
   "id": "024d2503",
   "metadata": {},
   "outputs": [
    {
     "name": "stdout",
     "output_type": "stream",
     "text": [
      "Probability of 20 purchases choosing Oreo: \n",
      "[0.12157665459056925, 0.3917469981251679, 0.6769268051894659, 0.8670466765656649, 0.9568255047155366, 0.988746865835491, 0.9976139105910339, 0.9995843649811545, 0.9999401414682596, 0.999992849095979, 0.9999992911393668, 0.9999999418508202, 0.9999999960767746, 0.9999999997845321, 0.9999999999905187, 0.9999999999996737, 0.9999999999999916, 0.9999999999999999, 1.0, 1.0, 1.0]\n"
     ]
    }
   ],
   "source": [
    "cumbinomial=list(binom.cdf(k,n,p))\n",
    "print('Probability of 20 purchases choosing Oreo: ')\n",
    "print(cumbinomial)"
   ]
  },
  {
   "cell_type": "code",
   "execution_count": 36,
   "id": "cdd42805",
   "metadata": {},
   "outputs": [
    {
     "name": "stdout",
     "output_type": "stream",
     "text": [
      "Probability of fewer than four purchaser choosing Oreo : is 0.96\n"
     ]
    }
   ],
   "source": [
    "# (A)\n",
    "print('Probability of fewer than four purchaser choosing Oreo : is %1.2f' % cumbinomial[4])"
   ]
  },
  {
   "cell_type": "code",
   "execution_count": 37,
   "id": "4922ddb4",
   "metadata": {},
   "outputs": [
    {
     "name": "stdout",
     "output_type": "stream",
     "text": [
      "Mean : 2.0\n",
      "Standard Deviation : 1.3416407864998738\n"
     ]
    }
   ],
   "source": [
    "# (B)\n",
    "p = 0.1\n",
    "n = 20\n",
    "mean = n*p\n",
    "sd = np.sqrt(n*p*(1-p))\n",
    "print(\"Mean :\",mean)\n",
    "print(\"Standard Deviation :\",sd)\n"
   ]
  },
  {
   "cell_type": "code",
   "execution_count": 38,
   "id": "fa4b7d1b",
   "metadata": {},
   "outputs": [
    {
     "data": {
      "image/png": "[encoded data removed]",
      "text/plain": [
       "<Figure size 432x288 with 1 Axes>"
      ]
     },
     "metadata": {
      "needs_background": "light"
     },
     "output_type": "display_data"
    }
   ],
   "source": [
    "# (C)\n",
    "num=[1,2,3,4]\n",
    "pur=[0.12157665459056925, 0.3917469981251679, 0.6769268051894659, 0.8670466765656649]\n",
    "plt.bar(num, pur)\n",
    "plt.show()"
   ]
  },
  {
   "cell_type": "code",
   "execution_count": 39,
   "id": "befeafde",
   "metadata": {},
   "outputs": [],
   "source": [
    "# TASK- 3\n",
    "\n",
    "p = 0.2\n",
    "q = 1-p\n",
    "n = 15\n",
    "k = np.arange(0,n+1)\n",
    "consult_pmf = binom.pmf(k,n,p)"
   ]
  },
  {
   "cell_type": "code",
   "execution_count": 40,
   "id": "63cea700",
   "metadata": {},
   "outputs": [
    {
     "name": "stdout",
     "output_type": "stream",
     "text": [
      "The probability of exactly 5 companies outsourcing is 0.103\n"
     ]
    }
   ],
   "source": [
    "# (A)\n",
    "print(\"The probability of exactly 5 companies outsourcing is %0.3f\" % consult_pmf[5])"
   ]
  },
  {
   "cell_type": "code",
   "execution_count": 41,
   "id": "bc10f238",
   "metadata": {},
   "outputs": [
    {
     "name": "stdout",
     "output_type": "stream",
     "text": [
      "The probability of more than 9 companies are using outsourcing is 0.000113\n"
     ]
    }
   ],
   "source": [
    "# (B)\n",
    "print(\"The probability of more than 9 companies are using outsourcing is %f\" %(1-(np.sum(consult_pmf[:10]))) )"
   ]
  },
  {
   "cell_type": "code",
   "execution_count": 42,
   "id": "f13dcc11",
   "metadata": {},
   "outputs": [
    {
     "name": "stdout",
     "output_type": "stream",
     "text": [
      "The probability that no companies use consultants is 0.0352\n"
     ]
    }
   ],
   "source": [
    "# (C)\n",
    "print(\"The probability that no companies use consultants is %0.4f\" % consult_pmf[0])"
   ]
  },
  {
   "cell_type": "code",
   "execution_count": 43,
   "id": "37cf8106",
   "metadata": {},
   "outputs": [
    {
     "name": "stdout",
     "output_type": "stream",
     "text": [
      "The probability that 4 to 7 companies use consultants is 0.348\n"
     ]
    }
   ],
   "source": [
    "# (D)\n",
    "O4_7 = np.sum(consult_pmf[4:8])\n",
    "print(\"The probability that 4 to 7 companies use consultants is %0.3f\" % O4_7)"
   ]
  },
  {
   "cell_type": "code",
   "execution_count": 44,
   "id": "fa31b7ea",
   "metadata": {},
   "outputs": [
    {
     "data": {
      "image/png": "[encoded data removed]",
      "text/plain": [
       "<Figure size 432x288 with 1 Axes>"
      ]
     },
     "metadata": {
      "needs_background": "light"
     },
     "output_type": "display_data"
    },
    {
     "name": "stdout",
     "output_type": "stream",
     "text": [
      "a) The x-value of 5 plotted line corresponds to the y-value we deducted\n",
      "b) The probability distribution curve stays near 0 once it crosses 9 companies,\n",
      "c) The first point on the graph denotes 0 companies which points in y-axis to our deducted value\n"
     ]
    },
    {
     "data": {
      "image/png": "[encoded data removed]",
      "text/plain": [
       "<Figure size 432x288 with 1 Axes>"
      ]
     },
     "metadata": {
      "needs_background": "light"
     },
     "output_type": "display_data"
    },
    {
     "name": "stdout",
     "output_type": "stream",
     "text": [
      "d) The curve for the range of 4 to 7 companies lies approximately between 0.180 and 0.01 whose sum of point is approximately 0.35 \n"
     ]
    }
   ],
   "source": [
    "# (E) \n",
    "#Graph\n",
    "plt.plot(k,consult_pmf,'rd-')\n",
    "plt.title(\"Overseas outsourcing\")\n",
    "plt.xlabel(\"Number of companies\")\n",
    "plt.ylabel(\"probability of outsourcing\")\n",
    "plt.show()\n",
    "\n",
    "# justification\n",
    "print(\"a) The x-value of 5 plotted line corresponds to the y-value we deducted\")\n",
    "print(\"b) The probability distribution curve stays near 0 once it crosses 9 companies,\")\n",
    "print(\"c) The first point on the graph denotes 0 companies which points in y-axis to our deducted value\")\n",
    "\n",
    "plt.plot(k[4:8],binom.pmf(k,n,p)[4:8],'rd-')\n",
    "plt.title(\"Overseas outsourcing\")\n",
    "plt.xlabel(\"Number of companies\")\n",
    "plt.ylabel(\"Probability of outsourcing\")\n",
    "plt.show()\n",
    "print(\"d) The curve for the range of 4 to 7 companies lies approximately between 0.180 and 0.01 whose sum of point is approximately 0.35 \")\n"
   ]
  },
  {
   "cell_type": "code",
   "execution_count": 45,
   "id": "608e545c",
   "metadata": {},
   "outputs": [],
   "source": [
    "# TASK- 4\n",
    "from scipy.stats import poisson\n",
    "w1 = [3,6,4,6,2,3,1,5,1,0,3,3]\n",
    "w2 = [1,2,4,0,2,6,5,4,2,5,3,4]\n",
    "w3 = [5,3,5,3,5,4,7,3,4,8,3,1]\n",
    "week=pd.DataFrame([w1,w2,w3], index = [\"Week1\",\"Week2\",\"Week3\"])\n",
    "mn=week.mean().mean()\n",
    "\n",
    "n=np.arange(0,31)\n",
    "mn_pmf = poisson.pmf(n,mn)"
   ]
  },
  {
   "cell_type": "code",
   "execution_count": 46,
   "id": "9057c768",
   "metadata": {},
   "outputs": [
    {
     "name": "stdout",
     "output_type": "stream",
     "text": [
      " Probability that no customers arrive at the restaurant  is 0.030\n"
     ]
    }
   ],
   "source": [
    "# (A)\n",
    "print(\" Probability that no customers arrive at the restaurant  is %0.3f\" % mn_pmf[0])"
   ]
  },
  {
   "cell_type": "code",
   "execution_count": 47,
   "id": "0b6acbcc",
   "metadata": {},
   "outputs": [
    {
     "name": "stdout",
     "output_type": "stream",
     "text": [
      "Probability that 6 or more customers arrive at the restaurant is 0.142\n"
     ]
    },
    {
     "data": {
      "image/png": "[encoded data removed]",
      "text/plain": [
       "<Figure size 432x288 with 1 Axes>"
      ]
     },
     "metadata": {
      "needs_background": "light"
     },
     "output_type": "display_data"
    }
   ],
   "source": [
    "# (B)\n",
    "print(\"Probability that 6 or more customers arrive at the restaurant is %0.3f\" %(1-(np.sum(mn_pmf[0:6]))) )\n",
    "plt.plot(n,mn_pmf, 'gd-')\n",
    "plt.title(\"Customers arrival at 5 min interval\")\n",
    "plt.xlabel(\"Number of customers\")\n",
    "plt.ylabel(\"Probability of arrival\")\n",
    "plt.show()"
   ]
  },
  {
   "cell_type": "code",
   "execution_count": 48,
   "id": "5701c1af",
   "metadata": {},
   "outputs": [
    {
     "name": "stdout",
     "output_type": "stream",
     "text": [
      "Probability of fewer than 4 customer arrival at 10 min interval is 0.0818 \n",
      "Probability of customers arrival between 3 and 6 is 0.4201\n"
     ]
    },
    {
     "data": {
      "image/png": "[encoded data removed]",
      "text/plain": [
       "<Figure size 432x288 with 1 Axes>"
      ]
     },
     "metadata": {
      "needs_background": "light"
     },
     "output_type": "display_data"
    }
   ],
   "source": [
    "\n",
    "mn1=mn*2\n",
    "mn1_pmf=poisson.pmf(n,mn1)\n",
    "# (C)\n",
    "print(\"Probability of fewer than 4 customer arrival at 10 min interval is %0.4f \" % (np.sum(mn1_pmf[:4])))\n",
    "\n",
    "# (D)\n",
    "print(\"Probability of customers arrival between 3 and 6 is %0.4f\" %(np.sum(mn1_pmf[3:7])))\n",
    "\n",
    "plt.plot(n,mn1_pmf,'bd-')\n",
    "plt.title(\"Customers arrival at 10 min interval\")\n",
    "plt.xlabel(\"Number of customers\")\n",
    "plt.ylabel(\"Probability of arrival\")\n",
    "plt.show()"
   ]
  },
  {
   "cell_type": "code",
   "execution_count": 49,
   "id": "44ad94d4",
   "metadata": {},
   "outputs": [
    {
     "name": "stdout",
     "output_type": "stream",
     "text": [
      "Probability of exactly 8 customers arrival at the restaurant is 0.8991\n"
     ]
    },
    {
     "data": {
      "image/png": "[encoded data removed]",
      "text/plain": [
       "<Figure size 432x288 with 1 Axes>"
      ]
     },
     "metadata": {
      "needs_background": "light"
     },
     "output_type": "display_data"
    }
   ],
   "source": [
    "# (E)\n",
    "mn2=mn*3\n",
    "mn2_pmf=poisson.pmf(n,mn2)\n",
    "print(\"Probability of exactly 8 customers arrival at the restaurant is %0.4f\" %(1-(np.sum(mn2_pmf[8]))) )\n",
    "plt.plot(n,mn2_pmf, 'yd-')\n",
    "plt.title(\"Customers arrival at 15 min interval\")\n",
    "plt.xlabel(\"Number of customers\")\n",
    "plt.ylabel(\"Probability of arrival\")\n",
    "plt.show()"
   ]
  },
  {
   "cell_type": "code",
   "execution_count": 50,
   "id": "2ddee47b",
   "metadata": {},
   "outputs": [
    {
     "name": "stdout",
     "output_type": "stream",
     "text": [
      "Probability of family did not make a trip to an amusement park last year :is 0.548\n"
     ]
    }
   ],
   "source": [
    "# TASK- 5 \n",
    "#(A)\n",
    "p = 0.548\n",
    "q = 1-p\n",
    "n = 1\n",
    "k = np.arange(0,n+1)\n",
    "no_pmf = binom.pmf(k,n,p)\n",
    "\n",
    "print(\"Probability of family did not make a trip to an amusement park last year :is %.3f\" % no_pmf[1])"
   ]
  },
  {
   "cell_type": "code",
   "execution_count": 51,
   "id": "bff419a5",
   "metadata": {},
   "outputs": [
    {
     "name": "stdout",
     "output_type": "stream",
     "text": [
      "Probability of family make one trip to an amusement park last year :is 0.165\n"
     ]
    }
   ],
   "source": [
    "# (B)\n",
    "p = 0.548\n",
    "q = 1-p\n",
    "n = 3\n",
    "k = np.arange(0,n)\n",
    "no_pmf = binom.pmf(k,n,p)\n",
    "\n",
    "print(\"Probability of family make one trip to an amusement park last year :is %.3f\" %(1-(np.sum(no_pmf[:3]))) )\n"
   ]
  },
  {
   "cell_type": "code",
   "execution_count": 52,
   "id": "2fb29a8b",
   "metadata": {},
   "outputs": [
    {
     "name": "stdout",
     "output_type": "stream",
     "text": [
      "Probability of family took two or more trip to an amusement park over three years :is 0.428\n"
     ]
    }
   ],
   "source": [
    "# (C)\n",
    "p = 0.548\n",
    "q = 1-p\n",
    "n = 3\n",
    "k = np.arange(0,n+1)\n",
    "no_pmf = binom.pmf(k,n,p)\n",
    "\n",
    "print(\"Probability of family took two or more trip to an amusement park over three years :is %.3f\" %(1-(np.sum(no_pmf[2:4]))) )\n"
   ]
  },
  {
   "cell_type": "code",
   "execution_count": 53,
   "id": "161b8fd9",
   "metadata": {},
   "outputs": [
    {
     "name": "stdout",
     "output_type": "stream",
     "text": [
      "Probability of family took three or fewer trips to an amusement park over three years :is 1.835\n"
     ]
    }
   ],
   "source": [
    "# (D)\n",
    "print(\"Probability of family took three or fewer trips to an amusement park over three years :is %.3f\" %(1+(np.sum(no_pmf[:3]))) )"
   ]
  },
  {
   "cell_type": "code",
   "execution_count": 57,
   "id": "0c13e3bd",
   "metadata": {},
   "outputs": [
    {
     "name": "stdout",
     "output_type": "stream",
     "text": [
      "Probability of family took exactly four trip to an amusement park over 6 years :is 0.724\n"
     ]
    }
   ],
   "source": [
    "# (E)\n",
    "p = 0.548\n",
    "q = 1-p\n",
    "n = 6\n",
    "k = np.arange(0,n+1)\n",
    "no_pmf = binom.pmf(k,n,p)\n",
    "\n",
    "print(\"Probability of family took exactly four trip to an amusement park over 6 years :is %.3f\" %(1-(np.sum(no_pmf[4]))) )\n",
    "\n"
   ]
  },
  {
   "cell_type": "code",
   "execution_count": null,
   "id": "60f139cf",
   "metadata": {},
   "outputs": [],
   "source": []
  }
 ],
 "metadata": {
  "kernelspec": {
   "display_name": "Python 3 (ipykernel)",
   "language": "python",
   "name": "python3"
  },
  "language_info": {
   "codemirror_mode": {
    "name": "ipython",
    "version": 3
   },
   "file_extension": ".py",
   "mimetype": "text/x-python",
   "name": "python",
   "nbconvert_exporter": "python",
   "pygments_lexer": "ipython3",
   "version": "3.9.7"
  }
 },
 "nbformat": 4,
 "nbformat_minor": 5
}
