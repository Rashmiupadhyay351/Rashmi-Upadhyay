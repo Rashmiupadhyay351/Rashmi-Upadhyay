{
  "nbformat": 4,
  "nbformat_minor": 0,
  "metadata": {
    "colab": {
      "name": "03_DSFT4_RashmiUpadhyay_C2_S2_PRACTICE.ipynb",
      "provenance": [],
      "collapsed_sections": []
    },
    "kernelspec": {
      "name": "python3",
      "display_name": "Python 3"
    },
    "language_info": {
      "name": "python"
    }
  },
  "cells": [
    {
      "cell_type": "code",
      "execution_count": null,
      "metadata": {
        "id": "N7H0HH2hmf_V"
      },
      "outputs": [],
      "source": [
        "import tensorflow as tf\n",
        "from tensorflow import keras\n",
        "import numpy as np"
      ]
    },
    {
      "cell_type": "markdown",
      "source": [
        "TASK - 1"
      ],
      "metadata": {
        "id": "mqQR5jDiKx0f"
      }
    },
    {
      "cell_type": "code",
      "source": [
        "tf.strings.join(['18383745','Johnson','Johnson@mail.com','4568797','Mumbai','Male','09/10/1975'], separator=\"~\")"
      ],
      "metadata": {
        "colab": {
          "base_uri": "https://localhost:8080/"
        },
        "id": "b9gIBHkdq7Xr",
        "outputId": "92251e3a-199d-4041-ac7e-03f1467beb9e"
      },
      "execution_count": null,
      "outputs": [
        {
          "output_type": "execute_result",
          "data": {
            "text/plain": [
              "<tf.Tensor: shape=(), dtype=string, numpy=b'18383745~Johnson~Johnson@mail.com~4568797~Mumbai~Male~09/10/1975'>"
            ]
          },
          "metadata": {},
          "execution_count": 2
        }
      ]
    },
    {
      "cell_type": "markdown",
      "source": [
        "TASK - 2 "
      ],
      "metadata": {
        "id": "uyVNjLjPtP9u"
      }
    },
    {
      "cell_type": "code",
      "source": [
        "matrix=[['indigo','violet','programmer','computer','training','kitchen','array','instagram','bluetooth']]\n",
        "matrix=np.array(matrix)\n",
        "print(matrix[0].reshape(3,3))"
      ],
      "metadata": {
        "colab": {
          "base_uri": "https://localhost:8080/"
        },
        "id": "PI-kAGGrtVdV",
        "outputId": "cc9682d4-1b7c-443e-9ab4-e533e6794cfa"
      },
      "execution_count": null,
      "outputs": [
        {
          "output_type": "stream",
          "name": "stdout",
          "text": [
            "[['indigo' 'violet' 'programmer']\n",
            " ['computer' 'training' 'kitchen']\n",
            " ['array' 'instagram' 'bluetooth']]\n"
          ]
        }
      ]
    },
    {
      "cell_type": "markdown",
      "source": [
        "TASK - 3"
      ],
      "metadata": {
        "id": "x8h5viThvGsN"
      }
    },
    {
      "cell_type": "code",
      "source": [
        "product_price=tf.constant(1895.2)\n"
      ],
      "metadata": {
        "id": "kGMxGaW9vNH9"
      },
      "execution_count": null,
      "outputs": []
    },
    {
      "cell_type": "code",
      "source": [
        "print(product_price)"
      ],
      "metadata": {
        "colab": {
          "base_uri": "https://localhost:8080/"
        },
        "id": "GILXXOjF8fwY",
        "outputId": "858e8537-2c53-426f-8f8a-6afb25973190"
      },
      "execution_count": null,
      "outputs": [
        {
          "output_type": "stream",
          "name": "stdout",
          "text": [
            "tf.Tensor(1895.2, shape=(), dtype=float32)\n"
          ]
        }
      ]
    },
    {
      "cell_type": "code",
      "source": [
        "#data type float16\n",
        "product_price=tf.constant(1895.2,tf.float16)\n"
      ],
      "metadata": {
        "id": "NxY2fRLJ8Qet"
      },
      "execution_count": null,
      "outputs": []
    },
    {
      "cell_type": "code",
      "source": [
        "print(product_price)"
      ],
      "metadata": {
        "colab": {
          "base_uri": "https://localhost:8080/"
        },
        "id": "luKmZWSM9F63",
        "outputId": "418b453c-1347-430f-e935-cff59a20b4e5"
      },
      "execution_count": null,
      "outputs": [
        {
          "output_type": "stream",
          "name": "stdout",
          "text": [
            "tf.Tensor(1895.0, shape=(), dtype=float16)\n"
          ]
        }
      ]
    },
    {
      "cell_type": "markdown",
      "source": [
        "TASK - 4"
      ],
      "metadata": {
        "id": "0aszy60s7m2c"
      }
    },
    {
      "cell_type": "code",
      "source": [
        "# marks = np.random.randint(16, size=(5, 3))\n",
        "#marks=marks.astype(np.int16)\n",
        "#print(marks)   \n",
        "marks = np.round(np.random.uniform(100,200,15).reshape(-1,3),5)           "
      ],
      "metadata": {
        "id": "2VoSfMIz5M7g"
      },
      "execution_count": null,
      "outputs": []
    },
    {
      "cell_type": "code",
      "source": [
        "marks=tf.constant(marks,tf.int16)"
      ],
      "metadata": {
        "id": "pPtzrrP8d7gM"
      },
      "execution_count": null,
      "outputs": []
    },
    {
      "cell_type": "code",
      "source": [
        "print(marks)"
      ],
      "metadata": {
        "colab": {
          "base_uri": "https://localhost:8080/"
        },
        "id": "6lNHgzxbeWeC",
        "outputId": "2bd42352-ff71-4674-de86-573eb19bf5f5"
      },
      "execution_count": null,
      "outputs": [
        {
          "output_type": "stream",
          "name": "stdout",
          "text": [
            "tf.Tensor(\n",
            "[[130 149 138]\n",
            " [169 165 114]\n",
            " [130 182 107]\n",
            " [123 131 153]\n",
            " [143 142 101]], shape=(5, 3), dtype=int16)\n"
          ]
        }
      ]
    },
    {
      "cell_type": "code",
      "source": [
        "marks1=tf.Variable(marks)\n",
        "marks1.shape"
      ],
      "metadata": {
        "colab": {
          "base_uri": "https://localhost:8080/"
        },
        "id": "3UJZvQi6efCf",
        "outputId": "5b10b1c1-c7b3-495b-f77c-ff3991ac985b"
      },
      "execution_count": null,
      "outputs": [
        {
          "output_type": "execute_result",
          "data": {
            "text/plain": [
              "TensorShape([5, 3])"
            ]
          },
          "metadata": {},
          "execution_count": 11
        }
      ]
    },
    {
      "cell_type": "code",
      "source": [
        "for x in range(len(marks)):\n",
        "  for y in range(len(marks[x])):\n",
        "    marks1[x,y].assign(np.random.randint(100, 200))\n",
        "print(marks1)               "
      ],
      "metadata": {
        "colab": {
          "base_uri": "https://localhost:8080/"
        },
        "id": "V-RhLpIZevy6",
        "outputId": "2445710d-1a3f-458c-eb3d-661d494ea6c3"
      },
      "execution_count": null,
      "outputs": [
        {
          "output_type": "stream",
          "name": "stdout",
          "text": [
            "<tf.Variable 'Variable:0' shape=(5, 3) dtype=int16, numpy=\n",
            "array([[135, 193, 182],\n",
            "       [142, 169, 147],\n",
            "       [184, 131, 150],\n",
            "       [194, 114, 196],\n",
            "       [100, 180, 121]], dtype=int16)>\n"
          ]
        }
      ]
    },
    {
      "cell_type": "markdown",
      "source": [
        "TASK - 6 "
      ],
      "metadata": {
        "id": "6xBDLhXbOs3Y"
      }
    },
    {
      "cell_type": "code",
      "source": [
        "currency = {'India':'Rupee', 'America':'Dollar','Saudi Arabia':'Riyal'}\n",
        "\n",
        "t_currency = tf.convert_to_tensor(list(currency.items()))\n",
        "print(t_currency)  \n"
      ],
      "metadata": {
        "colab": {
          "base_uri": "https://localhost:8080/"
        },
        "id": "tU3VqAo1OvRU",
        "outputId": "ed5ffdb1-749b-4bbc-a60b-bc003b51dab0"
      },
      "execution_count": null,
      "outputs": [
        {
          "output_type": "stream",
          "name": "stdout",
          "text": [
            "tf.Tensor(\n",
            "[[b'India' b'Rupee']\n",
            " [b'America' b'Dollar']\n",
            " [b'Saudi Arabia' b'Riyal']], shape=(3, 2), dtype=string)\n"
          ]
        }
      ]
    },
    {
      "cell_type": "code",
      "source": [
        "tensor1=tf.convert_to_tensor(list(currency.keys()))"
      ],
      "metadata": {
        "id": "q6T6qtnsSXAC"
      },
      "execution_count": null,
      "outputs": []
    },
    {
      "cell_type": "code",
      "source": [
        "print(tensor1)"
      ],
      "metadata": {
        "colab": {
          "base_uri": "https://localhost:8080/"
        },
        "id": "UuK_Qc96StGB",
        "outputId": "1244fcd3-d80a-4a4b-a3e2-6228f2d1af0a"
      },
      "execution_count": null,
      "outputs": [
        {
          "output_type": "stream",
          "name": "stdout",
          "text": [
            "tf.Tensor([b'India' b'America' b'Saudi Arabia'], shape=(3,), dtype=string)\n"
          ]
        }
      ]
    },
    {
      "cell_type": "code",
      "source": [
        "tensor2=tf.convert_to_tensor(list(currency.values()))"
      ],
      "metadata": {
        "id": "PRpX_1LbSxCt"
      },
      "execution_count": null,
      "outputs": []
    },
    {
      "cell_type": "code",
      "source": [
        "print(tensor2)"
      ],
      "metadata": {
        "colab": {
          "base_uri": "https://localhost:8080/"
        },
        "id": "CakJE7bAS7ov",
        "outputId": "0937bce9-6a79-4347-82e4-fe5e4e6bdc0d"
      },
      "execution_count": null,
      "outputs": [
        {
          "output_type": "stream",
          "name": "stdout",
          "text": [
            "tf.Tensor([b'Rupee' b'Dollar' b'Riyal'], shape=(3,), dtype=string)\n"
          ]
        }
      ]
    },
    {
      "cell_type": "code",
      "source": [
        "# shape and size of the tensor\n",
        "print(\"Shape of tensor1 :\",tf.shape(tensor1))\n",
        "print(\"Size of tensor1 :\",tf.size(tensor1))\n",
        "\n",
        "print(\"Shape of tensor2 :\",tf.shape(tensor2))\n",
        "print(\"Size of tensor2 :\",tf.size(tensor2))\n",
        "\n"
      ],
      "metadata": {
        "colab": {
          "base_uri": "https://localhost:8080/"
        },
        "id": "k3lnThZMQYoq",
        "outputId": "0c019c53-b22d-4f98-f160-2998e5377f77"
      },
      "execution_count": null,
      "outputs": [
        {
          "output_type": "stream",
          "name": "stdout",
          "text": [
            "Shape of tensor1 : tf.Tensor([3], shape=(1,), dtype=int32)\n",
            "Size of tensor1 : tf.Tensor(3, shape=(), dtype=int32)\n",
            "Shape of tensor2 : tf.Tensor([3], shape=(1,), dtype=int32)\n",
            "Size of tensor2 : tf.Tensor(3, shape=(), dtype=int32)\n"
          ]
        }
      ]
    },
    {
      "cell_type": "markdown",
      "source": [
        "  TASK - 7"
      ],
      "metadata": {
        "id": "zcCzrIv2Q9wY"
      }
    },
    {
      "cell_type": "code",
      "source": [
        "unit=tf.constant(np.random.randint(1,10,4))\n",
        "unit_price=tf.constant(np.random.randint(100,5000,4))\n"
      ],
      "metadata": {
        "id": "YAjkVXDoVhPq"
      },
      "execution_count": null,
      "outputs": []
    },
    {
      "cell_type": "code",
      "source": [
        "price= (unit * unit_price)"
      ],
      "metadata": {
        "id": "HEQeHHGhYV4S"
      },
      "execution_count": null,
      "outputs": []
    },
    {
      "cell_type": "code",
      "source": [
        "grand_total= sum(price)"
      ],
      "metadata": {
        "id": "AeT0h2l4ZDSm"
      },
      "execution_count": null,
      "outputs": []
    },
    {
      "cell_type": "code",
      "source": [
        "print(\"Grand total price of all the product/units :\",grand_total)     "
      ],
      "metadata": {
        "colab": {
          "base_uri": "https://localhost:8080/"
        },
        "id": "HwfzykcTZjBi",
        "outputId": "80f1942f-8d34-495a-fea2-c9f4f0cdb9df"
      },
      "execution_count": null,
      "outputs": [
        {
          "output_type": "stream",
          "name": "stdout",
          "text": [
            "Grand total price of all the product/units : tf.Tensor(79500, shape=(), dtype=int64)\n"
          ]
        }
      ]
    }
  ]
}