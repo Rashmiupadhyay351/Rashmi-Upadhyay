{
  "nbformat": 4,
  "nbformat_minor": 0,
  "metadata": {
    "colab": {
      "name": "Complete Text Processing",
      "provenance": [],
      "collapsed_sections": []
    },
    "kernelspec": {
      "name": "python3",
      "display_name": "Python 3"
    },
    "language_info": {
      "name": "python"
    }
  },
  "cells": [
    {
      "cell_type": "markdown",
      "source": [
        "## Complete text preprocessing "
      ],
      "metadata": {
        "id": "lU4WEDdgEQqZ"
      }
    },
    {
      "cell_type": "markdown",
      "source": [
        "**General Feature Extraction**\n",
        "\n",
        "*   File loading\n",
        "*   Word counts\n",
        " \n",
        "*   Character Counts\n",
        "*   Average Character Count\n",
        "*   Stopword Count\n",
        "*   Count #Hashtags and @mentions\n",
        "*   If numeric digits are present\n",
        "*   Upper case word counts\n",
        "\n"
      ],
      "metadata": {
        "id": "X13187dzEZXD"
      }
    },
    {
      "cell_type": "markdown",
      "source": [
        "**Preprocessing and Cleaning**\n",
        "\n",
        "\n",
        "*   Lower case\n",
        "*   Contraction to expansion\n",
        "*   Emails removals and counts\n",
        "*   URLs removals and Counts\n",
        "*   Removal of RT\n",
        "*   Removal of special characters\n",
        "*   Removal of multiple characters\n",
        "*   Removal of HTML tags\n",
        "*   Removal of accented characters\n",
        "*   Removal of stopwords\n",
        "*   Conversion into base form of words\n",
        "*   Common occuring words removal\n",
        "*   Word cloud\n",
        "*   Spelling correction\n",
        "*   Tokenization\n",
        "*   Lemmatization\n",
        "*   Detecting Entities using NER\n",
        "*   Noun detection\n",
        "*   Language Detection\n",
        "*   SEntence detection\n",
        "*   Using inbuilt sentiment classifier\n",
        "\n",
        "\n",
        "\n",
        "\n",
        "\n",
        "\n"
      ],
      "metadata": {
        "id": "QHH6bQGmFSne"
      }
    },
    {
      "cell_type": "code",
      "execution_count": null,
      "metadata": {
        "id": "j4278KPpEGoD"
      },
      "outputs": [],
      "source": [
        "import pandas as pd\n",
        "import numpy as np\n",
        "import spacy "
      ]
    },
    {
      "cell_type": "code",
      "source": [
        "from spacy.lang.en.stop_words import STOP_WORDS as stopwords"
      ],
      "metadata": {
        "id": "qcYIb4_uGrFA"
      },
      "execution_count": null,
      "outputs": []
    },
    {
      "cell_type": "code",
      "source": [
        "df = pd.read_csv(\"https://raw.githubusercontent.com/laxmimerit/twitter-data/master/twitter4000.csv\") \n",
        "df"
      ],
      "metadata": {
        "colab": {
          "base_uri": "https://localhost:8080/",
          "height": 424
        },
        "id": "rRhcfVZZGrH0",
        "outputId": "c94cda73-fcf5-4769-e977-ccd7211615fd"
      },
      "execution_count": null,
      "outputs": [
        {
          "output_type": "execute_result",
          "data": {
            "text/plain": [
              "                                                 twitts  sentiment\n",
              "0     is bored and wants to watch a movie  any sugge...          0\n",
              "1              back in miami.  waiting to unboard ship           0\n",
              "2     @misskpey awwww dnt dis brng bak memoriessss, ...          0\n",
              "3                     ughhh i am so tired  blahhhhhhhhh          0\n",
              "4     @mandagoforth me bad! It's funny though. Zacha...          0\n",
              "...                                                 ...        ...\n",
              "3995                                  i just graduated           1\n",
              "3996          Templating works; it all has to be done            1\n",
              "3997                   mommy just brought me starbucks           1\n",
              "3998  @omarepps watching you on a House re-run...lov...          1\n",
              "3999  Thanks for trying to make me smile I'll make y...          1\n",
              "\n",
              "[4000 rows x 2 columns]"
            ],
            "text/html": [
              "\n",
              "  <div id=\"df-d8487c91-e95a-448f-82e6-660ca5db14a0\">\n",
              "    <div class=\"colab-df-container\">\n",
              "      <div>\n",
              "<style scoped>\n",
              "    .dataframe tbody tr th:only-of-type {\n",
              "        vertical-align: middle;\n",
              "    }\n",
              "\n",
              "    .dataframe tbody tr th {\n",
              "        vertical-align: top;\n",
              "    }\n",
              "\n",
              "    .dataframe thead th {\n",
              "        text-align: right;\n",
              "    }\n",
              "</style>\n",
              "<table border=\"1\" class=\"dataframe\">\n",
              "  <thead>\n",
              "    <tr style=\"text-align: right;\">\n",
              "      <th></th>\n",
              "      <th>twitts</th>\n",
              "      <th>sentiment</th>\n",
              "    </tr>\n",
              "  </thead>\n",
              "  <tbody>\n",
              "    <tr>\n",
              "      <th>0</th>\n",
              "      <td>is bored and wants to watch a movie  any sugge...</td>\n",
              "      <td>0</td>\n",
              "    </tr>\n",
              "    <tr>\n",
              "      <th>1</th>\n",
              "      <td>back in miami.  waiting to unboard ship</td>\n",
              "      <td>0</td>\n",
              "    </tr>\n",
              "    <tr>\n",
              "      <th>2</th>\n",
              "      <td>@misskpey awwww dnt dis brng bak memoriessss, ...</td>\n",
              "      <td>0</td>\n",
              "    </tr>\n",
              "    <tr>\n",
              "      <th>3</th>\n",
              "      <td>ughhh i am so tired  blahhhhhhhhh</td>\n",
              "      <td>0</td>\n",
              "    </tr>\n",
              "    <tr>\n",
              "      <th>4</th>\n",
              "      <td>@mandagoforth me bad! It's funny though. Zacha...</td>\n",
              "      <td>0</td>\n",
              "    </tr>\n",
              "    <tr>\n",
              "      <th>...</th>\n",
              "      <td>...</td>\n",
              "      <td>...</td>\n",
              "    </tr>\n",
              "    <tr>\n",
              "      <th>3995</th>\n",
              "      <td>i just graduated</td>\n",
              "      <td>1</td>\n",
              "    </tr>\n",
              "    <tr>\n",
              "      <th>3996</th>\n",
              "      <td>Templating works; it all has to be done</td>\n",
              "      <td>1</td>\n",
              "    </tr>\n",
              "    <tr>\n",
              "      <th>3997</th>\n",
              "      <td>mommy just brought me starbucks</td>\n",
              "      <td>1</td>\n",
              "    </tr>\n",
              "    <tr>\n",
              "      <th>3998</th>\n",
              "      <td>@omarepps watching you on a House re-run...lov...</td>\n",
              "      <td>1</td>\n",
              "    </tr>\n",
              "    <tr>\n",
              "      <th>3999</th>\n",
              "      <td>Thanks for trying to make me smile I'll make y...</td>\n",
              "      <td>1</td>\n",
              "    </tr>\n",
              "  </tbody>\n",
              "</table>\n",
              "<p>4000 rows × 2 columns</p>\n",
              "</div>\n",
              "      <button class=\"colab-df-convert\" onclick=\"convertToInteractive('df-d8487c91-e95a-448f-82e6-660ca5db14a0')\"\n",
              "              title=\"Convert this dataframe to an interactive table.\"\n",
              "              style=\"display:none;\">\n",
              "        \n",
              "  <svg xmlns=\"http://www.w3.org/2000/svg\" height=\"24px\"viewBox=\"0 0 24 24\"\n",
              "       width=\"24px\">\n",
              "    <path d=\"M0 0h24v24H0V0z\" fill=\"none\"/>\n",
              "    <path d=\"M18.56 5.44l.94 2.06.94-2.06 2.06-.94-2.06-.94-.94-2.06-.94 2.06-2.06.94zm-11 1L8.5 8.5l.94-2.06 2.06-.94-2.06-.94L8.5 2.5l-.94 2.06-2.06.94zm10 10l.94 2.06.94-2.06 2.06-.94-2.06-.94-.94-2.06-.94 2.06-2.06.94z\"/><path d=\"M17.41 7.96l-1.37-1.37c-.4-.4-.92-.59-1.43-.59-.52 0-1.04.2-1.43.59L10.3 9.45l-7.72 7.72c-.78.78-.78 2.05 0 2.83L4 21.41c.39.39.9.59 1.41.59.51 0 1.02-.2 1.41-.59l7.78-7.78 2.81-2.81c.8-.78.8-2.07 0-2.86zM5.41 20L4 18.59l7.72-7.72 1.47 1.35L5.41 20z\"/>\n",
              "  </svg>\n",
              "      </button>\n",
              "      \n",
              "  <style>\n",
              "    .colab-df-container {\n",
              "      display:flex;\n",
              "      flex-wrap:wrap;\n",
              "      gap: 12px;\n",
              "    }\n",
              "\n",
              "    .colab-df-convert {\n",
              "      background-color: #E8F0FE;\n",
              "      border: none;\n",
              "      border-radius: 50%;\n",
              "      cursor: pointer;\n",
              "      display: none;\n",
              "      fill: #1967D2;\n",
              "      height: 32px;\n",
              "      padding: 0 0 0 0;\n",
              "      width: 32px;\n",
              "    }\n",
              "\n",
              "    .colab-df-convert:hover {\n",
              "      background-color: #E2EBFA;\n",
              "      box-shadow: 0px 1px 2px rgba(60, 64, 67, 0.3), 0px 1px 3px 1px rgba(60, 64, 67, 0.15);\n",
              "      fill: #174EA6;\n",
              "    }\n",
              "\n",
              "    [theme=dark] .colab-df-convert {\n",
              "      background-color: #3B4455;\n",
              "      fill: #D2E3FC;\n",
              "    }\n",
              "\n",
              "    [theme=dark] .colab-df-convert:hover {\n",
              "      background-color: #434B5C;\n",
              "      box-shadow: 0px 1px 3px 1px rgba(0, 0, 0, 0.15);\n",
              "      filter: drop-shadow(0px 1px 2px rgba(0, 0, 0, 0.3));\n",
              "      fill: #FFFFFF;\n",
              "    }\n",
              "  </style>\n",
              "\n",
              "      <script>\n",
              "        const buttonEl =\n",
              "          document.querySelector('#df-d8487c91-e95a-448f-82e6-660ca5db14a0 button.colab-df-convert');\n",
              "        buttonEl.style.display =\n",
              "          google.colab.kernel.accessAllowed ? 'block' : 'none';\n",
              "\n",
              "        async function convertToInteractive(key) {\n",
              "          const element = document.querySelector('#df-d8487c91-e95a-448f-82e6-660ca5db14a0');\n",
              "          const dataTable =\n",
              "            await google.colab.kernel.invokeFunction('convertToInteractive',\n",
              "                                                     [key], {});\n",
              "          if (!dataTable) return;\n",
              "\n",
              "          const docLinkHtml = 'Like what you see? Visit the ' +\n",
              "            '<a target=\"_blank\" href=https://colab.research.google.com/notebooks/data_table.ipynb>data table notebook</a>'\n",
              "            + ' to learn more about interactive tables.';\n",
              "          element.innerHTML = '';\n",
              "          dataTable['output_type'] = 'display_data';\n",
              "          await google.colab.output.renderOutput(dataTable, element);\n",
              "          const docLink = document.createElement('div');\n",
              "          docLink.innerHTML = docLinkHtml;\n",
              "          element.appendChild(docLink);\n",
              "        }\n",
              "      </script>\n",
              "    </div>\n",
              "  </div>\n",
              "  "
            ]
          },
          "metadata": {},
          "execution_count": 3
        }
      ]
    },
    {
      "cell_type": "code",
      "source": [
        "df['sentiment'].value_counts()"
      ],
      "metadata": {
        "colab": {
          "base_uri": "https://localhost:8080/"
        },
        "id": "7Mq4nsJWGrKL",
        "outputId": "a42d9f1a-3f19-40f3-95f8-af4bcad5a84a"
      },
      "execution_count": null,
      "outputs": [
        {
          "output_type": "execute_result",
          "data": {
            "text/plain": [
              "0    2000\n",
              "1    2000\n",
              "Name: sentiment, dtype: int64"
            ]
          },
          "metadata": {},
          "execution_count": 4
        }
      ]
    },
    {
      "cell_type": "markdown",
      "source": [
        "##Word Counts"
      ],
      "metadata": {
        "id": "z_5WKWImnZPQ"
      }
    },
    {
      "cell_type": "code",
      "source": [
        "len('this is text'.split())"
      ],
      "metadata": {
        "colab": {
          "base_uri": "https://localhost:8080/"
        },
        "id": "YIJAC0vpGrMj",
        "outputId": "04142f14-794e-4f52-f1b3-b9c12cdac659"
      },
      "execution_count": null,
      "outputs": [
        {
          "output_type": "execute_result",
          "data": {
            "text/plain": [
              "3"
            ]
          },
          "metadata": {},
          "execution_count": 5
        }
      ]
    },
    {
      "cell_type": "code",
      "source": [
        "df['word_counts'] = df['twitts'].apply(lambda x: len(str(x).split()))"
      ],
      "metadata": {
        "id": "5Kr8whO_GrOt"
      },
      "execution_count": null,
      "outputs": []
    },
    {
      "cell_type": "code",
      "source": [
        "df.sample(5)"
      ],
      "metadata": {
        "colab": {
          "base_uri": "https://localhost:8080/",
          "height": 206
        },
        "id": "ND3yWaKnGrQ3",
        "outputId": "1e1f2ff9-b7f4-4be8-c576-b7ebdbed7a4d"
      },
      "execution_count": null,
      "outputs": [
        {
          "output_type": "execute_result",
          "data": {
            "text/plain": [
              "                                                 twitts  sentiment  \\\n",
              "1977  @OfficialMelB i miss your hot butt miss.Mel.  ...          0   \n",
              "3172  Blue Sky rocked the Longmont Tri. So many awes...          1   \n",
              "3699    @AmyyJoanne lol James Morrison all the way  x x          1   \n",
              "3967          Checking if twitterific wrks on my phone           1   \n",
              "1142  @danielsnyder Well that is exciting for you bu...          0   \n",
              "\n",
              "      word_counts  \n",
              "1977           11  \n",
              "3172           17  \n",
              "3699            9  \n",
              "3967            7  \n",
              "1142           11  "
            ],
            "text/html": [
              "\n",
              "  <div id=\"df-640579d5-f807-409b-a544-57616505bccd\">\n",
              "    <div class=\"colab-df-container\">\n",
              "      <div>\n",
              "<style scoped>\n",
              "    .dataframe tbody tr th:only-of-type {\n",
              "        vertical-align: middle;\n",
              "    }\n",
              "\n",
              "    .dataframe tbody tr th {\n",
              "        vertical-align: top;\n",
              "    }\n",
              "\n",
              "    .dataframe thead th {\n",
              "        text-align: right;\n",
              "    }\n",
              "</style>\n",
              "<table border=\"1\" class=\"dataframe\">\n",
              "  <thead>\n",
              "    <tr style=\"text-align: right;\">\n",
              "      <th></th>\n",
              "      <th>twitts</th>\n",
              "      <th>sentiment</th>\n",
              "      <th>word_counts</th>\n",
              "    </tr>\n",
              "  </thead>\n",
              "  <tbody>\n",
              "    <tr>\n",
              "      <th>1977</th>\n",
              "      <td>@OfficialMelB i miss your hot butt miss.Mel.  ...</td>\n",
              "      <td>0</td>\n",
              "      <td>11</td>\n",
              "    </tr>\n",
              "    <tr>\n",
              "      <th>3172</th>\n",
              "      <td>Blue Sky rocked the Longmont Tri. So many awes...</td>\n",
              "      <td>1</td>\n",
              "      <td>17</td>\n",
              "    </tr>\n",
              "    <tr>\n",
              "      <th>3699</th>\n",
              "      <td>@AmyyJoanne lol James Morrison all the way  x x</td>\n",
              "      <td>1</td>\n",
              "      <td>9</td>\n",
              "    </tr>\n",
              "    <tr>\n",
              "      <th>3967</th>\n",
              "      <td>Checking if twitterific wrks on my phone</td>\n",
              "      <td>1</td>\n",
              "      <td>7</td>\n",
              "    </tr>\n",
              "    <tr>\n",
              "      <th>1142</th>\n",
              "      <td>@danielsnyder Well that is exciting for you bu...</td>\n",
              "      <td>0</td>\n",
              "      <td>11</td>\n",
              "    </tr>\n",
              "  </tbody>\n",
              "</table>\n",
              "</div>\n",
              "      <button class=\"colab-df-convert\" onclick=\"convertToInteractive('df-640579d5-f807-409b-a544-57616505bccd')\"\n",
              "              title=\"Convert this dataframe to an interactive table.\"\n",
              "              style=\"display:none;\">\n",
              "        \n",
              "  <svg xmlns=\"http://www.w3.org/2000/svg\" height=\"24px\"viewBox=\"0 0 24 24\"\n",
              "       width=\"24px\">\n",
              "    <path d=\"M0 0h24v24H0V0z\" fill=\"none\"/>\n",
              "    <path d=\"M18.56 5.44l.94 2.06.94-2.06 2.06-.94-2.06-.94-.94-2.06-.94 2.06-2.06.94zm-11 1L8.5 8.5l.94-2.06 2.06-.94-2.06-.94L8.5 2.5l-.94 2.06-2.06.94zm10 10l.94 2.06.94-2.06 2.06-.94-2.06-.94-.94-2.06-.94 2.06-2.06.94z\"/><path d=\"M17.41 7.96l-1.37-1.37c-.4-.4-.92-.59-1.43-.59-.52 0-1.04.2-1.43.59L10.3 9.45l-7.72 7.72c-.78.78-.78 2.05 0 2.83L4 21.41c.39.39.9.59 1.41.59.51 0 1.02-.2 1.41-.59l7.78-7.78 2.81-2.81c.8-.78.8-2.07 0-2.86zM5.41 20L4 18.59l7.72-7.72 1.47 1.35L5.41 20z\"/>\n",
              "  </svg>\n",
              "      </button>\n",
              "      \n",
              "  <style>\n",
              "    .colab-df-container {\n",
              "      display:flex;\n",
              "      flex-wrap:wrap;\n",
              "      gap: 12px;\n",
              "    }\n",
              "\n",
              "    .colab-df-convert {\n",
              "      background-color: #E8F0FE;\n",
              "      border: none;\n",
              "      border-radius: 50%;\n",
              "      cursor: pointer;\n",
              "      display: none;\n",
              "      fill: #1967D2;\n",
              "      height: 32px;\n",
              "      padding: 0 0 0 0;\n",
              "      width: 32px;\n",
              "    }\n",
              "\n",
              "    .colab-df-convert:hover {\n",
              "      background-color: #E2EBFA;\n",
              "      box-shadow: 0px 1px 2px rgba(60, 64, 67, 0.3), 0px 1px 3px 1px rgba(60, 64, 67, 0.15);\n",
              "      fill: #174EA6;\n",
              "    }\n",
              "\n",
              "    [theme=dark] .colab-df-convert {\n",
              "      background-color: #3B4455;\n",
              "      fill: #D2E3FC;\n",
              "    }\n",
              "\n",
              "    [theme=dark] .colab-df-convert:hover {\n",
              "      background-color: #434B5C;\n",
              "      box-shadow: 0px 1px 3px 1px rgba(0, 0, 0, 0.15);\n",
              "      filter: drop-shadow(0px 1px 2px rgba(0, 0, 0, 0.3));\n",
              "      fill: #FFFFFF;\n",
              "    }\n",
              "  </style>\n",
              "\n",
              "      <script>\n",
              "        const buttonEl =\n",
              "          document.querySelector('#df-640579d5-f807-409b-a544-57616505bccd button.colab-df-convert');\n",
              "        buttonEl.style.display =\n",
              "          google.colab.kernel.accessAllowed ? 'block' : 'none';\n",
              "\n",
              "        async function convertToInteractive(key) {\n",
              "          const element = document.querySelector('#df-640579d5-f807-409b-a544-57616505bccd');\n",
              "          const dataTable =\n",
              "            await google.colab.kernel.invokeFunction('convertToInteractive',\n",
              "                                                     [key], {});\n",
              "          if (!dataTable) return;\n",
              "\n",
              "          const docLinkHtml = 'Like what you see? Visit the ' +\n",
              "            '<a target=\"_blank\" href=https://colab.research.google.com/notebooks/data_table.ipynb>data table notebook</a>'\n",
              "            + ' to learn more about interactive tables.';\n",
              "          element.innerHTML = '';\n",
              "          dataTable['output_type'] = 'display_data';\n",
              "          await google.colab.output.renderOutput(dataTable, element);\n",
              "          const docLink = document.createElement('div');\n",
              "          docLink.innerHTML = docLinkHtml;\n",
              "          element.appendChild(docLink);\n",
              "        }\n",
              "      </script>\n",
              "    </div>\n",
              "  </div>\n",
              "  "
            ]
          },
          "metadata": {},
          "execution_count": 7
        }
      ]
    },
    {
      "cell_type": "code",
      "source": [
        "df['word_counts'].max()"
      ],
      "metadata": {
        "colab": {
          "base_uri": "https://localhost:8080/"
        },
        "id": "mQsdQfyjGsQc",
        "outputId": "56e81e44-09bd-46a2-da7d-f922e7bf7497"
      },
      "execution_count": null,
      "outputs": [
        {
          "output_type": "execute_result",
          "data": {
            "text/plain": [
              "32"
            ]
          },
          "metadata": {},
          "execution_count": 8
        }
      ]
    },
    {
      "cell_type": "code",
      "source": [
        "df['word_counts'].min()"
      ],
      "metadata": {
        "colab": {
          "base_uri": "https://localhost:8080/"
        },
        "id": "5CzudevwGsTC",
        "outputId": "d5f60d4b-2d0c-4cf8-b445-1d34c1b58fe7"
      },
      "execution_count": null,
      "outputs": [
        {
          "output_type": "execute_result",
          "data": {
            "text/plain": [
              "1"
            ]
          },
          "metadata": {},
          "execution_count": 9
        }
      ]
    },
    {
      "cell_type": "code",
      "source": [
        "df[df['word_counts']==1]"
      ],
      "metadata": {
        "colab": {
          "base_uri": "https://localhost:8080/",
          "height": 394
        },
        "id": "cjLPBwtNGsVa",
        "outputId": "b02ee193-43a0-4232-a5c9-7ac86ff0fb92"
      },
      "execution_count": null,
      "outputs": [
        {
          "output_type": "execute_result",
          "data": {
            "text/plain": [
              "                               twitts  sentiment  word_counts\n",
              "385                         homework           0            1\n",
              "691                         @ekrelly           0            1\n",
              "1124                    disappointed           0            1\n",
              "1286                 @officialmgnfox           0            1\n",
              "1325                        headache           0            1\n",
              "1897                      @MCRmuffin           0            1\n",
              "2542                      Graduated!           1            1\n",
              "2947                         reading           1            1\n",
              "3176                    @omeirdeleon           1            1\n",
              "3470  www.myspace.com/myfinalthought           1            1\n",
              "3966                        @gethyp3           1            1"
            ],
            "text/html": [
              "\n",
              "  <div id=\"df-cf901527-e335-40fb-801c-992cc40f4c65\">\n",
              "    <div class=\"colab-df-container\">\n",
              "      <div>\n",
              "<style scoped>\n",
              "    .dataframe tbody tr th:only-of-type {\n",
              "        vertical-align: middle;\n",
              "    }\n",
              "\n",
              "    .dataframe tbody tr th {\n",
              "        vertical-align: top;\n",
              "    }\n",
              "\n",
              "    .dataframe thead th {\n",
              "        text-align: right;\n",
              "    }\n",
              "</style>\n",
              "<table border=\"1\" class=\"dataframe\">\n",
              "  <thead>\n",
              "    <tr style=\"text-align: right;\">\n",
              "      <th></th>\n",
              "      <th>twitts</th>\n",
              "      <th>sentiment</th>\n",
              "      <th>word_counts</th>\n",
              "    </tr>\n",
              "  </thead>\n",
              "  <tbody>\n",
              "    <tr>\n",
              "      <th>385</th>\n",
              "      <td>homework</td>\n",
              "      <td>0</td>\n",
              "      <td>1</td>\n",
              "    </tr>\n",
              "    <tr>\n",
              "      <th>691</th>\n",
              "      <td>@ekrelly</td>\n",
              "      <td>0</td>\n",
              "      <td>1</td>\n",
              "    </tr>\n",
              "    <tr>\n",
              "      <th>1124</th>\n",
              "      <td>disappointed</td>\n",
              "      <td>0</td>\n",
              "      <td>1</td>\n",
              "    </tr>\n",
              "    <tr>\n",
              "      <th>1286</th>\n",
              "      <td>@officialmgnfox</td>\n",
              "      <td>0</td>\n",
              "      <td>1</td>\n",
              "    </tr>\n",
              "    <tr>\n",
              "      <th>1325</th>\n",
              "      <td>headache</td>\n",
              "      <td>0</td>\n",
              "      <td>1</td>\n",
              "    </tr>\n",
              "    <tr>\n",
              "      <th>1897</th>\n",
              "      <td>@MCRmuffin</td>\n",
              "      <td>0</td>\n",
              "      <td>1</td>\n",
              "    </tr>\n",
              "    <tr>\n",
              "      <th>2542</th>\n",
              "      <td>Graduated!</td>\n",
              "      <td>1</td>\n",
              "      <td>1</td>\n",
              "    </tr>\n",
              "    <tr>\n",
              "      <th>2947</th>\n",
              "      <td>reading</td>\n",
              "      <td>1</td>\n",
              "      <td>1</td>\n",
              "    </tr>\n",
              "    <tr>\n",
              "      <th>3176</th>\n",
              "      <td>@omeirdeleon</td>\n",
              "      <td>1</td>\n",
              "      <td>1</td>\n",
              "    </tr>\n",
              "    <tr>\n",
              "      <th>3470</th>\n",
              "      <td>www.myspace.com/myfinalthought</td>\n",
              "      <td>1</td>\n",
              "      <td>1</td>\n",
              "    </tr>\n",
              "    <tr>\n",
              "      <th>3966</th>\n",
              "      <td>@gethyp3</td>\n",
              "      <td>1</td>\n",
              "      <td>1</td>\n",
              "    </tr>\n",
              "  </tbody>\n",
              "</table>\n",
              "</div>\n",
              "      <button class=\"colab-df-convert\" onclick=\"convertToInteractive('df-cf901527-e335-40fb-801c-992cc40f4c65')\"\n",
              "              title=\"Convert this dataframe to an interactive table.\"\n",
              "              style=\"display:none;\">\n",
              "        \n",
              "  <svg xmlns=\"http://www.w3.org/2000/svg\" height=\"24px\"viewBox=\"0 0 24 24\"\n",
              "       width=\"24px\">\n",
              "    <path d=\"M0 0h24v24H0V0z\" fill=\"none\"/>\n",
              "    <path d=\"M18.56 5.44l.94 2.06.94-2.06 2.06-.94-2.06-.94-.94-2.06-.94 2.06-2.06.94zm-11 1L8.5 8.5l.94-2.06 2.06-.94-2.06-.94L8.5 2.5l-.94 2.06-2.06.94zm10 10l.94 2.06.94-2.06 2.06-.94-2.06-.94-.94-2.06-.94 2.06-2.06.94z\"/><path d=\"M17.41 7.96l-1.37-1.37c-.4-.4-.92-.59-1.43-.59-.52 0-1.04.2-1.43.59L10.3 9.45l-7.72 7.72c-.78.78-.78 2.05 0 2.83L4 21.41c.39.39.9.59 1.41.59.51 0 1.02-.2 1.41-.59l7.78-7.78 2.81-2.81c.8-.78.8-2.07 0-2.86zM5.41 20L4 18.59l7.72-7.72 1.47 1.35L5.41 20z\"/>\n",
              "  </svg>\n",
              "      </button>\n",
              "      \n",
              "  <style>\n",
              "    .colab-df-container {\n",
              "      display:flex;\n",
              "      flex-wrap:wrap;\n",
              "      gap: 12px;\n",
              "    }\n",
              "\n",
              "    .colab-df-convert {\n",
              "      background-color: #E8F0FE;\n",
              "      border: none;\n",
              "      border-radius: 50%;\n",
              "      cursor: pointer;\n",
              "      display: none;\n",
              "      fill: #1967D2;\n",
              "      height: 32px;\n",
              "      padding: 0 0 0 0;\n",
              "      width: 32px;\n",
              "    }\n",
              "\n",
              "    .colab-df-convert:hover {\n",
              "      background-color: #E2EBFA;\n",
              "      box-shadow: 0px 1px 2px rgba(60, 64, 67, 0.3), 0px 1px 3px 1px rgba(60, 64, 67, 0.15);\n",
              "      fill: #174EA6;\n",
              "    }\n",
              "\n",
              "    [theme=dark] .colab-df-convert {\n",
              "      background-color: #3B4455;\n",
              "      fill: #D2E3FC;\n",
              "    }\n",
              "\n",
              "    [theme=dark] .colab-df-convert:hover {\n",
              "      background-color: #434B5C;\n",
              "      box-shadow: 0px 1px 3px 1px rgba(0, 0, 0, 0.15);\n",
              "      filter: drop-shadow(0px 1px 2px rgba(0, 0, 0, 0.3));\n",
              "      fill: #FFFFFF;\n",
              "    }\n",
              "  </style>\n",
              "\n",
              "      <script>\n",
              "        const buttonEl =\n",
              "          document.querySelector('#df-cf901527-e335-40fb-801c-992cc40f4c65 button.colab-df-convert');\n",
              "        buttonEl.style.display =\n",
              "          google.colab.kernel.accessAllowed ? 'block' : 'none';\n",
              "\n",
              "        async function convertToInteractive(key) {\n",
              "          const element = document.querySelector('#df-cf901527-e335-40fb-801c-992cc40f4c65');\n",
              "          const dataTable =\n",
              "            await google.colab.kernel.invokeFunction('convertToInteractive',\n",
              "                                                     [key], {});\n",
              "          if (!dataTable) return;\n",
              "\n",
              "          const docLinkHtml = 'Like what you see? Visit the ' +\n",
              "            '<a target=\"_blank\" href=https://colab.research.google.com/notebooks/data_table.ipynb>data table notebook</a>'\n",
              "            + ' to learn more about interactive tables.';\n",
              "          element.innerHTML = '';\n",
              "          dataTable['output_type'] = 'display_data';\n",
              "          await google.colab.output.renderOutput(dataTable, element);\n",
              "          const docLink = document.createElement('div');\n",
              "          docLink.innerHTML = docLinkHtml;\n",
              "          element.appendChild(docLink);\n",
              "        }\n",
              "      </script>\n",
              "    </div>\n",
              "  </div>\n",
              "  "
            ]
          },
          "metadata": {},
          "execution_count": 10
        }
      ]
    },
    {
      "cell_type": "markdown",
      "source": [
        "##Characters Count"
      ],
      "metadata": {
        "id": "PkXxI2Msowre"
      }
    },
    {
      "cell_type": "code",
      "source": [
        "len('this is')"
      ],
      "metadata": {
        "colab": {
          "base_uri": "https://localhost:8080/"
        },
        "id": "JAEdYvPcGsX9",
        "outputId": "e9a61fed-f10d-4300-b1e5-b7c81314aff2"
      },
      "execution_count": null,
      "outputs": [
        {
          "output_type": "execute_result",
          "data": {
            "text/plain": [
              "7"
            ]
          },
          "metadata": {},
          "execution_count": 11
        }
      ]
    },
    {
      "cell_type": "code",
      "source": [
        "def char_counts(x):\n",
        "  s = x.split()\n",
        "  x = ''.join(s)\n",
        "  return len(x)"
      ],
      "metadata": {
        "id": "k_Hqk0rCGsaH"
      },
      "execution_count": null,
      "outputs": []
    },
    {
      "cell_type": "code",
      "source": [
        "char_counts('this is')"
      ],
      "metadata": {
        "colab": {
          "base_uri": "https://localhost:8080/"
        },
        "id": "sdLgFd8IGsdI",
        "outputId": "233e256f-3af8-46bd-8332-f0bbef09459b"
      },
      "execution_count": null,
      "outputs": [
        {
          "output_type": "execute_result",
          "data": {
            "text/plain": [
              "6"
            ]
          },
          "metadata": {},
          "execution_count": 13
        }
      ]
    },
    {
      "cell_type": "code",
      "source": [
        "df['char_counts'] = df['twitts'].apply(lambda x: char_counts(str(x)))"
      ],
      "metadata": {
        "id": "24z22brLGsfh"
      },
      "execution_count": null,
      "outputs": []
    },
    {
      "cell_type": "code",
      "source": [
        "df.sample(5)"
      ],
      "metadata": {
        "colab": {
          "base_uri": "https://localhost:8080/",
          "height": 206
        },
        "id": "XGqvNLE2Gshw",
        "outputId": "d6a33e87-0c02-46ae-aa3f-483affd4dd30"
      },
      "execution_count": null,
      "outputs": [
        {
          "output_type": "execute_result",
          "data": {
            "text/plain": [
              "                                                 twitts  sentiment  \\\n",
              "2836  happy mothers day to all   im off to spend the...          1   \n",
              "3556  @djbriancua yeah thats a good start. back then...          1   \n",
              "3577  @jaime_fox @jason_mcintyre  Sorry abt game 1 S...          1   \n",
              "2066  @gonetotimbuktu absolutely! love love love tha...          1   \n",
              "2336  Loves getting off work at 12 noon on Fridays! ...          1   \n",
              "\n",
              "      word_counts  char_counts  \n",
              "2836           14           50  \n",
              "3556           28          109  \n",
              "3577           25          110  \n",
              "2066           14           86  \n",
              "2336           14           63  "
            ],
            "text/html": [
              "\n",
              "  <div id=\"df-b0359a49-f828-4945-80b0-c610d39b3e6d\">\n",
              "    <div class=\"colab-df-container\">\n",
              "      <div>\n",
              "<style scoped>\n",
              "    .dataframe tbody tr th:only-of-type {\n",
              "        vertical-align: middle;\n",
              "    }\n",
              "\n",
              "    .dataframe tbody tr th {\n",
              "        vertical-align: top;\n",
              "    }\n",
              "\n",
              "    .dataframe thead th {\n",
              "        text-align: right;\n",
              "    }\n",
              "</style>\n",
              "<table border=\"1\" class=\"dataframe\">\n",
              "  <thead>\n",
              "    <tr style=\"text-align: right;\">\n",
              "      <th></th>\n",
              "      <th>twitts</th>\n",
              "      <th>sentiment</th>\n",
              "      <th>word_counts</th>\n",
              "      <th>char_counts</th>\n",
              "    </tr>\n",
              "  </thead>\n",
              "  <tbody>\n",
              "    <tr>\n",
              "      <th>2836</th>\n",
              "      <td>happy mothers day to all   im off to spend the...</td>\n",
              "      <td>1</td>\n",
              "      <td>14</td>\n",
              "      <td>50</td>\n",
              "    </tr>\n",
              "    <tr>\n",
              "      <th>3556</th>\n",
              "      <td>@djbriancua yeah thats a good start. back then...</td>\n",
              "      <td>1</td>\n",
              "      <td>28</td>\n",
              "      <td>109</td>\n",
              "    </tr>\n",
              "    <tr>\n",
              "      <th>3577</th>\n",
              "      <td>@jaime_fox @jason_mcintyre  Sorry abt game 1 S...</td>\n",
              "      <td>1</td>\n",
              "      <td>25</td>\n",
              "      <td>110</td>\n",
              "    </tr>\n",
              "    <tr>\n",
              "      <th>2066</th>\n",
              "      <td>@gonetotimbuktu absolutely! love love love tha...</td>\n",
              "      <td>1</td>\n",
              "      <td>14</td>\n",
              "      <td>86</td>\n",
              "    </tr>\n",
              "    <tr>\n",
              "      <th>2336</th>\n",
              "      <td>Loves getting off work at 12 noon on Fridays! ...</td>\n",
              "      <td>1</td>\n",
              "      <td>14</td>\n",
              "      <td>63</td>\n",
              "    </tr>\n",
              "  </tbody>\n",
              "</table>\n",
              "</div>\n",
              "      <button class=\"colab-df-convert\" onclick=\"convertToInteractive('df-b0359a49-f828-4945-80b0-c610d39b3e6d')\"\n",
              "              title=\"Convert this dataframe to an interactive table.\"\n",
              "              style=\"display:none;\">\n",
              "        \n",
              "  <svg xmlns=\"http://www.w3.org/2000/svg\" height=\"24px\"viewBox=\"0 0 24 24\"\n",
              "       width=\"24px\">\n",
              "    <path d=\"M0 0h24v24H0V0z\" fill=\"none\"/>\n",
              "    <path d=\"M18.56 5.44l.94 2.06.94-2.06 2.06-.94-2.06-.94-.94-2.06-.94 2.06-2.06.94zm-11 1L8.5 8.5l.94-2.06 2.06-.94-2.06-.94L8.5 2.5l-.94 2.06-2.06.94zm10 10l.94 2.06.94-2.06 2.06-.94-2.06-.94-.94-2.06-.94 2.06-2.06.94z\"/><path d=\"M17.41 7.96l-1.37-1.37c-.4-.4-.92-.59-1.43-.59-.52 0-1.04.2-1.43.59L10.3 9.45l-7.72 7.72c-.78.78-.78 2.05 0 2.83L4 21.41c.39.39.9.59 1.41.59.51 0 1.02-.2 1.41-.59l7.78-7.78 2.81-2.81c.8-.78.8-2.07 0-2.86zM5.41 20L4 18.59l7.72-7.72 1.47 1.35L5.41 20z\"/>\n",
              "  </svg>\n",
              "      </button>\n",
              "      \n",
              "  <style>\n",
              "    .colab-df-container {\n",
              "      display:flex;\n",
              "      flex-wrap:wrap;\n",
              "      gap: 12px;\n",
              "    }\n",
              "\n",
              "    .colab-df-convert {\n",
              "      background-color: #E8F0FE;\n",
              "      border: none;\n",
              "      border-radius: 50%;\n",
              "      cursor: pointer;\n",
              "      display: none;\n",
              "      fill: #1967D2;\n",
              "      height: 32px;\n",
              "      padding: 0 0 0 0;\n",
              "      width: 32px;\n",
              "    }\n",
              "\n",
              "    .colab-df-convert:hover {\n",
              "      background-color: #E2EBFA;\n",
              "      box-shadow: 0px 1px 2px rgba(60, 64, 67, 0.3), 0px 1px 3px 1px rgba(60, 64, 67, 0.15);\n",
              "      fill: #174EA6;\n",
              "    }\n",
              "\n",
              "    [theme=dark] .colab-df-convert {\n",
              "      background-color: #3B4455;\n",
              "      fill: #D2E3FC;\n",
              "    }\n",
              "\n",
              "    [theme=dark] .colab-df-convert:hover {\n",
              "      background-color: #434B5C;\n",
              "      box-shadow: 0px 1px 3px 1px rgba(0, 0, 0, 0.15);\n",
              "      filter: drop-shadow(0px 1px 2px rgba(0, 0, 0, 0.3));\n",
              "      fill: #FFFFFF;\n",
              "    }\n",
              "  </style>\n",
              "\n",
              "      <script>\n",
              "        const buttonEl =\n",
              "          document.querySelector('#df-b0359a49-f828-4945-80b0-c610d39b3e6d button.colab-df-convert');\n",
              "        buttonEl.style.display =\n",
              "          google.colab.kernel.accessAllowed ? 'block' : 'none';\n",
              "\n",
              "        async function convertToInteractive(key) {\n",
              "          const element = document.querySelector('#df-b0359a49-f828-4945-80b0-c610d39b3e6d');\n",
              "          const dataTable =\n",
              "            await google.colab.kernel.invokeFunction('convertToInteractive',\n",
              "                                                     [key], {});\n",
              "          if (!dataTable) return;\n",
              "\n",
              "          const docLinkHtml = 'Like what you see? Visit the ' +\n",
              "            '<a target=\"_blank\" href=https://colab.research.google.com/notebooks/data_table.ipynb>data table notebook</a>'\n",
              "            + ' to learn more about interactive tables.';\n",
              "          element.innerHTML = '';\n",
              "          dataTable['output_type'] = 'display_data';\n",
              "          await google.colab.output.renderOutput(dataTable, element);\n",
              "          const docLink = document.createElement('div');\n",
              "          docLink.innerHTML = docLinkHtml;\n",
              "          element.appendChild(docLink);\n",
              "        }\n",
              "      </script>\n",
              "    </div>\n",
              "  </div>\n",
              "  "
            ]
          },
          "metadata": {},
          "execution_count": 15
        }
      ]
    },
    {
      "cell_type": "markdown",
      "source": [
        "##Average Word Count"
      ],
      "metadata": {
        "id": "kJ9T9QSEqTAB"
      }
    },
    {
      "cell_type": "code",
      "source": [
        "x = 'this is' #6/2 =3\n",
        "y = 'thankyou guys' # 12/2 =6"
      ],
      "metadata": {
        "id": "Zt0NUDZlGskI"
      },
      "execution_count": null,
      "outputs": []
    },
    {
      "cell_type": "code",
      "source": [
        "df['avg_word_len'] = df['char_counts']/df['word_counts']"
      ],
      "metadata": {
        "id": "w282pK8CGsm-"
      },
      "execution_count": null,
      "outputs": []
    },
    {
      "cell_type": "code",
      "source": [
        "df.sample(4)"
      ],
      "metadata": {
        "colab": {
          "base_uri": "https://localhost:8080/",
          "height": 175
        },
        "id": "kFG9CogeGspJ",
        "outputId": "3ad7ddac-b88f-4deb-b2db-cb78b4a9abe6"
      },
      "execution_count": null,
      "outputs": [
        {
          "output_type": "execute_result",
          "data": {
            "text/plain": [
              "                                                 twitts  sentiment  \\\n",
              "723   @sweetkisses277 Out of time, with Denzel Washi...          0   \n",
              "1888                          just about to go to work           0   \n",
              "277   @einahpets20 yer I'm good missing Sydney soooo...          0   \n",
              "3494                              @jer1990 lol I agree           1   \n",
              "\n",
              "      word_counts  char_counts  avg_word_len  \n",
              "723            17           86      5.058824  \n",
              "1888            6           19      3.166667  \n",
              "277            15           74      4.933333  \n",
              "3494            4           17      4.250000  "
            ],
            "text/html": [
              "\n",
              "  <div id=\"df-0a308157-4254-4575-a7f7-11d13f4762ae\">\n",
              "    <div class=\"colab-df-container\">\n",
              "      <div>\n",
              "<style scoped>\n",
              "    .dataframe tbody tr th:only-of-type {\n",
              "        vertical-align: middle;\n",
              "    }\n",
              "\n",
              "    .dataframe tbody tr th {\n",
              "        vertical-align: top;\n",
              "    }\n",
              "\n",
              "    .dataframe thead th {\n",
              "        text-align: right;\n",
              "    }\n",
              "</style>\n",
              "<table border=\"1\" class=\"dataframe\">\n",
              "  <thead>\n",
              "    <tr style=\"text-align: right;\">\n",
              "      <th></th>\n",
              "      <th>twitts</th>\n",
              "      <th>sentiment</th>\n",
              "      <th>word_counts</th>\n",
              "      <th>char_counts</th>\n",
              "      <th>avg_word_len</th>\n",
              "    </tr>\n",
              "  </thead>\n",
              "  <tbody>\n",
              "    <tr>\n",
              "      <th>723</th>\n",
              "      <td>@sweetkisses277 Out of time, with Denzel Washi...</td>\n",
              "      <td>0</td>\n",
              "      <td>17</td>\n",
              "      <td>86</td>\n",
              "      <td>5.058824</td>\n",
              "    </tr>\n",
              "    <tr>\n",
              "      <th>1888</th>\n",
              "      <td>just about to go to work</td>\n",
              "      <td>0</td>\n",
              "      <td>6</td>\n",
              "      <td>19</td>\n",
              "      <td>3.166667</td>\n",
              "    </tr>\n",
              "    <tr>\n",
              "      <th>277</th>\n",
              "      <td>@einahpets20 yer I'm good missing Sydney soooo...</td>\n",
              "      <td>0</td>\n",
              "      <td>15</td>\n",
              "      <td>74</td>\n",
              "      <td>4.933333</td>\n",
              "    </tr>\n",
              "    <tr>\n",
              "      <th>3494</th>\n",
              "      <td>@jer1990 lol I agree</td>\n",
              "      <td>1</td>\n",
              "      <td>4</td>\n",
              "      <td>17</td>\n",
              "      <td>4.250000</td>\n",
              "    </tr>\n",
              "  </tbody>\n",
              "</table>\n",
              "</div>\n",
              "      <button class=\"colab-df-convert\" onclick=\"convertToInteractive('df-0a308157-4254-4575-a7f7-11d13f4762ae')\"\n",
              "              title=\"Convert this dataframe to an interactive table.\"\n",
              "              style=\"display:none;\">\n",
              "        \n",
              "  <svg xmlns=\"http://www.w3.org/2000/svg\" height=\"24px\"viewBox=\"0 0 24 24\"\n",
              "       width=\"24px\">\n",
              "    <path d=\"M0 0h24v24H0V0z\" fill=\"none\"/>\n",
              "    <path d=\"M18.56 5.44l.94 2.06.94-2.06 2.06-.94-2.06-.94-.94-2.06-.94 2.06-2.06.94zm-11 1L8.5 8.5l.94-2.06 2.06-.94-2.06-.94L8.5 2.5l-.94 2.06-2.06.94zm10 10l.94 2.06.94-2.06 2.06-.94-2.06-.94-.94-2.06-.94 2.06-2.06.94z\"/><path d=\"M17.41 7.96l-1.37-1.37c-.4-.4-.92-.59-1.43-.59-.52 0-1.04.2-1.43.59L10.3 9.45l-7.72 7.72c-.78.78-.78 2.05 0 2.83L4 21.41c.39.39.9.59 1.41.59.51 0 1.02-.2 1.41-.59l7.78-7.78 2.81-2.81c.8-.78.8-2.07 0-2.86zM5.41 20L4 18.59l7.72-7.72 1.47 1.35L5.41 20z\"/>\n",
              "  </svg>\n",
              "      </button>\n",
              "      \n",
              "  <style>\n",
              "    .colab-df-container {\n",
              "      display:flex;\n",
              "      flex-wrap:wrap;\n",
              "      gap: 12px;\n",
              "    }\n",
              "\n",
              "    .colab-df-convert {\n",
              "      background-color: #E8F0FE;\n",
              "      border: none;\n",
              "      border-radius: 50%;\n",
              "      cursor: pointer;\n",
              "      display: none;\n",
              "      fill: #1967D2;\n",
              "      height: 32px;\n",
              "      padding: 0 0 0 0;\n",
              "      width: 32px;\n",
              "    }\n",
              "\n",
              "    .colab-df-convert:hover {\n",
              "      background-color: #E2EBFA;\n",
              "      box-shadow: 0px 1px 2px rgba(60, 64, 67, 0.3), 0px 1px 3px 1px rgba(60, 64, 67, 0.15);\n",
              "      fill: #174EA6;\n",
              "    }\n",
              "\n",
              "    [theme=dark] .colab-df-convert {\n",
              "      background-color: #3B4455;\n",
              "      fill: #D2E3FC;\n",
              "    }\n",
              "\n",
              "    [theme=dark] .colab-df-convert:hover {\n",
              "      background-color: #434B5C;\n",
              "      box-shadow: 0px 1px 3px 1px rgba(0, 0, 0, 0.15);\n",
              "      filter: drop-shadow(0px 1px 2px rgba(0, 0, 0, 0.3));\n",
              "      fill: #FFFFFF;\n",
              "    }\n",
              "  </style>\n",
              "\n",
              "      <script>\n",
              "        const buttonEl =\n",
              "          document.querySelector('#df-0a308157-4254-4575-a7f7-11d13f4762ae button.colab-df-convert');\n",
              "        buttonEl.style.display =\n",
              "          google.colab.kernel.accessAllowed ? 'block' : 'none';\n",
              "\n",
              "        async function convertToInteractive(key) {\n",
              "          const element = document.querySelector('#df-0a308157-4254-4575-a7f7-11d13f4762ae');\n",
              "          const dataTable =\n",
              "            await google.colab.kernel.invokeFunction('convertToInteractive',\n",
              "                                                     [key], {});\n",
              "          if (!dataTable) return;\n",
              "\n",
              "          const docLinkHtml = 'Like what you see? Visit the ' +\n",
              "            '<a target=\"_blank\" href=https://colab.research.google.com/notebooks/data_table.ipynb>data table notebook</a>'\n",
              "            + ' to learn more about interactive tables.';\n",
              "          element.innerHTML = '';\n",
              "          dataTable['output_type'] = 'display_data';\n",
              "          await google.colab.output.renderOutput(dataTable, element);\n",
              "          const docLink = document.createElement('div');\n",
              "          docLink.innerHTML = docLinkHtml;\n",
              "          element.appendChild(docLink);\n",
              "        }\n",
              "      </script>\n",
              "    </div>\n",
              "  </div>\n",
              "  "
            ]
          },
          "metadata": {},
          "execution_count": 18
        }
      ]
    },
    {
      "cell_type": "markdown",
      "source": [
        "#Stop Words Count"
      ],
      "metadata": {
        "id": "mmJXBJc3rYXv"
      }
    },
    {
      "cell_type": "code",
      "source": [
        "print(stopwords)"
      ],
      "metadata": {
        "colab": {
          "base_uri": "https://localhost:8080/"
        },
        "id": "GQgCT4qKGssC",
        "outputId": "6282c003-fd39-4755-d8bf-75c56bf3a387"
      },
      "execution_count": null,
      "outputs": [
        {
          "output_type": "stream",
          "name": "stdout",
          "text": [
            "{'any', 'out', 'ours', 'did', 'seem', '‘d', 'whereupon', '’ll', 'everywhere', 'not', 'i', 'or', 'just', 'make', 'sixty', 'rather', '‘ll', 'once', 'still', 'take', '‘re', 'move', 'none', 'serious', 'get', 'around', 'being', 'than', 'somewhere', 'as', 'onto', 'nevertheless', 'beyond', 'whereby', 'moreover', 'together', 'mostly', 'so', 'except', 'either', 'hereupon', 'cannot', 'whoever', 'five', 'many', 'eleven', 'ourselves', 'fifty', 'her', 'in', 'everything', 'my', 'one', 'she', 'may', 'throughout', 'you', 'really', 'same', 'three', 'others', 'across', 'regarding', 'due', 'quite', 'yourselves', 'on', 'often', 'whom', 'for', 'us', 'another', 'down', 'becoming', 'had', 'sometime', 'now', 'during', 'ever', 'within', 'must', 'hereafter', 'anyone', '’m', 'eight', 'himself', 'elsewhere', 'this', 'unless', 'however', 'such', '’re', 'something', 'only', 'when', \"'ll\", 'an', 'it', 'he', 'be', 'nothing', 'was', 'yours', 'much', 'beside', 'almost', 'via', 'six', 'doing', 'whence', 'per', \"'m\", 'after', 'beforehand', 'enough', 'since', 'put', 'before', 'which', '’d', \"'re\", 'four', 'thus', 'neither', 'then', 'these', 'n’t', 'whether', 'both', \"'ve\", 'do', 'were', 'might', 'whereas', 'empty', 'up', 'top', 'here', 'yet', 'ca', 'whereafter', 'also', 'each', 'with', 'should', 'own', 'name', 'otherwise', 'least', 'forty', 'noone', 'indeed', 'seemed', 'third', 'no', 'twelve', '’ve', 'some', 'therein', 'about', 'somehow', 'became', 'every', 'if', 'give', 'all', 'without', 'over', 'hundred', 'thence', 'becomes', 'see', 'meanwhile', 'therefore', 'thru', 'can', 'nine', 'whatever', 'whenever', 'would', 'their', 'between', 'mine', '‘ve', 'twenty', 'under', 'afterwards', 'into', 'amongst', 'anyhow', 'along', 'fifteen', 'from', 'through', 'most', 'call', 'show', 'two', 'them', 're', 'bottom', 'whither', 'me', 'go', 'themselves', 'whole', 'why', \"'d\", 'whose', 'using', 'by', 'anywhere', 'those', 'him', 'namely', 'we', 'side', 'thereby', 'wherein', 'have', 'less', 'thereafter', 'well', 'someone', 'been', 'already', 'hereby', 'though', 'your', 'are', 'to', 'again', 'while', 'wherever', 'toward', 'although', 'alone', 'first', 'behind', 'anyway', 'yourself', 'last', 'n‘t', 'seeming', 'next', 'at', 'various', 'please', 'until', 'used', 'but', 'part', 'where', '‘s', 'latter', 'several', 'towards', 'too', 'how', 'what', 'off', 'amount', 'besides', 'sometimes', 'hers', 'full', 'become', 'everyone', 'keep', 'and', 'among', 'will', 'hence', 'a', 'his', 'that', 'always', 'other', 'formerly', 'very', 'anything', 'has', 'few', 'former', 'even', 'made', 'nowhere', 'could', 'done', 'front', 'more', '‘m', 'itself', 'seems', 'ten', 'never', 'nobody', 'thereupon', 'they', '’s', 'its', 'am', 'latterly', \"n't\", 'herein', 'below', 'nor', 'who', 'else', 'perhaps', 'say', 'because', 'back', 'of', 'above', \"'s\", 'against', 'there', 'herself', 'does', 'upon', 'further', 'myself', 'is', 'the', 'our'}\n"
          ]
        }
      ]
    },
    {
      "cell_type": "code",
      "source": [
        "len(stopwords)"
      ],
      "metadata": {
        "colab": {
          "base_uri": "https://localhost:8080/"
        },
        "id": "cfnLaCiXGsu7",
        "outputId": "08005a45-86e2-4cdb-f49a-656ac3fdd012"
      },
      "execution_count": null,
      "outputs": [
        {
          "output_type": "execute_result",
          "data": {
            "text/plain": [
              "326"
            ]
          },
          "metadata": {},
          "execution_count": 20
        }
      ]
    },
    {
      "cell_type": "code",
      "source": [
        "x = 'this is the text data'"
      ],
      "metadata": {
        "id": "f_mZqvRTrkzk"
      },
      "execution_count": null,
      "outputs": []
    },
    {
      "cell_type": "code",
      "source": [
        "x.split()"
      ],
      "metadata": {
        "colab": {
          "base_uri": "https://localhost:8080/"
        },
        "id": "jewZFfF1rk2x",
        "outputId": "c2191ef3-64dc-4cfe-c97c-d10814b73dd1"
      },
      "execution_count": null,
      "outputs": [
        {
          "output_type": "execute_result",
          "data": {
            "text/plain": [
              "['this', 'is', 'the', 'text', 'data']"
            ]
          },
          "metadata": {},
          "execution_count": 22
        }
      ]
    },
    {
      "cell_type": "code",
      "source": [
        "[t for t in x.split() if t in stopwords]"
      ],
      "metadata": {
        "colab": {
          "base_uri": "https://localhost:8080/"
        },
        "id": "Md3Gc7Yprk5n",
        "outputId": "49f82ca2-a79a-4905-bf63-32399f5a0393"
      },
      "execution_count": null,
      "outputs": [
        {
          "output_type": "execute_result",
          "data": {
            "text/plain": [
              "['this', 'is', 'the']"
            ]
          },
          "metadata": {},
          "execution_count": 23
        }
      ]
    },
    {
      "cell_type": "code",
      "source": [
        "len([t for t in x.split() if t in stopwords])"
      ],
      "metadata": {
        "colab": {
          "base_uri": "https://localhost:8080/"
        },
        "id": "Jy4ne305rk75",
        "outputId": "70deef44-619e-4b85-f469-4e79e71b6b4b"
      },
      "execution_count": null,
      "outputs": [
        {
          "output_type": "execute_result",
          "data": {
            "text/plain": [
              "3"
            ]
          },
          "metadata": {},
          "execution_count": 24
        }
      ]
    },
    {
      "cell_type": "code",
      "source": [
        "df['stop_words_len'] = df['twitts'].apply(lambda x: len([t for t in x.split() if t in stopwords]))"
      ],
      "metadata": {
        "id": "lR-dik3frk-V"
      },
      "execution_count": null,
      "outputs": []
    },
    {
      "cell_type": "code",
      "source": [
        "df.sample(5)"
      ],
      "metadata": {
        "colab": {
          "base_uri": "https://localhost:8080/",
          "height": 206
        },
        "id": "_4yICQC2rlA4",
        "outputId": "de3eefa3-165a-415b-93ff-04115ecb458d"
      },
      "execution_count": null,
      "outputs": [
        {
          "output_type": "execute_result",
          "data": {
            "text/plain": [
              "                                                 twitts  sentiment  \\\n",
              "1364  @MattiaRenee aw poor baby all that 2nd hand sm...          0   \n",
              "1206  Gaaaaaaaaaaahhh. Sims 3 fail  My laptop doesn'...          0   \n",
              "3874  @heidimontag It was wonderful, just home from ...          1   \n",
              "2408  @fddlgrl That hecka sucks. (via @HeckaYeah) ||...          1   \n",
              "1956  I'm so happy  I didn't expect to have one..let...          0   \n",
              "\n",
              "      word_counts  char_counts  avg_word_len  stop_words_len  \n",
              "1364            9           42      4.666667               2  \n",
              "1206           13           66      5.076923               3  \n",
              "3874           15           69      4.600000               6  \n",
              "2408           13           75      5.769231               1  \n",
              "1956           21           88      4.190476               7  "
            ],
            "text/html": [
              "\n",
              "  <div id=\"df-28f7f251-29cb-48b5-87f1-bdd780e5b29e\">\n",
              "    <div class=\"colab-df-container\">\n",
              "      <div>\n",
              "<style scoped>\n",
              "    .dataframe tbody tr th:only-of-type {\n",
              "        vertical-align: middle;\n",
              "    }\n",
              "\n",
              "    .dataframe tbody tr th {\n",
              "        vertical-align: top;\n",
              "    }\n",
              "\n",
              "    .dataframe thead th {\n",
              "        text-align: right;\n",
              "    }\n",
              "</style>\n",
              "<table border=\"1\" class=\"dataframe\">\n",
              "  <thead>\n",
              "    <tr style=\"text-align: right;\">\n",
              "      <th></th>\n",
              "      <th>twitts</th>\n",
              "      <th>sentiment</th>\n",
              "      <th>word_counts</th>\n",
              "      <th>char_counts</th>\n",
              "      <th>avg_word_len</th>\n",
              "      <th>stop_words_len</th>\n",
              "    </tr>\n",
              "  </thead>\n",
              "  <tbody>\n",
              "    <tr>\n",
              "      <th>1364</th>\n",
              "      <td>@MattiaRenee aw poor baby all that 2nd hand sm...</td>\n",
              "      <td>0</td>\n",
              "      <td>9</td>\n",
              "      <td>42</td>\n",
              "      <td>4.666667</td>\n",
              "      <td>2</td>\n",
              "    </tr>\n",
              "    <tr>\n",
              "      <th>1206</th>\n",
              "      <td>Gaaaaaaaaaaahhh. Sims 3 fail  My laptop doesn'...</td>\n",
              "      <td>0</td>\n",
              "      <td>13</td>\n",
              "      <td>66</td>\n",
              "      <td>5.076923</td>\n",
              "      <td>3</td>\n",
              "    </tr>\n",
              "    <tr>\n",
              "      <th>3874</th>\n",
              "      <td>@heidimontag It was wonderful, just home from ...</td>\n",
              "      <td>1</td>\n",
              "      <td>15</td>\n",
              "      <td>69</td>\n",
              "      <td>4.600000</td>\n",
              "      <td>6</td>\n",
              "    </tr>\n",
              "    <tr>\n",
              "      <th>2408</th>\n",
              "      <td>@fddlgrl That hecka sucks. (via @HeckaYeah) ||...</td>\n",
              "      <td>1</td>\n",
              "      <td>13</td>\n",
              "      <td>75</td>\n",
              "      <td>5.769231</td>\n",
              "      <td>1</td>\n",
              "    </tr>\n",
              "    <tr>\n",
              "      <th>1956</th>\n",
              "      <td>I'm so happy  I didn't expect to have one..let...</td>\n",
              "      <td>0</td>\n",
              "      <td>21</td>\n",
              "      <td>88</td>\n",
              "      <td>4.190476</td>\n",
              "      <td>7</td>\n",
              "    </tr>\n",
              "  </tbody>\n",
              "</table>\n",
              "</div>\n",
              "      <button class=\"colab-df-convert\" onclick=\"convertToInteractive('df-28f7f251-29cb-48b5-87f1-bdd780e5b29e')\"\n",
              "              title=\"Convert this dataframe to an interactive table.\"\n",
              "              style=\"display:none;\">\n",
              "        \n",
              "  <svg xmlns=\"http://www.w3.org/2000/svg\" height=\"24px\"viewBox=\"0 0 24 24\"\n",
              "       width=\"24px\">\n",
              "    <path d=\"M0 0h24v24H0V0z\" fill=\"none\"/>\n",
              "    <path d=\"M18.56 5.44l.94 2.06.94-2.06 2.06-.94-2.06-.94-.94-2.06-.94 2.06-2.06.94zm-11 1L8.5 8.5l.94-2.06 2.06-.94-2.06-.94L8.5 2.5l-.94 2.06-2.06.94zm10 10l.94 2.06.94-2.06 2.06-.94-2.06-.94-.94-2.06-.94 2.06-2.06.94z\"/><path d=\"M17.41 7.96l-1.37-1.37c-.4-.4-.92-.59-1.43-.59-.52 0-1.04.2-1.43.59L10.3 9.45l-7.72 7.72c-.78.78-.78 2.05 0 2.83L4 21.41c.39.39.9.59 1.41.59.51 0 1.02-.2 1.41-.59l7.78-7.78 2.81-2.81c.8-.78.8-2.07 0-2.86zM5.41 20L4 18.59l7.72-7.72 1.47 1.35L5.41 20z\"/>\n",
              "  </svg>\n",
              "      </button>\n",
              "      \n",
              "  <style>\n",
              "    .colab-df-container {\n",
              "      display:flex;\n",
              "      flex-wrap:wrap;\n",
              "      gap: 12px;\n",
              "    }\n",
              "\n",
              "    .colab-df-convert {\n",
              "      background-color: #E8F0FE;\n",
              "      border: none;\n",
              "      border-radius: 50%;\n",
              "      cursor: pointer;\n",
              "      display: none;\n",
              "      fill: #1967D2;\n",
              "      height: 32px;\n",
              "      padding: 0 0 0 0;\n",
              "      width: 32px;\n",
              "    }\n",
              "\n",
              "    .colab-df-convert:hover {\n",
              "      background-color: #E2EBFA;\n",
              "      box-shadow: 0px 1px 2px rgba(60, 64, 67, 0.3), 0px 1px 3px 1px rgba(60, 64, 67, 0.15);\n",
              "      fill: #174EA6;\n",
              "    }\n",
              "\n",
              "    [theme=dark] .colab-df-convert {\n",
              "      background-color: #3B4455;\n",
              "      fill: #D2E3FC;\n",
              "    }\n",
              "\n",
              "    [theme=dark] .colab-df-convert:hover {\n",
              "      background-color: #434B5C;\n",
              "      box-shadow: 0px 1px 3px 1px rgba(0, 0, 0, 0.15);\n",
              "      filter: drop-shadow(0px 1px 2px rgba(0, 0, 0, 0.3));\n",
              "      fill: #FFFFFF;\n",
              "    }\n",
              "  </style>\n",
              "\n",
              "      <script>\n",
              "        const buttonEl =\n",
              "          document.querySelector('#df-28f7f251-29cb-48b5-87f1-bdd780e5b29e button.colab-df-convert');\n",
              "        buttonEl.style.display =\n",
              "          google.colab.kernel.accessAllowed ? 'block' : 'none';\n",
              "\n",
              "        async function convertToInteractive(key) {\n",
              "          const element = document.querySelector('#df-28f7f251-29cb-48b5-87f1-bdd780e5b29e');\n",
              "          const dataTable =\n",
              "            await google.colab.kernel.invokeFunction('convertToInteractive',\n",
              "                                                     [key], {});\n",
              "          if (!dataTable) return;\n",
              "\n",
              "          const docLinkHtml = 'Like what you see? Visit the ' +\n",
              "            '<a target=\"_blank\" href=https://colab.research.google.com/notebooks/data_table.ipynb>data table notebook</a>'\n",
              "            + ' to learn more about interactive tables.';\n",
              "          element.innerHTML = '';\n",
              "          dataTable['output_type'] = 'display_data';\n",
              "          await google.colab.output.renderOutput(dataTable, element);\n",
              "          const docLink = document.createElement('div');\n",
              "          docLink.innerHTML = docLinkHtml;\n",
              "          element.appendChild(docLink);\n",
              "        }\n",
              "      </script>\n",
              "    </div>\n",
              "  </div>\n",
              "  "
            ]
          },
          "metadata": {},
          "execution_count": 26
        }
      ]
    },
    {
      "cell_type": "markdown",
      "source": [
        "##Count #Hashtag and @Mentions"
      ],
      "metadata": {
        "id": "t2uXqZonssOw"
      }
    },
    {
      "cell_type": "code",
      "source": [
        "x = 'this is #hashtag and this is @mention'"
      ],
      "metadata": {
        "id": "sz2GVug_rlEF"
      },
      "execution_count": null,
      "outputs": []
    },
    {
      "cell_type": "code",
      "source": [
        "x.split()"
      ],
      "metadata": {
        "colab": {
          "base_uri": "https://localhost:8080/"
        },
        "id": "HsagFTrsrlGc",
        "outputId": "02d33a26-84fd-41cf-ce95-dd136af2123f"
      },
      "execution_count": null,
      "outputs": [
        {
          "output_type": "execute_result",
          "data": {
            "text/plain": [
              "['this', 'is', '#hashtag', 'and', 'this', 'is', '@mention']"
            ]
          },
          "metadata": {},
          "execution_count": 28
        }
      ]
    },
    {
      "cell_type": "code",
      "source": [
        "[t for t in x.split() if t.startswith('@')]"
      ],
      "metadata": {
        "colab": {
          "base_uri": "https://localhost:8080/"
        },
        "id": "a5K9vNn0rlJW",
        "outputId": "ab868d7c-2364-4d45-f6f2-b940bc0f6822"
      },
      "execution_count": null,
      "outputs": [
        {
          "output_type": "execute_result",
          "data": {
            "text/plain": [
              "['@mention']"
            ]
          },
          "metadata": {},
          "execution_count": 29
        }
      ]
    },
    {
      "cell_type": "code",
      "source": [
        "len([t for t in x.split() if t.startswith('@')])"
      ],
      "metadata": {
        "colab": {
          "base_uri": "https://localhost:8080/"
        },
        "id": "MOUcEsUHtn8J",
        "outputId": "3ad77970-4b4c-4b06-ba80-44ff54fbb454"
      },
      "execution_count": null,
      "outputs": [
        {
          "output_type": "execute_result",
          "data": {
            "text/plain": [
              "1"
            ]
          },
          "metadata": {},
          "execution_count": 30
        }
      ]
    },
    {
      "cell_type": "code",
      "source": [
        "df['hashtag_counts'] = df['twitts'].apply(lambda x: len([t for t in x.split() if t.startswith('#')]))"
      ],
      "metadata": {
        "id": "eORZ4kcptn_P"
      },
      "execution_count": null,
      "outputs": []
    },
    {
      "cell_type": "code",
      "source": [
        "df['mention_counts'] = df['twitts'].apply(lambda x: len([t for t in x.split() if t.startswith('@')]))"
      ],
      "metadata": {
        "id": "4JUprzlftoGa"
      },
      "execution_count": null,
      "outputs": []
    },
    {
      "cell_type": "code",
      "source": [
        "df.sample(5)"
      ],
      "metadata": {
        "colab": {
          "base_uri": "https://localhost:8080/",
          "height": 206
        },
        "id": "CaZMSXe7toMy",
        "outputId": "80a749f1-8414-4990-ebde-aecb3776e315"
      },
      "execution_count": null,
      "outputs": [
        {
          "output_type": "execute_result",
          "data": {
            "text/plain": [
              "                                                 twitts  sentiment  \\\n",
              "1070  @ABBSound ??????? ????? ??? ???? ??? ??? ?? ??...          0   \n",
              "1800  James Broach in the studio for his last EVER s...          0   \n",
              "911   Family day at church today, and my family will...          0   \n",
              "1880  Airports should be lovely magic places but the...          0   \n",
              "586   @dawnmay7 Amen, I love house.  All of my fav s...          0   \n",
              "\n",
              "      word_counts  char_counts  avg_word_len  stop_words_len  hashtag_counts  \\\n",
              "1070            9           46      5.111111               0               0   \n",
              "1800           13           56      4.307692               7               0   \n",
              "911            18           87      4.833333               9               0   \n",
              "1880           23          109      4.739130              13               0   \n",
              "586            15           67      4.466667               3               0   \n",
              "\n",
              "      mention_counts  \n",
              "1070               1  \n",
              "1800               0  \n",
              "911                0  \n",
              "1880               0  \n",
              "586                1  "
            ],
            "text/html": [
              "\n",
              "  <div id=\"df-ea2aa93f-a572-40fe-aca8-c26538cd0f6d\">\n",
              "    <div class=\"colab-df-container\">\n",
              "      <div>\n",
              "<style scoped>\n",
              "    .dataframe tbody tr th:only-of-type {\n",
              "        vertical-align: middle;\n",
              "    }\n",
              "\n",
              "    .dataframe tbody tr th {\n",
              "        vertical-align: top;\n",
              "    }\n",
              "\n",
              "    .dataframe thead th {\n",
              "        text-align: right;\n",
              "    }\n",
              "</style>\n",
              "<table border=\"1\" class=\"dataframe\">\n",
              "  <thead>\n",
              "    <tr style=\"text-align: right;\">\n",
              "      <th></th>\n",
              "      <th>twitts</th>\n",
              "      <th>sentiment</th>\n",
              "      <th>word_counts</th>\n",
              "      <th>char_counts</th>\n",
              "      <th>avg_word_len</th>\n",
              "      <th>stop_words_len</th>\n",
              "      <th>hashtag_counts</th>\n",
              "      <th>mention_counts</th>\n",
              "    </tr>\n",
              "  </thead>\n",
              "  <tbody>\n",
              "    <tr>\n",
              "      <th>1070</th>\n",
              "      <td>@ABBSound ??????? ????? ??? ???? ??? ??? ?? ??...</td>\n",
              "      <td>0</td>\n",
              "      <td>9</td>\n",
              "      <td>46</td>\n",
              "      <td>5.111111</td>\n",
              "      <td>0</td>\n",
              "      <td>0</td>\n",
              "      <td>1</td>\n",
              "    </tr>\n",
              "    <tr>\n",
              "      <th>1800</th>\n",
              "      <td>James Broach in the studio for his last EVER s...</td>\n",
              "      <td>0</td>\n",
              "      <td>13</td>\n",
              "      <td>56</td>\n",
              "      <td>4.307692</td>\n",
              "      <td>7</td>\n",
              "      <td>0</td>\n",
              "      <td>0</td>\n",
              "    </tr>\n",
              "    <tr>\n",
              "      <th>911</th>\n",
              "      <td>Family day at church today, and my family will...</td>\n",
              "      <td>0</td>\n",
              "      <td>18</td>\n",
              "      <td>87</td>\n",
              "      <td>4.833333</td>\n",
              "      <td>9</td>\n",
              "      <td>0</td>\n",
              "      <td>0</td>\n",
              "    </tr>\n",
              "    <tr>\n",
              "      <th>1880</th>\n",
              "      <td>Airports should be lovely magic places but the...</td>\n",
              "      <td>0</td>\n",
              "      <td>23</td>\n",
              "      <td>109</td>\n",
              "      <td>4.739130</td>\n",
              "      <td>13</td>\n",
              "      <td>0</td>\n",
              "      <td>0</td>\n",
              "    </tr>\n",
              "    <tr>\n",
              "      <th>586</th>\n",
              "      <td>@dawnmay7 Amen, I love house.  All of my fav s...</td>\n",
              "      <td>0</td>\n",
              "      <td>15</td>\n",
              "      <td>67</td>\n",
              "      <td>4.466667</td>\n",
              "      <td>3</td>\n",
              "      <td>0</td>\n",
              "      <td>1</td>\n",
              "    </tr>\n",
              "  </tbody>\n",
              "</table>\n",
              "</div>\n",
              "      <button class=\"colab-df-convert\" onclick=\"convertToInteractive('df-ea2aa93f-a572-40fe-aca8-c26538cd0f6d')\"\n",
              "              title=\"Convert this dataframe to an interactive table.\"\n",
              "              style=\"display:none;\">\n",
              "        \n",
              "  <svg xmlns=\"http://www.w3.org/2000/svg\" height=\"24px\"viewBox=\"0 0 24 24\"\n",
              "       width=\"24px\">\n",
              "    <path d=\"M0 0h24v24H0V0z\" fill=\"none\"/>\n",
              "    <path d=\"M18.56 5.44l.94 2.06.94-2.06 2.06-.94-2.06-.94-.94-2.06-.94 2.06-2.06.94zm-11 1L8.5 8.5l.94-2.06 2.06-.94-2.06-.94L8.5 2.5l-.94 2.06-2.06.94zm10 10l.94 2.06.94-2.06 2.06-.94-2.06-.94-.94-2.06-.94 2.06-2.06.94z\"/><path d=\"M17.41 7.96l-1.37-1.37c-.4-.4-.92-.59-1.43-.59-.52 0-1.04.2-1.43.59L10.3 9.45l-7.72 7.72c-.78.78-.78 2.05 0 2.83L4 21.41c.39.39.9.59 1.41.59.51 0 1.02-.2 1.41-.59l7.78-7.78 2.81-2.81c.8-.78.8-2.07 0-2.86zM5.41 20L4 18.59l7.72-7.72 1.47 1.35L5.41 20z\"/>\n",
              "  </svg>\n",
              "      </button>\n",
              "      \n",
              "  <style>\n",
              "    .colab-df-container {\n",
              "      display:flex;\n",
              "      flex-wrap:wrap;\n",
              "      gap: 12px;\n",
              "    }\n",
              "\n",
              "    .colab-df-convert {\n",
              "      background-color: #E8F0FE;\n",
              "      border: none;\n",
              "      border-radius: 50%;\n",
              "      cursor: pointer;\n",
              "      display: none;\n",
              "      fill: #1967D2;\n",
              "      height: 32px;\n",
              "      padding: 0 0 0 0;\n",
              "      width: 32px;\n",
              "    }\n",
              "\n",
              "    .colab-df-convert:hover {\n",
              "      background-color: #E2EBFA;\n",
              "      box-shadow: 0px 1px 2px rgba(60, 64, 67, 0.3), 0px 1px 3px 1px rgba(60, 64, 67, 0.15);\n",
              "      fill: #174EA6;\n",
              "    }\n",
              "\n",
              "    [theme=dark] .colab-df-convert {\n",
              "      background-color: #3B4455;\n",
              "      fill: #D2E3FC;\n",
              "    }\n",
              "\n",
              "    [theme=dark] .colab-df-convert:hover {\n",
              "      background-color: #434B5C;\n",
              "      box-shadow: 0px 1px 3px 1px rgba(0, 0, 0, 0.15);\n",
              "      filter: drop-shadow(0px 1px 2px rgba(0, 0, 0, 0.3));\n",
              "      fill: #FFFFFF;\n",
              "    }\n",
              "  </style>\n",
              "\n",
              "      <script>\n",
              "        const buttonEl =\n",
              "          document.querySelector('#df-ea2aa93f-a572-40fe-aca8-c26538cd0f6d button.colab-df-convert');\n",
              "        buttonEl.style.display =\n",
              "          google.colab.kernel.accessAllowed ? 'block' : 'none';\n",
              "\n",
              "        async function convertToInteractive(key) {\n",
              "          const element = document.querySelector('#df-ea2aa93f-a572-40fe-aca8-c26538cd0f6d');\n",
              "          const dataTable =\n",
              "            await google.colab.kernel.invokeFunction('convertToInteractive',\n",
              "                                                     [key], {});\n",
              "          if (!dataTable) return;\n",
              "\n",
              "          const docLinkHtml = 'Like what you see? Visit the ' +\n",
              "            '<a target=\"_blank\" href=https://colab.research.google.com/notebooks/data_table.ipynb>data table notebook</a>'\n",
              "            + ' to learn more about interactive tables.';\n",
              "          element.innerHTML = '';\n",
              "          dataTable['output_type'] = 'display_data';\n",
              "          await google.colab.output.renderOutput(dataTable, element);\n",
              "          const docLink = document.createElement('div');\n",
              "          docLink.innerHTML = docLinkHtml;\n",
              "          element.appendChild(docLink);\n",
              "        }\n",
              "      </script>\n",
              "    </div>\n",
              "  </div>\n",
              "  "
            ]
          },
          "metadata": {},
          "execution_count": 33
        }
      ]
    },
    {
      "cell_type": "markdown",
      "source": [
        "##If numeric digits are present in twitts"
      ],
      "metadata": {
        "id": "K9mg6hmrud6K"
      }
    },
    {
      "cell_type": "code",
      "source": [
        "x = 'this is 1 and 2'"
      ],
      "metadata": {
        "id": "jfBwgZwetoRB"
      },
      "execution_count": null,
      "outputs": []
    },
    {
      "cell_type": "code",
      "source": [
        "x.split()"
      ],
      "metadata": {
        "colab": {
          "base_uri": "https://localhost:8080/"
        },
        "id": "I5Y40p2BulDo",
        "outputId": "b0fa7430-2f25-4d50-8ef8-695208b58b31"
      },
      "execution_count": null,
      "outputs": [
        {
          "output_type": "execute_result",
          "data": {
            "text/plain": [
              "['this', 'is', '1', 'and', '2']"
            ]
          },
          "metadata": {},
          "execution_count": 35
        }
      ]
    },
    {
      "cell_type": "code",
      "source": [
        "x.split()[2].isdigit()"
      ],
      "metadata": {
        "colab": {
          "base_uri": "https://localhost:8080/"
        },
        "id": "vWX5UeZhulHo",
        "outputId": "69338cd6-9ca2-429a-f7b2-703ccbfea856"
      },
      "execution_count": null,
      "outputs": [
        {
          "output_type": "execute_result",
          "data": {
            "text/plain": [
              "True"
            ]
          },
          "metadata": {},
          "execution_count": 36
        }
      ]
    },
    {
      "cell_type": "code",
      "source": [
        "[ t for t in x.split() if t.isdigit()]"
      ],
      "metadata": {
        "colab": {
          "base_uri": "https://localhost:8080/"
        },
        "id": "LBjzUiBXulLj",
        "outputId": "f3e7708a-a69c-4099-aa98-2818dbb18160"
      },
      "execution_count": null,
      "outputs": [
        {
          "output_type": "execute_result",
          "data": {
            "text/plain": [
              "['1', '2']"
            ]
          },
          "metadata": {},
          "execution_count": 37
        }
      ]
    },
    {
      "cell_type": "code",
      "source": [
        "df['numeric_counts'] = df['twitts'].apply(lambda x: len([t for t in x.split() if t.isdigit()]))"
      ],
      "metadata": {
        "id": "g4zkdW6fulO5"
      },
      "execution_count": null,
      "outputs": []
    },
    {
      "cell_type": "code",
      "source": [
        "df.sample(5)"
      ],
      "metadata": {
        "colab": {
          "base_uri": "https://localhost:8080/",
          "height": 268
        },
        "id": "oR99AfClvHGl",
        "outputId": "7335ed4c-cea2-4eb8-d664-9c1ed374552d"
      },
      "execution_count": null,
      "outputs": [
        {
          "output_type": "execute_result",
          "data": {
            "text/plain": [
              "                                                 twitts  sentiment  \\\n",
              "860   yeah.  several years ago.  miss him every day ...          0   \n",
              "2033  @Skeezoyd just kidding!  make yourson seeps pl...          1   \n",
              "893                     Playing pool. Wish i was at gb           0   \n",
              "2021  @chriskey They found me - I've no idea where t...          1   \n",
              "2776  it's overcast today...storm clouds over the mo...          1   \n",
              "\n",
              "      word_counts  char_counts  avg_word_len  stop_words_len  hashtag_counts  \\\n",
              "860            13           59      4.538462               5               0   \n",
              "2033            7           44      6.285714               2               0   \n",
              "893             7           24      3.428571               3               0   \n",
              "2021           17           68      4.000000               6               0   \n",
              "2776           17           93      5.470588               7               0   \n",
              "\n",
              "      mention_counts  numeric_counts  \n",
              "860                0               0  \n",
              "2033               1               0  \n",
              "893                0               0  \n",
              "2021               1               0  \n",
              "2776               0               0  "
            ],
            "text/html": [
              "\n",
              "  <div id=\"df-1034f126-e2e8-4a15-af1b-acc15079f099\">\n",
              "    <div class=\"colab-df-container\">\n",
              "      <div>\n",
              "<style scoped>\n",
              "    .dataframe tbody tr th:only-of-type {\n",
              "        vertical-align: middle;\n",
              "    }\n",
              "\n",
              "    .dataframe tbody tr th {\n",
              "        vertical-align: top;\n",
              "    }\n",
              "\n",
              "    .dataframe thead th {\n",
              "        text-align: right;\n",
              "    }\n",
              "</style>\n",
              "<table border=\"1\" class=\"dataframe\">\n",
              "  <thead>\n",
              "    <tr style=\"text-align: right;\">\n",
              "      <th></th>\n",
              "      <th>twitts</th>\n",
              "      <th>sentiment</th>\n",
              "      <th>word_counts</th>\n",
              "      <th>char_counts</th>\n",
              "      <th>avg_word_len</th>\n",
              "      <th>stop_words_len</th>\n",
              "      <th>hashtag_counts</th>\n",
              "      <th>mention_counts</th>\n",
              "      <th>numeric_counts</th>\n",
              "    </tr>\n",
              "  </thead>\n",
              "  <tbody>\n",
              "    <tr>\n",
              "      <th>860</th>\n",
              "      <td>yeah.  several years ago.  miss him every day ...</td>\n",
              "      <td>0</td>\n",
              "      <td>13</td>\n",
              "      <td>59</td>\n",
              "      <td>4.538462</td>\n",
              "      <td>5</td>\n",
              "      <td>0</td>\n",
              "      <td>0</td>\n",
              "      <td>0</td>\n",
              "    </tr>\n",
              "    <tr>\n",
              "      <th>2033</th>\n",
              "      <td>@Skeezoyd just kidding!  make yourson seeps pl...</td>\n",
              "      <td>1</td>\n",
              "      <td>7</td>\n",
              "      <td>44</td>\n",
              "      <td>6.285714</td>\n",
              "      <td>2</td>\n",
              "      <td>0</td>\n",
              "      <td>1</td>\n",
              "      <td>0</td>\n",
              "    </tr>\n",
              "    <tr>\n",
              "      <th>893</th>\n",
              "      <td>Playing pool. Wish i was at gb</td>\n",
              "      <td>0</td>\n",
              "      <td>7</td>\n",
              "      <td>24</td>\n",
              "      <td>3.428571</td>\n",
              "      <td>3</td>\n",
              "      <td>0</td>\n",
              "      <td>0</td>\n",
              "      <td>0</td>\n",
              "    </tr>\n",
              "    <tr>\n",
              "      <th>2021</th>\n",
              "      <td>@chriskey They found me - I've no idea where t...</td>\n",
              "      <td>1</td>\n",
              "      <td>17</td>\n",
              "      <td>68</td>\n",
              "      <td>4.000000</td>\n",
              "      <td>6</td>\n",
              "      <td>0</td>\n",
              "      <td>1</td>\n",
              "      <td>0</td>\n",
              "    </tr>\n",
              "    <tr>\n",
              "      <th>2776</th>\n",
              "      <td>it's overcast today...storm clouds over the mo...</td>\n",
              "      <td>1</td>\n",
              "      <td>17</td>\n",
              "      <td>93</td>\n",
              "      <td>5.470588</td>\n",
              "      <td>7</td>\n",
              "      <td>0</td>\n",
              "      <td>0</td>\n",
              "      <td>0</td>\n",
              "    </tr>\n",
              "  </tbody>\n",
              "</table>\n",
              "</div>\n",
              "      <button class=\"colab-df-convert\" onclick=\"convertToInteractive('df-1034f126-e2e8-4a15-af1b-acc15079f099')\"\n",
              "              title=\"Convert this dataframe to an interactive table.\"\n",
              "              style=\"display:none;\">\n",
              "        \n",
              "  <svg xmlns=\"http://www.w3.org/2000/svg\" height=\"24px\"viewBox=\"0 0 24 24\"\n",
              "       width=\"24px\">\n",
              "    <path d=\"M0 0h24v24H0V0z\" fill=\"none\"/>\n",
              "    <path d=\"M18.56 5.44l.94 2.06.94-2.06 2.06-.94-2.06-.94-.94-2.06-.94 2.06-2.06.94zm-11 1L8.5 8.5l.94-2.06 2.06-.94-2.06-.94L8.5 2.5l-.94 2.06-2.06.94zm10 10l.94 2.06.94-2.06 2.06-.94-2.06-.94-.94-2.06-.94 2.06-2.06.94z\"/><path d=\"M17.41 7.96l-1.37-1.37c-.4-.4-.92-.59-1.43-.59-.52 0-1.04.2-1.43.59L10.3 9.45l-7.72 7.72c-.78.78-.78 2.05 0 2.83L4 21.41c.39.39.9.59 1.41.59.51 0 1.02-.2 1.41-.59l7.78-7.78 2.81-2.81c.8-.78.8-2.07 0-2.86zM5.41 20L4 18.59l7.72-7.72 1.47 1.35L5.41 20z\"/>\n",
              "  </svg>\n",
              "      </button>\n",
              "      \n",
              "  <style>\n",
              "    .colab-df-container {\n",
              "      display:flex;\n",
              "      flex-wrap:wrap;\n",
              "      gap: 12px;\n",
              "    }\n",
              "\n",
              "    .colab-df-convert {\n",
              "      background-color: #E8F0FE;\n",
              "      border: none;\n",
              "      border-radius: 50%;\n",
              "      cursor: pointer;\n",
              "      display: none;\n",
              "      fill: #1967D2;\n",
              "      height: 32px;\n",
              "      padding: 0 0 0 0;\n",
              "      width: 32px;\n",
              "    }\n",
              "\n",
              "    .colab-df-convert:hover {\n",
              "      background-color: #E2EBFA;\n",
              "      box-shadow: 0px 1px 2px rgba(60, 64, 67, 0.3), 0px 1px 3px 1px rgba(60, 64, 67, 0.15);\n",
              "      fill: #174EA6;\n",
              "    }\n",
              "\n",
              "    [theme=dark] .colab-df-convert {\n",
              "      background-color: #3B4455;\n",
              "      fill: #D2E3FC;\n",
              "    }\n",
              "\n",
              "    [theme=dark] .colab-df-convert:hover {\n",
              "      background-color: #434B5C;\n",
              "      box-shadow: 0px 1px 3px 1px rgba(0, 0, 0, 0.15);\n",
              "      filter: drop-shadow(0px 1px 2px rgba(0, 0, 0, 0.3));\n",
              "      fill: #FFFFFF;\n",
              "    }\n",
              "  </style>\n",
              "\n",
              "      <script>\n",
              "        const buttonEl =\n",
              "          document.querySelector('#df-1034f126-e2e8-4a15-af1b-acc15079f099 button.colab-df-convert');\n",
              "        buttonEl.style.display =\n",
              "          google.colab.kernel.accessAllowed ? 'block' : 'none';\n",
              "\n",
              "        async function convertToInteractive(key) {\n",
              "          const element = document.querySelector('#df-1034f126-e2e8-4a15-af1b-acc15079f099');\n",
              "          const dataTable =\n",
              "            await google.colab.kernel.invokeFunction('convertToInteractive',\n",
              "                                                     [key], {});\n",
              "          if (!dataTable) return;\n",
              "\n",
              "          const docLinkHtml = 'Like what you see? Visit the ' +\n",
              "            '<a target=\"_blank\" href=https://colab.research.google.com/notebooks/data_table.ipynb>data table notebook</a>'\n",
              "            + ' to learn more about interactive tables.';\n",
              "          element.innerHTML = '';\n",
              "          dataTable['output_type'] = 'display_data';\n",
              "          await google.colab.output.renderOutput(dataTable, element);\n",
              "          const docLink = document.createElement('div');\n",
              "          docLink.innerHTML = docLinkHtml;\n",
              "          element.appendChild(docLink);\n",
              "        }\n",
              "      </script>\n",
              "    </div>\n",
              "  </div>\n",
              "  "
            ]
          },
          "metadata": {},
          "execution_count": 39
        }
      ]
    },
    {
      "cell_type": "markdown",
      "source": [
        "##UPPER case words count"
      ],
      "metadata": {
        "id": "rWf2dkx8va50"
      }
    },
    {
      "cell_type": "code",
      "source": [
        "x = 'I AM HAPPY'\n",
        "Y = 'i am happy'"
      ],
      "metadata": {
        "id": "FxWePHQNvHI-"
      },
      "execution_count": null,
      "outputs": []
    },
    {
      "cell_type": "code",
      "source": [
        "[t for t in x.split() if t.isupper()]"
      ],
      "metadata": {
        "colab": {
          "base_uri": "https://localhost:8080/"
        },
        "id": "i9bBzSahvHLx",
        "outputId": "1d82d54d-9d1d-4a80-b1f7-f45d0cbed526"
      },
      "execution_count": null,
      "outputs": [
        {
          "output_type": "execute_result",
          "data": {
            "text/plain": [
              "['I', 'AM', 'HAPPY']"
            ]
          },
          "metadata": {},
          "execution_count": 41
        }
      ]
    },
    {
      "cell_type": "code",
      "source": [
        "df['upper_counts'] = df['twitts'].apply(lambda x: len([t for t in x.split() if t.isupper()]))"
      ],
      "metadata": {
        "id": "LBP4VJ1YvHOB"
      },
      "execution_count": null,
      "outputs": []
    },
    {
      "cell_type": "code",
      "source": [
        "df.sample(25)"
      ],
      "metadata": {
        "colab": {
          "base_uri": "https://localhost:8080/",
          "height": 1000
        },
        "id": "ZskatwysvHQa",
        "outputId": "0528f61d-8d4a-4d5f-dd85-c7d0324c6122"
      },
      "execution_count": null,
      "outputs": [
        {
          "output_type": "execute_result",
          "data": {
            "text/plain": [
              "                                                 twitts  sentiment  \\\n",
              "2367  Bonjour!! Soo hot today! 'Ah, summer, what pow...          1   \n",
              "1939  Did Twitter temporarily disable editing whos t...          0   \n",
              "1594                  @nickeeeh I'm sorry to hear that           0   \n",
              "1535          anatomy exam in an hour and a half  ahhhh          0   \n",
              "1637                             Just Threw up again,            0   \n",
              "3594          @pdurham uh oh, now you have to be nice.           1   \n",
              "1521                     Only 3 hours sleep last night           0   \n",
              "32    is wishing tomorrow will be easier than today ...          0   \n",
              "2114  @ShropshirePixie You mind that journey home no...          1   \n",
              "984    I think people get out of bed in the mornings...          0   \n",
              "274                   ate waaay too much gross cookies           0   \n",
              "1806  ravens release drew willy  i think he should g...          0   \n",
              "770            Is stuck at work on this beautiful day!           0   \n",
              "113   @SaraLime Party?  What party?  I was working '...          0   \n",
              "1128               http://twitpic.com/7oiqc - last day           0   \n",
              "2680  Hannah and Steve prior to prom  http://www.fli...          1   \n",
              "1518  @PrincessIlly sry I had to go  did y'all have ...          0   \n",
              "3019  on that LG status today...no work....no stress...          1   \n",
              "3416  the jeepney trip was surprisingly calming. may...          1   \n",
              "2221  @Earl52 People love Sonic out here because it'...          1   \n",
              "248   could not ride yesterday..    of course, today...          0   \n",
              "3342                          @KoiFishSushi yes it was           1   \n",
              "674   I want my bed so so so so so so so so so so so...          0   \n",
              "2599  watching Discovery Channel *-* and getting rea...          1   \n",
              "1083  aiming for exemption in at least one subject. ...          0   \n",
              "\n",
              "      word_counts  char_counts  avg_word_len  stop_words_len  hashtag_counts  \\\n",
              "2367           17           75      4.411765               7               0   \n",
              "1939           21          104      4.952381               8               0   \n",
              "1594            6           27      4.500000               2               0   \n",
              "1535            9           32      3.555556               4               0   \n",
              "1637            4           17      4.250000               1               0   \n",
              "3594            9           32      3.555556               5               0   \n",
              "1521            6           24      4.000000               1               0   \n",
              "32             13           56      4.307692               6               0   \n",
              "2114           14           73      5.214286               5               0   \n",
              "984            17           65      3.823529               9               0   \n",
              "274             6           27      4.500000               2               0   \n",
              "1806           22           95      4.318182              10               0   \n",
              "770             8           32      4.000000               3               0   \n",
              "113            11           54      4.909091               1               0   \n",
              "1128            4           32      8.000000               1               0   \n",
              "2680            7           72     10.285714               2               0   \n",
              "1518           10           41      4.100000               5               0   \n",
              "3019            7           49      7.000000               2               0   \n",
              "3416           21          114      5.428571               8               0   \n",
              "2221           22          115      5.227273               9               0   \n",
              "248            13           66      5.076923               6               0   \n",
              "3342            4           21      5.250000               2               0   \n",
              "674            24           68      2.833333              17               0   \n",
              "2599           10           53      5.300000               3               0   \n",
              "1083            9           63      7.000000               5               0   \n",
              "\n",
              "      mention_counts  numeric_counts  upper_counts  \n",
              "2367               0               0             0  \n",
              "1939               0               0             1  \n",
              "1594               1               0             0  \n",
              "1535               0               0             0  \n",
              "1637               0               0             0  \n",
              "3594               1               0             0  \n",
              "1521               0               1             0  \n",
              "32                 0               0             0  \n",
              "2114               1               0             0  \n",
              "984                0               0             1  \n",
              "274                0               0             0  \n",
              "1806               0               0             2  \n",
              "770                0               0             0  \n",
              "113                1               1             1  \n",
              "1128               0               0             0  \n",
              "2680               0               0             0  \n",
              "1518               1               0             1  \n",
              "3019               0               0             1  \n",
              "3416               0               0             0  \n",
              "2221               1               0             0  \n",
              "248                0               0             0  \n",
              "3342               1               0             0  \n",
              "674                0               0             1  \n",
              "2599               0               0             0  \n",
              "1083               0               0             0  "
            ],
            "text/html": [
              "\n",
              "  <div id=\"df-047b866a-68de-4864-bdda-8ddfdc557c38\">\n",
              "    <div class=\"colab-df-container\">\n",
              "      <div>\n",
              "<style scoped>\n",
              "    .dataframe tbody tr th:only-of-type {\n",
              "        vertical-align: middle;\n",
              "    }\n",
              "\n",
              "    .dataframe tbody tr th {\n",
              "        vertical-align: top;\n",
              "    }\n",
              "\n",
              "    .dataframe thead th {\n",
              "        text-align: right;\n",
              "    }\n",
              "</style>\n",
              "<table border=\"1\" class=\"dataframe\">\n",
              "  <thead>\n",
              "    <tr style=\"text-align: right;\">\n",
              "      <th></th>\n",
              "      <th>twitts</th>\n",
              "      <th>sentiment</th>\n",
              "      <th>word_counts</th>\n",
              "      <th>char_counts</th>\n",
              "      <th>avg_word_len</th>\n",
              "      <th>stop_words_len</th>\n",
              "      <th>hashtag_counts</th>\n",
              "      <th>mention_counts</th>\n",
              "      <th>numeric_counts</th>\n",
              "      <th>upper_counts</th>\n",
              "    </tr>\n",
              "  </thead>\n",
              "  <tbody>\n",
              "    <tr>\n",
              "      <th>2367</th>\n",
              "      <td>Bonjour!! Soo hot today! 'Ah, summer, what pow...</td>\n",
              "      <td>1</td>\n",
              "      <td>17</td>\n",
              "      <td>75</td>\n",
              "      <td>4.411765</td>\n",
              "      <td>7</td>\n",
              "      <td>0</td>\n",
              "      <td>0</td>\n",
              "      <td>0</td>\n",
              "      <td>0</td>\n",
              "    </tr>\n",
              "    <tr>\n",
              "      <th>1939</th>\n",
              "      <td>Did Twitter temporarily disable editing whos t...</td>\n",
              "      <td>0</td>\n",
              "      <td>21</td>\n",
              "      <td>104</td>\n",
              "      <td>4.952381</td>\n",
              "      <td>8</td>\n",
              "      <td>0</td>\n",
              "      <td>0</td>\n",
              "      <td>0</td>\n",
              "      <td>1</td>\n",
              "    </tr>\n",
              "    <tr>\n",
              "      <th>1594</th>\n",
              "      <td>@nickeeeh I'm sorry to hear that</td>\n",
              "      <td>0</td>\n",
              "      <td>6</td>\n",
              "      <td>27</td>\n",
              "      <td>4.500000</td>\n",
              "      <td>2</td>\n",
              "      <td>0</td>\n",
              "      <td>1</td>\n",
              "      <td>0</td>\n",
              "      <td>0</td>\n",
              "    </tr>\n",
              "    <tr>\n",
              "      <th>1535</th>\n",
              "      <td>anatomy exam in an hour and a half  ahhhh</td>\n",
              "      <td>0</td>\n",
              "      <td>9</td>\n",
              "      <td>32</td>\n",
              "      <td>3.555556</td>\n",
              "      <td>4</td>\n",
              "      <td>0</td>\n",
              "      <td>0</td>\n",
              "      <td>0</td>\n",
              "      <td>0</td>\n",
              "    </tr>\n",
              "    <tr>\n",
              "      <th>1637</th>\n",
              "      <td>Just Threw up again,</td>\n",
              "      <td>0</td>\n",
              "      <td>4</td>\n",
              "      <td>17</td>\n",
              "      <td>4.250000</td>\n",
              "      <td>1</td>\n",
              "      <td>0</td>\n",
              "      <td>0</td>\n",
              "      <td>0</td>\n",
              "      <td>0</td>\n",
              "    </tr>\n",
              "    <tr>\n",
              "      <th>3594</th>\n",
              "      <td>@pdurham uh oh, now you have to be nice.</td>\n",
              "      <td>1</td>\n",
              "      <td>9</td>\n",
              "      <td>32</td>\n",
              "      <td>3.555556</td>\n",
              "      <td>5</td>\n",
              "      <td>0</td>\n",
              "      <td>1</td>\n",
              "      <td>0</td>\n",
              "      <td>0</td>\n",
              "    </tr>\n",
              "    <tr>\n",
              "      <th>1521</th>\n",
              "      <td>Only 3 hours sleep last night</td>\n",
              "      <td>0</td>\n",
              "      <td>6</td>\n",
              "      <td>24</td>\n",
              "      <td>4.000000</td>\n",
              "      <td>1</td>\n",
              "      <td>0</td>\n",
              "      <td>0</td>\n",
              "      <td>1</td>\n",
              "      <td>0</td>\n",
              "    </tr>\n",
              "    <tr>\n",
              "      <th>32</th>\n",
              "      <td>is wishing tomorrow will be easier than today ...</td>\n",
              "      <td>0</td>\n",
              "      <td>13</td>\n",
              "      <td>56</td>\n",
              "      <td>4.307692</td>\n",
              "      <td>6</td>\n",
              "      <td>0</td>\n",
              "      <td>0</td>\n",
              "      <td>0</td>\n",
              "      <td>0</td>\n",
              "    </tr>\n",
              "    <tr>\n",
              "      <th>2114</th>\n",
              "      <td>@ShropshirePixie You mind that journey home no...</td>\n",
              "      <td>1</td>\n",
              "      <td>14</td>\n",
              "      <td>73</td>\n",
              "      <td>5.214286</td>\n",
              "      <td>5</td>\n",
              "      <td>0</td>\n",
              "      <td>1</td>\n",
              "      <td>0</td>\n",
              "      <td>0</td>\n",
              "    </tr>\n",
              "    <tr>\n",
              "      <th>984</th>\n",
              "      <td>I think people get out of bed in the mornings...</td>\n",
              "      <td>0</td>\n",
              "      <td>17</td>\n",
              "      <td>65</td>\n",
              "      <td>3.823529</td>\n",
              "      <td>9</td>\n",
              "      <td>0</td>\n",
              "      <td>0</td>\n",
              "      <td>0</td>\n",
              "      <td>1</td>\n",
              "    </tr>\n",
              "    <tr>\n",
              "      <th>274</th>\n",
              "      <td>ate waaay too much gross cookies</td>\n",
              "      <td>0</td>\n",
              "      <td>6</td>\n",
              "      <td>27</td>\n",
              "      <td>4.500000</td>\n",
              "      <td>2</td>\n",
              "      <td>0</td>\n",
              "      <td>0</td>\n",
              "      <td>0</td>\n",
              "      <td>0</td>\n",
              "    </tr>\n",
              "    <tr>\n",
              "      <th>1806</th>\n",
              "      <td>ravens release drew willy  i think he should g...</td>\n",
              "      <td>0</td>\n",
              "      <td>22</td>\n",
              "      <td>95</td>\n",
              "      <td>4.318182</td>\n",
              "      <td>10</td>\n",
              "      <td>0</td>\n",
              "      <td>0</td>\n",
              "      <td>0</td>\n",
              "      <td>2</td>\n",
              "    </tr>\n",
              "    <tr>\n",
              "      <th>770</th>\n",
              "      <td>Is stuck at work on this beautiful day!</td>\n",
              "      <td>0</td>\n",
              "      <td>8</td>\n",
              "      <td>32</td>\n",
              "      <td>4.000000</td>\n",
              "      <td>3</td>\n",
              "      <td>0</td>\n",
              "      <td>0</td>\n",
              "      <td>0</td>\n",
              "      <td>0</td>\n",
              "    </tr>\n",
              "    <tr>\n",
              "      <th>113</th>\n",
              "      <td>@SaraLime Party?  What party?  I was working '...</td>\n",
              "      <td>0</td>\n",
              "      <td>11</td>\n",
              "      <td>54</td>\n",
              "      <td>4.909091</td>\n",
              "      <td>1</td>\n",
              "      <td>0</td>\n",
              "      <td>1</td>\n",
              "      <td>1</td>\n",
              "      <td>1</td>\n",
              "    </tr>\n",
              "    <tr>\n",
              "      <th>1128</th>\n",
              "      <td>http://twitpic.com/7oiqc - last day</td>\n",
              "      <td>0</td>\n",
              "      <td>4</td>\n",
              "      <td>32</td>\n",
              "      <td>8.000000</td>\n",
              "      <td>1</td>\n",
              "      <td>0</td>\n",
              "      <td>0</td>\n",
              "      <td>0</td>\n",
              "      <td>0</td>\n",
              "    </tr>\n",
              "    <tr>\n",
              "      <th>2680</th>\n",
              "      <td>Hannah and Steve prior to prom  http://www.fli...</td>\n",
              "      <td>1</td>\n",
              "      <td>7</td>\n",
              "      <td>72</td>\n",
              "      <td>10.285714</td>\n",
              "      <td>2</td>\n",
              "      <td>0</td>\n",
              "      <td>0</td>\n",
              "      <td>0</td>\n",
              "      <td>0</td>\n",
              "    </tr>\n",
              "    <tr>\n",
              "      <th>1518</th>\n",
              "      <td>@PrincessIlly sry I had to go  did y'all have ...</td>\n",
              "      <td>0</td>\n",
              "      <td>10</td>\n",
              "      <td>41</td>\n",
              "      <td>4.100000</td>\n",
              "      <td>5</td>\n",
              "      <td>0</td>\n",
              "      <td>1</td>\n",
              "      <td>0</td>\n",
              "      <td>1</td>\n",
              "    </tr>\n",
              "    <tr>\n",
              "      <th>3019</th>\n",
              "      <td>on that LG status today...no work....no stress...</td>\n",
              "      <td>1</td>\n",
              "      <td>7</td>\n",
              "      <td>49</td>\n",
              "      <td>7.000000</td>\n",
              "      <td>2</td>\n",
              "      <td>0</td>\n",
              "      <td>0</td>\n",
              "      <td>0</td>\n",
              "      <td>1</td>\n",
              "    </tr>\n",
              "    <tr>\n",
              "      <th>3416</th>\n",
              "      <td>the jeepney trip was surprisingly calming. may...</td>\n",
              "      <td>1</td>\n",
              "      <td>21</td>\n",
              "      <td>114</td>\n",
              "      <td>5.428571</td>\n",
              "      <td>8</td>\n",
              "      <td>0</td>\n",
              "      <td>0</td>\n",
              "      <td>0</td>\n",
              "      <td>0</td>\n",
              "    </tr>\n",
              "    <tr>\n",
              "      <th>2221</th>\n",
              "      <td>@Earl52 People love Sonic out here because it'...</td>\n",
              "      <td>1</td>\n",
              "      <td>22</td>\n",
              "      <td>115</td>\n",
              "      <td>5.227273</td>\n",
              "      <td>9</td>\n",
              "      <td>0</td>\n",
              "      <td>1</td>\n",
              "      <td>0</td>\n",
              "      <td>0</td>\n",
              "    </tr>\n",
              "    <tr>\n",
              "      <th>248</th>\n",
              "      <td>could not ride yesterday..    of course, today...</td>\n",
              "      <td>0</td>\n",
              "      <td>13</td>\n",
              "      <td>66</td>\n",
              "      <td>5.076923</td>\n",
              "      <td>6</td>\n",
              "      <td>0</td>\n",
              "      <td>0</td>\n",
              "      <td>0</td>\n",
              "      <td>0</td>\n",
              "    </tr>\n",
              "    <tr>\n",
              "      <th>3342</th>\n",
              "      <td>@KoiFishSushi yes it was</td>\n",
              "      <td>1</td>\n",
              "      <td>4</td>\n",
              "      <td>21</td>\n",
              "      <td>5.250000</td>\n",
              "      <td>2</td>\n",
              "      <td>0</td>\n",
              "      <td>1</td>\n",
              "      <td>0</td>\n",
              "      <td>0</td>\n",
              "    </tr>\n",
              "    <tr>\n",
              "      <th>674</th>\n",
              "      <td>I want my bed so so so so so so so so so so so...</td>\n",
              "      <td>0</td>\n",
              "      <td>24</td>\n",
              "      <td>68</td>\n",
              "      <td>2.833333</td>\n",
              "      <td>17</td>\n",
              "      <td>0</td>\n",
              "      <td>0</td>\n",
              "      <td>0</td>\n",
              "      <td>1</td>\n",
              "    </tr>\n",
              "    <tr>\n",
              "      <th>2599</th>\n",
              "      <td>watching Discovery Channel *-* and getting rea...</td>\n",
              "      <td>1</td>\n",
              "      <td>10</td>\n",
              "      <td>53</td>\n",
              "      <td>5.300000</td>\n",
              "      <td>3</td>\n",
              "      <td>0</td>\n",
              "      <td>0</td>\n",
              "      <td>0</td>\n",
              "      <td>0</td>\n",
              "    </tr>\n",
              "    <tr>\n",
              "      <th>1083</th>\n",
              "      <td>aiming for exemption in at least one subject. ...</td>\n",
              "      <td>0</td>\n",
              "      <td>9</td>\n",
              "      <td>63</td>\n",
              "      <td>7.000000</td>\n",
              "      <td>5</td>\n",
              "      <td>0</td>\n",
              "      <td>0</td>\n",
              "      <td>0</td>\n",
              "      <td>0</td>\n",
              "    </tr>\n",
              "  </tbody>\n",
              "</table>\n",
              "</div>\n",
              "      <button class=\"colab-df-convert\" onclick=\"convertToInteractive('df-047b866a-68de-4864-bdda-8ddfdc557c38')\"\n",
              "              title=\"Convert this dataframe to an interactive table.\"\n",
              "              style=\"display:none;\">\n",
              "        \n",
              "  <svg xmlns=\"http://www.w3.org/2000/svg\" height=\"24px\"viewBox=\"0 0 24 24\"\n",
              "       width=\"24px\">\n",
              "    <path d=\"M0 0h24v24H0V0z\" fill=\"none\"/>\n",
              "    <path d=\"M18.56 5.44l.94 2.06.94-2.06 2.06-.94-2.06-.94-.94-2.06-.94 2.06-2.06.94zm-11 1L8.5 8.5l.94-2.06 2.06-.94-2.06-.94L8.5 2.5l-.94 2.06-2.06.94zm10 10l.94 2.06.94-2.06 2.06-.94-2.06-.94-.94-2.06-.94 2.06-2.06.94z\"/><path d=\"M17.41 7.96l-1.37-1.37c-.4-.4-.92-.59-1.43-.59-.52 0-1.04.2-1.43.59L10.3 9.45l-7.72 7.72c-.78.78-.78 2.05 0 2.83L4 21.41c.39.39.9.59 1.41.59.51 0 1.02-.2 1.41-.59l7.78-7.78 2.81-2.81c.8-.78.8-2.07 0-2.86zM5.41 20L4 18.59l7.72-7.72 1.47 1.35L5.41 20z\"/>\n",
              "  </svg>\n",
              "      </button>\n",
              "      \n",
              "  <style>\n",
              "    .colab-df-container {\n",
              "      display:flex;\n",
              "      flex-wrap:wrap;\n",
              "      gap: 12px;\n",
              "    }\n",
              "\n",
              "    .colab-df-convert {\n",
              "      background-color: #E8F0FE;\n",
              "      border: none;\n",
              "      border-radius: 50%;\n",
              "      cursor: pointer;\n",
              "      display: none;\n",
              "      fill: #1967D2;\n",
              "      height: 32px;\n",
              "      padding: 0 0 0 0;\n",
              "      width: 32px;\n",
              "    }\n",
              "\n",
              "    .colab-df-convert:hover {\n",
              "      background-color: #E2EBFA;\n",
              "      box-shadow: 0px 1px 2px rgba(60, 64, 67, 0.3), 0px 1px 3px 1px rgba(60, 64, 67, 0.15);\n",
              "      fill: #174EA6;\n",
              "    }\n",
              "\n",
              "    [theme=dark] .colab-df-convert {\n",
              "      background-color: #3B4455;\n",
              "      fill: #D2E3FC;\n",
              "    }\n",
              "\n",
              "    [theme=dark] .colab-df-convert:hover {\n",
              "      background-color: #434B5C;\n",
              "      box-shadow: 0px 1px 3px 1px rgba(0, 0, 0, 0.15);\n",
              "      filter: drop-shadow(0px 1px 2px rgba(0, 0, 0, 0.3));\n",
              "      fill: #FFFFFF;\n",
              "    }\n",
              "  </style>\n",
              "\n",
              "      <script>\n",
              "        const buttonEl =\n",
              "          document.querySelector('#df-047b866a-68de-4864-bdda-8ddfdc557c38 button.colab-df-convert');\n",
              "        buttonEl.style.display =\n",
              "          google.colab.kernel.accessAllowed ? 'block' : 'none';\n",
              "\n",
              "        async function convertToInteractive(key) {\n",
              "          const element = document.querySelector('#df-047b866a-68de-4864-bdda-8ddfdc557c38');\n",
              "          const dataTable =\n",
              "            await google.colab.kernel.invokeFunction('convertToInteractive',\n",
              "                                                     [key], {});\n",
              "          if (!dataTable) return;\n",
              "\n",
              "          const docLinkHtml = 'Like what you see? Visit the ' +\n",
              "            '<a target=\"_blank\" href=https://colab.research.google.com/notebooks/data_table.ipynb>data table notebook</a>'\n",
              "            + ' to learn more about interactive tables.';\n",
              "          element.innerHTML = '';\n",
              "          dataTable['output_type'] = 'display_data';\n",
              "          await google.colab.output.renderOutput(dataTable, element);\n",
              "          const docLink = document.createElement('div');\n",
              "          docLink.innerHTML = docLinkHtml;\n",
              "          element.appendChild(docLink);\n",
              "        }\n",
              "      </script>\n",
              "    </div>\n",
              "  </div>\n",
              "  "
            ]
          },
          "metadata": {},
          "execution_count": 43
        }
      ]
    },
    {
      "cell_type": "code",
      "source": [
        "df.iloc[3962]['twitts']"
      ],
      "metadata": {
        "colab": {
          "base_uri": "https://localhost:8080/",
          "height": 35
        },
        "id": "0XkDjTRZvHSp",
        "outputId": "c4e30bcd-5a4e-4b0a-841a-a9e6ff3e3da3"
      },
      "execution_count": null,
      "outputs": [
        {
          "output_type": "execute_result",
          "data": {
            "text/plain": [
              "'@DavidArchie Our local shows love tributes too much. True story! Will be watching SIS videos in Youtube later, haha '"
            ],
            "application/vnd.google.colaboratory.intrinsic+json": {
              "type": "string"
            }
          },
          "metadata": {},
          "execution_count": 44
        }
      ]
    },
    {
      "cell_type": "markdown",
      "source": [
        "##Preprocessing and Cleaning"
      ],
      "metadata": {
        "id": "KH4FgYp2yfWA"
      }
    },
    {
      "cell_type": "markdown",
      "source": [
        "##Lower Case Conversion"
      ],
      "metadata": {
        "id": "obPgB_Lsyjl1"
      }
    },
    {
      "cell_type": "code",
      "source": [
        "x = 'this is Text'"
      ],
      "metadata": {
        "id": "4-ZFIlFayUqC"
      },
      "execution_count": null,
      "outputs": []
    },
    {
      "cell_type": "code",
      "source": [
        "x.lower()"
      ],
      "metadata": {
        "colab": {
          "base_uri": "https://localhost:8080/",
          "height": 35
        },
        "id": "FDlL4hwAyUtp",
        "outputId": "f29fd531-b186-473f-dd9e-e9c878e4c7b9"
      },
      "execution_count": null,
      "outputs": [
        {
          "output_type": "execute_result",
          "data": {
            "text/plain": [
              "'this is text'"
            ],
            "application/vnd.google.colaboratory.intrinsic+json": {
              "type": "string"
            }
          },
          "metadata": {},
          "execution_count": 46
        }
      ]
    },
    {
      "cell_type": "code",
      "source": [
        "x = 45.0\n",
        "str(x).lower()"
      ],
      "metadata": {
        "colab": {
          "base_uri": "https://localhost:8080/",
          "height": 35
        },
        "id": "bAuDEyQHyUxN",
        "outputId": "5049e18c-a804-4e73-8d3a-17be3c0a4a30"
      },
      "execution_count": null,
      "outputs": [
        {
          "output_type": "execute_result",
          "data": {
            "text/plain": [
              "'45.0'"
            ],
            "application/vnd.google.colaboratory.intrinsic+json": {
              "type": "string"
            }
          },
          "metadata": {},
          "execution_count": 47
        }
      ]
    },
    {
      "cell_type": "code",
      "source": [
        "df['twitts']=df['twitts'].apply(lambda x: str(x).lower())"
      ],
      "metadata": {
        "id": "1qobLaj1yU0C"
      },
      "execution_count": null,
      "outputs": []
    },
    {
      "cell_type": "code",
      "source": [
        "df.sample(5)"
      ],
      "metadata": {
        "colab": {
          "base_uri": "https://localhost:8080/",
          "height": 337
        },
        "id": "bn2-l8otyU24",
        "outputId": "44ddf434-c080-49da-a975-bdaacec87808"
      },
      "execution_count": null,
      "outputs": [
        {
          "output_type": "execute_result",
          "data": {
            "text/plain": [
              "                                                 twitts  sentiment  \\\n",
              "2767  but would be great bonus if mr commercial sale...          1   \n",
              "3618  @tear96 holy fart knockers, its late your on! ...          1   \n",
              "1719  @thetoughsams we were thinking 2 vs 1 but that...          0   \n",
              "59    @paulmccourt dunno what sky you're looking at!...          0   \n",
              "1240  one thing more i think i'm on a wrong place on...          0   \n",
              "\n",
              "      word_counts  char_counts  avg_word_len  stop_words_len  hashtag_counts  \\\n",
              "2767           23          109      4.739130               7               0   \n",
              "3618            9           46      5.111111               2               0   \n",
              "1719           26          112      4.307692              10               0   \n",
              "59             15           80      5.333333               3               0   \n",
              "1240           16           57      3.562500               5               0   \n",
              "\n",
              "      mention_counts  numeric_counts  upper_counts  \n",
              "2767               0               0             1  \n",
              "3618               1               0             0  \n",
              "1719               1               2             1  \n",
              "59                 1               0             0  \n",
              "1240               0               0             1  "
            ],
            "text/html": [
              "\n",
              "  <div id=\"df-6ee0a5e7-ab92-4f69-abe5-ec741cc5ffb2\">\n",
              "    <div class=\"colab-df-container\">\n",
              "      <div>\n",
              "<style scoped>\n",
              "    .dataframe tbody tr th:only-of-type {\n",
              "        vertical-align: middle;\n",
              "    }\n",
              "\n",
              "    .dataframe tbody tr th {\n",
              "        vertical-align: top;\n",
              "    }\n",
              "\n",
              "    .dataframe thead th {\n",
              "        text-align: right;\n",
              "    }\n",
              "</style>\n",
              "<table border=\"1\" class=\"dataframe\">\n",
              "  <thead>\n",
              "    <tr style=\"text-align: right;\">\n",
              "      <th></th>\n",
              "      <th>twitts</th>\n",
              "      <th>sentiment</th>\n",
              "      <th>word_counts</th>\n",
              "      <th>char_counts</th>\n",
              "      <th>avg_word_len</th>\n",
              "      <th>stop_words_len</th>\n",
              "      <th>hashtag_counts</th>\n",
              "      <th>mention_counts</th>\n",
              "      <th>numeric_counts</th>\n",
              "      <th>upper_counts</th>\n",
              "    </tr>\n",
              "  </thead>\n",
              "  <tbody>\n",
              "    <tr>\n",
              "      <th>2767</th>\n",
              "      <td>but would be great bonus if mr commercial sale...</td>\n",
              "      <td>1</td>\n",
              "      <td>23</td>\n",
              "      <td>109</td>\n",
              "      <td>4.739130</td>\n",
              "      <td>7</td>\n",
              "      <td>0</td>\n",
              "      <td>0</td>\n",
              "      <td>0</td>\n",
              "      <td>1</td>\n",
              "    </tr>\n",
              "    <tr>\n",
              "      <th>3618</th>\n",
              "      <td>@tear96 holy fart knockers, its late your on! ...</td>\n",
              "      <td>1</td>\n",
              "      <td>9</td>\n",
              "      <td>46</td>\n",
              "      <td>5.111111</td>\n",
              "      <td>2</td>\n",
              "      <td>0</td>\n",
              "      <td>1</td>\n",
              "      <td>0</td>\n",
              "      <td>0</td>\n",
              "    </tr>\n",
              "    <tr>\n",
              "      <th>1719</th>\n",
              "      <td>@thetoughsams we were thinking 2 vs 1 but that...</td>\n",
              "      <td>0</td>\n",
              "      <td>26</td>\n",
              "      <td>112</td>\n",
              "      <td>4.307692</td>\n",
              "      <td>10</td>\n",
              "      <td>0</td>\n",
              "      <td>1</td>\n",
              "      <td>2</td>\n",
              "      <td>1</td>\n",
              "    </tr>\n",
              "    <tr>\n",
              "      <th>59</th>\n",
              "      <td>@paulmccourt dunno what sky you're looking at!...</td>\n",
              "      <td>0</td>\n",
              "      <td>15</td>\n",
              "      <td>80</td>\n",
              "      <td>5.333333</td>\n",
              "      <td>3</td>\n",
              "      <td>0</td>\n",
              "      <td>1</td>\n",
              "      <td>0</td>\n",
              "      <td>0</td>\n",
              "    </tr>\n",
              "    <tr>\n",
              "      <th>1240</th>\n",
              "      <td>one thing more i think i'm on a wrong place on...</td>\n",
              "      <td>0</td>\n",
              "      <td>16</td>\n",
              "      <td>57</td>\n",
              "      <td>3.562500</td>\n",
              "      <td>5</td>\n",
              "      <td>0</td>\n",
              "      <td>0</td>\n",
              "      <td>0</td>\n",
              "      <td>1</td>\n",
              "    </tr>\n",
              "  </tbody>\n",
              "</table>\n",
              "</div>\n",
              "      <button class=\"colab-df-convert\" onclick=\"convertToInteractive('df-6ee0a5e7-ab92-4f69-abe5-ec741cc5ffb2')\"\n",
              "              title=\"Convert this dataframe to an interactive table.\"\n",
              "              style=\"display:none;\">\n",
              "        \n",
              "  <svg xmlns=\"http://www.w3.org/2000/svg\" height=\"24px\"viewBox=\"0 0 24 24\"\n",
              "       width=\"24px\">\n",
              "    <path d=\"M0 0h24v24H0V0z\" fill=\"none\"/>\n",
              "    <path d=\"M18.56 5.44l.94 2.06.94-2.06 2.06-.94-2.06-.94-.94-2.06-.94 2.06-2.06.94zm-11 1L8.5 8.5l.94-2.06 2.06-.94-2.06-.94L8.5 2.5l-.94 2.06-2.06.94zm10 10l.94 2.06.94-2.06 2.06-.94-2.06-.94-.94-2.06-.94 2.06-2.06.94z\"/><path d=\"M17.41 7.96l-1.37-1.37c-.4-.4-.92-.59-1.43-.59-.52 0-1.04.2-1.43.59L10.3 9.45l-7.72 7.72c-.78.78-.78 2.05 0 2.83L4 21.41c.39.39.9.59 1.41.59.51 0 1.02-.2 1.41-.59l7.78-7.78 2.81-2.81c.8-.78.8-2.07 0-2.86zM5.41 20L4 18.59l7.72-7.72 1.47 1.35L5.41 20z\"/>\n",
              "  </svg>\n",
              "      </button>\n",
              "      \n",
              "  <style>\n",
              "    .colab-df-container {\n",
              "      display:flex;\n",
              "      flex-wrap:wrap;\n",
              "      gap: 12px;\n",
              "    }\n",
              "\n",
              "    .colab-df-convert {\n",
              "      background-color: #E8F0FE;\n",
              "      border: none;\n",
              "      border-radius: 50%;\n",
              "      cursor: pointer;\n",
              "      display: none;\n",
              "      fill: #1967D2;\n",
              "      height: 32px;\n",
              "      padding: 0 0 0 0;\n",
              "      width: 32px;\n",
              "    }\n",
              "\n",
              "    .colab-df-convert:hover {\n",
              "      background-color: #E2EBFA;\n",
              "      box-shadow: 0px 1px 2px rgba(60, 64, 67, 0.3), 0px 1px 3px 1px rgba(60, 64, 67, 0.15);\n",
              "      fill: #174EA6;\n",
              "    }\n",
              "\n",
              "    [theme=dark] .colab-df-convert {\n",
              "      background-color: #3B4455;\n",
              "      fill: #D2E3FC;\n",
              "    }\n",
              "\n",
              "    [theme=dark] .colab-df-convert:hover {\n",
              "      background-color: #434B5C;\n",
              "      box-shadow: 0px 1px 3px 1px rgba(0, 0, 0, 0.15);\n",
              "      filter: drop-shadow(0px 1px 2px rgba(0, 0, 0, 0.3));\n",
              "      fill: #FFFFFF;\n",
              "    }\n",
              "  </style>\n",
              "\n",
              "      <script>\n",
              "        const buttonEl =\n",
              "          document.querySelector('#df-6ee0a5e7-ab92-4f69-abe5-ec741cc5ffb2 button.colab-df-convert');\n",
              "        buttonEl.style.display =\n",
              "          google.colab.kernel.accessAllowed ? 'block' : 'none';\n",
              "\n",
              "        async function convertToInteractive(key) {\n",
              "          const element = document.querySelector('#df-6ee0a5e7-ab92-4f69-abe5-ec741cc5ffb2');\n",
              "          const dataTable =\n",
              "            await google.colab.kernel.invokeFunction('convertToInteractive',\n",
              "                                                     [key], {});\n",
              "          if (!dataTable) return;\n",
              "\n",
              "          const docLinkHtml = 'Like what you see? Visit the ' +\n",
              "            '<a target=\"_blank\" href=https://colab.research.google.com/notebooks/data_table.ipynb>data table notebook</a>'\n",
              "            + ' to learn more about interactive tables.';\n",
              "          element.innerHTML = '';\n",
              "          dataTable['output_type'] = 'display_data';\n",
              "          await google.colab.output.renderOutput(dataTable, element);\n",
              "          const docLink = document.createElement('div');\n",
              "          docLink.innerHTML = docLinkHtml;\n",
              "          element.appendChild(docLink);\n",
              "        }\n",
              "      </script>\n",
              "    </div>\n",
              "  </div>\n",
              "  "
            ]
          },
          "metadata": {},
          "execution_count": 49
        }
      ]
    },
    {
      "cell_type": "markdown",
      "source": [
        "##Contraction to Expansion"
      ],
      "metadata": {
        "id": "3E1oYPoczgW8"
      }
    },
    {
      "cell_type": "code",
      "source": [
        "contractions = {\n",
        "\"ain't\": \"am not\",\n",
        "\"aren't\": \"are not\",\n",
        "\"can't\": \"cannot\",\n",
        "\"can't've\": \"cannot have\",\n",
        "\"'cause\": \"because\",\n",
        "\"could've\": \"could have\",\n",
        "\"couldn't\": \"could not\",\n",
        "\"couldn't've\": \"could not have\",\n",
        "\"didn't\": \"did not\",\n",
        "\"doesn't\": \"does not\",\n",
        "\"don't\": \"do not\",\n",
        "\"hadn't\": \"had not\",\n",
        "\"hadn't've\": \"had not have\",\n",
        "\"hasn't\": \"has not\",\n",
        "\"haven't\": \"have not\",\n",
        "\"he'd\": \"he would\",\n",
        "\"he'd've\": \"he would have\",\n",
        "\"he'll\": \"he will\",\n",
        "\"he'll've\": \"he will have\",\n",
        "\"he's\": \"he is\",\n",
        "\"how'd\": \"how did\",\n",
        "\"how'd'y\": \"how do you\",\n",
        "\"how'll\": \"how will\",\n",
        "\"how's\": \"how does\",\n",
        "\"i'd\": \"i would\",\n",
        "\"i'd've\": \"i would have\",\n",
        "\"i'll\": \"i will\",\n",
        "\"i'll've\": \"i will have\",\n",
        "\"i'm\": \"i am\",\n",
        "\"i've\": \"i have\",\n",
        "\"isn't\": \"is not\",\n",
        "\"it'd\": \"it would\",\n",
        "\"it'd've\": \"it would have\",\n",
        "\"it'll\": \"it will\",\n",
        "\"it'll've\": \"it will have\",\n",
        "\"it's\": \"it is\",\n",
        "\"let's\": \"let us\",\n",
        "\"ma'am\": \"madam\",\n",
        "\"mayn't\": \"may not\",\n",
        "\"might've\": \"might have\",\n",
        "\"mightn't\": \"might not\",\n",
        "\"mightn't've\": \"might not have\",\n",
        "\"must've\": \"must have\",\n",
        "\"mustn't\": \"must not\",\n",
        "\"mustn't've\": \"must not have\",\n",
        "\"needn't\": \"need not\",\n",
        "\"needn't've\": \"need not have\",\n",
        "\"o'clock\": \"of the clock\",\n",
        "\"oughtn't\": \"ought not\",\n",
        "\"oughtn't've\": \"ought not have\",\n",
        "\"shan't\": \"shall not\",\n",
        "\"sha'n't\": \"shall not\",\n",
        "\"shan't've\": \"shall not have\",\n",
        "\"she'd\": \"she would\",\n",
        "\"she'd've\": \"she would have\",\n",
        "\"she'll\": \"she will\",\n",
        "\"she'll've\": \"she will have\",\n",
        "\"she's\": \"she is\",\n",
        "\"should've\": \"should have\",\n",
        "\"shouldn't\": \"should not\",\n",
        "\"shouldn't've\": \"should not have\",\n",
        "\"so've\": \"so have\",\n",
        "\"so's\": \"so is\",\n",
        "\"that'd\": \"that would\",\n",
        "\"that'd've\": \"that would have\",\n",
        "\"that's\": \"that is\",\n",
        "\"there'd\": \"there would\",\n",
        "\"there'd've\": \"there would have\",\n",
        "\"there's\": \"there is\",\n",
        "\"they'd\": \"they would\",\n",
        "\"they'd've\": \"they would have\",\n",
        "\"they'll\": \"they will\",\n",
        "\"they'll've\": \"they will have\",\n",
        "\"they're\": \"they are\",\n",
        "\"they've\": \"they have\",\n",
        "\"to've\": \"to have\",\n",
        "\"wasn't\": \"was not\",\n",
        "\" u \": \" you \",\n",
        "\" ur \": \" your \",\n",
        "\" n \": \" and \",\n",
        "\"won't\": \"would not\",\n",
        "'dis': 'this',\n",
        "'bak': 'back',\n",
        "'brng': 'bring'}\n",
        "\n"
      ],
      "metadata": {
        "id": "a4IKyaEyyU5z"
      },
      "execution_count": null,
      "outputs": []
    },
    {
      "cell_type": "code",
      "source": [
        "x = \"i m don't he'll\" # i am do not he will"
      ],
      "metadata": {
        "id": "711BpHKTzWs8"
      },
      "execution_count": null,
      "outputs": []
    },
    {
      "cell_type": "code",
      "source": [
        "def cont_to_exp(x):\n",
        "  if type(x) is str:\n",
        "    for key in contractions:\n",
        "      value = contractions[key]\n",
        "      x = x.replace(key, value)\n",
        "    return x\n",
        "  else:\n",
        "    return x"
      ],
      "metadata": {
        "id": "m9ehGGHWzWwA"
      },
      "execution_count": null,
      "outputs": []
    },
    {
      "cell_type": "code",
      "source": [
        "cont_to_exp(x)"
      ],
      "metadata": {
        "colab": {
          "base_uri": "https://localhost:8080/",
          "height": 35
        },
        "id": "ktmTFHk-zWzO",
        "outputId": "bd31246f-adea-4298-c965-355431ad25a0"
      },
      "execution_count": null,
      "outputs": [
        {
          "output_type": "execute_result",
          "data": {
            "text/plain": [
              "'i m do not he will'"
            ],
            "application/vnd.google.colaboratory.intrinsic+json": {
              "type": "string"
            }
          },
          "metadata": {},
          "execution_count": 53
        }
      ]
    },
    {
      "cell_type": "code",
      "source": [
        "%%timeit\n",
        "df['twitts'] = df['twitts'].apply(lambda x: cont_to_exp(x))"
      ],
      "metadata": {
        "colab": {
          "base_uri": "https://localhost:8080/"
        },
        "id": "dh_gb3kTzW2e",
        "outputId": "1ee87dae-1ddb-4bc4-ed85-c030313b97ce"
      },
      "execution_count": null,
      "outputs": [
        {
          "output_type": "stream",
          "name": "stdout",
          "text": [
            "10 loops, best of 5: 85.5 ms per loop\n"
          ]
        }
      ]
    },
    {
      "cell_type": "code",
      "source": [
        "df.sample(5)"
      ],
      "metadata": {
        "colab": {
          "base_uri": "https://localhost:8080/",
          "height": 320
        },
        "id": "jY9UTPP4zW8E",
        "outputId": "97f18b50-729e-4cfd-f322-4e4914b69872"
      },
      "execution_count": null,
      "outputs": [
        {
          "output_type": "execute_result",
          "data": {
            "text/plain": [
              "                                                 twitts  sentiment  \\\n",
              "2074  @renmiu thanks! i love booking stuff online, b...          1   \n",
              "480                               i want my hips done.           0   \n",
              "2949  perk of working in advancement: fresh ground s...          1   \n",
              "2237          #followfriday @aileenwilliams  thank you           1   \n",
              "1324  arghhhh...have misplaced my latest draft of th...          0   \n",
              "\n",
              "      word_counts  char_counts  avg_word_len  stop_words_len  hashtag_counts  \\\n",
              "2074           16           73      4.562500               5               0   \n",
              "480             5           16      3.200000               1               0   \n",
              "2949           14           72      5.142857               5               0   \n",
              "2237            4           36      9.000000               1               1   \n",
              "1324           17           87      5.117647               6               0   \n",
              "\n",
              "      mention_counts  numeric_counts  upper_counts  \n",
              "2074               1               0             2  \n",
              "480                0               0             1  \n",
              "2949               0               0             0  \n",
              "2237               1               0             0  \n",
              "1324               0               0             1  "
            ],
            "text/html": [
              "\n",
              "  <div id=\"df-42b4daa4-ed47-4e14-bf21-71109ddb2f88\">\n",
              "    <div class=\"colab-df-container\">\n",
              "      <div>\n",
              "<style scoped>\n",
              "    .dataframe tbody tr th:only-of-type {\n",
              "        vertical-align: middle;\n",
              "    }\n",
              "\n",
              "    .dataframe tbody tr th {\n",
              "        vertical-align: top;\n",
              "    }\n",
              "\n",
              "    .dataframe thead th {\n",
              "        text-align: right;\n",
              "    }\n",
              "</style>\n",
              "<table border=\"1\" class=\"dataframe\">\n",
              "  <thead>\n",
              "    <tr style=\"text-align: right;\">\n",
              "      <th></th>\n",
              "      <th>twitts</th>\n",
              "      <th>sentiment</th>\n",
              "      <th>word_counts</th>\n",
              "      <th>char_counts</th>\n",
              "      <th>avg_word_len</th>\n",
              "      <th>stop_words_len</th>\n",
              "      <th>hashtag_counts</th>\n",
              "      <th>mention_counts</th>\n",
              "      <th>numeric_counts</th>\n",
              "      <th>upper_counts</th>\n",
              "    </tr>\n",
              "  </thead>\n",
              "  <tbody>\n",
              "    <tr>\n",
              "      <th>2074</th>\n",
              "      <td>@renmiu thanks! i love booking stuff online, b...</td>\n",
              "      <td>1</td>\n",
              "      <td>16</td>\n",
              "      <td>73</td>\n",
              "      <td>4.562500</td>\n",
              "      <td>5</td>\n",
              "      <td>0</td>\n",
              "      <td>1</td>\n",
              "      <td>0</td>\n",
              "      <td>2</td>\n",
              "    </tr>\n",
              "    <tr>\n",
              "      <th>480</th>\n",
              "      <td>i want my hips done.</td>\n",
              "      <td>0</td>\n",
              "      <td>5</td>\n",
              "      <td>16</td>\n",
              "      <td>3.200000</td>\n",
              "      <td>1</td>\n",
              "      <td>0</td>\n",
              "      <td>0</td>\n",
              "      <td>0</td>\n",
              "      <td>1</td>\n",
              "    </tr>\n",
              "    <tr>\n",
              "      <th>2949</th>\n",
              "      <td>perk of working in advancement: fresh ground s...</td>\n",
              "      <td>1</td>\n",
              "      <td>14</td>\n",
              "      <td>72</td>\n",
              "      <td>5.142857</td>\n",
              "      <td>5</td>\n",
              "      <td>0</td>\n",
              "      <td>0</td>\n",
              "      <td>0</td>\n",
              "      <td>0</td>\n",
              "    </tr>\n",
              "    <tr>\n",
              "      <th>2237</th>\n",
              "      <td>#followfriday @aileenwilliams  thank you</td>\n",
              "      <td>1</td>\n",
              "      <td>4</td>\n",
              "      <td>36</td>\n",
              "      <td>9.000000</td>\n",
              "      <td>1</td>\n",
              "      <td>1</td>\n",
              "      <td>1</td>\n",
              "      <td>0</td>\n",
              "      <td>0</td>\n",
              "    </tr>\n",
              "    <tr>\n",
              "      <th>1324</th>\n",
              "      <td>arghhhh...have misplaced my latest draft of th...</td>\n",
              "      <td>0</td>\n",
              "      <td>17</td>\n",
              "      <td>87</td>\n",
              "      <td>5.117647</td>\n",
              "      <td>6</td>\n",
              "      <td>0</td>\n",
              "      <td>0</td>\n",
              "      <td>0</td>\n",
              "      <td>1</td>\n",
              "    </tr>\n",
              "  </tbody>\n",
              "</table>\n",
              "</div>\n",
              "      <button class=\"colab-df-convert\" onclick=\"convertToInteractive('df-42b4daa4-ed47-4e14-bf21-71109ddb2f88')\"\n",
              "              title=\"Convert this dataframe to an interactive table.\"\n",
              "              style=\"display:none;\">\n",
              "        \n",
              "  <svg xmlns=\"http://www.w3.org/2000/svg\" height=\"24px\"viewBox=\"0 0 24 24\"\n",
              "       width=\"24px\">\n",
              "    <path d=\"M0 0h24v24H0V0z\" fill=\"none\"/>\n",
              "    <path d=\"M18.56 5.44l.94 2.06.94-2.06 2.06-.94-2.06-.94-.94-2.06-.94 2.06-2.06.94zm-11 1L8.5 8.5l.94-2.06 2.06-.94-2.06-.94L8.5 2.5l-.94 2.06-2.06.94zm10 10l.94 2.06.94-2.06 2.06-.94-2.06-.94-.94-2.06-.94 2.06-2.06.94z\"/><path d=\"M17.41 7.96l-1.37-1.37c-.4-.4-.92-.59-1.43-.59-.52 0-1.04.2-1.43.59L10.3 9.45l-7.72 7.72c-.78.78-.78 2.05 0 2.83L4 21.41c.39.39.9.59 1.41.59.51 0 1.02-.2 1.41-.59l7.78-7.78 2.81-2.81c.8-.78.8-2.07 0-2.86zM5.41 20L4 18.59l7.72-7.72 1.47 1.35L5.41 20z\"/>\n",
              "  </svg>\n",
              "      </button>\n",
              "      \n",
              "  <style>\n",
              "    .colab-df-container {\n",
              "      display:flex;\n",
              "      flex-wrap:wrap;\n",
              "      gap: 12px;\n",
              "    }\n",
              "\n",
              "    .colab-df-convert {\n",
              "      background-color: #E8F0FE;\n",
              "      border: none;\n",
              "      border-radius: 50%;\n",
              "      cursor: pointer;\n",
              "      display: none;\n",
              "      fill: #1967D2;\n",
              "      height: 32px;\n",
              "      padding: 0 0 0 0;\n",
              "      width: 32px;\n",
              "    }\n",
              "\n",
              "    .colab-df-convert:hover {\n",
              "      background-color: #E2EBFA;\n",
              "      box-shadow: 0px 1px 2px rgba(60, 64, 67, 0.3), 0px 1px 3px 1px rgba(60, 64, 67, 0.15);\n",
              "      fill: #174EA6;\n",
              "    }\n",
              "\n",
              "    [theme=dark] .colab-df-convert {\n",
              "      background-color: #3B4455;\n",
              "      fill: #D2E3FC;\n",
              "    }\n",
              "\n",
              "    [theme=dark] .colab-df-convert:hover {\n",
              "      background-color: #434B5C;\n",
              "      box-shadow: 0px 1px 3px 1px rgba(0, 0, 0, 0.15);\n",
              "      filter: drop-shadow(0px 1px 2px rgba(0, 0, 0, 0.3));\n",
              "      fill: #FFFFFF;\n",
              "    }\n",
              "  </style>\n",
              "\n",
              "      <script>\n",
              "        const buttonEl =\n",
              "          document.querySelector('#df-42b4daa4-ed47-4e14-bf21-71109ddb2f88 button.colab-df-convert');\n",
              "        buttonEl.style.display =\n",
              "          google.colab.kernel.accessAllowed ? 'block' : 'none';\n",
              "\n",
              "        async function convertToInteractive(key) {\n",
              "          const element = document.querySelector('#df-42b4daa4-ed47-4e14-bf21-71109ddb2f88');\n",
              "          const dataTable =\n",
              "            await google.colab.kernel.invokeFunction('convertToInteractive',\n",
              "                                                     [key], {});\n",
              "          if (!dataTable) return;\n",
              "\n",
              "          const docLinkHtml = 'Like what you see? Visit the ' +\n",
              "            '<a target=\"_blank\" href=https://colab.research.google.com/notebooks/data_table.ipynb>data table notebook</a>'\n",
              "            + ' to learn more about interactive tables.';\n",
              "          element.innerHTML = '';\n",
              "          dataTable['output_type'] = 'display_data';\n",
              "          await google.colab.output.renderOutput(dataTable, element);\n",
              "          const docLink = document.createElement('div');\n",
              "          docLink.innerHTML = docLinkHtml;\n",
              "          element.appendChild(docLink);\n",
              "        }\n",
              "      </script>\n",
              "    </div>\n",
              "  </div>\n",
              "  "
            ]
          },
          "metadata": {},
          "execution_count": 55
        }
      ]
    },
    {
      "cell_type": "markdown",
      "source": [
        "##Count and Remove Emails"
      ],
      "metadata": {
        "id": "JiwPWe3_2fOB"
      }
    },
    {
      "cell_type": "code",
      "source": [
        "import re"
      ],
      "metadata": {
        "id": "wCavdxxEzXA9"
      },
      "execution_count": null,
      "outputs": []
    },
    {
      "cell_type": "code",
      "source": [
        "df[df['twitts'].str.contains('hotmail.com')]"
      ],
      "metadata": {
        "colab": {
          "base_uri": "https://localhost:8080/",
          "height": 142
        },
        "id": "oO4P6Cq1zXGM",
        "outputId": "1724bbfe-80d2-49b9-9b95-c54ae64bd6d3"
      },
      "execution_count": null,
      "outputs": [
        {
          "output_type": "execute_result",
          "data": {
            "text/plain": [
              "                                                 twitts  sentiment  \\\n",
              "3713  @securerecs arghh me please  markbradbury_16@h...          1   \n",
              "\n",
              "      word_counts  char_counts  avg_word_len  stop_words_len  hashtag_counts  \\\n",
              "3713            5           51          10.2               0               0   \n",
              "\n",
              "      mention_counts  numeric_counts  upper_counts  \n",
              "3713               1               0             0  "
            ],
            "text/html": [
              "\n",
              "  <div id=\"df-25a3fc1b-7f8b-4b14-88ba-89a7238224bd\">\n",
              "    <div class=\"colab-df-container\">\n",
              "      <div>\n",
              "<style scoped>\n",
              "    .dataframe tbody tr th:only-of-type {\n",
              "        vertical-align: middle;\n",
              "    }\n",
              "\n",
              "    .dataframe tbody tr th {\n",
              "        vertical-align: top;\n",
              "    }\n",
              "\n",
              "    .dataframe thead th {\n",
              "        text-align: right;\n",
              "    }\n",
              "</style>\n",
              "<table border=\"1\" class=\"dataframe\">\n",
              "  <thead>\n",
              "    <tr style=\"text-align: right;\">\n",
              "      <th></th>\n",
              "      <th>twitts</th>\n",
              "      <th>sentiment</th>\n",
              "      <th>word_counts</th>\n",
              "      <th>char_counts</th>\n",
              "      <th>avg_word_len</th>\n",
              "      <th>stop_words_len</th>\n",
              "      <th>hashtag_counts</th>\n",
              "      <th>mention_counts</th>\n",
              "      <th>numeric_counts</th>\n",
              "      <th>upper_counts</th>\n",
              "    </tr>\n",
              "  </thead>\n",
              "  <tbody>\n",
              "    <tr>\n",
              "      <th>3713</th>\n",
              "      <td>@securerecs arghh me please  markbradbury_16@h...</td>\n",
              "      <td>1</td>\n",
              "      <td>5</td>\n",
              "      <td>51</td>\n",
              "      <td>10.2</td>\n",
              "      <td>0</td>\n",
              "      <td>0</td>\n",
              "      <td>1</td>\n",
              "      <td>0</td>\n",
              "      <td>0</td>\n",
              "    </tr>\n",
              "  </tbody>\n",
              "</table>\n",
              "</div>\n",
              "      <button class=\"colab-df-convert\" onclick=\"convertToInteractive('df-25a3fc1b-7f8b-4b14-88ba-89a7238224bd')\"\n",
              "              title=\"Convert this dataframe to an interactive table.\"\n",
              "              style=\"display:none;\">\n",
              "        \n",
              "  <svg xmlns=\"http://www.w3.org/2000/svg\" height=\"24px\"viewBox=\"0 0 24 24\"\n",
              "       width=\"24px\">\n",
              "    <path d=\"M0 0h24v24H0V0z\" fill=\"none\"/>\n",
              "    <path d=\"M18.56 5.44l.94 2.06.94-2.06 2.06-.94-2.06-.94-.94-2.06-.94 2.06-2.06.94zm-11 1L8.5 8.5l.94-2.06 2.06-.94-2.06-.94L8.5 2.5l-.94 2.06-2.06.94zm10 10l.94 2.06.94-2.06 2.06-.94-2.06-.94-.94-2.06-.94 2.06-2.06.94z\"/><path d=\"M17.41 7.96l-1.37-1.37c-.4-.4-.92-.59-1.43-.59-.52 0-1.04.2-1.43.59L10.3 9.45l-7.72 7.72c-.78.78-.78 2.05 0 2.83L4 21.41c.39.39.9.59 1.41.59.51 0 1.02-.2 1.41-.59l7.78-7.78 2.81-2.81c.8-.78.8-2.07 0-2.86zM5.41 20L4 18.59l7.72-7.72 1.47 1.35L5.41 20z\"/>\n",
              "  </svg>\n",
              "      </button>\n",
              "      \n",
              "  <style>\n",
              "    .colab-df-container {\n",
              "      display:flex;\n",
              "      flex-wrap:wrap;\n",
              "      gap: 12px;\n",
              "    }\n",
              "\n",
              "    .colab-df-convert {\n",
              "      background-color: #E8F0FE;\n",
              "      border: none;\n",
              "      border-radius: 50%;\n",
              "      cursor: pointer;\n",
              "      display: none;\n",
              "      fill: #1967D2;\n",
              "      height: 32px;\n",
              "      padding: 0 0 0 0;\n",
              "      width: 32px;\n",
              "    }\n",
              "\n",
              "    .colab-df-convert:hover {\n",
              "      background-color: #E2EBFA;\n",
              "      box-shadow: 0px 1px 2px rgba(60, 64, 67, 0.3), 0px 1px 3px 1px rgba(60, 64, 67, 0.15);\n",
              "      fill: #174EA6;\n",
              "    }\n",
              "\n",
              "    [theme=dark] .colab-df-convert {\n",
              "      background-color: #3B4455;\n",
              "      fill: #D2E3FC;\n",
              "    }\n",
              "\n",
              "    [theme=dark] .colab-df-convert:hover {\n",
              "      background-color: #434B5C;\n",
              "      box-shadow: 0px 1px 3px 1px rgba(0, 0, 0, 0.15);\n",
              "      filter: drop-shadow(0px 1px 2px rgba(0, 0, 0, 0.3));\n",
              "      fill: #FFFFFF;\n",
              "    }\n",
              "  </style>\n",
              "\n",
              "      <script>\n",
              "        const buttonEl =\n",
              "          document.querySelector('#df-25a3fc1b-7f8b-4b14-88ba-89a7238224bd button.colab-df-convert');\n",
              "        buttonEl.style.display =\n",
              "          google.colab.kernel.accessAllowed ? 'block' : 'none';\n",
              "\n",
              "        async function convertToInteractive(key) {\n",
              "          const element = document.querySelector('#df-25a3fc1b-7f8b-4b14-88ba-89a7238224bd');\n",
              "          const dataTable =\n",
              "            await google.colab.kernel.invokeFunction('convertToInteractive',\n",
              "                                                     [key], {});\n",
              "          if (!dataTable) return;\n",
              "\n",
              "          const docLinkHtml = 'Like what you see? Visit the ' +\n",
              "            '<a target=\"_blank\" href=https://colab.research.google.com/notebooks/data_table.ipynb>data table notebook</a>'\n",
              "            + ' to learn more about interactive tables.';\n",
              "          element.innerHTML = '';\n",
              "          dataTable['output_type'] = 'display_data';\n",
              "          await google.colab.output.renderOutput(dataTable, element);\n",
              "          const docLink = document.createElement('div');\n",
              "          docLink.innerHTML = docLinkHtml;\n",
              "          element.appendChild(docLink);\n",
              "        }\n",
              "      </script>\n",
              "    </div>\n",
              "  </div>\n",
              "  "
            ]
          },
          "metadata": {},
          "execution_count": 57
        }
      ]
    },
    {
      "cell_type": "code",
      "source": [
        "df.iloc[3713]['twitts']"
      ],
      "metadata": {
        "colab": {
          "base_uri": "https://localhost:8080/",
          "height": 35
        },
        "id": "hUA4Uxy3zXJF",
        "outputId": "c343f59e-521b-4f95-c88b-ef6d53430b10"
      },
      "execution_count": null,
      "outputs": [
        {
          "output_type": "execute_result",
          "data": {
            "text/plain": [
              "'@securerecs arghh me please  markbradbury_16@hotmail.com'"
            ],
            "application/vnd.google.colaboratory.intrinsic+json": {
              "type": "string"
            }
          },
          "metadata": {},
          "execution_count": 58
        }
      ]
    },
    {
      "cell_type": "code",
      "source": [
        "x = '@securerecs arghh me please markbradbury_16@hotmail.com'"
      ],
      "metadata": {
        "id": "IS10-ul7yU8w"
      },
      "execution_count": null,
      "outputs": []
    },
    {
      "cell_type": "code",
      "source": [
        "re.findall(r'([a-z0-9+._-]+@[a-z0-9+._-]+\\.[a-z0-9+_-]+)', x)"
      ],
      "metadata": {
        "colab": {
          "base_uri": "https://localhost:8080/"
        },
        "id": "1K78stEWyU_a",
        "outputId": "043a2a8f-9a4f-4b1e-bae0-2842b5fbf1a5"
      },
      "execution_count": null,
      "outputs": [
        {
          "output_type": "execute_result",
          "data": {
            "text/plain": [
              "['markbradbury_16@hotmail.com']"
            ]
          },
          "metadata": {},
          "execution_count": 60
        }
      ]
    },
    {
      "cell_type": "code",
      "source": [
        "df['emails'] = df['twitts'].apply(lambda x: re.sub(r'([a-z0-9+._-]+@[a-z0-9+._-]+\\.[a-z0-9+_-]+)',\"\", x))\n"
      ],
      "metadata": {
        "id": "mZ0RNl9f3aVK"
      },
      "execution_count": null,
      "outputs": []
    },
    {
      "cell_type": "code",
      "source": [
        "df['emails_count'] = df['emails'].apply(lambda x: len(x))"
      ],
      "metadata": {
        "id": "0xrLt-WM3aaW"
      },
      "execution_count": null,
      "outputs": []
    },
    {
      "cell_type": "code",
      "source": [
        "df[df['emails_count']>0]"
      ],
      "metadata": {
        "colab": {
          "base_uri": "https://localhost:8080/",
          "height": 887
        },
        "id": "434A3C0f3aeI",
        "outputId": "2551aed9-d5ce-4db1-8344-1ca99b170857"
      },
      "execution_count": null,
      "outputs": [
        {
          "output_type": "execute_result",
          "data": {
            "text/plain": [
              "                                                 twitts  sentiment  \\\n",
              "0     is bored and wants to watch a movie  any sugge...          0   \n",
              "1              back in miami.  waiting to unboard ship           0   \n",
              "2     @misskpey awwww dnt this bring back memoriesss...          0   \n",
              "3                     ughhh i am so tired  blahhhhhhhhh          0   \n",
              "4     @mandagoforth me bad! it is funny though. zach...          0   \n",
              "...                                                 ...        ...   \n",
              "3995                                  i just graduated           1   \n",
              "3996          templating works; it all has to be done            1   \n",
              "3997                   mommy just brought me starbucks           1   \n",
              "3998  @omarepps watching you on a house re-run...lov...          1   \n",
              "3999  thanks for trying to make me smile i will make...          1   \n",
              "\n",
              "      word_counts  char_counts  avg_word_len  stop_words_len  hashtag_counts  \\\n",
              "0              10           43      4.300000               5               0   \n",
              "1               7           32      4.571429               3               0   \n",
              "2              12           54      4.500000               0               0   \n",
              "3               6           27      4.500000               3               0   \n",
              "4              26          116      4.461538              13               0   \n",
              "...           ...          ...           ...             ...             ...   \n",
              "3995            3           14      4.666667               2               0   \n",
              "3996            8           32      4.000000               6               0   \n",
              "3997            5           27      5.400000               2               0   \n",
              "3998            8           45      5.625000               3               0   \n",
              "3999           16           63      3.937500               9               0   \n",
              "\n",
              "      mention_counts  numeric_counts  upper_counts  \\\n",
              "0                  0               0             0   \n",
              "1                  0               0             0   \n",
              "2                  1               0             1   \n",
              "3                  0               0             0   \n",
              "4                  2               0             0   \n",
              "...              ...             ...           ...   \n",
              "3995               0               0             0   \n",
              "3996               0               0             0   \n",
              "3997               0               0             0   \n",
              "3998               1               0             0   \n",
              "3999               0               0             0   \n",
              "\n",
              "                                                 emails  emails_count  \n",
              "0     is bored and wants to watch a movie  any sugge...            53  \n",
              "1              back in miami.  waiting to unboard ship             40  \n",
              "2     @misskpey awwww dnt this bring back memoriesss...            70  \n",
              "3                     ughhh i am so tired  blahhhhhhhhh            33  \n",
              "4     @mandagoforth me bad! it is funny though. zach...           143  \n",
              "...                                                 ...           ...  \n",
              "3995                                  i just graduated             17  \n",
              "3996          templating works; it all has to be done              41  \n",
              "3997                   mommy just brought me starbucks             32  \n",
              "3998  @omarepps watching you on a house re-run...lov...            53  \n",
              "3999  thanks for trying to make me smile i will make...            81  \n",
              "\n",
              "[4000 rows x 12 columns]"
            ],
            "text/html": [
              "\n",
              "  <div id=\"df-e9b4ca14-972a-4d60-afc5-4730d1528b07\">\n",
              "    <div class=\"colab-df-container\">\n",
              "      <div>\n",
              "<style scoped>\n",
              "    .dataframe tbody tr th:only-of-type {\n",
              "        vertical-align: middle;\n",
              "    }\n",
              "\n",
              "    .dataframe tbody tr th {\n",
              "        vertical-align: top;\n",
              "    }\n",
              "\n",
              "    .dataframe thead th {\n",
              "        text-align: right;\n",
              "    }\n",
              "</style>\n",
              "<table border=\"1\" class=\"dataframe\">\n",
              "  <thead>\n",
              "    <tr style=\"text-align: right;\">\n",
              "      <th></th>\n",
              "      <th>twitts</th>\n",
              "      <th>sentiment</th>\n",
              "      <th>word_counts</th>\n",
              "      <th>char_counts</th>\n",
              "      <th>avg_word_len</th>\n",
              "      <th>stop_words_len</th>\n",
              "      <th>hashtag_counts</th>\n",
              "      <th>mention_counts</th>\n",
              "      <th>numeric_counts</th>\n",
              "      <th>upper_counts</th>\n",
              "      <th>emails</th>\n",
              "      <th>emails_count</th>\n",
              "    </tr>\n",
              "  </thead>\n",
              "  <tbody>\n",
              "    <tr>\n",
              "      <th>0</th>\n",
              "      <td>is bored and wants to watch a movie  any sugge...</td>\n",
              "      <td>0</td>\n",
              "      <td>10</td>\n",
              "      <td>43</td>\n",
              "      <td>4.300000</td>\n",
              "      <td>5</td>\n",
              "      <td>0</td>\n",
              "      <td>0</td>\n",
              "      <td>0</td>\n",
              "      <td>0</td>\n",
              "      <td>is bored and wants to watch a movie  any sugge...</td>\n",
              "      <td>53</td>\n",
              "    </tr>\n",
              "    <tr>\n",
              "      <th>1</th>\n",
              "      <td>back in miami.  waiting to unboard ship</td>\n",
              "      <td>0</td>\n",
              "      <td>7</td>\n",
              "      <td>32</td>\n",
              "      <td>4.571429</td>\n",
              "      <td>3</td>\n",
              "      <td>0</td>\n",
              "      <td>0</td>\n",
              "      <td>0</td>\n",
              "      <td>0</td>\n",
              "      <td>back in miami.  waiting to unboard ship</td>\n",
              "      <td>40</td>\n",
              "    </tr>\n",
              "    <tr>\n",
              "      <th>2</th>\n",
              "      <td>@misskpey awwww dnt this bring back memoriesss...</td>\n",
              "      <td>0</td>\n",
              "      <td>12</td>\n",
              "      <td>54</td>\n",
              "      <td>4.500000</td>\n",
              "      <td>0</td>\n",
              "      <td>0</td>\n",
              "      <td>1</td>\n",
              "      <td>0</td>\n",
              "      <td>1</td>\n",
              "      <td>@misskpey awwww dnt this bring back memoriesss...</td>\n",
              "      <td>70</td>\n",
              "    </tr>\n",
              "    <tr>\n",
              "      <th>3</th>\n",
              "      <td>ughhh i am so tired  blahhhhhhhhh</td>\n",
              "      <td>0</td>\n",
              "      <td>6</td>\n",
              "      <td>27</td>\n",
              "      <td>4.500000</td>\n",
              "      <td>3</td>\n",
              "      <td>0</td>\n",
              "      <td>0</td>\n",
              "      <td>0</td>\n",
              "      <td>0</td>\n",
              "      <td>ughhh i am so tired  blahhhhhhhhh</td>\n",
              "      <td>33</td>\n",
              "    </tr>\n",
              "    <tr>\n",
              "      <th>4</th>\n",
              "      <td>@mandagoforth me bad! it is funny though. zach...</td>\n",
              "      <td>0</td>\n",
              "      <td>26</td>\n",
              "      <td>116</td>\n",
              "      <td>4.461538</td>\n",
              "      <td>13</td>\n",
              "      <td>0</td>\n",
              "      <td>2</td>\n",
              "      <td>0</td>\n",
              "      <td>0</td>\n",
              "      <td>@mandagoforth me bad! it is funny though. zach...</td>\n",
              "      <td>143</td>\n",
              "    </tr>\n",
              "    <tr>\n",
              "      <th>...</th>\n",
              "      <td>...</td>\n",
              "      <td>...</td>\n",
              "      <td>...</td>\n",
              "      <td>...</td>\n",
              "      <td>...</td>\n",
              "      <td>...</td>\n",
              "      <td>...</td>\n",
              "      <td>...</td>\n",
              "      <td>...</td>\n",
              "      <td>...</td>\n",
              "      <td>...</td>\n",
              "      <td>...</td>\n",
              "    </tr>\n",
              "    <tr>\n",
              "      <th>3995</th>\n",
              "      <td>i just graduated</td>\n",
              "      <td>1</td>\n",
              "      <td>3</td>\n",
              "      <td>14</td>\n",
              "      <td>4.666667</td>\n",
              "      <td>2</td>\n",
              "      <td>0</td>\n",
              "      <td>0</td>\n",
              "      <td>0</td>\n",
              "      <td>0</td>\n",
              "      <td>i just graduated</td>\n",
              "      <td>17</td>\n",
              "    </tr>\n",
              "    <tr>\n",
              "      <th>3996</th>\n",
              "      <td>templating works; it all has to be done</td>\n",
              "      <td>1</td>\n",
              "      <td>8</td>\n",
              "      <td>32</td>\n",
              "      <td>4.000000</td>\n",
              "      <td>6</td>\n",
              "      <td>0</td>\n",
              "      <td>0</td>\n",
              "      <td>0</td>\n",
              "      <td>0</td>\n",
              "      <td>templating works; it all has to be done</td>\n",
              "      <td>41</td>\n",
              "    </tr>\n",
              "    <tr>\n",
              "      <th>3997</th>\n",
              "      <td>mommy just brought me starbucks</td>\n",
              "      <td>1</td>\n",
              "      <td>5</td>\n",
              "      <td>27</td>\n",
              "      <td>5.400000</td>\n",
              "      <td>2</td>\n",
              "      <td>0</td>\n",
              "      <td>0</td>\n",
              "      <td>0</td>\n",
              "      <td>0</td>\n",
              "      <td>mommy just brought me starbucks</td>\n",
              "      <td>32</td>\n",
              "    </tr>\n",
              "    <tr>\n",
              "      <th>3998</th>\n",
              "      <td>@omarepps watching you on a house re-run...lov...</td>\n",
              "      <td>1</td>\n",
              "      <td>8</td>\n",
              "      <td>45</td>\n",
              "      <td>5.625000</td>\n",
              "      <td>3</td>\n",
              "      <td>0</td>\n",
              "      <td>1</td>\n",
              "      <td>0</td>\n",
              "      <td>0</td>\n",
              "      <td>@omarepps watching you on a house re-run...lov...</td>\n",
              "      <td>53</td>\n",
              "    </tr>\n",
              "    <tr>\n",
              "      <th>3999</th>\n",
              "      <td>thanks for trying to make me smile i will make...</td>\n",
              "      <td>1</td>\n",
              "      <td>16</td>\n",
              "      <td>63</td>\n",
              "      <td>3.937500</td>\n",
              "      <td>9</td>\n",
              "      <td>0</td>\n",
              "      <td>0</td>\n",
              "      <td>0</td>\n",
              "      <td>0</td>\n",
              "      <td>thanks for trying to make me smile i will make...</td>\n",
              "      <td>81</td>\n",
              "    </tr>\n",
              "  </tbody>\n",
              "</table>\n",
              "<p>4000 rows × 12 columns</p>\n",
              "</div>\n",
              "      <button class=\"colab-df-convert\" onclick=\"convertToInteractive('df-e9b4ca14-972a-4d60-afc5-4730d1528b07')\"\n",
              "              title=\"Convert this dataframe to an interactive table.\"\n",
              "              style=\"display:none;\">\n",
              "        \n",
              "  <svg xmlns=\"http://www.w3.org/2000/svg\" height=\"24px\"viewBox=\"0 0 24 24\"\n",
              "       width=\"24px\">\n",
              "    <path d=\"M0 0h24v24H0V0z\" fill=\"none\"/>\n",
              "    <path d=\"M18.56 5.44l.94 2.06.94-2.06 2.06-.94-2.06-.94-.94-2.06-.94 2.06-2.06.94zm-11 1L8.5 8.5l.94-2.06 2.06-.94-2.06-.94L8.5 2.5l-.94 2.06-2.06.94zm10 10l.94 2.06.94-2.06 2.06-.94-2.06-.94-.94-2.06-.94 2.06-2.06.94z\"/><path d=\"M17.41 7.96l-1.37-1.37c-.4-.4-.92-.59-1.43-.59-.52 0-1.04.2-1.43.59L10.3 9.45l-7.72 7.72c-.78.78-.78 2.05 0 2.83L4 21.41c.39.39.9.59 1.41.59.51 0 1.02-.2 1.41-.59l7.78-7.78 2.81-2.81c.8-.78.8-2.07 0-2.86zM5.41 20L4 18.59l7.72-7.72 1.47 1.35L5.41 20z\"/>\n",
              "  </svg>\n",
              "      </button>\n",
              "      \n",
              "  <style>\n",
              "    .colab-df-container {\n",
              "      display:flex;\n",
              "      flex-wrap:wrap;\n",
              "      gap: 12px;\n",
              "    }\n",
              "\n",
              "    .colab-df-convert {\n",
              "      background-color: #E8F0FE;\n",
              "      border: none;\n",
              "      border-radius: 50%;\n",
              "      cursor: pointer;\n",
              "      display: none;\n",
              "      fill: #1967D2;\n",
              "      height: 32px;\n",
              "      padding: 0 0 0 0;\n",
              "      width: 32px;\n",
              "    }\n",
              "\n",
              "    .colab-df-convert:hover {\n",
              "      background-color: #E2EBFA;\n",
              "      box-shadow: 0px 1px 2px rgba(60, 64, 67, 0.3), 0px 1px 3px 1px rgba(60, 64, 67, 0.15);\n",
              "      fill: #174EA6;\n",
              "    }\n",
              "\n",
              "    [theme=dark] .colab-df-convert {\n",
              "      background-color: #3B4455;\n",
              "      fill: #D2E3FC;\n",
              "    }\n",
              "\n",
              "    [theme=dark] .colab-df-convert:hover {\n",
              "      background-color: #434B5C;\n",
              "      box-shadow: 0px 1px 3px 1px rgba(0, 0, 0, 0.15);\n",
              "      filter: drop-shadow(0px 1px 2px rgba(0, 0, 0, 0.3));\n",
              "      fill: #FFFFFF;\n",
              "    }\n",
              "  </style>\n",
              "\n",
              "      <script>\n",
              "        const buttonEl =\n",
              "          document.querySelector('#df-e9b4ca14-972a-4d60-afc5-4730d1528b07 button.colab-df-convert');\n",
              "        buttonEl.style.display =\n",
              "          google.colab.kernel.accessAllowed ? 'block' : 'none';\n",
              "\n",
              "        async function convertToInteractive(key) {\n",
              "          const element = document.querySelector('#df-e9b4ca14-972a-4d60-afc5-4730d1528b07');\n",
              "          const dataTable =\n",
              "            await google.colab.kernel.invokeFunction('convertToInteractive',\n",
              "                                                     [key], {});\n",
              "          if (!dataTable) return;\n",
              "\n",
              "          const docLinkHtml = 'Like what you see? Visit the ' +\n",
              "            '<a target=\"_blank\" href=https://colab.research.google.com/notebooks/data_table.ipynb>data table notebook</a>'\n",
              "            + ' to learn more about interactive tables.';\n",
              "          element.innerHTML = '';\n",
              "          dataTable['output_type'] = 'display_data';\n",
              "          await google.colab.output.renderOutput(dataTable, element);\n",
              "          const docLink = document.createElement('div');\n",
              "          docLink.innerHTML = docLinkHtml;\n",
              "          element.appendChild(docLink);\n",
              "        }\n",
              "      </script>\n",
              "    </div>\n",
              "  </div>\n",
              "  "
            ]
          },
          "metadata": {},
          "execution_count": 63
        }
      ]
    },
    {
      "cell_type": "code",
      "source": [
        "re.sub(r'([a-z0-9+._-]+@[a-z0-9+._-]+\\.[a-z0-9+_-]+)',\"\", x)"
      ],
      "metadata": {
        "colab": {
          "base_uri": "https://localhost:8080/",
          "height": 35
        },
        "id": "KS_F2Aic3aiv",
        "outputId": "aa9abedc-e7bb-45af-9f5d-93888edcc195"
      },
      "execution_count": null,
      "outputs": [
        {
          "output_type": "execute_result",
          "data": {
            "text/plain": [
              "'@securerecs arghh me please '"
            ],
            "application/vnd.google.colaboratory.intrinsic+json": {
              "type": "string"
            }
          },
          "metadata": {},
          "execution_count": 64
        }
      ]
    },
    {
      "cell_type": "code",
      "source": [
        "df['twitts'] = df['twitts'].apply(lambda x: re.sub(r'([a-z0-9+._-]+@[a-z0-9+._-]+\\.[a-z0-9+_-]+)',\"\", x))"
      ],
      "metadata": {
        "id": "2eCIor9r3am9"
      },
      "execution_count": null,
      "outputs": []
    },
    {
      "cell_type": "code",
      "source": [
        "df[df['emails_count']>0]"
      ],
      "metadata": {
        "colab": {
          "base_uri": "https://localhost:8080/",
          "height": 887
        },
        "id": "vCDnEChi3aqn",
        "outputId": "e9057ae2-54de-4e09-a3bf-e393b75e64fc"
      },
      "execution_count": null,
      "outputs": [
        {
          "output_type": "execute_result",
          "data": {
            "text/plain": [
              "                                                 twitts  sentiment  \\\n",
              "0     is bored and wants to watch a movie  any sugge...          0   \n",
              "1              back in miami.  waiting to unboard ship           0   \n",
              "2     @misskpey awwww dnt this bring back memoriesss...          0   \n",
              "3                     ughhh i am so tired  blahhhhhhhhh          0   \n",
              "4     @mandagoforth me bad! it is funny though. zach...          0   \n",
              "...                                                 ...        ...   \n",
              "3995                                  i just graduated           1   \n",
              "3996          templating works; it all has to be done            1   \n",
              "3997                   mommy just brought me starbucks           1   \n",
              "3998  @omarepps watching you on a house re-run...lov...          1   \n",
              "3999  thanks for trying to make me smile i will make...          1   \n",
              "\n",
              "      word_counts  char_counts  avg_word_len  stop_words_len  hashtag_counts  \\\n",
              "0              10           43      4.300000               5               0   \n",
              "1               7           32      4.571429               3               0   \n",
              "2              12           54      4.500000               0               0   \n",
              "3               6           27      4.500000               3               0   \n",
              "4              26          116      4.461538              13               0   \n",
              "...           ...          ...           ...             ...             ...   \n",
              "3995            3           14      4.666667               2               0   \n",
              "3996            8           32      4.000000               6               0   \n",
              "3997            5           27      5.400000               2               0   \n",
              "3998            8           45      5.625000               3               0   \n",
              "3999           16           63      3.937500               9               0   \n",
              "\n",
              "      mention_counts  numeric_counts  upper_counts  \\\n",
              "0                  0               0             0   \n",
              "1                  0               0             0   \n",
              "2                  1               0             1   \n",
              "3                  0               0             0   \n",
              "4                  2               0             0   \n",
              "...              ...             ...           ...   \n",
              "3995               0               0             0   \n",
              "3996               0               0             0   \n",
              "3997               0               0             0   \n",
              "3998               1               0             0   \n",
              "3999               0               0             0   \n",
              "\n",
              "                                                 emails  emails_count  \n",
              "0     is bored and wants to watch a movie  any sugge...            53  \n",
              "1              back in miami.  waiting to unboard ship             40  \n",
              "2     @misskpey awwww dnt this bring back memoriesss...            70  \n",
              "3                     ughhh i am so tired  blahhhhhhhhh            33  \n",
              "4     @mandagoforth me bad! it is funny though. zach...           143  \n",
              "...                                                 ...           ...  \n",
              "3995                                  i just graduated             17  \n",
              "3996          templating works; it all has to be done              41  \n",
              "3997                   mommy just brought me starbucks             32  \n",
              "3998  @omarepps watching you on a house re-run...lov...            53  \n",
              "3999  thanks for trying to make me smile i will make...            81  \n",
              "\n",
              "[4000 rows x 12 columns]"
            ],
            "text/html": [
              "\n",
              "  <div id=\"df-980c9863-7d1c-4847-a0e3-e2d96ad51461\">\n",
              "    <div class=\"colab-df-container\">\n",
              "      <div>\n",
              "<style scoped>\n",
              "    .dataframe tbody tr th:only-of-type {\n",
              "        vertical-align: middle;\n",
              "    }\n",
              "\n",
              "    .dataframe tbody tr th {\n",
              "        vertical-align: top;\n",
              "    }\n",
              "\n",
              "    .dataframe thead th {\n",
              "        text-align: right;\n",
              "    }\n",
              "</style>\n",
              "<table border=\"1\" class=\"dataframe\">\n",
              "  <thead>\n",
              "    <tr style=\"text-align: right;\">\n",
              "      <th></th>\n",
              "      <th>twitts</th>\n",
              "      <th>sentiment</th>\n",
              "      <th>word_counts</th>\n",
              "      <th>char_counts</th>\n",
              "      <th>avg_word_len</th>\n",
              "      <th>stop_words_len</th>\n",
              "      <th>hashtag_counts</th>\n",
              "      <th>mention_counts</th>\n",
              "      <th>numeric_counts</th>\n",
              "      <th>upper_counts</th>\n",
              "      <th>emails</th>\n",
              "      <th>emails_count</th>\n",
              "    </tr>\n",
              "  </thead>\n",
              "  <tbody>\n",
              "    <tr>\n",
              "      <th>0</th>\n",
              "      <td>is bored and wants to watch a movie  any sugge...</td>\n",
              "      <td>0</td>\n",
              "      <td>10</td>\n",
              "      <td>43</td>\n",
              "      <td>4.300000</td>\n",
              "      <td>5</td>\n",
              "      <td>0</td>\n",
              "      <td>0</td>\n",
              "      <td>0</td>\n",
              "      <td>0</td>\n",
              "      <td>is bored and wants to watch a movie  any sugge...</td>\n",
              "      <td>53</td>\n",
              "    </tr>\n",
              "    <tr>\n",
              "      <th>1</th>\n",
              "      <td>back in miami.  waiting to unboard ship</td>\n",
              "      <td>0</td>\n",
              "      <td>7</td>\n",
              "      <td>32</td>\n",
              "      <td>4.571429</td>\n",
              "      <td>3</td>\n",
              "      <td>0</td>\n",
              "      <td>0</td>\n",
              "      <td>0</td>\n",
              "      <td>0</td>\n",
              "      <td>back in miami.  waiting to unboard ship</td>\n",
              "      <td>40</td>\n",
              "    </tr>\n",
              "    <tr>\n",
              "      <th>2</th>\n",
              "      <td>@misskpey awwww dnt this bring back memoriesss...</td>\n",
              "      <td>0</td>\n",
              "      <td>12</td>\n",
              "      <td>54</td>\n",
              "      <td>4.500000</td>\n",
              "      <td>0</td>\n",
              "      <td>0</td>\n",
              "      <td>1</td>\n",
              "      <td>0</td>\n",
              "      <td>1</td>\n",
              "      <td>@misskpey awwww dnt this bring back memoriesss...</td>\n",
              "      <td>70</td>\n",
              "    </tr>\n",
              "    <tr>\n",
              "      <th>3</th>\n",
              "      <td>ughhh i am so tired  blahhhhhhhhh</td>\n",
              "      <td>0</td>\n",
              "      <td>6</td>\n",
              "      <td>27</td>\n",
              "      <td>4.500000</td>\n",
              "      <td>3</td>\n",
              "      <td>0</td>\n",
              "      <td>0</td>\n",
              "      <td>0</td>\n",
              "      <td>0</td>\n",
              "      <td>ughhh i am so tired  blahhhhhhhhh</td>\n",
              "      <td>33</td>\n",
              "    </tr>\n",
              "    <tr>\n",
              "      <th>4</th>\n",
              "      <td>@mandagoforth me bad! it is funny though. zach...</td>\n",
              "      <td>0</td>\n",
              "      <td>26</td>\n",
              "      <td>116</td>\n",
              "      <td>4.461538</td>\n",
              "      <td>13</td>\n",
              "      <td>0</td>\n",
              "      <td>2</td>\n",
              "      <td>0</td>\n",
              "      <td>0</td>\n",
              "      <td>@mandagoforth me bad! it is funny though. zach...</td>\n",
              "      <td>143</td>\n",
              "    </tr>\n",
              "    <tr>\n",
              "      <th>...</th>\n",
              "      <td>...</td>\n",
              "      <td>...</td>\n",
              "      <td>...</td>\n",
              "      <td>...</td>\n",
              "      <td>...</td>\n",
              "      <td>...</td>\n",
              "      <td>...</td>\n",
              "      <td>...</td>\n",
              "      <td>...</td>\n",
              "      <td>...</td>\n",
              "      <td>...</td>\n",
              "      <td>...</td>\n",
              "    </tr>\n",
              "    <tr>\n",
              "      <th>3995</th>\n",
              "      <td>i just graduated</td>\n",
              "      <td>1</td>\n",
              "      <td>3</td>\n",
              "      <td>14</td>\n",
              "      <td>4.666667</td>\n",
              "      <td>2</td>\n",
              "      <td>0</td>\n",
              "      <td>0</td>\n",
              "      <td>0</td>\n",
              "      <td>0</td>\n",
              "      <td>i just graduated</td>\n",
              "      <td>17</td>\n",
              "    </tr>\n",
              "    <tr>\n",
              "      <th>3996</th>\n",
              "      <td>templating works; it all has to be done</td>\n",
              "      <td>1</td>\n",
              "      <td>8</td>\n",
              "      <td>32</td>\n",
              "      <td>4.000000</td>\n",
              "      <td>6</td>\n",
              "      <td>0</td>\n",
              "      <td>0</td>\n",
              "      <td>0</td>\n",
              "      <td>0</td>\n",
              "      <td>templating works; it all has to be done</td>\n",
              "      <td>41</td>\n",
              "    </tr>\n",
              "    <tr>\n",
              "      <th>3997</th>\n",
              "      <td>mommy just brought me starbucks</td>\n",
              "      <td>1</td>\n",
              "      <td>5</td>\n",
              "      <td>27</td>\n",
              "      <td>5.400000</td>\n",
              "      <td>2</td>\n",
              "      <td>0</td>\n",
              "      <td>0</td>\n",
              "      <td>0</td>\n",
              "      <td>0</td>\n",
              "      <td>mommy just brought me starbucks</td>\n",
              "      <td>32</td>\n",
              "    </tr>\n",
              "    <tr>\n",
              "      <th>3998</th>\n",
              "      <td>@omarepps watching you on a house re-run...lov...</td>\n",
              "      <td>1</td>\n",
              "      <td>8</td>\n",
              "      <td>45</td>\n",
              "      <td>5.625000</td>\n",
              "      <td>3</td>\n",
              "      <td>0</td>\n",
              "      <td>1</td>\n",
              "      <td>0</td>\n",
              "      <td>0</td>\n",
              "      <td>@omarepps watching you on a house re-run...lov...</td>\n",
              "      <td>53</td>\n",
              "    </tr>\n",
              "    <tr>\n",
              "      <th>3999</th>\n",
              "      <td>thanks for trying to make me smile i will make...</td>\n",
              "      <td>1</td>\n",
              "      <td>16</td>\n",
              "      <td>63</td>\n",
              "      <td>3.937500</td>\n",
              "      <td>9</td>\n",
              "      <td>0</td>\n",
              "      <td>0</td>\n",
              "      <td>0</td>\n",
              "      <td>0</td>\n",
              "      <td>thanks for trying to make me smile i will make...</td>\n",
              "      <td>81</td>\n",
              "    </tr>\n",
              "  </tbody>\n",
              "</table>\n",
              "<p>4000 rows × 12 columns</p>\n",
              "</div>\n",
              "      <button class=\"colab-df-convert\" onclick=\"convertToInteractive('df-980c9863-7d1c-4847-a0e3-e2d96ad51461')\"\n",
              "              title=\"Convert this dataframe to an interactive table.\"\n",
              "              style=\"display:none;\">\n",
              "        \n",
              "  <svg xmlns=\"http://www.w3.org/2000/svg\" height=\"24px\"viewBox=\"0 0 24 24\"\n",
              "       width=\"24px\">\n",
              "    <path d=\"M0 0h24v24H0V0z\" fill=\"none\"/>\n",
              "    <path d=\"M18.56 5.44l.94 2.06.94-2.06 2.06-.94-2.06-.94-.94-2.06-.94 2.06-2.06.94zm-11 1L8.5 8.5l.94-2.06 2.06-.94-2.06-.94L8.5 2.5l-.94 2.06-2.06.94zm10 10l.94 2.06.94-2.06 2.06-.94-2.06-.94-.94-2.06-.94 2.06-2.06.94z\"/><path d=\"M17.41 7.96l-1.37-1.37c-.4-.4-.92-.59-1.43-.59-.52 0-1.04.2-1.43.59L10.3 9.45l-7.72 7.72c-.78.78-.78 2.05 0 2.83L4 21.41c.39.39.9.59 1.41.59.51 0 1.02-.2 1.41-.59l7.78-7.78 2.81-2.81c.8-.78.8-2.07 0-2.86zM5.41 20L4 18.59l7.72-7.72 1.47 1.35L5.41 20z\"/>\n",
              "  </svg>\n",
              "      </button>\n",
              "      \n",
              "  <style>\n",
              "    .colab-df-container {\n",
              "      display:flex;\n",
              "      flex-wrap:wrap;\n",
              "      gap: 12px;\n",
              "    }\n",
              "\n",
              "    .colab-df-convert {\n",
              "      background-color: #E8F0FE;\n",
              "      border: none;\n",
              "      border-radius: 50%;\n",
              "      cursor: pointer;\n",
              "      display: none;\n",
              "      fill: #1967D2;\n",
              "      height: 32px;\n",
              "      padding: 0 0 0 0;\n",
              "      width: 32px;\n",
              "    }\n",
              "\n",
              "    .colab-df-convert:hover {\n",
              "      background-color: #E2EBFA;\n",
              "      box-shadow: 0px 1px 2px rgba(60, 64, 67, 0.3), 0px 1px 3px 1px rgba(60, 64, 67, 0.15);\n",
              "      fill: #174EA6;\n",
              "    }\n",
              "\n",
              "    [theme=dark] .colab-df-convert {\n",
              "      background-color: #3B4455;\n",
              "      fill: #D2E3FC;\n",
              "    }\n",
              "\n",
              "    [theme=dark] .colab-df-convert:hover {\n",
              "      background-color: #434B5C;\n",
              "      box-shadow: 0px 1px 3px 1px rgba(0, 0, 0, 0.15);\n",
              "      filter: drop-shadow(0px 1px 2px rgba(0, 0, 0, 0.3));\n",
              "      fill: #FFFFFF;\n",
              "    }\n",
              "  </style>\n",
              "\n",
              "      <script>\n",
              "        const buttonEl =\n",
              "          document.querySelector('#df-980c9863-7d1c-4847-a0e3-e2d96ad51461 button.colab-df-convert');\n",
              "        buttonEl.style.display =\n",
              "          google.colab.kernel.accessAllowed ? 'block' : 'none';\n",
              "\n",
              "        async function convertToInteractive(key) {\n",
              "          const element = document.querySelector('#df-980c9863-7d1c-4847-a0e3-e2d96ad51461');\n",
              "          const dataTable =\n",
              "            await google.colab.kernel.invokeFunction('convertToInteractive',\n",
              "                                                     [key], {});\n",
              "          if (!dataTable) return;\n",
              "\n",
              "          const docLinkHtml = 'Like what you see? Visit the ' +\n",
              "            '<a target=\"_blank\" href=https://colab.research.google.com/notebooks/data_table.ipynb>data table notebook</a>'\n",
              "            + ' to learn more about interactive tables.';\n",
              "          element.innerHTML = '';\n",
              "          dataTable['output_type'] = 'display_data';\n",
              "          await google.colab.output.renderOutput(dataTable, element);\n",
              "          const docLink = document.createElement('div');\n",
              "          docLink.innerHTML = docLinkHtml;\n",
              "          element.appendChild(docLink);\n",
              "        }\n",
              "      </script>\n",
              "    </div>\n",
              "  </div>\n",
              "  "
            ]
          },
          "metadata": {},
          "execution_count": 66
        }
      ]
    },
    {
      "cell_type": "markdown",
      "source": [
        "##Count URLs and Remove it"
      ],
      "metadata": {
        "id": "Zy5FlgTN6UJm"
      }
    },
    {
      "cell_type": "code",
      "source": [
        "x = 'hi, thanks to watching it. for more visit https://www.youtube.com/watch?v=OM4aZJW_Ojs&t=272s'"
      ],
      "metadata": {
        "id": "4w-0gDOi6BaM"
      },
      "execution_count": null,
      "outputs": []
    },
    {
      "cell_type": "code",
      "source": [
        "re.findall(r'(http|https|ftp|ssh)://([\\w_-]+(?:(?:\\.[\\w_-]+)+))([\\w.,@?^=%&:/~+#-]*[\\w@?^=%&/~+#-])?', x)\n"
      ],
      "metadata": {
        "id": "4dwKQbV16TLi",
        "colab": {
          "base_uri": "https://localhost:8080/"
        },
        "outputId": "819320fe-20ce-41e7-d40a-21a9cfa40608"
      },
      "execution_count": null,
      "outputs": [
        {
          "output_type": "execute_result",
          "data": {
            "text/plain": [
              "[('https', 'www.youtube.com', '/watch?v=OM4aZJW_Ojs&t=272s')]"
            ]
          },
          "metadata": {},
          "execution_count": 68
        }
      ]
    },
    {
      "cell_type": "code",
      "source": [
        "df['url_flags'] = df['twitts'].apply(lambda x: len(re.findall(r'(http|https|ftp|ssh)://([\\w_-]+(?:(?:\\.[\\w_-]+)+))([\\w.,@?^=%&:/+#-]*[\\w@?^=%&/+#-])?', x)))"
      ],
      "metadata": {
        "id": "nQ4UDDio6TPt"
      },
      "execution_count": null,
      "outputs": []
    },
    {
      "cell_type": "code",
      "source": [
        "x"
      ],
      "metadata": {
        "id": "fpjjVwSj6TTZ",
        "colab": {
          "base_uri": "https://localhost:8080/",
          "height": 35
        },
        "outputId": "0abb9f4d-80fa-4b54-8933-e341c6e4d81c"
      },
      "execution_count": null,
      "outputs": [
        {
          "output_type": "execute_result",
          "data": {
            "text/plain": [
              "'hi, thanks to watching it. for more visit https://www.youtube.com/watch?v=OM4aZJW_Ojs&t=272s'"
            ],
            "application/vnd.google.colaboratory.intrinsic+json": {
              "type": "string"
            }
          },
          "metadata": {},
          "execution_count": 70
        }
      ]
    },
    {
      "cell_type": "code",
      "source": [
        "re.sub(r'(http|https|ftp|ssh)://([\\w_-]+(?:(?:\\.[\\w_-]+)+))([\\w.,@?^=%&:/+#-]*[\\w@?^=%&/+#-])?','', x)"
      ],
      "metadata": {
        "colab": {
          "base_uri": "https://localhost:8080/",
          "height": 35
        },
        "id": "QyoWn9SZ9kLU",
        "outputId": "253cf0a5-ada7-4e3d-e125-0e313996b647"
      },
      "execution_count": null,
      "outputs": [
        {
          "output_type": "execute_result",
          "data": {
            "text/plain": [
              "'hi, thanks to watching it. for more visit '"
            ],
            "application/vnd.google.colaboratory.intrinsic+json": {
              "type": "string"
            }
          },
          "metadata": {},
          "execution_count": 71
        }
      ]
    },
    {
      "cell_type": "code",
      "source": [
        "df['twitts'] = df['twitts'].apply(lambda x :re.sub(r'(http|https|ftp|ssh)://([\\w_-]+(?:(?:\\.[\\w_-]+)+))([\\w.,@?^=%&:/~+#-]*[\\w@?^=%&/~+#-])?', \"\", x))"
      ],
      "metadata": {
        "id": "Nu0giJtl6TWb"
      },
      "execution_count": null,
      "outputs": []
    },
    {
      "cell_type": "code",
      "source": [
        "df.sample(5)"
      ],
      "metadata": {
        "id": "f-us_Rmr6Taa",
        "colab": {
          "base_uri": "https://localhost:8080/",
          "height": 461
        },
        "outputId": "37900dc2-1a51-4cf0-e1da-34a4d00b7e12"
      },
      "execution_count": null,
      "outputs": [
        {
          "output_type": "execute_result",
          "data": {
            "text/plain": [
              "                                                 twitts  sentiment  \\\n",
              "2352  my brother sleeps long,might go swimming 2day ...          1   \n",
              "3404  it is taking great willpower to not eat the ic...          1   \n",
              "1371  @cinnamoncloud nope!  cannot get a signal... m...          0   \n",
              "3377                                 i love my mommy!            1   \n",
              "556   but gaddamit! ffxiv is soooo freaking pretty. ...          0   \n",
              "\n",
              "      word_counts  char_counts  avg_word_len  stop_words_len  hashtag_counts  \\\n",
              "2352           16           81      5.062500               4               0   \n",
              "3404           21           99      4.714286               8               0   \n",
              "1371           11           59      5.363636               5               0   \n",
              "3377            5           40      8.000000               1               0   \n",
              "556            12           80      6.666667               2               0   \n",
              "\n",
              "      mention_counts  numeric_counts  upper_counts  \\\n",
              "2352               0               1             0   \n",
              "3404               0               0             0   \n",
              "1371               1               0             0   \n",
              "3377               0               0             1   \n",
              "556                0               0             2   \n",
              "\n",
              "                                                 emails  emails_count  \\\n",
              "2352  my brother sleeps long,might go swimming 2day ...            99   \n",
              "3404  it is taking great willpower to not eat the ic...           121   \n",
              "1371  @cinnamoncloud nope!  cannot get a signal... m...            72   \n",
              "3377      i love my mommy!  http://tumblr.com/xwn1swtpa            45   \n",
              "556   but gaddamit! ffxiv is soooo freaking pretty. ...            92   \n",
              "\n",
              "      url_flags  \n",
              "2352          0  \n",
              "3404          0  \n",
              "1371          0  \n",
              "3377          1  \n",
              "556           1  "
            ],
            "text/html": [
              "\n",
              "  <div id=\"df-21844508-335d-4acf-8b67-2911a790ced2\">\n",
              "    <div class=\"colab-df-container\">\n",
              "      <div>\n",
              "<style scoped>\n",
              "    .dataframe tbody tr th:only-of-type {\n",
              "        vertical-align: middle;\n",
              "    }\n",
              "\n",
              "    .dataframe tbody tr th {\n",
              "        vertical-align: top;\n",
              "    }\n",
              "\n",
              "    .dataframe thead th {\n",
              "        text-align: right;\n",
              "    }\n",
              "</style>\n",
              "<table border=\"1\" class=\"dataframe\">\n",
              "  <thead>\n",
              "    <tr style=\"text-align: right;\">\n",
              "      <th></th>\n",
              "      <th>twitts</th>\n",
              "      <th>sentiment</th>\n",
              "      <th>word_counts</th>\n",
              "      <th>char_counts</th>\n",
              "      <th>avg_word_len</th>\n",
              "      <th>stop_words_len</th>\n",
              "      <th>hashtag_counts</th>\n",
              "      <th>mention_counts</th>\n",
              "      <th>numeric_counts</th>\n",
              "      <th>upper_counts</th>\n",
              "      <th>emails</th>\n",
              "      <th>emails_count</th>\n",
              "      <th>url_flags</th>\n",
              "    </tr>\n",
              "  </thead>\n",
              "  <tbody>\n",
              "    <tr>\n",
              "      <th>2352</th>\n",
              "      <td>my brother sleeps long,might go swimming 2day ...</td>\n",
              "      <td>1</td>\n",
              "      <td>16</td>\n",
              "      <td>81</td>\n",
              "      <td>5.062500</td>\n",
              "      <td>4</td>\n",
              "      <td>0</td>\n",
              "      <td>0</td>\n",
              "      <td>1</td>\n",
              "      <td>0</td>\n",
              "      <td>my brother sleeps long,might go swimming 2day ...</td>\n",
              "      <td>99</td>\n",
              "      <td>0</td>\n",
              "    </tr>\n",
              "    <tr>\n",
              "      <th>3404</th>\n",
              "      <td>it is taking great willpower to not eat the ic...</td>\n",
              "      <td>1</td>\n",
              "      <td>21</td>\n",
              "      <td>99</td>\n",
              "      <td>4.714286</td>\n",
              "      <td>8</td>\n",
              "      <td>0</td>\n",
              "      <td>0</td>\n",
              "      <td>0</td>\n",
              "      <td>0</td>\n",
              "      <td>it is taking great willpower to not eat the ic...</td>\n",
              "      <td>121</td>\n",
              "      <td>0</td>\n",
              "    </tr>\n",
              "    <tr>\n",
              "      <th>1371</th>\n",
              "      <td>@cinnamoncloud nope!  cannot get a signal... m...</td>\n",
              "      <td>0</td>\n",
              "      <td>11</td>\n",
              "      <td>59</td>\n",
              "      <td>5.363636</td>\n",
              "      <td>5</td>\n",
              "      <td>0</td>\n",
              "      <td>1</td>\n",
              "      <td>0</td>\n",
              "      <td>0</td>\n",
              "      <td>@cinnamoncloud nope!  cannot get a signal... m...</td>\n",
              "      <td>72</td>\n",
              "      <td>0</td>\n",
              "    </tr>\n",
              "    <tr>\n",
              "      <th>3377</th>\n",
              "      <td>i love my mommy!</td>\n",
              "      <td>1</td>\n",
              "      <td>5</td>\n",
              "      <td>40</td>\n",
              "      <td>8.000000</td>\n",
              "      <td>1</td>\n",
              "      <td>0</td>\n",
              "      <td>0</td>\n",
              "      <td>0</td>\n",
              "      <td>1</td>\n",
              "      <td>i love my mommy!  http://tumblr.com/xwn1swtpa</td>\n",
              "      <td>45</td>\n",
              "      <td>1</td>\n",
              "    </tr>\n",
              "    <tr>\n",
              "      <th>556</th>\n",
              "      <td>but gaddamit! ffxiv is soooo freaking pretty. ...</td>\n",
              "      <td>0</td>\n",
              "      <td>12</td>\n",
              "      <td>80</td>\n",
              "      <td>6.666667</td>\n",
              "      <td>2</td>\n",
              "      <td>0</td>\n",
              "      <td>0</td>\n",
              "      <td>0</td>\n",
              "      <td>2</td>\n",
              "      <td>but gaddamit! ffxiv is soooo freaking pretty. ...</td>\n",
              "      <td>92</td>\n",
              "      <td>1</td>\n",
              "    </tr>\n",
              "  </tbody>\n",
              "</table>\n",
              "</div>\n",
              "      <button class=\"colab-df-convert\" onclick=\"convertToInteractive('df-21844508-335d-4acf-8b67-2911a790ced2')\"\n",
              "              title=\"Convert this dataframe to an interactive table.\"\n",
              "              style=\"display:none;\">\n",
              "        \n",
              "  <svg xmlns=\"http://www.w3.org/2000/svg\" height=\"24px\"viewBox=\"0 0 24 24\"\n",
              "       width=\"24px\">\n",
              "    <path d=\"M0 0h24v24H0V0z\" fill=\"none\"/>\n",
              "    <path d=\"M18.56 5.44l.94 2.06.94-2.06 2.06-.94-2.06-.94-.94-2.06-.94 2.06-2.06.94zm-11 1L8.5 8.5l.94-2.06 2.06-.94-2.06-.94L8.5 2.5l-.94 2.06-2.06.94zm10 10l.94 2.06.94-2.06 2.06-.94-2.06-.94-.94-2.06-.94 2.06-2.06.94z\"/><path d=\"M17.41 7.96l-1.37-1.37c-.4-.4-.92-.59-1.43-.59-.52 0-1.04.2-1.43.59L10.3 9.45l-7.72 7.72c-.78.78-.78 2.05 0 2.83L4 21.41c.39.39.9.59 1.41.59.51 0 1.02-.2 1.41-.59l7.78-7.78 2.81-2.81c.8-.78.8-2.07 0-2.86zM5.41 20L4 18.59l7.72-7.72 1.47 1.35L5.41 20z\"/>\n",
              "  </svg>\n",
              "      </button>\n",
              "      \n",
              "  <style>\n",
              "    .colab-df-container {\n",
              "      display:flex;\n",
              "      flex-wrap:wrap;\n",
              "      gap: 12px;\n",
              "    }\n",
              "\n",
              "    .colab-df-convert {\n",
              "      background-color: #E8F0FE;\n",
              "      border: none;\n",
              "      border-radius: 50%;\n",
              "      cursor: pointer;\n",
              "      display: none;\n",
              "      fill: #1967D2;\n",
              "      height: 32px;\n",
              "      padding: 0 0 0 0;\n",
              "      width: 32px;\n",
              "    }\n",
              "\n",
              "    .colab-df-convert:hover {\n",
              "      background-color: #E2EBFA;\n",
              "      box-shadow: 0px 1px 2px rgba(60, 64, 67, 0.3), 0px 1px 3px 1px rgba(60, 64, 67, 0.15);\n",
              "      fill: #174EA6;\n",
              "    }\n",
              "\n",
              "    [theme=dark] .colab-df-convert {\n",
              "      background-color: #3B4455;\n",
              "      fill: #D2E3FC;\n",
              "    }\n",
              "\n",
              "    [theme=dark] .colab-df-convert:hover {\n",
              "      background-color: #434B5C;\n",
              "      box-shadow: 0px 1px 3px 1px rgba(0, 0, 0, 0.15);\n",
              "      filter: drop-shadow(0px 1px 2px rgba(0, 0, 0, 0.3));\n",
              "      fill: #FFFFFF;\n",
              "    }\n",
              "  </style>\n",
              "\n",
              "      <script>\n",
              "        const buttonEl =\n",
              "          document.querySelector('#df-21844508-335d-4acf-8b67-2911a790ced2 button.colab-df-convert');\n",
              "        buttonEl.style.display =\n",
              "          google.colab.kernel.accessAllowed ? 'block' : 'none';\n",
              "\n",
              "        async function convertToInteractive(key) {\n",
              "          const element = document.querySelector('#df-21844508-335d-4acf-8b67-2911a790ced2');\n",
              "          const dataTable =\n",
              "            await google.colab.kernel.invokeFunction('convertToInteractive',\n",
              "                                                     [key], {});\n",
              "          if (!dataTable) return;\n",
              "\n",
              "          const docLinkHtml = 'Like what you see? Visit the ' +\n",
              "            '<a target=\"_blank\" href=https://colab.research.google.com/notebooks/data_table.ipynb>data table notebook</a>'\n",
              "            + ' to learn more about interactive tables.';\n",
              "          element.innerHTML = '';\n",
              "          dataTable['output_type'] = 'display_data';\n",
              "          await google.colab.output.renderOutput(dataTable, element);\n",
              "          const docLink = document.createElement('div');\n",
              "          docLink.innerHTML = docLinkHtml;\n",
              "          element.appendChild(docLink);\n",
              "        }\n",
              "      </script>\n",
              "    </div>\n",
              "  </div>\n",
              "  "
            ]
          },
          "metadata": {},
          "execution_count": 73
        }
      ]
    },
    {
      "cell_type": "markdown",
      "source": [
        "##Remove RT"
      ],
      "metadata": {
        "id": "IOWBIEyT-LlX"
      }
    },
    {
      "cell_type": "code",
      "source": [
        "df[df['twitts'].str.contains('rt')]   #rt is read text format here we r trying to read text from tweets"
      ],
      "metadata": {
        "id": "CpwA2HaD6BdI",
        "colab": {
          "base_uri": "https://localhost:8080/",
          "height": 904
        },
        "outputId": "f9f3ec2f-983a-4e79-8bd8-db23727d848f"
      },
      "execution_count": null,
      "outputs": [
        {
          "output_type": "execute_result",
          "data": {
            "text/plain": [
              "                                                 twitts  sentiment  \\\n",
              "4     @mandagoforth me bad! it is funny though. zach...          0   \n",
              "23    ut oh, i wonder if the ram on the desktop is s...          0   \n",
              "59    @paulmccourt dunno what sky you're looking at!...          0   \n",
              "75    im back home in belfast  im realli tired thoug...          0   \n",
              "81    @lilmonkee987 i know what you mean... i feel s...          0   \n",
              "...                                                 ...        ...   \n",
              "3913  for the press so after she recovered she kille...          1   \n",
              "3919    earned her cpr &amp; first aid certifications!           1   \n",
              "3945  @teciav &quot;i look high, i look low, i look ...          1   \n",
              "3951  i am soo very parched. and hungry. oh and i am...          1   \n",
              "3986  @countroshculla yeah..needed to get up early.....          1   \n",
              "\n",
              "      word_counts  char_counts  avg_word_len  stop_words_len  hashtag_counts  \\\n",
              "4              26          116      4.461538              13               0   \n",
              "23             14           46      3.285714               7               0   \n",
              "59             15           80      5.333333               3               0   \n",
              "75             22           84      3.818182               9               0   \n",
              "81             11           48      4.363636               5               0   \n",
              "...           ...          ...           ...             ...             ...   \n",
              "3913           24          100      4.166667               1               0   \n",
              "3919            7           40      5.714286               1               0   \n",
              "3945           23          106      4.608696              10               0   \n",
              "3951           21           87      4.142857               7               0   \n",
              "3986           10           69      6.900000               4               0   \n",
              "\n",
              "      mention_counts  numeric_counts  upper_counts  \\\n",
              "4                  2               0             0   \n",
              "23                 0               0             2   \n",
              "59                 1               0             0   \n",
              "75                 0               0             1   \n",
              "81                 1               0             0   \n",
              "...              ...             ...           ...   \n",
              "3913               0               0             0   \n",
              "3919               0               0             1   \n",
              "3945               1               0             0   \n",
              "3951               0               2             1   \n",
              "3986               1               0             0   \n",
              "\n",
              "                                                 emails  emails_count  \\\n",
              "4     @mandagoforth me bad! it is funny though. zach...           143   \n",
              "23    ut oh, i wonder if the ram on the desktop is s...            60   \n",
              "59    @paulmccourt dunno what sky you're looking at!...            95   \n",
              "75    im back home in belfast  im realli tired thoug...           106   \n",
              "81    @lilmonkee987 i know what you mean... i feel s...            59   \n",
              "...                                                 ...           ...   \n",
              "3913  for the press so after she recovered she kille...           124   \n",
              "3919    earned her cpr &amp; first aid certifications!             47   \n",
              "3945  @teciav &quot;i look high, i look low, i look ...           129   \n",
              "3951  i am soo very parched. and hungry. oh and i am...           109   \n",
              "3986  @countroshculla yeah..needed to get up early.....            79   \n",
              "\n",
              "      url_flags  \n",
              "4             0  \n",
              "23            0  \n",
              "59            0  \n",
              "75            0  \n",
              "81            0  \n",
              "...         ...  \n",
              "3913          0  \n",
              "3919          0  \n",
              "3945          0  \n",
              "3951          0  \n",
              "3986          0  \n",
              "\n",
              "[381 rows x 13 columns]"
            ],
            "text/html": [
              "\n",
              "  <div id=\"df-68791fd3-21cf-41a2-8bf6-0773563bc367\">\n",
              "    <div class=\"colab-df-container\">\n",
              "      <div>\n",
              "<style scoped>\n",
              "    .dataframe tbody tr th:only-of-type {\n",
              "        vertical-align: middle;\n",
              "    }\n",
              "\n",
              "    .dataframe tbody tr th {\n",
              "        vertical-align: top;\n",
              "    }\n",
              "\n",
              "    .dataframe thead th {\n",
              "        text-align: right;\n",
              "    }\n",
              "</style>\n",
              "<table border=\"1\" class=\"dataframe\">\n",
              "  <thead>\n",
              "    <tr style=\"text-align: right;\">\n",
              "      <th></th>\n",
              "      <th>twitts</th>\n",
              "      <th>sentiment</th>\n",
              "      <th>word_counts</th>\n",
              "      <th>char_counts</th>\n",
              "      <th>avg_word_len</th>\n",
              "      <th>stop_words_len</th>\n",
              "      <th>hashtag_counts</th>\n",
              "      <th>mention_counts</th>\n",
              "      <th>numeric_counts</th>\n",
              "      <th>upper_counts</th>\n",
              "      <th>emails</th>\n",
              "      <th>emails_count</th>\n",
              "      <th>url_flags</th>\n",
              "    </tr>\n",
              "  </thead>\n",
              "  <tbody>\n",
              "    <tr>\n",
              "      <th>4</th>\n",
              "      <td>@mandagoforth me bad! it is funny though. zach...</td>\n",
              "      <td>0</td>\n",
              "      <td>26</td>\n",
              "      <td>116</td>\n",
              "      <td>4.461538</td>\n",
              "      <td>13</td>\n",
              "      <td>0</td>\n",
              "      <td>2</td>\n",
              "      <td>0</td>\n",
              "      <td>0</td>\n",
              "      <td>@mandagoforth me bad! it is funny though. zach...</td>\n",
              "      <td>143</td>\n",
              "      <td>0</td>\n",
              "    </tr>\n",
              "    <tr>\n",
              "      <th>23</th>\n",
              "      <td>ut oh, i wonder if the ram on the desktop is s...</td>\n",
              "      <td>0</td>\n",
              "      <td>14</td>\n",
              "      <td>46</td>\n",
              "      <td>3.285714</td>\n",
              "      <td>7</td>\n",
              "      <td>0</td>\n",
              "      <td>0</td>\n",
              "      <td>0</td>\n",
              "      <td>2</td>\n",
              "      <td>ut oh, i wonder if the ram on the desktop is s...</td>\n",
              "      <td>60</td>\n",
              "      <td>0</td>\n",
              "    </tr>\n",
              "    <tr>\n",
              "      <th>59</th>\n",
              "      <td>@paulmccourt dunno what sky you're looking at!...</td>\n",
              "      <td>0</td>\n",
              "      <td>15</td>\n",
              "      <td>80</td>\n",
              "      <td>5.333333</td>\n",
              "      <td>3</td>\n",
              "      <td>0</td>\n",
              "      <td>1</td>\n",
              "      <td>0</td>\n",
              "      <td>0</td>\n",
              "      <td>@paulmccourt dunno what sky you're looking at!...</td>\n",
              "      <td>95</td>\n",
              "      <td>0</td>\n",
              "    </tr>\n",
              "    <tr>\n",
              "      <th>75</th>\n",
              "      <td>im back home in belfast  im realli tired thoug...</td>\n",
              "      <td>0</td>\n",
              "      <td>22</td>\n",
              "      <td>84</td>\n",
              "      <td>3.818182</td>\n",
              "      <td>9</td>\n",
              "      <td>0</td>\n",
              "      <td>0</td>\n",
              "      <td>0</td>\n",
              "      <td>1</td>\n",
              "      <td>im back home in belfast  im realli tired thoug...</td>\n",
              "      <td>106</td>\n",
              "      <td>0</td>\n",
              "    </tr>\n",
              "    <tr>\n",
              "      <th>81</th>\n",
              "      <td>@lilmonkee987 i know what you mean... i feel s...</td>\n",
              "      <td>0</td>\n",
              "      <td>11</td>\n",
              "      <td>48</td>\n",
              "      <td>4.363636</td>\n",
              "      <td>5</td>\n",
              "      <td>0</td>\n",
              "      <td>1</td>\n",
              "      <td>0</td>\n",
              "      <td>0</td>\n",
              "      <td>@lilmonkee987 i know what you mean... i feel s...</td>\n",
              "      <td>59</td>\n",
              "      <td>0</td>\n",
              "    </tr>\n",
              "    <tr>\n",
              "      <th>...</th>\n",
              "      <td>...</td>\n",
              "      <td>...</td>\n",
              "      <td>...</td>\n",
              "      <td>...</td>\n",
              "      <td>...</td>\n",
              "      <td>...</td>\n",
              "      <td>...</td>\n",
              "      <td>...</td>\n",
              "      <td>...</td>\n",
              "      <td>...</td>\n",
              "      <td>...</td>\n",
              "      <td>...</td>\n",
              "      <td>...</td>\n",
              "    </tr>\n",
              "    <tr>\n",
              "      <th>3913</th>\n",
              "      <td>for the press so after she recovered she kille...</td>\n",
              "      <td>1</td>\n",
              "      <td>24</td>\n",
              "      <td>100</td>\n",
              "      <td>4.166667</td>\n",
              "      <td>1</td>\n",
              "      <td>0</td>\n",
              "      <td>0</td>\n",
              "      <td>0</td>\n",
              "      <td>0</td>\n",
              "      <td>for the press so after she recovered she kille...</td>\n",
              "      <td>124</td>\n",
              "      <td>0</td>\n",
              "    </tr>\n",
              "    <tr>\n",
              "      <th>3919</th>\n",
              "      <td>earned her cpr &amp;amp; first aid certifications!</td>\n",
              "      <td>1</td>\n",
              "      <td>7</td>\n",
              "      <td>40</td>\n",
              "      <td>5.714286</td>\n",
              "      <td>1</td>\n",
              "      <td>0</td>\n",
              "      <td>0</td>\n",
              "      <td>0</td>\n",
              "      <td>1</td>\n",
              "      <td>earned her cpr &amp;amp; first aid certifications!</td>\n",
              "      <td>47</td>\n",
              "      <td>0</td>\n",
              "    </tr>\n",
              "    <tr>\n",
              "      <th>3945</th>\n",
              "      <td>@teciav &amp;quot;i look high, i look low, i look ...</td>\n",
              "      <td>1</td>\n",
              "      <td>23</td>\n",
              "      <td>106</td>\n",
              "      <td>4.608696</td>\n",
              "      <td>10</td>\n",
              "      <td>0</td>\n",
              "      <td>1</td>\n",
              "      <td>0</td>\n",
              "      <td>0</td>\n",
              "      <td>@teciav &amp;quot;i look high, i look low, i look ...</td>\n",
              "      <td>129</td>\n",
              "      <td>0</td>\n",
              "    </tr>\n",
              "    <tr>\n",
              "      <th>3951</th>\n",
              "      <td>i am soo very parched. and hungry. oh and i am...</td>\n",
              "      <td>1</td>\n",
              "      <td>21</td>\n",
              "      <td>87</td>\n",
              "      <td>4.142857</td>\n",
              "      <td>7</td>\n",
              "      <td>0</td>\n",
              "      <td>0</td>\n",
              "      <td>2</td>\n",
              "      <td>1</td>\n",
              "      <td>i am soo very parched. and hungry. oh and i am...</td>\n",
              "      <td>109</td>\n",
              "      <td>0</td>\n",
              "    </tr>\n",
              "    <tr>\n",
              "      <th>3986</th>\n",
              "      <td>@countroshculla yeah..needed to get up early.....</td>\n",
              "      <td>1</td>\n",
              "      <td>10</td>\n",
              "      <td>69</td>\n",
              "      <td>6.900000</td>\n",
              "      <td>4</td>\n",
              "      <td>0</td>\n",
              "      <td>1</td>\n",
              "      <td>0</td>\n",
              "      <td>0</td>\n",
              "      <td>@countroshculla yeah..needed to get up early.....</td>\n",
              "      <td>79</td>\n",
              "      <td>0</td>\n",
              "    </tr>\n",
              "  </tbody>\n",
              "</table>\n",
              "<p>381 rows × 13 columns</p>\n",
              "</div>\n",
              "      <button class=\"colab-df-convert\" onclick=\"convertToInteractive('df-68791fd3-21cf-41a2-8bf6-0773563bc367')\"\n",
              "              title=\"Convert this dataframe to an interactive table.\"\n",
              "              style=\"display:none;\">\n",
              "        \n",
              "  <svg xmlns=\"http://www.w3.org/2000/svg\" height=\"24px\"viewBox=\"0 0 24 24\"\n",
              "       width=\"24px\">\n",
              "    <path d=\"M0 0h24v24H0V0z\" fill=\"none\"/>\n",
              "    <path d=\"M18.56 5.44l.94 2.06.94-2.06 2.06-.94-2.06-.94-.94-2.06-.94 2.06-2.06.94zm-11 1L8.5 8.5l.94-2.06 2.06-.94-2.06-.94L8.5 2.5l-.94 2.06-2.06.94zm10 10l.94 2.06.94-2.06 2.06-.94-2.06-.94-.94-2.06-.94 2.06-2.06.94z\"/><path d=\"M17.41 7.96l-1.37-1.37c-.4-.4-.92-.59-1.43-.59-.52 0-1.04.2-1.43.59L10.3 9.45l-7.72 7.72c-.78.78-.78 2.05 0 2.83L4 21.41c.39.39.9.59 1.41.59.51 0 1.02-.2 1.41-.59l7.78-7.78 2.81-2.81c.8-.78.8-2.07 0-2.86zM5.41 20L4 18.59l7.72-7.72 1.47 1.35L5.41 20z\"/>\n",
              "  </svg>\n",
              "      </button>\n",
              "      \n",
              "  <style>\n",
              "    .colab-df-container {\n",
              "      display:flex;\n",
              "      flex-wrap:wrap;\n",
              "      gap: 12px;\n",
              "    }\n",
              "\n",
              "    .colab-df-convert {\n",
              "      background-color: #E8F0FE;\n",
              "      border: none;\n",
              "      border-radius: 50%;\n",
              "      cursor: pointer;\n",
              "      display: none;\n",
              "      fill: #1967D2;\n",
              "      height: 32px;\n",
              "      padding: 0 0 0 0;\n",
              "      width: 32px;\n",
              "    }\n",
              "\n",
              "    .colab-df-convert:hover {\n",
              "      background-color: #E2EBFA;\n",
              "      box-shadow: 0px 1px 2px rgba(60, 64, 67, 0.3), 0px 1px 3px 1px rgba(60, 64, 67, 0.15);\n",
              "      fill: #174EA6;\n",
              "    }\n",
              "\n",
              "    [theme=dark] .colab-df-convert {\n",
              "      background-color: #3B4455;\n",
              "      fill: #D2E3FC;\n",
              "    }\n",
              "\n",
              "    [theme=dark] .colab-df-convert:hover {\n",
              "      background-color: #434B5C;\n",
              "      box-shadow: 0px 1px 3px 1px rgba(0, 0, 0, 0.15);\n",
              "      filter: drop-shadow(0px 1px 2px rgba(0, 0, 0, 0.3));\n",
              "      fill: #FFFFFF;\n",
              "    }\n",
              "  </style>\n",
              "\n",
              "      <script>\n",
              "        const buttonEl =\n",
              "          document.querySelector('#df-68791fd3-21cf-41a2-8bf6-0773563bc367 button.colab-df-convert');\n",
              "        buttonEl.style.display =\n",
              "          google.colab.kernel.accessAllowed ? 'block' : 'none';\n",
              "\n",
              "        async function convertToInteractive(key) {\n",
              "          const element = document.querySelector('#df-68791fd3-21cf-41a2-8bf6-0773563bc367');\n",
              "          const dataTable =\n",
              "            await google.colab.kernel.invokeFunction('convertToInteractive',\n",
              "                                                     [key], {});\n",
              "          if (!dataTable) return;\n",
              "\n",
              "          const docLinkHtml = 'Like what you see? Visit the ' +\n",
              "            '<a target=\"_blank\" href=https://colab.research.google.com/notebooks/data_table.ipynb>data table notebook</a>'\n",
              "            + ' to learn more about interactive tables.';\n",
              "          element.innerHTML = '';\n",
              "          dataTable['output_type'] = 'display_data';\n",
              "          await google.colab.output.renderOutput(dataTable, element);\n",
              "          const docLink = document.createElement('div');\n",
              "          docLink.innerHTML = docLinkHtml;\n",
              "          element.appendChild(docLink);\n",
              "        }\n",
              "      </script>\n",
              "    </div>\n",
              "  </div>\n",
              "  "
            ]
          },
          "metadata": {},
          "execution_count": 74
        }
      ]
    },
    {
      "cell_type": "code",
      "source": [
        "x = 'rt @username: hello hirt'"
      ],
      "metadata": {
        "id": "xG6dqHkH6BgI"
      },
      "execution_count": null,
      "outputs": []
    },
    {
      "cell_type": "code",
      "source": [
        "re.sub(r'\\brt\\b', '',x).strip()"
      ],
      "metadata": {
        "id": "-Jjmv6AV6Bjw",
        "colab": {
          "base_uri": "https://localhost:8080/",
          "height": 35
        },
        "outputId": "aab9f692-c79d-42c8-f00b-6c6d4ef87dde"
      },
      "execution_count": null,
      "outputs": [
        {
          "output_type": "execute_result",
          "data": {
            "text/plain": [
              "'@username: hello hirt'"
            ],
            "application/vnd.google.colaboratory.intrinsic+json": {
              "type": "string"
            }
          },
          "metadata": {},
          "execution_count": 76
        }
      ]
    },
    {
      "cell_type": "code",
      "source": [
        "df['twitts'] = df['twitts'].apply(lambda x: re.sub(r'\\brt\\b', '', x).strip())"
      ],
      "metadata": {
        "id": "lPZw-_Zm6BnG"
      },
      "execution_count": null,
      "outputs": []
    },
    {
      "cell_type": "code",
      "source": [
        "df.sample(5)"
      ],
      "metadata": {
        "id": "RlABUWvD6BqT",
        "colab": {
          "base_uri": "https://localhost:8080/",
          "height": 548
        },
        "outputId": "72d04680-ae9c-433a-8c5b-d35af475c75a"
      },
      "execution_count": null,
      "outputs": [
        {
          "output_type": "execute_result",
          "data": {
            "text/plain": [
              "                                                 twitts  sentiment  \\\n",
              "1032  @mohax you did not hear.. i lost 7 regions wor...          0   \n",
              "1043  oh..wow...!! :o the moon looks sssoooo beautif...          0   \n",
              "2158  @dougiemcfly i loved the show in rio! &quot;th...          1   \n",
              "2170            twittering seems so creepy to me, still          1   \n",
              "3352  @swadley okay you caught me! the first time in...          1   \n",
              "\n",
              "      word_counts  char_counts  avg_word_len  stop_words_len  hashtag_counts  \\\n",
              "1032           26          106      4.076923               7               0   \n",
              "1043           25          112      4.480000               9               0   \n",
              "2158           24          112      4.666667               9               0   \n",
              "2170            7           33      4.714286               4               0   \n",
              "3352           21           87      4.142857               8               0   \n",
              "\n",
              "      mention_counts  numeric_counts  upper_counts  \\\n",
              "1032               1               1             3   \n",
              "1043               0               0             5   \n",
              "2158               1               0             1   \n",
              "2170               0               0             0   \n",
              "3352               1               0             0   \n",
              "\n",
              "                                                 emails  emails_count  \\\n",
              "1032  @mohax you did not hear.. i lost 7 regions wor...           134   \n",
              "1043  oh..wow...!! :o the moon looks sssoooo beautif...           138   \n",
              "2158  @dougiemcfly i loved the show in rio! &quot;th...           136   \n",
              "2170           twittering seems so creepy to me, still             40   \n",
              "3352  @swadley okay you caught me! the first time in...           108   \n",
              "\n",
              "      url_flags  \n",
              "1032          0  \n",
              "1043          0  \n",
              "2158          0  \n",
              "2170          0  \n",
              "3352          0  "
            ],
            "text/html": [
              "\n",
              "  <div id=\"df-04a0b0b8-016d-4caa-89a7-cb063efc91f1\">\n",
              "    <div class=\"colab-df-container\">\n",
              "      <div>\n",
              "<style scoped>\n",
              "    .dataframe tbody tr th:only-of-type {\n",
              "        vertical-align: middle;\n",
              "    }\n",
              "\n",
              "    .dataframe tbody tr th {\n",
              "        vertical-align: top;\n",
              "    }\n",
              "\n",
              "    .dataframe thead th {\n",
              "        text-align: right;\n",
              "    }\n",
              "</style>\n",
              "<table border=\"1\" class=\"dataframe\">\n",
              "  <thead>\n",
              "    <tr style=\"text-align: right;\">\n",
              "      <th></th>\n",
              "      <th>twitts</th>\n",
              "      <th>sentiment</th>\n",
              "      <th>word_counts</th>\n",
              "      <th>char_counts</th>\n",
              "      <th>avg_word_len</th>\n",
              "      <th>stop_words_len</th>\n",
              "      <th>hashtag_counts</th>\n",
              "      <th>mention_counts</th>\n",
              "      <th>numeric_counts</th>\n",
              "      <th>upper_counts</th>\n",
              "      <th>emails</th>\n",
              "      <th>emails_count</th>\n",
              "      <th>url_flags</th>\n",
              "    </tr>\n",
              "  </thead>\n",
              "  <tbody>\n",
              "    <tr>\n",
              "      <th>1032</th>\n",
              "      <td>@mohax you did not hear.. i lost 7 regions wor...</td>\n",
              "      <td>0</td>\n",
              "      <td>26</td>\n",
              "      <td>106</td>\n",
              "      <td>4.076923</td>\n",
              "      <td>7</td>\n",
              "      <td>0</td>\n",
              "      <td>1</td>\n",
              "      <td>1</td>\n",
              "      <td>3</td>\n",
              "      <td>@mohax you did not hear.. i lost 7 regions wor...</td>\n",
              "      <td>134</td>\n",
              "      <td>0</td>\n",
              "    </tr>\n",
              "    <tr>\n",
              "      <th>1043</th>\n",
              "      <td>oh..wow...!! :o the moon looks sssoooo beautif...</td>\n",
              "      <td>0</td>\n",
              "      <td>25</td>\n",
              "      <td>112</td>\n",
              "      <td>4.480000</td>\n",
              "      <td>9</td>\n",
              "      <td>0</td>\n",
              "      <td>0</td>\n",
              "      <td>0</td>\n",
              "      <td>5</td>\n",
              "      <td>oh..wow...!! :o the moon looks sssoooo beautif...</td>\n",
              "      <td>138</td>\n",
              "      <td>0</td>\n",
              "    </tr>\n",
              "    <tr>\n",
              "      <th>2158</th>\n",
              "      <td>@dougiemcfly i loved the show in rio! &amp;quot;th...</td>\n",
              "      <td>1</td>\n",
              "      <td>24</td>\n",
              "      <td>112</td>\n",
              "      <td>4.666667</td>\n",
              "      <td>9</td>\n",
              "      <td>0</td>\n",
              "      <td>1</td>\n",
              "      <td>0</td>\n",
              "      <td>1</td>\n",
              "      <td>@dougiemcfly i loved the show in rio! &amp;quot;th...</td>\n",
              "      <td>136</td>\n",
              "      <td>0</td>\n",
              "    </tr>\n",
              "    <tr>\n",
              "      <th>2170</th>\n",
              "      <td>twittering seems so creepy to me, still</td>\n",
              "      <td>1</td>\n",
              "      <td>7</td>\n",
              "      <td>33</td>\n",
              "      <td>4.714286</td>\n",
              "      <td>4</td>\n",
              "      <td>0</td>\n",
              "      <td>0</td>\n",
              "      <td>0</td>\n",
              "      <td>0</td>\n",
              "      <td>twittering seems so creepy to me, still</td>\n",
              "      <td>40</td>\n",
              "      <td>0</td>\n",
              "    </tr>\n",
              "    <tr>\n",
              "      <th>3352</th>\n",
              "      <td>@swadley okay you caught me! the first time in...</td>\n",
              "      <td>1</td>\n",
              "      <td>21</td>\n",
              "      <td>87</td>\n",
              "      <td>4.142857</td>\n",
              "      <td>8</td>\n",
              "      <td>0</td>\n",
              "      <td>1</td>\n",
              "      <td>0</td>\n",
              "      <td>0</td>\n",
              "      <td>@swadley okay you caught me! the first time in...</td>\n",
              "      <td>108</td>\n",
              "      <td>0</td>\n",
              "    </tr>\n",
              "  </tbody>\n",
              "</table>\n",
              "</div>\n",
              "      <button class=\"colab-df-convert\" onclick=\"convertToInteractive('df-04a0b0b8-016d-4caa-89a7-cb063efc91f1')\"\n",
              "              title=\"Convert this dataframe to an interactive table.\"\n",
              "              style=\"display:none;\">\n",
              "        \n",
              "  <svg xmlns=\"http://www.w3.org/2000/svg\" height=\"24px\"viewBox=\"0 0 24 24\"\n",
              "       width=\"24px\">\n",
              "    <path d=\"M0 0h24v24H0V0z\" fill=\"none\"/>\n",
              "    <path d=\"M18.56 5.44l.94 2.06.94-2.06 2.06-.94-2.06-.94-.94-2.06-.94 2.06-2.06.94zm-11 1L8.5 8.5l.94-2.06 2.06-.94-2.06-.94L8.5 2.5l-.94 2.06-2.06.94zm10 10l.94 2.06.94-2.06 2.06-.94-2.06-.94-.94-2.06-.94 2.06-2.06.94z\"/><path d=\"M17.41 7.96l-1.37-1.37c-.4-.4-.92-.59-1.43-.59-.52 0-1.04.2-1.43.59L10.3 9.45l-7.72 7.72c-.78.78-.78 2.05 0 2.83L4 21.41c.39.39.9.59 1.41.59.51 0 1.02-.2 1.41-.59l7.78-7.78 2.81-2.81c.8-.78.8-2.07 0-2.86zM5.41 20L4 18.59l7.72-7.72 1.47 1.35L5.41 20z\"/>\n",
              "  </svg>\n",
              "      </button>\n",
              "      \n",
              "  <style>\n",
              "    .colab-df-container {\n",
              "      display:flex;\n",
              "      flex-wrap:wrap;\n",
              "      gap: 12px;\n",
              "    }\n",
              "\n",
              "    .colab-df-convert {\n",
              "      background-color: #E8F0FE;\n",
              "      border: none;\n",
              "      border-radius: 50%;\n",
              "      cursor: pointer;\n",
              "      display: none;\n",
              "      fill: #1967D2;\n",
              "      height: 32px;\n",
              "      padding: 0 0 0 0;\n",
              "      width: 32px;\n",
              "    }\n",
              "\n",
              "    .colab-df-convert:hover {\n",
              "      background-color: #E2EBFA;\n",
              "      box-shadow: 0px 1px 2px rgba(60, 64, 67, 0.3), 0px 1px 3px 1px rgba(60, 64, 67, 0.15);\n",
              "      fill: #174EA6;\n",
              "    }\n",
              "\n",
              "    [theme=dark] .colab-df-convert {\n",
              "      background-color: #3B4455;\n",
              "      fill: #D2E3FC;\n",
              "    }\n",
              "\n",
              "    [theme=dark] .colab-df-convert:hover {\n",
              "      background-color: #434B5C;\n",
              "      box-shadow: 0px 1px 3px 1px rgba(0, 0, 0, 0.15);\n",
              "      filter: drop-shadow(0px 1px 2px rgba(0, 0, 0, 0.3));\n",
              "      fill: #FFFFFF;\n",
              "    }\n",
              "  </style>\n",
              "\n",
              "      <script>\n",
              "        const buttonEl =\n",
              "          document.querySelector('#df-04a0b0b8-016d-4caa-89a7-cb063efc91f1 button.colab-df-convert');\n",
              "        buttonEl.style.display =\n",
              "          google.colab.kernel.accessAllowed ? 'block' : 'none';\n",
              "\n",
              "        async function convertToInteractive(key) {\n",
              "          const element = document.querySelector('#df-04a0b0b8-016d-4caa-89a7-cb063efc91f1');\n",
              "          const dataTable =\n",
              "            await google.colab.kernel.invokeFunction('convertToInteractive',\n",
              "                                                     [key], {});\n",
              "          if (!dataTable) return;\n",
              "\n",
              "          const docLinkHtml = 'Like what you see? Visit the ' +\n",
              "            '<a target=\"_blank\" href=https://colab.research.google.com/notebooks/data_table.ipynb>data table notebook</a>'\n",
              "            + ' to learn more about interactive tables.';\n",
              "          element.innerHTML = '';\n",
              "          dataTable['output_type'] = 'display_data';\n",
              "          await google.colab.output.renderOutput(dataTable, element);\n",
              "          const docLink = document.createElement('div');\n",
              "          docLink.innerHTML = docLinkHtml;\n",
              "          element.appendChild(docLink);\n",
              "        }\n",
              "      </script>\n",
              "    </div>\n",
              "  </div>\n",
              "  "
            ]
          },
          "metadata": {},
          "execution_count": 78
        }
      ]
    },
    {
      "cell_type": "markdown",
      "source": [
        "##Special Chars removal or punctuation removals"
      ],
      "metadata": {
        "id": "WabVegKpAL4d"
      }
    },
    {
      "cell_type": "code",
      "source": [
        "x = '@duyku apparrently i was not ready enough.. i...'"
      ],
      "metadata": {
        "id": "THhYH5oJ6Bux"
      },
      "execution_count": null,
      "outputs": []
    },
    {
      "cell_type": "code",
      "source": [
        "re.sub(r'[^\\w ]+','',x)"
      ],
      "metadata": {
        "colab": {
          "base_uri": "https://localhost:8080/",
          "height": 35
        },
        "id": "ntxOlK1AAXAY",
        "outputId": "42d74542-e75a-4c84-d6a6-21951f7a223e"
      },
      "execution_count": null,
      "outputs": [
        {
          "output_type": "execute_result",
          "data": {
            "text/plain": [
              "'duyku apparrently i was not ready enough i'"
            ],
            "application/vnd.google.colaboratory.intrinsic+json": {
              "type": "string"
            }
          },
          "metadata": {},
          "execution_count": 80
        }
      ]
    },
    {
      "cell_type": "code",
      "source": [
        "df.sample(5)"
      ],
      "metadata": {
        "colab": {
          "base_uri": "https://localhost:8080/",
          "height": 583
        },
        "id": "7VErzgR9AXGK",
        "outputId": "a8db6d2d-aa72-4f82-e0f5-0fa7bdb505da"
      },
      "execution_count": null,
      "outputs": [
        {
          "output_type": "execute_result",
          "data": {
            "text/plain": [
              "                                                 twitts  sentiment  \\\n",
              "1699                  why cannot i watch lost in japan?          0   \n",
              "3132            @kiwikia yup... at least david-inspired          1   \n",
              "1857  i broke my iphone  it was perfect and i droppe...          0   \n",
              "1705  sad that i am home alone again... without my m...          0   \n",
              "2085  @digooooo yay! i am glad to hear it  me too, i...          1   \n",
              "\n",
              "      word_counts  char_counts  avg_word_len  stop_words_len  hashtag_counts  \\\n",
              "1699            7           26      3.714286               1               0   \n",
              "3132            5           35      7.000000               2               0   \n",
              "1857           15           57      3.800000               7               1   \n",
              "1705           23           93      4.043478              12               0   \n",
              "2085           25          113      4.520000               6               0   \n",
              "\n",
              "      mention_counts  numeric_counts  upper_counts  \\\n",
              "1699               0               0             2   \n",
              "3132               1               0             0   \n",
              "1857               0               0             3   \n",
              "1705               0               0             0   \n",
              "2085               1               0             2   \n",
              "\n",
              "                                                 emails  emails_count  \\\n",
              "1699                 why cannot i watch lost in japan?             34   \n",
              "3132           @kiwikia yup... at least david-inspired             40   \n",
              "1857  i broke my iphone  it was perfect and i droppe...            72   \n",
              "1705  sad that i am home alone again... without my m...           116   \n",
              "2085  @digooooo yay! i am glad to hear it  me too, i...           140   \n",
              "\n",
              "      url_flags  \n",
              "1699          0  \n",
              "3132          0  \n",
              "1857          0  \n",
              "1705          0  \n",
              "2085          0  "
            ],
            "text/html": [
              "\n",
              "  <div id=\"df-abb710c6-48ce-4b6f-b4de-a2548a693fef\">\n",
              "    <div class=\"colab-df-container\">\n",
              "      <div>\n",
              "<style scoped>\n",
              "    .dataframe tbody tr th:only-of-type {\n",
              "        vertical-align: middle;\n",
              "    }\n",
              "\n",
              "    .dataframe tbody tr th {\n",
              "        vertical-align: top;\n",
              "    }\n",
              "\n",
              "    .dataframe thead th {\n",
              "        text-align: right;\n",
              "    }\n",
              "</style>\n",
              "<table border=\"1\" class=\"dataframe\">\n",
              "  <thead>\n",
              "    <tr style=\"text-align: right;\">\n",
              "      <th></th>\n",
              "      <th>twitts</th>\n",
              "      <th>sentiment</th>\n",
              "      <th>word_counts</th>\n",
              "      <th>char_counts</th>\n",
              "      <th>avg_word_len</th>\n",
              "      <th>stop_words_len</th>\n",
              "      <th>hashtag_counts</th>\n",
              "      <th>mention_counts</th>\n",
              "      <th>numeric_counts</th>\n",
              "      <th>upper_counts</th>\n",
              "      <th>emails</th>\n",
              "      <th>emails_count</th>\n",
              "      <th>url_flags</th>\n",
              "    </tr>\n",
              "  </thead>\n",
              "  <tbody>\n",
              "    <tr>\n",
              "      <th>1699</th>\n",
              "      <td>why cannot i watch lost in japan?</td>\n",
              "      <td>0</td>\n",
              "      <td>7</td>\n",
              "      <td>26</td>\n",
              "      <td>3.714286</td>\n",
              "      <td>1</td>\n",
              "      <td>0</td>\n",
              "      <td>0</td>\n",
              "      <td>0</td>\n",
              "      <td>2</td>\n",
              "      <td>why cannot i watch lost in japan?</td>\n",
              "      <td>34</td>\n",
              "      <td>0</td>\n",
              "    </tr>\n",
              "    <tr>\n",
              "      <th>3132</th>\n",
              "      <td>@kiwikia yup... at least david-inspired</td>\n",
              "      <td>1</td>\n",
              "      <td>5</td>\n",
              "      <td>35</td>\n",
              "      <td>7.000000</td>\n",
              "      <td>2</td>\n",
              "      <td>0</td>\n",
              "      <td>1</td>\n",
              "      <td>0</td>\n",
              "      <td>0</td>\n",
              "      <td>@kiwikia yup... at least david-inspired</td>\n",
              "      <td>40</td>\n",
              "      <td>0</td>\n",
              "    </tr>\n",
              "    <tr>\n",
              "      <th>1857</th>\n",
              "      <td>i broke my iphone  it was perfect and i droppe...</td>\n",
              "      <td>0</td>\n",
              "      <td>15</td>\n",
              "      <td>57</td>\n",
              "      <td>3.800000</td>\n",
              "      <td>7</td>\n",
              "      <td>1</td>\n",
              "      <td>0</td>\n",
              "      <td>0</td>\n",
              "      <td>3</td>\n",
              "      <td>i broke my iphone  it was perfect and i droppe...</td>\n",
              "      <td>72</td>\n",
              "      <td>0</td>\n",
              "    </tr>\n",
              "    <tr>\n",
              "      <th>1705</th>\n",
              "      <td>sad that i am home alone again... without my m...</td>\n",
              "      <td>0</td>\n",
              "      <td>23</td>\n",
              "      <td>93</td>\n",
              "      <td>4.043478</td>\n",
              "      <td>12</td>\n",
              "      <td>0</td>\n",
              "      <td>0</td>\n",
              "      <td>0</td>\n",
              "      <td>0</td>\n",
              "      <td>sad that i am home alone again... without my m...</td>\n",
              "      <td>116</td>\n",
              "      <td>0</td>\n",
              "    </tr>\n",
              "    <tr>\n",
              "      <th>2085</th>\n",
              "      <td>@digooooo yay! i am glad to hear it  me too, i...</td>\n",
              "      <td>1</td>\n",
              "      <td>25</td>\n",
              "      <td>113</td>\n",
              "      <td>4.520000</td>\n",
              "      <td>6</td>\n",
              "      <td>0</td>\n",
              "      <td>1</td>\n",
              "      <td>0</td>\n",
              "      <td>2</td>\n",
              "      <td>@digooooo yay! i am glad to hear it  me too, i...</td>\n",
              "      <td>140</td>\n",
              "      <td>0</td>\n",
              "    </tr>\n",
              "  </tbody>\n",
              "</table>\n",
              "</div>\n",
              "      <button class=\"colab-df-convert\" onclick=\"convertToInteractive('df-abb710c6-48ce-4b6f-b4de-a2548a693fef')\"\n",
              "              title=\"Convert this dataframe to an interactive table.\"\n",
              "              style=\"display:none;\">\n",
              "        \n",
              "  <svg xmlns=\"http://www.w3.org/2000/svg\" height=\"24px\"viewBox=\"0 0 24 24\"\n",
              "       width=\"24px\">\n",
              "    <path d=\"M0 0h24v24H0V0z\" fill=\"none\"/>\n",
              "    <path d=\"M18.56 5.44l.94 2.06.94-2.06 2.06-.94-2.06-.94-.94-2.06-.94 2.06-2.06.94zm-11 1L8.5 8.5l.94-2.06 2.06-.94-2.06-.94L8.5 2.5l-.94 2.06-2.06.94zm10 10l.94 2.06.94-2.06 2.06-.94-2.06-.94-.94-2.06-.94 2.06-2.06.94z\"/><path d=\"M17.41 7.96l-1.37-1.37c-.4-.4-.92-.59-1.43-.59-.52 0-1.04.2-1.43.59L10.3 9.45l-7.72 7.72c-.78.78-.78 2.05 0 2.83L4 21.41c.39.39.9.59 1.41.59.51 0 1.02-.2 1.41-.59l7.78-7.78 2.81-2.81c.8-.78.8-2.07 0-2.86zM5.41 20L4 18.59l7.72-7.72 1.47 1.35L5.41 20z\"/>\n",
              "  </svg>\n",
              "      </button>\n",
              "      \n",
              "  <style>\n",
              "    .colab-df-container {\n",
              "      display:flex;\n",
              "      flex-wrap:wrap;\n",
              "      gap: 12px;\n",
              "    }\n",
              "\n",
              "    .colab-df-convert {\n",
              "      background-color: #E8F0FE;\n",
              "      border: none;\n",
              "      border-radius: 50%;\n",
              "      cursor: pointer;\n",
              "      display: none;\n",
              "      fill: #1967D2;\n",
              "      height: 32px;\n",
              "      padding: 0 0 0 0;\n",
              "      width: 32px;\n",
              "    }\n",
              "\n",
              "    .colab-df-convert:hover {\n",
              "      background-color: #E2EBFA;\n",
              "      box-shadow: 0px 1px 2px rgba(60, 64, 67, 0.3), 0px 1px 3px 1px rgba(60, 64, 67, 0.15);\n",
              "      fill: #174EA6;\n",
              "    }\n",
              "\n",
              "    [theme=dark] .colab-df-convert {\n",
              "      background-color: #3B4455;\n",
              "      fill: #D2E3FC;\n",
              "    }\n",
              "\n",
              "    [theme=dark] .colab-df-convert:hover {\n",
              "      background-color: #434B5C;\n",
              "      box-shadow: 0px 1px 3px 1px rgba(0, 0, 0, 0.15);\n",
              "      filter: drop-shadow(0px 1px 2px rgba(0, 0, 0, 0.3));\n",
              "      fill: #FFFFFF;\n",
              "    }\n",
              "  </style>\n",
              "\n",
              "      <script>\n",
              "        const buttonEl =\n",
              "          document.querySelector('#df-abb710c6-48ce-4b6f-b4de-a2548a693fef button.colab-df-convert');\n",
              "        buttonEl.style.display =\n",
              "          google.colab.kernel.accessAllowed ? 'block' : 'none';\n",
              "\n",
              "        async function convertToInteractive(key) {\n",
              "          const element = document.querySelector('#df-abb710c6-48ce-4b6f-b4de-a2548a693fef');\n",
              "          const dataTable =\n",
              "            await google.colab.kernel.invokeFunction('convertToInteractive',\n",
              "                                                     [key], {});\n",
              "          if (!dataTable) return;\n",
              "\n",
              "          const docLinkHtml = 'Like what you see? Visit the ' +\n",
              "            '<a target=\"_blank\" href=https://colab.research.google.com/notebooks/data_table.ipynb>data table notebook</a>'\n",
              "            + ' to learn more about interactive tables.';\n",
              "          element.innerHTML = '';\n",
              "          dataTable['output_type'] = 'display_data';\n",
              "          await google.colab.output.renderOutput(dataTable, element);\n",
              "          const docLink = document.createElement('div');\n",
              "          docLink.innerHTML = docLinkHtml;\n",
              "          element.appendChild(docLink);\n",
              "        }\n",
              "      </script>\n",
              "    </div>\n",
              "  </div>\n",
              "  "
            ]
          },
          "metadata": {},
          "execution_count": 81
        }
      ]
    },
    {
      "cell_type": "code",
      "source": [
        "df['twitts'] = df['twitts'].apply(lambda x: re.sub(r'[^\\w ]+', \"\", x))"
      ],
      "metadata": {
        "id": "5JdzfyfPAXI6"
      },
      "execution_count": null,
      "outputs": []
    },
    {
      "cell_type": "code",
      "source": [
        "df.sample(5)"
      ],
      "metadata": {
        "colab": {
          "base_uri": "https://localhost:8080/",
          "height": 461
        },
        "id": "iBvF0BYnAXMZ",
        "outputId": "016efa7e-3748-4110-d9f1-538703e0e40b"
      },
      "execution_count": null,
      "outputs": [
        {
          "output_type": "execute_result",
          "data": {
            "text/plain": [
              "                                                 twitts  sentiment  \\\n",
              "2668  chocoboy1der  earl i need you 2 vote 4 me wwww...          1   \n",
              "2932              wendywings cute   time for a twitpic           1   \n",
              "198                                              is sad          0   \n",
              "3128  dpjoyce i am going to be at glastonbury unfort...          1   \n",
              "1795  with all this shit i have to pay for and get f...          0   \n",
              "\n",
              "      word_counts  char_counts  avg_word_len  stop_words_len  hashtag_counts  \\\n",
              "2668           11           51      4.636364               1               0   \n",
              "2932            7           32      4.571429               2               0   \n",
              "198             2            5      2.500000               1               0   \n",
              "3128           17           82      4.823529               7               0   \n",
              "1795           22           81      3.681818              15               0   \n",
              "\n",
              "      mention_counts  numeric_counts  upper_counts  \\\n",
              "2668               1               2             1   \n",
              "2932               1               0             0   \n",
              "198                0               0             0   \n",
              "3128               1               0             1   \n",
              "1795               0               0             1   \n",
              "\n",
              "                                                 emails  emails_count  \\\n",
              "2668  @chocoboy1der - earl! i need you 2 vote 4 me. ...            62   \n",
              "2932           @wendywings cute   time for a twitpic ;)            40   \n",
              "198                                             is sad              7   \n",
              "3128  @dpjoyce i am going to be at glastonbury unfor...           100   \n",
              "1795  with all this shit i have to pay for and get f...           103   \n",
              "\n",
              "      url_flags  \n",
              "2668          0  \n",
              "2932          0  \n",
              "198           0  \n",
              "3128          0  \n",
              "1795          0  "
            ],
            "text/html": [
              "\n",
              "  <div id=\"df-7e46adcc-5ec7-4472-abe4-c852977f9cb4\">\n",
              "    <div class=\"colab-df-container\">\n",
              "      <div>\n",
              "<style scoped>\n",
              "    .dataframe tbody tr th:only-of-type {\n",
              "        vertical-align: middle;\n",
              "    }\n",
              "\n",
              "    .dataframe tbody tr th {\n",
              "        vertical-align: top;\n",
              "    }\n",
              "\n",
              "    .dataframe thead th {\n",
              "        text-align: right;\n",
              "    }\n",
              "</style>\n",
              "<table border=\"1\" class=\"dataframe\">\n",
              "  <thead>\n",
              "    <tr style=\"text-align: right;\">\n",
              "      <th></th>\n",
              "      <th>twitts</th>\n",
              "      <th>sentiment</th>\n",
              "      <th>word_counts</th>\n",
              "      <th>char_counts</th>\n",
              "      <th>avg_word_len</th>\n",
              "      <th>stop_words_len</th>\n",
              "      <th>hashtag_counts</th>\n",
              "      <th>mention_counts</th>\n",
              "      <th>numeric_counts</th>\n",
              "      <th>upper_counts</th>\n",
              "      <th>emails</th>\n",
              "      <th>emails_count</th>\n",
              "      <th>url_flags</th>\n",
              "    </tr>\n",
              "  </thead>\n",
              "  <tbody>\n",
              "    <tr>\n",
              "      <th>2668</th>\n",
              "      <td>chocoboy1der  earl i need you 2 vote 4 me wwww...</td>\n",
              "      <td>1</td>\n",
              "      <td>11</td>\n",
              "      <td>51</td>\n",
              "      <td>4.636364</td>\n",
              "      <td>1</td>\n",
              "      <td>0</td>\n",
              "      <td>1</td>\n",
              "      <td>2</td>\n",
              "      <td>1</td>\n",
              "      <td>@chocoboy1der - earl! i need you 2 vote 4 me. ...</td>\n",
              "      <td>62</td>\n",
              "      <td>0</td>\n",
              "    </tr>\n",
              "    <tr>\n",
              "      <th>2932</th>\n",
              "      <td>wendywings cute   time for a twitpic</td>\n",
              "      <td>1</td>\n",
              "      <td>7</td>\n",
              "      <td>32</td>\n",
              "      <td>4.571429</td>\n",
              "      <td>2</td>\n",
              "      <td>0</td>\n",
              "      <td>1</td>\n",
              "      <td>0</td>\n",
              "      <td>0</td>\n",
              "      <td>@wendywings cute   time for a twitpic ;)</td>\n",
              "      <td>40</td>\n",
              "      <td>0</td>\n",
              "    </tr>\n",
              "    <tr>\n",
              "      <th>198</th>\n",
              "      <td>is sad</td>\n",
              "      <td>0</td>\n",
              "      <td>2</td>\n",
              "      <td>5</td>\n",
              "      <td>2.500000</td>\n",
              "      <td>1</td>\n",
              "      <td>0</td>\n",
              "      <td>0</td>\n",
              "      <td>0</td>\n",
              "      <td>0</td>\n",
              "      <td>is sad</td>\n",
              "      <td>7</td>\n",
              "      <td>0</td>\n",
              "    </tr>\n",
              "    <tr>\n",
              "      <th>3128</th>\n",
              "      <td>dpjoyce i am going to be at glastonbury unfort...</td>\n",
              "      <td>1</td>\n",
              "      <td>17</td>\n",
              "      <td>82</td>\n",
              "      <td>4.823529</td>\n",
              "      <td>7</td>\n",
              "      <td>0</td>\n",
              "      <td>1</td>\n",
              "      <td>0</td>\n",
              "      <td>1</td>\n",
              "      <td>@dpjoyce i am going to be at glastonbury unfor...</td>\n",
              "      <td>100</td>\n",
              "      <td>0</td>\n",
              "    </tr>\n",
              "    <tr>\n",
              "      <th>1795</th>\n",
              "      <td>with all this shit i have to pay for and get f...</td>\n",
              "      <td>0</td>\n",
              "      <td>22</td>\n",
              "      <td>81</td>\n",
              "      <td>3.681818</td>\n",
              "      <td>15</td>\n",
              "      <td>0</td>\n",
              "      <td>0</td>\n",
              "      <td>0</td>\n",
              "      <td>1</td>\n",
              "      <td>with all this shit i have to pay for and get f...</td>\n",
              "      <td>103</td>\n",
              "      <td>0</td>\n",
              "    </tr>\n",
              "  </tbody>\n",
              "</table>\n",
              "</div>\n",
              "      <button class=\"colab-df-convert\" onclick=\"convertToInteractive('df-7e46adcc-5ec7-4472-abe4-c852977f9cb4')\"\n",
              "              title=\"Convert this dataframe to an interactive table.\"\n",
              "              style=\"display:none;\">\n",
              "        \n",
              "  <svg xmlns=\"http://www.w3.org/2000/svg\" height=\"24px\"viewBox=\"0 0 24 24\"\n",
              "       width=\"24px\">\n",
              "    <path d=\"M0 0h24v24H0V0z\" fill=\"none\"/>\n",
              "    <path d=\"M18.56 5.44l.94 2.06.94-2.06 2.06-.94-2.06-.94-.94-2.06-.94 2.06-2.06.94zm-11 1L8.5 8.5l.94-2.06 2.06-.94-2.06-.94L8.5 2.5l-.94 2.06-2.06.94zm10 10l.94 2.06.94-2.06 2.06-.94-2.06-.94-.94-2.06-.94 2.06-2.06.94z\"/><path d=\"M17.41 7.96l-1.37-1.37c-.4-.4-.92-.59-1.43-.59-.52 0-1.04.2-1.43.59L10.3 9.45l-7.72 7.72c-.78.78-.78 2.05 0 2.83L4 21.41c.39.39.9.59 1.41.59.51 0 1.02-.2 1.41-.59l7.78-7.78 2.81-2.81c.8-.78.8-2.07 0-2.86zM5.41 20L4 18.59l7.72-7.72 1.47 1.35L5.41 20z\"/>\n",
              "  </svg>\n",
              "      </button>\n",
              "      \n",
              "  <style>\n",
              "    .colab-df-container {\n",
              "      display:flex;\n",
              "      flex-wrap:wrap;\n",
              "      gap: 12px;\n",
              "    }\n",
              "\n",
              "    .colab-df-convert {\n",
              "      background-color: #E8F0FE;\n",
              "      border: none;\n",
              "      border-radius: 50%;\n",
              "      cursor: pointer;\n",
              "      display: none;\n",
              "      fill: #1967D2;\n",
              "      height: 32px;\n",
              "      padding: 0 0 0 0;\n",
              "      width: 32px;\n",
              "    }\n",
              "\n",
              "    .colab-df-convert:hover {\n",
              "      background-color: #E2EBFA;\n",
              "      box-shadow: 0px 1px 2px rgba(60, 64, 67, 0.3), 0px 1px 3px 1px rgba(60, 64, 67, 0.15);\n",
              "      fill: #174EA6;\n",
              "    }\n",
              "\n",
              "    [theme=dark] .colab-df-convert {\n",
              "      background-color: #3B4455;\n",
              "      fill: #D2E3FC;\n",
              "    }\n",
              "\n",
              "    [theme=dark] .colab-df-convert:hover {\n",
              "      background-color: #434B5C;\n",
              "      box-shadow: 0px 1px 3px 1px rgba(0, 0, 0, 0.15);\n",
              "      filter: drop-shadow(0px 1px 2px rgba(0, 0, 0, 0.3));\n",
              "      fill: #FFFFFF;\n",
              "    }\n",
              "  </style>\n",
              "\n",
              "      <script>\n",
              "        const buttonEl =\n",
              "          document.querySelector('#df-7e46adcc-5ec7-4472-abe4-c852977f9cb4 button.colab-df-convert');\n",
              "        buttonEl.style.display =\n",
              "          google.colab.kernel.accessAllowed ? 'block' : 'none';\n",
              "\n",
              "        async function convertToInteractive(key) {\n",
              "          const element = document.querySelector('#df-7e46adcc-5ec7-4472-abe4-c852977f9cb4');\n",
              "          const dataTable =\n",
              "            await google.colab.kernel.invokeFunction('convertToInteractive',\n",
              "                                                     [key], {});\n",
              "          if (!dataTable) return;\n",
              "\n",
              "          const docLinkHtml = 'Like what you see? Visit the ' +\n",
              "            '<a target=\"_blank\" href=https://colab.research.google.com/notebooks/data_table.ipynb>data table notebook</a>'\n",
              "            + ' to learn more about interactive tables.';\n",
              "          element.innerHTML = '';\n",
              "          dataTable['output_type'] = 'display_data';\n",
              "          await google.colab.output.renderOutput(dataTable, element);\n",
              "          const docLink = document.createElement('div');\n",
              "          docLink.innerHTML = docLinkHtml;\n",
              "          element.appendChild(docLink);\n",
              "        }\n",
              "      </script>\n",
              "    </div>\n",
              "  </div>\n",
              "  "
            ]
          },
          "metadata": {},
          "execution_count": 83
        }
      ]
    },
    {
      "cell_type": "markdown",
      "source": [
        "##Remove multiple spaces \"hi hello\""
      ],
      "metadata": {
        "id": "nMKHrpcQBPVZ"
      }
    },
    {
      "cell_type": "code",
      "source": [
        "x = 'hi   hello     how are you'"
      ],
      "metadata": {
        "id": "4OdQu7EMAXPj"
      },
      "execution_count": null,
      "outputs": []
    },
    {
      "cell_type": "code",
      "source": [
        "' '.join(x.split())"
      ],
      "metadata": {
        "colab": {
          "base_uri": "https://localhost:8080/",
          "height": 35
        },
        "id": "NPt6OSToAXSy",
        "outputId": "8e5c0b19-03e4-4415-a7e5-7d8fbec43ea8"
      },
      "execution_count": null,
      "outputs": [
        {
          "output_type": "execute_result",
          "data": {
            "text/plain": [
              "'hi hello how are you'"
            ],
            "application/vnd.google.colaboratory.intrinsic+json": {
              "type": "string"
            }
          },
          "metadata": {},
          "execution_count": 85
        }
      ]
    },
    {
      "cell_type": "code",
      "source": [
        "df['twitts'] = df['twitts'].apply(lambda x: ' '.join(x.split()))"
      ],
      "metadata": {
        "id": "jfcoJT86AXV5"
      },
      "execution_count": null,
      "outputs": []
    },
    {
      "cell_type": "code",
      "source": [
        "df.sample(5)"
      ],
      "metadata": {
        "colab": {
          "base_uri": "https://localhost:8080/",
          "height": 513
        },
        "id": "wym_qTcyAUJ-",
        "outputId": "6df94cce-0701-4172-bb6f-50ec266782f9"
      },
      "execution_count": null,
      "outputs": [
        {
          "output_type": "execute_result",
          "data": {
            "text/plain": [
              "                                                 twitts  sentiment  \\\n",
              "3523            is updating her blog in livejournal wow          1   \n",
              "2559                                _ely_ check your dm          1   \n",
              "3188  bigpondteam thaks tez back to speed now all go...          1   \n",
              "3123              at the castle with jill be back today          1   \n",
              "3430  riandawson thx 4 the awesum show you guys neve...          1   \n",
              "\n",
              "      word_counts  char_counts  avg_word_len  stop_words_len  hashtag_counts  \\\n",
              "3523            8           35      4.375000               3               0   \n",
              "2559            4           18      4.500000               1               0   \n",
              "3188           20           88      4.400000               7               0   \n",
              "3123            8           31      3.875000               3               0   \n",
              "3430           27          110      4.074074               6               0   \n",
              "\n",
              "      mention_counts  numeric_counts  upper_counts  \\\n",
              "3523               0               0             0   \n",
              "2559               1               0             1   \n",
              "3188               1               0             0   \n",
              "3123               0               0             0   \n",
              "3430               1               1             0   \n",
              "\n",
              "                                                 emails  emails_count  \\\n",
              "3523        is updating her blog in livejournal  wow! )            43   \n",
              "2559                             @_ely_ check your dm.             22   \n",
              "3188  @bigpondteam thaks tez, back to speed now, all...           108   \n",
              "3123            at the castle with jill! be back today             39   \n",
              "3430  @riandawson thx 4 the awesum show. you guys ne...           149   \n",
              "\n",
              "      url_flags  \n",
              "3523          0  \n",
              "2559          0  \n",
              "3188          0  \n",
              "3123          0  \n",
              "3430          0  "
            ],
            "text/html": [
              "\n",
              "  <div id=\"df-c34fc6bb-85e6-47e0-a74f-a055167f19c4\">\n",
              "    <div class=\"colab-df-container\">\n",
              "      <div>\n",
              "<style scoped>\n",
              "    .dataframe tbody tr th:only-of-type {\n",
              "        vertical-align: middle;\n",
              "    }\n",
              "\n",
              "    .dataframe tbody tr th {\n",
              "        vertical-align: top;\n",
              "    }\n",
              "\n",
              "    .dataframe thead th {\n",
              "        text-align: right;\n",
              "    }\n",
              "</style>\n",
              "<table border=\"1\" class=\"dataframe\">\n",
              "  <thead>\n",
              "    <tr style=\"text-align: right;\">\n",
              "      <th></th>\n",
              "      <th>twitts</th>\n",
              "      <th>sentiment</th>\n",
              "      <th>word_counts</th>\n",
              "      <th>char_counts</th>\n",
              "      <th>avg_word_len</th>\n",
              "      <th>stop_words_len</th>\n",
              "      <th>hashtag_counts</th>\n",
              "      <th>mention_counts</th>\n",
              "      <th>numeric_counts</th>\n",
              "      <th>upper_counts</th>\n",
              "      <th>emails</th>\n",
              "      <th>emails_count</th>\n",
              "      <th>url_flags</th>\n",
              "    </tr>\n",
              "  </thead>\n",
              "  <tbody>\n",
              "    <tr>\n",
              "      <th>3523</th>\n",
              "      <td>is updating her blog in livejournal wow</td>\n",
              "      <td>1</td>\n",
              "      <td>8</td>\n",
              "      <td>35</td>\n",
              "      <td>4.375000</td>\n",
              "      <td>3</td>\n",
              "      <td>0</td>\n",
              "      <td>0</td>\n",
              "      <td>0</td>\n",
              "      <td>0</td>\n",
              "      <td>is updating her blog in livejournal  wow! )</td>\n",
              "      <td>43</td>\n",
              "      <td>0</td>\n",
              "    </tr>\n",
              "    <tr>\n",
              "      <th>2559</th>\n",
              "      <td>_ely_ check your dm</td>\n",
              "      <td>1</td>\n",
              "      <td>4</td>\n",
              "      <td>18</td>\n",
              "      <td>4.500000</td>\n",
              "      <td>1</td>\n",
              "      <td>0</td>\n",
              "      <td>1</td>\n",
              "      <td>0</td>\n",
              "      <td>1</td>\n",
              "      <td>@_ely_ check your dm.</td>\n",
              "      <td>22</td>\n",
              "      <td>0</td>\n",
              "    </tr>\n",
              "    <tr>\n",
              "      <th>3188</th>\n",
              "      <td>bigpondteam thaks tez back to speed now all go...</td>\n",
              "      <td>1</td>\n",
              "      <td>20</td>\n",
              "      <td>88</td>\n",
              "      <td>4.400000</td>\n",
              "      <td>7</td>\n",
              "      <td>0</td>\n",
              "      <td>1</td>\n",
              "      <td>0</td>\n",
              "      <td>0</td>\n",
              "      <td>@bigpondteam thaks tez, back to speed now, all...</td>\n",
              "      <td>108</td>\n",
              "      <td>0</td>\n",
              "    </tr>\n",
              "    <tr>\n",
              "      <th>3123</th>\n",
              "      <td>at the castle with jill be back today</td>\n",
              "      <td>1</td>\n",
              "      <td>8</td>\n",
              "      <td>31</td>\n",
              "      <td>3.875000</td>\n",
              "      <td>3</td>\n",
              "      <td>0</td>\n",
              "      <td>0</td>\n",
              "      <td>0</td>\n",
              "      <td>0</td>\n",
              "      <td>at the castle with jill! be back today</td>\n",
              "      <td>39</td>\n",
              "      <td>0</td>\n",
              "    </tr>\n",
              "    <tr>\n",
              "      <th>3430</th>\n",
              "      <td>riandawson thx 4 the awesum show you guys neve...</td>\n",
              "      <td>1</td>\n",
              "      <td>27</td>\n",
              "      <td>110</td>\n",
              "      <td>4.074074</td>\n",
              "      <td>6</td>\n",
              "      <td>0</td>\n",
              "      <td>1</td>\n",
              "      <td>1</td>\n",
              "      <td>0</td>\n",
              "      <td>@riandawson thx 4 the awesum show. you guys ne...</td>\n",
              "      <td>149</td>\n",
              "      <td>0</td>\n",
              "    </tr>\n",
              "  </tbody>\n",
              "</table>\n",
              "</div>\n",
              "      <button class=\"colab-df-convert\" onclick=\"convertToInteractive('df-c34fc6bb-85e6-47e0-a74f-a055167f19c4')\"\n",
              "              title=\"Convert this dataframe to an interactive table.\"\n",
              "              style=\"display:none;\">\n",
              "        \n",
              "  <svg xmlns=\"http://www.w3.org/2000/svg\" height=\"24px\"viewBox=\"0 0 24 24\"\n",
              "       width=\"24px\">\n",
              "    <path d=\"M0 0h24v24H0V0z\" fill=\"none\"/>\n",
              "    <path d=\"M18.56 5.44l.94 2.06.94-2.06 2.06-.94-2.06-.94-.94-2.06-.94 2.06-2.06.94zm-11 1L8.5 8.5l.94-2.06 2.06-.94-2.06-.94L8.5 2.5l-.94 2.06-2.06.94zm10 10l.94 2.06.94-2.06 2.06-.94-2.06-.94-.94-2.06-.94 2.06-2.06.94z\"/><path d=\"M17.41 7.96l-1.37-1.37c-.4-.4-.92-.59-1.43-.59-.52 0-1.04.2-1.43.59L10.3 9.45l-7.72 7.72c-.78.78-.78 2.05 0 2.83L4 21.41c.39.39.9.59 1.41.59.51 0 1.02-.2 1.41-.59l7.78-7.78 2.81-2.81c.8-.78.8-2.07 0-2.86zM5.41 20L4 18.59l7.72-7.72 1.47 1.35L5.41 20z\"/>\n",
              "  </svg>\n",
              "      </button>\n",
              "      \n",
              "  <style>\n",
              "    .colab-df-container {\n",
              "      display:flex;\n",
              "      flex-wrap:wrap;\n",
              "      gap: 12px;\n",
              "    }\n",
              "\n",
              "    .colab-df-convert {\n",
              "      background-color: #E8F0FE;\n",
              "      border: none;\n",
              "      border-radius: 50%;\n",
              "      cursor: pointer;\n",
              "      display: none;\n",
              "      fill: #1967D2;\n",
              "      height: 32px;\n",
              "      padding: 0 0 0 0;\n",
              "      width: 32px;\n",
              "    }\n",
              "\n",
              "    .colab-df-convert:hover {\n",
              "      background-color: #E2EBFA;\n",
              "      box-shadow: 0px 1px 2px rgba(60, 64, 67, 0.3), 0px 1px 3px 1px rgba(60, 64, 67, 0.15);\n",
              "      fill: #174EA6;\n",
              "    }\n",
              "\n",
              "    [theme=dark] .colab-df-convert {\n",
              "      background-color: #3B4455;\n",
              "      fill: #D2E3FC;\n",
              "    }\n",
              "\n",
              "    [theme=dark] .colab-df-convert:hover {\n",
              "      background-color: #434B5C;\n",
              "      box-shadow: 0px 1px 3px 1px rgba(0, 0, 0, 0.15);\n",
              "      filter: drop-shadow(0px 1px 2px rgba(0, 0, 0, 0.3));\n",
              "      fill: #FFFFFF;\n",
              "    }\n",
              "  </style>\n",
              "\n",
              "      <script>\n",
              "        const buttonEl =\n",
              "          document.querySelector('#df-c34fc6bb-85e6-47e0-a74f-a055167f19c4 button.colab-df-convert');\n",
              "        buttonEl.style.display =\n",
              "          google.colab.kernel.accessAllowed ? 'block' : 'none';\n",
              "\n",
              "        async function convertToInteractive(key) {\n",
              "          const element = document.querySelector('#df-c34fc6bb-85e6-47e0-a74f-a055167f19c4');\n",
              "          const dataTable =\n",
              "            await google.colab.kernel.invokeFunction('convertToInteractive',\n",
              "                                                     [key], {});\n",
              "          if (!dataTable) return;\n",
              "\n",
              "          const docLinkHtml = 'Like what you see? Visit the ' +\n",
              "            '<a target=\"_blank\" href=https://colab.research.google.com/notebooks/data_table.ipynb>data table notebook</a>'\n",
              "            + ' to learn more about interactive tables.';\n",
              "          element.innerHTML = '';\n",
              "          dataTable['output_type'] = 'display_data';\n",
              "          await google.colab.output.renderOutput(dataTable, element);\n",
              "          const docLink = document.createElement('div');\n",
              "          docLink.innerHTML = docLinkHtml;\n",
              "          element.appendChild(docLink);\n",
              "        }\n",
              "      </script>\n",
              "    </div>\n",
              "  </div>\n",
              "  "
            ]
          },
          "metadata": {},
          "execution_count": 87
        }
      ]
    },
    {
      "cell_type": "markdown",
      "source": [
        "##Remove HTML tags"
      ],
      "metadata": {
        "id": "8NrArs6PBwlK"
      }
    },
    {
      "cell_type": "code",
      "source": [
        "from bs4 import BeautifulSoup"
      ],
      "metadata": {
        "id": "XI3u1jvDAUNh"
      },
      "execution_count": null,
      "outputs": []
    },
    {
      "cell_type": "code",
      "source": [
        "x = '<html><h1> thanks for watching it </h1></html>'"
      ],
      "metadata": {
        "id": "bMijKPYUEiyO"
      },
      "execution_count": null,
      "outputs": []
    },
    {
      "cell_type": "code",
      "source": [
        "x.replace('<html><h1>', '').replace('</h1></html>', '') #not rec\n"
      ],
      "metadata": {
        "colab": {
          "base_uri": "https://localhost:8080/",
          "height": 35
        },
        "id": "-XQ7BVe2AUQe",
        "outputId": "302690c6-6729-43b0-979c-60bb6206536c"
      },
      "execution_count": null,
      "outputs": [
        {
          "output_type": "execute_result",
          "data": {
            "text/plain": [
              "' thanks for watching it '"
            ],
            "application/vnd.google.colaboratory.intrinsic+json": {
              "type": "string"
            }
          },
          "metadata": {},
          "execution_count": 90
        }
      ]
    },
    {
      "cell_type": "code",
      "source": [
        "BeautifulSoup(x, 'lxml').get_text().strip()"
      ],
      "metadata": {
        "colab": {
          "base_uri": "https://localhost:8080/",
          "height": 35
        },
        "id": "cPVfVgdjAUTw",
        "outputId": "25864679-792a-434b-f198-69791246e194"
      },
      "execution_count": null,
      "outputs": [
        {
          "output_type": "execute_result",
          "data": {
            "text/plain": [
              "'thanks for watching it'"
            ],
            "application/vnd.google.colaboratory.intrinsic+json": {
              "type": "string"
            }
          },
          "metadata": {},
          "execution_count": 91
        }
      ]
    },
    {
      "cell_type": "code",
      "source": [
        "%%time\n",
        "df['twitts'] = df['twitts'].apply(lambda x: BeautifulSoup(x, 'lxml').get_text().strip())\n"
      ],
      "metadata": {
        "colab": {
          "base_uri": "https://localhost:8080/"
        },
        "id": "pUNwoq4-E3F1",
        "outputId": "935b7727-d15d-4746-ac77-e51ecd38eeb3"
      },
      "execution_count": null,
      "outputs": [
        {
          "output_type": "stream",
          "name": "stdout",
          "text": [
            "CPU times: user 1.21 s, sys: 36.4 ms, total: 1.25 s\n",
            "Wall time: 1.82 s\n"
          ]
        }
      ]
    },
    {
      "cell_type": "markdown",
      "source": [
        "##Remove Accented Characters(Chars)"
      ],
      "metadata": {
        "id": "XftOpSqqGBXO"
      }
    },
    {
      "cell_type": "code",
      "source": [
        "x = 'Áccěntěd těxt'"
      ],
      "metadata": {
        "id": "VUzCiPYUE3Ih"
      },
      "execution_count": null,
      "outputs": []
    },
    {
      "cell_type": "code",
      "source": [
        "import unicodedata"
      ],
      "metadata": {
        "id": "dV92lNMKE3K7"
      },
      "execution_count": null,
      "outputs": []
    },
    {
      "cell_type": "code",
      "source": [
        "def remove_accented_chars(x):\n",
        "     x = unicodedata.normalize('NFKD', x).encode('ascii', 'ignore').decode('utf-8', 'ignore')\n",
        "     return x"
      ],
      "metadata": {
        "id": "nnCs1Im0E3No"
      },
      "execution_count": null,
      "outputs": []
    },
    {
      "cell_type": "code",
      "source": [
        "remove_accented_chars(x)"
      ],
      "metadata": {
        "colab": {
          "base_uri": "https://localhost:8080/",
          "height": 35
        },
        "id": "AB-D-6IcE3QO",
        "outputId": "eb102d0e-a529-4b3d-9a29-da38451e07b6"
      },
      "execution_count": null,
      "outputs": [
        {
          "output_type": "execute_result",
          "data": {
            "text/plain": [
              "'Accented text'"
            ],
            "application/vnd.google.colaboratory.intrinsic+json": {
              "type": "string"
            }
          },
          "metadata": {},
          "execution_count": 96
        }
      ]
    },
    {
      "cell_type": "code",
      "source": [
        "df['twitts']= df['twitts'].apply(lambda x: remove_accented_chars(x))"
      ],
      "metadata": {
        "id": "mW7tb-OnE3VK"
      },
      "execution_count": null,
      "outputs": []
    },
    {
      "cell_type": "code",
      "source": [
        "df.sample(5)"
      ],
      "metadata": {
        "colab": {
          "base_uri": "https://localhost:8080/",
          "height": 531
        },
        "id": "utRpyisWHF52",
        "outputId": "0f081933-dcc8-4aaa-d861-fb9e702dfda8"
      },
      "execution_count": null,
      "outputs": [
        {
          "output_type": "execute_result",
          "data": {
            "text/plain": [
              "                                                 twitts  sentiment  \\\n",
              "3907  the best part about having alzheimers planning...          1   \n",
              "1852  jamaicanchula i heard that sucks what happened...          0   \n",
              "2747  thank you hnry342 for giving me a freaking hea...          1   \n",
              "2731  well nice of you to finally show up sexy mcbadbat          1   \n",
              "199   out on money match of wsop 10k hu td9d allin v...          0   \n",
              "\n",
              "      word_counts  char_counts  avg_word_len  stop_words_len  hashtag_counts  \\\n",
              "3907           11           60      5.454545               4               0   \n",
              "1852           13           69      5.307692               7               0   \n",
              "2747           24          109      4.541667               9               0   \n",
              "2731           10           43      4.300000               4               0   \n",
              "199            27          101      3.740741               8               0   \n",
              "\n",
              "      mention_counts  numeric_counts  upper_counts  \\\n",
              "3907               0               0             0   \n",
              "1852               1               0             0   \n",
              "2747               1               0             0   \n",
              "2731               0               0             0   \n",
              "199                0               0             2   \n",
              "\n",
              "                                                 emails  emails_count  \\\n",
              "3907  the best part about having alzheimers: plannin...            73   \n",
              "1852  @jamaicanchula i heard that sucks what happene...            82   \n",
              "2747  thank you @hnry342 for giving me a freaking he...           133   \n",
              "2731  well, nice of you to finally show up, sexy mcb...            53   \n",
              "199   out on money match of wsop $10k hu td9d all-in...           131   \n",
              "\n",
              "      url_flags  \n",
              "3907          0  \n",
              "1852          0  \n",
              "2747          0  \n",
              "2731          0  \n",
              "199           0  "
            ],
            "text/html": [
              "\n",
              "  <div id=\"df-c0805ed3-3c7e-49ad-9dce-c4e527252e23\">\n",
              "    <div class=\"colab-df-container\">\n",
              "      <div>\n",
              "<style scoped>\n",
              "    .dataframe tbody tr th:only-of-type {\n",
              "        vertical-align: middle;\n",
              "    }\n",
              "\n",
              "    .dataframe tbody tr th {\n",
              "        vertical-align: top;\n",
              "    }\n",
              "\n",
              "    .dataframe thead th {\n",
              "        text-align: right;\n",
              "    }\n",
              "</style>\n",
              "<table border=\"1\" class=\"dataframe\">\n",
              "  <thead>\n",
              "    <tr style=\"text-align: right;\">\n",
              "      <th></th>\n",
              "      <th>twitts</th>\n",
              "      <th>sentiment</th>\n",
              "      <th>word_counts</th>\n",
              "      <th>char_counts</th>\n",
              "      <th>avg_word_len</th>\n",
              "      <th>stop_words_len</th>\n",
              "      <th>hashtag_counts</th>\n",
              "      <th>mention_counts</th>\n",
              "      <th>numeric_counts</th>\n",
              "      <th>upper_counts</th>\n",
              "      <th>emails</th>\n",
              "      <th>emails_count</th>\n",
              "      <th>url_flags</th>\n",
              "    </tr>\n",
              "  </thead>\n",
              "  <tbody>\n",
              "    <tr>\n",
              "      <th>3907</th>\n",
              "      <td>the best part about having alzheimers planning...</td>\n",
              "      <td>1</td>\n",
              "      <td>11</td>\n",
              "      <td>60</td>\n",
              "      <td>5.454545</td>\n",
              "      <td>4</td>\n",
              "      <td>0</td>\n",
              "      <td>0</td>\n",
              "      <td>0</td>\n",
              "      <td>0</td>\n",
              "      <td>the best part about having alzheimers: plannin...</td>\n",
              "      <td>73</td>\n",
              "      <td>0</td>\n",
              "    </tr>\n",
              "    <tr>\n",
              "      <th>1852</th>\n",
              "      <td>jamaicanchula i heard that sucks what happened...</td>\n",
              "      <td>0</td>\n",
              "      <td>13</td>\n",
              "      <td>69</td>\n",
              "      <td>5.307692</td>\n",
              "      <td>7</td>\n",
              "      <td>0</td>\n",
              "      <td>1</td>\n",
              "      <td>0</td>\n",
              "      <td>0</td>\n",
              "      <td>@jamaicanchula i heard that sucks what happene...</td>\n",
              "      <td>82</td>\n",
              "      <td>0</td>\n",
              "    </tr>\n",
              "    <tr>\n",
              "      <th>2747</th>\n",
              "      <td>thank you hnry342 for giving me a freaking hea...</td>\n",
              "      <td>1</td>\n",
              "      <td>24</td>\n",
              "      <td>109</td>\n",
              "      <td>4.541667</td>\n",
              "      <td>9</td>\n",
              "      <td>0</td>\n",
              "      <td>1</td>\n",
              "      <td>0</td>\n",
              "      <td>0</td>\n",
              "      <td>thank you @hnry342 for giving me a freaking he...</td>\n",
              "      <td>133</td>\n",
              "      <td>0</td>\n",
              "    </tr>\n",
              "    <tr>\n",
              "      <th>2731</th>\n",
              "      <td>well nice of you to finally show up sexy mcbadbat</td>\n",
              "      <td>1</td>\n",
              "      <td>10</td>\n",
              "      <td>43</td>\n",
              "      <td>4.300000</td>\n",
              "      <td>4</td>\n",
              "      <td>0</td>\n",
              "      <td>0</td>\n",
              "      <td>0</td>\n",
              "      <td>0</td>\n",
              "      <td>well, nice of you to finally show up, sexy mcb...</td>\n",
              "      <td>53</td>\n",
              "      <td>0</td>\n",
              "    </tr>\n",
              "    <tr>\n",
              "      <th>199</th>\n",
              "      <td>out on money match of wsop 10k hu td9d allin v...</td>\n",
              "      <td>0</td>\n",
              "      <td>27</td>\n",
              "      <td>101</td>\n",
              "      <td>3.740741</td>\n",
              "      <td>8</td>\n",
              "      <td>0</td>\n",
              "      <td>0</td>\n",
              "      <td>0</td>\n",
              "      <td>2</td>\n",
              "      <td>out on money match of wsop $10k hu td9d all-in...</td>\n",
              "      <td>131</td>\n",
              "      <td>0</td>\n",
              "    </tr>\n",
              "  </tbody>\n",
              "</table>\n",
              "</div>\n",
              "      <button class=\"colab-df-convert\" onclick=\"convertToInteractive('df-c0805ed3-3c7e-49ad-9dce-c4e527252e23')\"\n",
              "              title=\"Convert this dataframe to an interactive table.\"\n",
              "              style=\"display:none;\">\n",
              "        \n",
              "  <svg xmlns=\"http://www.w3.org/2000/svg\" height=\"24px\"viewBox=\"0 0 24 24\"\n",
              "       width=\"24px\">\n",
              "    <path d=\"M0 0h24v24H0V0z\" fill=\"none\"/>\n",
              "    <path d=\"M18.56 5.44l.94 2.06.94-2.06 2.06-.94-2.06-.94-.94-2.06-.94 2.06-2.06.94zm-11 1L8.5 8.5l.94-2.06 2.06-.94-2.06-.94L8.5 2.5l-.94 2.06-2.06.94zm10 10l.94 2.06.94-2.06 2.06-.94-2.06-.94-.94-2.06-.94 2.06-2.06.94z\"/><path d=\"M17.41 7.96l-1.37-1.37c-.4-.4-.92-.59-1.43-.59-.52 0-1.04.2-1.43.59L10.3 9.45l-7.72 7.72c-.78.78-.78 2.05 0 2.83L4 21.41c.39.39.9.59 1.41.59.51 0 1.02-.2 1.41-.59l7.78-7.78 2.81-2.81c.8-.78.8-2.07 0-2.86zM5.41 20L4 18.59l7.72-7.72 1.47 1.35L5.41 20z\"/>\n",
              "  </svg>\n",
              "      </button>\n",
              "      \n",
              "  <style>\n",
              "    .colab-df-container {\n",
              "      display:flex;\n",
              "      flex-wrap:wrap;\n",
              "      gap: 12px;\n",
              "    }\n",
              "\n",
              "    .colab-df-convert {\n",
              "      background-color: #E8F0FE;\n",
              "      border: none;\n",
              "      border-radius: 50%;\n",
              "      cursor: pointer;\n",
              "      display: none;\n",
              "      fill: #1967D2;\n",
              "      height: 32px;\n",
              "      padding: 0 0 0 0;\n",
              "      width: 32px;\n",
              "    }\n",
              "\n",
              "    .colab-df-convert:hover {\n",
              "      background-color: #E2EBFA;\n",
              "      box-shadow: 0px 1px 2px rgba(60, 64, 67, 0.3), 0px 1px 3px 1px rgba(60, 64, 67, 0.15);\n",
              "      fill: #174EA6;\n",
              "    }\n",
              "\n",
              "    [theme=dark] .colab-df-convert {\n",
              "      background-color: #3B4455;\n",
              "      fill: #D2E3FC;\n",
              "    }\n",
              "\n",
              "    [theme=dark] .colab-df-convert:hover {\n",
              "      background-color: #434B5C;\n",
              "      box-shadow: 0px 1px 3px 1px rgba(0, 0, 0, 0.15);\n",
              "      filter: drop-shadow(0px 1px 2px rgba(0, 0, 0, 0.3));\n",
              "      fill: #FFFFFF;\n",
              "    }\n",
              "  </style>\n",
              "\n",
              "      <script>\n",
              "        const buttonEl =\n",
              "          document.querySelector('#df-c0805ed3-3c7e-49ad-9dce-c4e527252e23 button.colab-df-convert');\n",
              "        buttonEl.style.display =\n",
              "          google.colab.kernel.accessAllowed ? 'block' : 'none';\n",
              "\n",
              "        async function convertToInteractive(key) {\n",
              "          const element = document.querySelector('#df-c0805ed3-3c7e-49ad-9dce-c4e527252e23');\n",
              "          const dataTable =\n",
              "            await google.colab.kernel.invokeFunction('convertToInteractive',\n",
              "                                                     [key], {});\n",
              "          if (!dataTable) return;\n",
              "\n",
              "          const docLinkHtml = 'Like what you see? Visit the ' +\n",
              "            '<a target=\"_blank\" href=https://colab.research.google.com/notebooks/data_table.ipynb>data table notebook</a>'\n",
              "            + ' to learn more about interactive tables.';\n",
              "          element.innerHTML = '';\n",
              "          dataTable['output_type'] = 'display_data';\n",
              "          await google.colab.output.renderOutput(dataTable, element);\n",
              "          const docLink = document.createElement('div');\n",
              "          docLink.innerHTML = docLinkHtml;\n",
              "          element.appendChild(docLink);\n",
              "        }\n",
              "      </script>\n",
              "    </div>\n",
              "  </div>\n",
              "  "
            ]
          },
          "metadata": {},
          "execution_count": 98
        }
      ]
    },
    {
      "cell_type": "markdown",
      "source": [
        "##Remove Stop Words"
      ],
      "metadata": {
        "id": "2rqkXQcUH6dG"
      }
    },
    {
      "cell_type": "code",
      "source": [
        "x = 'this is a stop words'"
      ],
      "metadata": {
        "id": "wG9XZZVXIHVf"
      },
      "execution_count": null,
      "outputs": []
    },
    {
      "cell_type": "code",
      "source": [
        "' '.join([t for t in x.split() if t not in stopwords])"
      ],
      "metadata": {
        "colab": {
          "base_uri": "https://localhost:8080/",
          "height": 35
        },
        "id": "nvoKmeEbHF9d",
        "outputId": "d9e7d26f-d1c7-4e4b-a84a-8a7c4dfd13e9"
      },
      "execution_count": null,
      "outputs": [
        {
          "output_type": "execute_result",
          "data": {
            "text/plain": [
              "'stop words'"
            ],
            "application/vnd.google.colaboratory.intrinsic+json": {
              "type": "string"
            }
          },
          "metadata": {},
          "execution_count": 100
        }
      ]
    },
    {
      "cell_type": "code",
      "source": [
        "df['twitts_no_stop'] = df['twitts'].apply(lambda x: ' '.join([t for t in x.split() if t not in stopwords]))"
      ],
      "metadata": {
        "id": "O8paCTFgHGA3"
      },
      "execution_count": null,
      "outputs": []
    },
    {
      "cell_type": "code",
      "source": [
        "df.sample(5)"
      ],
      "metadata": {
        "colab": {
          "base_uri": "https://localhost:8080/",
          "height": 600
        },
        "id": "P1OaLGHqHGD9",
        "outputId": "327b6b7a-ba85-4281-ca72-5784e60cb354"
      },
      "execution_count": null,
      "outputs": [
        {
          "output_type": "execute_result",
          "data": {
            "text/plain": [
              "                                                 twitts  sentiment  \\\n",
              "3299  goin the shower while the guys go buy somethin...          1   \n",
              "2149  i have not smiled this hard in a long time i c...          1   \n",
              "1572  made it all the way to vegas with no traffic o...          0   \n",
              "406                              had a blood test today          0   \n",
              "2880  touched by the gifts received time will put th...          1   \n",
              "\n",
              "      word_counts  char_counts  avg_word_len  stop_words_len  hashtag_counts  \\\n",
              "3299           11           44         4.000               6               0   \n",
              "2149           16           58         3.625               7               0   \n",
              "1572           18           72         4.000              10               0   \n",
              "406             5           20         4.000               2               0   \n",
              "2880           24          102         4.250              15               0   \n",
              "\n",
              "      mention_counts  numeric_counts  upper_counts  \\\n",
              "3299               0               0             0   \n",
              "2149               0               0             1   \n",
              "1572               0               1             0   \n",
              "406                0               0             0   \n",
              "2880               0               0             2   \n",
              "\n",
              "                                                 emails  emails_count  \\\n",
              "3299  goin the shower while the guys go buy somethin...            55   \n",
              "2149  i have not smiled this hard in a long time  i ...            75   \n",
              "1572  made it all the way to vegas with no traffic o...            90   \n",
              "406                            had a blood test today!!            25   \n",
              "2880  touched by the gifts received, time will put t...           126   \n",
              "\n",
              "      url_flags                                     twitts_no_stop  \n",
              "3299          0                           goin shower guys buy eat  \n",
              "2149          0            smiled hard long time cant wait happens  \n",
              "1572          0       way vegas traffic construction 6 miles hotel  \n",
              "406           0                                   blood test today  \n",
              "2880          0  touched gifts received time smiles faces heart...  "
            ],
            "text/html": [
              "\n",
              "  <div id=\"df-b503b4e1-6a67-4d55-84cc-6633a84e80a8\">\n",
              "    <div class=\"colab-df-container\">\n",
              "      <div>\n",
              "<style scoped>\n",
              "    .dataframe tbody tr th:only-of-type {\n",
              "        vertical-align: middle;\n",
              "    }\n",
              "\n",
              "    .dataframe tbody tr th {\n",
              "        vertical-align: top;\n",
              "    }\n",
              "\n",
              "    .dataframe thead th {\n",
              "        text-align: right;\n",
              "    }\n",
              "</style>\n",
              "<table border=\"1\" class=\"dataframe\">\n",
              "  <thead>\n",
              "    <tr style=\"text-align: right;\">\n",
              "      <th></th>\n",
              "      <th>twitts</th>\n",
              "      <th>sentiment</th>\n",
              "      <th>word_counts</th>\n",
              "      <th>char_counts</th>\n",
              "      <th>avg_word_len</th>\n",
              "      <th>stop_words_len</th>\n",
              "      <th>hashtag_counts</th>\n",
              "      <th>mention_counts</th>\n",
              "      <th>numeric_counts</th>\n",
              "      <th>upper_counts</th>\n",
              "      <th>emails</th>\n",
              "      <th>emails_count</th>\n",
              "      <th>url_flags</th>\n",
              "      <th>twitts_no_stop</th>\n",
              "    </tr>\n",
              "  </thead>\n",
              "  <tbody>\n",
              "    <tr>\n",
              "      <th>3299</th>\n",
              "      <td>goin the shower while the guys go buy somethin...</td>\n",
              "      <td>1</td>\n",
              "      <td>11</td>\n",
              "      <td>44</td>\n",
              "      <td>4.000</td>\n",
              "      <td>6</td>\n",
              "      <td>0</td>\n",
              "      <td>0</td>\n",
              "      <td>0</td>\n",
              "      <td>0</td>\n",
              "      <td>goin the shower while the guys go buy somethin...</td>\n",
              "      <td>55</td>\n",
              "      <td>0</td>\n",
              "      <td>goin shower guys buy eat</td>\n",
              "    </tr>\n",
              "    <tr>\n",
              "      <th>2149</th>\n",
              "      <td>i have not smiled this hard in a long time i c...</td>\n",
              "      <td>1</td>\n",
              "      <td>16</td>\n",
              "      <td>58</td>\n",
              "      <td>3.625</td>\n",
              "      <td>7</td>\n",
              "      <td>0</td>\n",
              "      <td>0</td>\n",
              "      <td>0</td>\n",
              "      <td>1</td>\n",
              "      <td>i have not smiled this hard in a long time  i ...</td>\n",
              "      <td>75</td>\n",
              "      <td>0</td>\n",
              "      <td>smiled hard long time cant wait happens</td>\n",
              "    </tr>\n",
              "    <tr>\n",
              "      <th>1572</th>\n",
              "      <td>made it all the way to vegas with no traffic o...</td>\n",
              "      <td>0</td>\n",
              "      <td>18</td>\n",
              "      <td>72</td>\n",
              "      <td>4.000</td>\n",
              "      <td>10</td>\n",
              "      <td>0</td>\n",
              "      <td>0</td>\n",
              "      <td>1</td>\n",
              "      <td>0</td>\n",
              "      <td>made it all the way to vegas with no traffic o...</td>\n",
              "      <td>90</td>\n",
              "      <td>0</td>\n",
              "      <td>way vegas traffic construction 6 miles hotel</td>\n",
              "    </tr>\n",
              "    <tr>\n",
              "      <th>406</th>\n",
              "      <td>had a blood test today</td>\n",
              "      <td>0</td>\n",
              "      <td>5</td>\n",
              "      <td>20</td>\n",
              "      <td>4.000</td>\n",
              "      <td>2</td>\n",
              "      <td>0</td>\n",
              "      <td>0</td>\n",
              "      <td>0</td>\n",
              "      <td>0</td>\n",
              "      <td>had a blood test today!!</td>\n",
              "      <td>25</td>\n",
              "      <td>0</td>\n",
              "      <td>blood test today</td>\n",
              "    </tr>\n",
              "    <tr>\n",
              "      <th>2880</th>\n",
              "      <td>touched by the gifts received time will put th...</td>\n",
              "      <td>1</td>\n",
              "      <td>24</td>\n",
              "      <td>102</td>\n",
              "      <td>4.250</td>\n",
              "      <td>15</td>\n",
              "      <td>0</td>\n",
              "      <td>0</td>\n",
              "      <td>0</td>\n",
              "      <td>2</td>\n",
              "      <td>touched by the gifts received, time will put t...</td>\n",
              "      <td>126</td>\n",
              "      <td>0</td>\n",
              "      <td>touched gifts received time smiles faces heart...</td>\n",
              "    </tr>\n",
              "  </tbody>\n",
              "</table>\n",
              "</div>\n",
              "      <button class=\"colab-df-convert\" onclick=\"convertToInteractive('df-b503b4e1-6a67-4d55-84cc-6633a84e80a8')\"\n",
              "              title=\"Convert this dataframe to an interactive table.\"\n",
              "              style=\"display:none;\">\n",
              "        \n",
              "  <svg xmlns=\"http://www.w3.org/2000/svg\" height=\"24px\"viewBox=\"0 0 24 24\"\n",
              "       width=\"24px\">\n",
              "    <path d=\"M0 0h24v24H0V0z\" fill=\"none\"/>\n",
              "    <path d=\"M18.56 5.44l.94 2.06.94-2.06 2.06-.94-2.06-.94-.94-2.06-.94 2.06-2.06.94zm-11 1L8.5 8.5l.94-2.06 2.06-.94-2.06-.94L8.5 2.5l-.94 2.06-2.06.94zm10 10l.94 2.06.94-2.06 2.06-.94-2.06-.94-.94-2.06-.94 2.06-2.06.94z\"/><path d=\"M17.41 7.96l-1.37-1.37c-.4-.4-.92-.59-1.43-.59-.52 0-1.04.2-1.43.59L10.3 9.45l-7.72 7.72c-.78.78-.78 2.05 0 2.83L4 21.41c.39.39.9.59 1.41.59.51 0 1.02-.2 1.41-.59l7.78-7.78 2.81-2.81c.8-.78.8-2.07 0-2.86zM5.41 20L4 18.59l7.72-7.72 1.47 1.35L5.41 20z\"/>\n",
              "  </svg>\n",
              "      </button>\n",
              "      \n",
              "  <style>\n",
              "    .colab-df-container {\n",
              "      display:flex;\n",
              "      flex-wrap:wrap;\n",
              "      gap: 12px;\n",
              "    }\n",
              "\n",
              "    .colab-df-convert {\n",
              "      background-color: #E8F0FE;\n",
              "      border: none;\n",
              "      border-radius: 50%;\n",
              "      cursor: pointer;\n",
              "      display: none;\n",
              "      fill: #1967D2;\n",
              "      height: 32px;\n",
              "      padding: 0 0 0 0;\n",
              "      width: 32px;\n",
              "    }\n",
              "\n",
              "    .colab-df-convert:hover {\n",
              "      background-color: #E2EBFA;\n",
              "      box-shadow: 0px 1px 2px rgba(60, 64, 67, 0.3), 0px 1px 3px 1px rgba(60, 64, 67, 0.15);\n",
              "      fill: #174EA6;\n",
              "    }\n",
              "\n",
              "    [theme=dark] .colab-df-convert {\n",
              "      background-color: #3B4455;\n",
              "      fill: #D2E3FC;\n",
              "    }\n",
              "\n",
              "    [theme=dark] .colab-df-convert:hover {\n",
              "      background-color: #434B5C;\n",
              "      box-shadow: 0px 1px 3px 1px rgba(0, 0, 0, 0.15);\n",
              "      filter: drop-shadow(0px 1px 2px rgba(0, 0, 0, 0.3));\n",
              "      fill: #FFFFFF;\n",
              "    }\n",
              "  </style>\n",
              "\n",
              "      <script>\n",
              "        const buttonEl =\n",
              "          document.querySelector('#df-b503b4e1-6a67-4d55-84cc-6633a84e80a8 button.colab-df-convert');\n",
              "        buttonEl.style.display =\n",
              "          google.colab.kernel.accessAllowed ? 'block' : 'none';\n",
              "\n",
              "        async function convertToInteractive(key) {\n",
              "          const element = document.querySelector('#df-b503b4e1-6a67-4d55-84cc-6633a84e80a8');\n",
              "          const dataTable =\n",
              "            await google.colab.kernel.invokeFunction('convertToInteractive',\n",
              "                                                     [key], {});\n",
              "          if (!dataTable) return;\n",
              "\n",
              "          const docLinkHtml = 'Like what you see? Visit the ' +\n",
              "            '<a target=\"_blank\" href=https://colab.research.google.com/notebooks/data_table.ipynb>data table notebook</a>'\n",
              "            + ' to learn more about interactive tables.';\n",
              "          element.innerHTML = '';\n",
              "          dataTable['output_type'] = 'display_data';\n",
              "          await google.colab.output.renderOutput(dataTable, element);\n",
              "          const docLink = document.createElement('div');\n",
              "          docLink.innerHTML = docLinkHtml;\n",
              "          element.appendChild(docLink);\n",
              "        }\n",
              "      </script>\n",
              "    </div>\n",
              "  </div>\n",
              "  "
            ]
          },
          "metadata": {},
          "execution_count": 102
        }
      ]
    },
    {
      "cell_type": "markdown",
      "source": [
        "##Convert into Base or Root form of word"
      ],
      "metadata": {
        "id": "h4gyyHLiIznl"
      }
    },
    {
      "cell_type": "code",
      "source": [
        "nlp = spacy.load('en_core_web_sm')"
      ],
      "metadata": {
        "id": "JviI5oo_HGGn"
      },
      "execution_count": null,
      "outputs": []
    },
    {
      "cell_type": "code",
      "source": [
        "x = 'this is chocolates. what is times? this balls are rolling'"
      ],
      "metadata": {
        "id": "W36tos8gIp3a"
      },
      "execution_count": null,
      "outputs": []
    },
    {
      "cell_type": "code",
      "source": [
        "def make_to_base(x):\n",
        "  x = str(x)                         \n",
        "  x_list = []\n",
        "  doc = nlp(x)\n",
        "  \n",
        "  for token in doc: \n",
        "    lemma = token.lemma_\n",
        "    if lemma == '-PRON-' or lemma == 'be':\n",
        "      lemma =  token.text\n",
        "\n",
        "    x_list.append(lemma)\n",
        "  return ' '.join(x_list)    "
      ],
      "metadata": {
        "id": "eWSJzr5lqb8N"
      },
      "execution_count": null,
      "outputs": []
    },
    {
      "cell_type": "code",
      "source": [
        "make_to_base(x)"
      ],
      "metadata": {
        "colab": {
          "base_uri": "https://localhost:8080/",
          "height": 35
        },
        "id": "qZ9b-dqkIp-s",
        "outputId": "d438d33a-0f3a-4490-c338-969a51e1af9e"
      },
      "execution_count": null,
      "outputs": [
        {
          "output_type": "execute_result",
          "data": {
            "text/plain": [
              "'this is chocolate . what is time ? this ball are roll'"
            ],
            "application/vnd.google.colaboratory.intrinsic+json": {
              "type": "string"
            }
          },
          "metadata": {},
          "execution_count": 106
        }
      ]
    },
    {
      "cell_type": "code",
      "source": [
        "df['twitts'] = df['twitts'].apply(lambda x: make_to_base(x))\n"
      ],
      "metadata": {
        "id": "OB8HDguAIqCV"
      },
      "execution_count": null,
      "outputs": []
    },
    {
      "cell_type": "code",
      "source": [
        "df.sample(5)"
      ],
      "metadata": {
        "colab": {
          "base_uri": "https://localhost:8080/",
          "height": 548
        },
        "id": "IfNbhSyRIqFD",
        "outputId": "7a800289-0ed4-43e5-f9a8-cdb54fe57f1c"
      },
      "execution_count": null,
      "outputs": [
        {
          "output_type": "execute_result",
          "data": {
            "text/plain": [
              "                                                 twitts  sentiment  \\\n",
              "3095  mrandypuppy enough quothehquot tweet already m...          1   \n",
              "3053                heh nana cell she so cute when txte          1   \n",
              "1600  llauraxxx regret haha can over aaron smash win...          0   \n",
              "391   think emmas goddamn ignore so she avoid say sh...          0   \n",
              "168                     still wait up guy damn want 360          0   \n",
              "\n",
              "      word_counts  char_counts  avg_word_len  stop_words_len  hashtag_counts  \\\n",
              "3095           11           69      6.272727               6               0   \n",
              "3053           11           40      3.636364               4               0   \n",
              "1600           21           91      4.333333               8               0   \n",
              "391            16           71      4.437500               6               0   \n",
              "168            12           40      3.333333               6               0   \n",
              "\n",
              "      mention_counts  numeric_counts  upper_counts  \\\n",
              "3095               1               0             0   \n",
              "3053               0               0             0   \n",
              "1600               1               0             4   \n",
              "391                0               0             1   \n",
              "168                0               1             1   \n",
              "\n",
              "                                                 emails  emails_count  \\\n",
              "3095  @mrandypuppy enough of the &quot;heh&quot; twe...            80   \n",
              "3053  heh, my nana got a cell. she is so cute when t...            52   \n",
              "1600  @llauraxxx i regret it   haha i cant get over ...           113   \n",
              "391   i think emma's goddamn ignoring me so she avoi...            88   \n",
              "168   still waiting for the ups guy  damn it i want ...            52   \n",
              "\n",
              "      url_flags                                     twitts_no_stop  \n",
              "3095          0       mrandypuppy quothehquot tweets info required  \n",
              "3053          0                      heh nana got cell cute txting  \n",
              "1600          0  llauraxxx regret haha cant aaron smashed windo...  \n",
              "391           0  think emmas goddamn ignoring avoids saying wan...  \n",
              "168           0                      waiting ups guy damn want 360  "
            ],
            "text/html": [
              "\n",
              "  <div id=\"df-1a326501-617d-4d09-becd-27cd9ae8010b\">\n",
              "    <div class=\"colab-df-container\">\n",
              "      <div>\n",
              "<style scoped>\n",
              "    .dataframe tbody tr th:only-of-type {\n",
              "        vertical-align: middle;\n",
              "    }\n",
              "\n",
              "    .dataframe tbody tr th {\n",
              "        vertical-align: top;\n",
              "    }\n",
              "\n",
              "    .dataframe thead th {\n",
              "        text-align: right;\n",
              "    }\n",
              "</style>\n",
              "<table border=\"1\" class=\"dataframe\">\n",
              "  <thead>\n",
              "    <tr style=\"text-align: right;\">\n",
              "      <th></th>\n",
              "      <th>twitts</th>\n",
              "      <th>sentiment</th>\n",
              "      <th>word_counts</th>\n",
              "      <th>char_counts</th>\n",
              "      <th>avg_word_len</th>\n",
              "      <th>stop_words_len</th>\n",
              "      <th>hashtag_counts</th>\n",
              "      <th>mention_counts</th>\n",
              "      <th>numeric_counts</th>\n",
              "      <th>upper_counts</th>\n",
              "      <th>emails</th>\n",
              "      <th>emails_count</th>\n",
              "      <th>url_flags</th>\n",
              "      <th>twitts_no_stop</th>\n",
              "    </tr>\n",
              "  </thead>\n",
              "  <tbody>\n",
              "    <tr>\n",
              "      <th>3095</th>\n",
              "      <td>mrandypuppy enough quothehquot tweet already m...</td>\n",
              "      <td>1</td>\n",
              "      <td>11</td>\n",
              "      <td>69</td>\n",
              "      <td>6.272727</td>\n",
              "      <td>6</td>\n",
              "      <td>0</td>\n",
              "      <td>1</td>\n",
              "      <td>0</td>\n",
              "      <td>0</td>\n",
              "      <td>@mrandypuppy enough of the &amp;quot;heh&amp;quot; twe...</td>\n",
              "      <td>80</td>\n",
              "      <td>0</td>\n",
              "      <td>mrandypuppy quothehquot tweets info required</td>\n",
              "    </tr>\n",
              "    <tr>\n",
              "      <th>3053</th>\n",
              "      <td>heh nana cell she so cute when txte</td>\n",
              "      <td>1</td>\n",
              "      <td>11</td>\n",
              "      <td>40</td>\n",
              "      <td>3.636364</td>\n",
              "      <td>4</td>\n",
              "      <td>0</td>\n",
              "      <td>0</td>\n",
              "      <td>0</td>\n",
              "      <td>0</td>\n",
              "      <td>heh, my nana got a cell. she is so cute when t...</td>\n",
              "      <td>52</td>\n",
              "      <td>0</td>\n",
              "      <td>heh nana got cell cute txting</td>\n",
              "    </tr>\n",
              "    <tr>\n",
              "      <th>1600</th>\n",
              "      <td>llauraxxx regret haha can over aaron smash win...</td>\n",
              "      <td>0</td>\n",
              "      <td>21</td>\n",
              "      <td>91</td>\n",
              "      <td>4.333333</td>\n",
              "      <td>8</td>\n",
              "      <td>0</td>\n",
              "      <td>1</td>\n",
              "      <td>0</td>\n",
              "      <td>4</td>\n",
              "      <td>@llauraxxx i regret it   haha i cant get over ...</td>\n",
              "      <td>113</td>\n",
              "      <td>0</td>\n",
              "      <td>llauraxxx regret haha cant aaron smashed windo...</td>\n",
              "    </tr>\n",
              "    <tr>\n",
              "      <th>391</th>\n",
              "      <td>think emmas goddamn ignore so she avoid say sh...</td>\n",
              "      <td>0</td>\n",
              "      <td>16</td>\n",
              "      <td>71</td>\n",
              "      <td>4.437500</td>\n",
              "      <td>6</td>\n",
              "      <td>0</td>\n",
              "      <td>0</td>\n",
              "      <td>0</td>\n",
              "      <td>1</td>\n",
              "      <td>i think emma's goddamn ignoring me so she avoi...</td>\n",
              "      <td>88</td>\n",
              "      <td>0</td>\n",
              "      <td>think emmas goddamn ignoring avoids saying wan...</td>\n",
              "    </tr>\n",
              "    <tr>\n",
              "      <th>168</th>\n",
              "      <td>still wait up guy damn want 360</td>\n",
              "      <td>0</td>\n",
              "      <td>12</td>\n",
              "      <td>40</td>\n",
              "      <td>3.333333</td>\n",
              "      <td>6</td>\n",
              "      <td>0</td>\n",
              "      <td>0</td>\n",
              "      <td>1</td>\n",
              "      <td>1</td>\n",
              "      <td>still waiting for the ups guy  damn it i want ...</td>\n",
              "      <td>52</td>\n",
              "      <td>0</td>\n",
              "      <td>waiting ups guy damn want 360</td>\n",
              "    </tr>\n",
              "  </tbody>\n",
              "</table>\n",
              "</div>\n",
              "      <button class=\"colab-df-convert\" onclick=\"convertToInteractive('df-1a326501-617d-4d09-becd-27cd9ae8010b')\"\n",
              "              title=\"Convert this dataframe to an interactive table.\"\n",
              "              style=\"display:none;\">\n",
              "        \n",
              "  <svg xmlns=\"http://www.w3.org/2000/svg\" height=\"24px\"viewBox=\"0 0 24 24\"\n",
              "       width=\"24px\">\n",
              "    <path d=\"M0 0h24v24H0V0z\" fill=\"none\"/>\n",
              "    <path d=\"M18.56 5.44l.94 2.06.94-2.06 2.06-.94-2.06-.94-.94-2.06-.94 2.06-2.06.94zm-11 1L8.5 8.5l.94-2.06 2.06-.94-2.06-.94L8.5 2.5l-.94 2.06-2.06.94zm10 10l.94 2.06.94-2.06 2.06-.94-2.06-.94-.94-2.06-.94 2.06-2.06.94z\"/><path d=\"M17.41 7.96l-1.37-1.37c-.4-.4-.92-.59-1.43-.59-.52 0-1.04.2-1.43.59L10.3 9.45l-7.72 7.72c-.78.78-.78 2.05 0 2.83L4 21.41c.39.39.9.59 1.41.59.51 0 1.02-.2 1.41-.59l7.78-7.78 2.81-2.81c.8-.78.8-2.07 0-2.86zM5.41 20L4 18.59l7.72-7.72 1.47 1.35L5.41 20z\"/>\n",
              "  </svg>\n",
              "      </button>\n",
              "      \n",
              "  <style>\n",
              "    .colab-df-container {\n",
              "      display:flex;\n",
              "      flex-wrap:wrap;\n",
              "      gap: 12px;\n",
              "    }\n",
              "\n",
              "    .colab-df-convert {\n",
              "      background-color: #E8F0FE;\n",
              "      border: none;\n",
              "      border-radius: 50%;\n",
              "      cursor: pointer;\n",
              "      display: none;\n",
              "      fill: #1967D2;\n",
              "      height: 32px;\n",
              "      padding: 0 0 0 0;\n",
              "      width: 32px;\n",
              "    }\n",
              "\n",
              "    .colab-df-convert:hover {\n",
              "      background-color: #E2EBFA;\n",
              "      box-shadow: 0px 1px 2px rgba(60, 64, 67, 0.3), 0px 1px 3px 1px rgba(60, 64, 67, 0.15);\n",
              "      fill: #174EA6;\n",
              "    }\n",
              "\n",
              "    [theme=dark] .colab-df-convert {\n",
              "      background-color: #3B4455;\n",
              "      fill: #D2E3FC;\n",
              "    }\n",
              "\n",
              "    [theme=dark] .colab-df-convert:hover {\n",
              "      background-color: #434B5C;\n",
              "      box-shadow: 0px 1px 3px 1px rgba(0, 0, 0, 0.15);\n",
              "      filter: drop-shadow(0px 1px 2px rgba(0, 0, 0, 0.3));\n",
              "      fill: #FFFFFF;\n",
              "    }\n",
              "  </style>\n",
              "\n",
              "      <script>\n",
              "        const buttonEl =\n",
              "          document.querySelector('#df-1a326501-617d-4d09-becd-27cd9ae8010b button.colab-df-convert');\n",
              "        buttonEl.style.display =\n",
              "          google.colab.kernel.accessAllowed ? 'block' : 'none';\n",
              "\n",
              "        async function convertToInteractive(key) {\n",
              "          const element = document.querySelector('#df-1a326501-617d-4d09-becd-27cd9ae8010b');\n",
              "          const dataTable =\n",
              "            await google.colab.kernel.invokeFunction('convertToInteractive',\n",
              "                                                     [key], {});\n",
              "          if (!dataTable) return;\n",
              "\n",
              "          const docLinkHtml = 'Like what you see? Visit the ' +\n",
              "            '<a target=\"_blank\" href=https://colab.research.google.com/notebooks/data_table.ipynb>data table notebook</a>'\n",
              "            + ' to learn more about interactive tables.';\n",
              "          element.innerHTML = '';\n",
              "          dataTable['output_type'] = 'display_data';\n",
              "          await google.colab.output.renderOutput(dataTable, element);\n",
              "          const docLink = document.createElement('div');\n",
              "          docLink.innerHTML = docLinkHtml;\n",
              "          element.appendChild(docLink);\n",
              "        }\n",
              "      </script>\n",
              "    </div>\n",
              "  </div>\n",
              "  "
            ]
          },
          "metadata": {},
          "execution_count": 170
        }
      ]
    },
    {
      "cell_type": "markdown",
      "source": [
        "##Common words removal"
      ],
      "metadata": {
        "id": "M7Ldfs7_Kpqd"
      }
    },
    {
      "cell_type": "code",
      "source": [
        "x = 'this is this okay bye'\n"
      ],
      "metadata": {
        "id": "1ZON9hSKHGJN"
      },
      "execution_count": null,
      "outputs": []
    },
    {
      "cell_type": "code",
      "source": [
        "text = ' '.join(df['twitts'])  "
      ],
      "metadata": {
        "id": "ztWYzsgDKoXp"
      },
      "execution_count": null,
      "outputs": []
    },
    {
      "cell_type": "code",
      "source": [
        "len(text)"
      ],
      "metadata": {
        "colab": {
          "base_uri": "https://localhost:8080/"
        },
        "id": "QUZdQMDbKoa5",
        "outputId": "e25a9a5c-8808-4b49-a4cc-dfe1468e5fe0"
      },
      "execution_count": null,
      "outputs": [
        {
          "output_type": "execute_result",
          "data": {
            "text/plain": [
              "220445"
            ]
          },
          "metadata": {},
          "execution_count": 173
        }
      ]
    },
    {
      "cell_type": "code",
      "source": [
        "text = text.split()"
      ],
      "metadata": {
        "id": "UXkBtz9nKoeh"
      },
      "execution_count": null,
      "outputs": []
    },
    {
      "cell_type": "code",
      "source": [
        "len(text)"
      ],
      "metadata": {
        "colab": {
          "base_uri": "https://localhost:8080/"
        },
        "id": "6Q-kq1ECKohw",
        "outputId": "ed3a5251-5a7f-4c4a-924b-ec8c16d36180"
      },
      "execution_count": null,
      "outputs": [
        {
          "output_type": "execute_result",
          "data": {
            "text/plain": [
              "54238"
            ]
          },
          "metadata": {},
          "execution_count": 148
        }
      ]
    },
    {
      "cell_type": "code",
      "source": [
        "freq_comm = pd.Series(text).value_counts()"
      ],
      "metadata": {
        "id": "AdtkfN_yKok5"
      },
      "execution_count": null,
      "outputs": []
    },
    {
      "cell_type": "code",
      "source": [
        "f20 = freq_comm[:20]"
      ],
      "metadata": {
        "id": "s3C--PrjKoov"
      },
      "execution_count": null,
      "outputs": []
    },
    {
      "cell_type": "code",
      "source": [
        "f20"
      ],
      "metadata": {
        "colab": {
          "base_uri": "https://localhost:8080/"
        },
        "id": "40_ILyf3Kor9",
        "outputId": "af4bfe9f-81ea-4461-dd32-f96fe6a76510"
      },
      "execution_count": null,
      "outputs": [
        {
          "output_type": "execute_result",
          "data": {
            "text/plain": [
              "on      427\n",
              "so      373\n",
              "at      320\n",
              "but     302\n",
              "was     298\n",
              "just    295\n",
              "can     293\n",
              "with    273\n",
              "day     266\n",
              "be      264\n",
              "good    238\n",
              "this    220\n",
              "all     218\n",
              "up      217\n",
              "will    211\n",
              "now     207\n",
              "love    202\n",
              "work    201\n",
              "out     201\n",
              "your    201\n",
              "dtype: int64"
            ]
          },
          "metadata": {},
          "execution_count": 177
        }
      ]
    },
    {
      "cell_type": "code",
      "source": [
        "df['twitts'] = df['twitts'].apply(lambda x:  ' '.join([t for t in x.split() if t not in f20])) "
      ],
      "metadata": {
        "id": "oR2yQXdmKovJ"
      },
      "execution_count": null,
      "outputs": []
    },
    {
      "cell_type": "code",
      "source": [
        "df.sample(5)"
      ],
      "metadata": {
        "colab": {
          "base_uri": "https://localhost:8080/",
          "height": 461
        },
        "id": "WMzz6SHVO6TY",
        "outputId": "adc5b9b8-4b41-4b34-ded1-774e6ae09cf6"
      },
      "execution_count": null,
      "outputs": [
        {
          "output_type": "execute_result",
          "data": {
            "text/plain": [
              "                                                 twitts  sentiment  \\\n",
              "920   even while h8 him he think about x wat wrong w...          0   \n",
              "1995                                        find camera          0   \n",
              "2303             rainnwilson hahahahahahahah make freak          1   \n",
              "2641  tyleka omg think only one swoon vincent donofr...          1   \n",
              "464                   freakingmuse nicht gut arm loulou          0   \n",
              "\n",
              "      word_counts  char_counts  avg_word_len  stop_words_len  hashtag_counts  \\\n",
              "920            29           98      3.379310              12               0   \n",
              "1995            4           17      4.250000               1               0   \n",
              "2303            7           49      7.000000               3               0   \n",
              "2641           17           76      4.470588               9               0   \n",
              "464             6           34      5.666667               0               0   \n",
              "\n",
              "      mention_counts  numeric_counts  upper_counts  \\\n",
              "920                0               0             0   \n",
              "1995               0               0             0   \n",
              "2303               1               0             1   \n",
              "2641               1               0             0   \n",
              "464                1               0             0   \n",
              "\n",
              "                                                 emails  emails_count  \\\n",
              "920   even while i h8 him he is all i think about x ...           128   \n",
              "1995                             cannot find my camera             22   \n",
              "2303  @rainnwilson hahahahahahahah that made my frea...            56   \n",
              "2641  @tyleka omg i thought i was the only one. i sw...            93   \n",
              "464            @freakingmuse nicht gut  armes loulou :*            40   \n",
              "\n",
              "      url_flags                                     twitts_no_stop  \n",
              "920           0  h8 think x wats wrong wiv mee x noo im dangero...  \n",
              "1995          0                                        find camera  \n",
              "2303          0           rainnwilson hahahahahahahah freaking day  \n",
              "2641          0  tyleka omg thought swoon vincent donofrio episode  \n",
              "464           0                freakingmuse nicht gut armes loulou  "
            ],
            "text/html": [
              "\n",
              "  <div id=\"df-f097ba5c-23c8-44af-8429-805e3ba9bca7\">\n",
              "    <div class=\"colab-df-container\">\n",
              "      <div>\n",
              "<style scoped>\n",
              "    .dataframe tbody tr th:only-of-type {\n",
              "        vertical-align: middle;\n",
              "    }\n",
              "\n",
              "    .dataframe tbody tr th {\n",
              "        vertical-align: top;\n",
              "    }\n",
              "\n",
              "    .dataframe thead th {\n",
              "        text-align: right;\n",
              "    }\n",
              "</style>\n",
              "<table border=\"1\" class=\"dataframe\">\n",
              "  <thead>\n",
              "    <tr style=\"text-align: right;\">\n",
              "      <th></th>\n",
              "      <th>twitts</th>\n",
              "      <th>sentiment</th>\n",
              "      <th>word_counts</th>\n",
              "      <th>char_counts</th>\n",
              "      <th>avg_word_len</th>\n",
              "      <th>stop_words_len</th>\n",
              "      <th>hashtag_counts</th>\n",
              "      <th>mention_counts</th>\n",
              "      <th>numeric_counts</th>\n",
              "      <th>upper_counts</th>\n",
              "      <th>emails</th>\n",
              "      <th>emails_count</th>\n",
              "      <th>url_flags</th>\n",
              "      <th>twitts_no_stop</th>\n",
              "    </tr>\n",
              "  </thead>\n",
              "  <tbody>\n",
              "    <tr>\n",
              "      <th>920</th>\n",
              "      <td>even while h8 him he think about x wat wrong w...</td>\n",
              "      <td>0</td>\n",
              "      <td>29</td>\n",
              "      <td>98</td>\n",
              "      <td>3.379310</td>\n",
              "      <td>12</td>\n",
              "      <td>0</td>\n",
              "      <td>0</td>\n",
              "      <td>0</td>\n",
              "      <td>0</td>\n",
              "      <td>even while i h8 him he is all i think about x ...</td>\n",
              "      <td>128</td>\n",
              "      <td>0</td>\n",
              "      <td>h8 think x wats wrong wiv mee x noo im dangero...</td>\n",
              "    </tr>\n",
              "    <tr>\n",
              "      <th>1995</th>\n",
              "      <td>find camera</td>\n",
              "      <td>0</td>\n",
              "      <td>4</td>\n",
              "      <td>17</td>\n",
              "      <td>4.250000</td>\n",
              "      <td>1</td>\n",
              "      <td>0</td>\n",
              "      <td>0</td>\n",
              "      <td>0</td>\n",
              "      <td>0</td>\n",
              "      <td>cannot find my camera</td>\n",
              "      <td>22</td>\n",
              "      <td>0</td>\n",
              "      <td>find camera</td>\n",
              "    </tr>\n",
              "    <tr>\n",
              "      <th>2303</th>\n",
              "      <td>rainnwilson hahahahahahahah make freak</td>\n",
              "      <td>1</td>\n",
              "      <td>7</td>\n",
              "      <td>49</td>\n",
              "      <td>7.000000</td>\n",
              "      <td>3</td>\n",
              "      <td>0</td>\n",
              "      <td>1</td>\n",
              "      <td>0</td>\n",
              "      <td>1</td>\n",
              "      <td>@rainnwilson hahahahahahahah that made my frea...</td>\n",
              "      <td>56</td>\n",
              "      <td>0</td>\n",
              "      <td>rainnwilson hahahahahahahah freaking day</td>\n",
              "    </tr>\n",
              "    <tr>\n",
              "      <th>2641</th>\n",
              "      <td>tyleka omg think only one swoon vincent donofr...</td>\n",
              "      <td>1</td>\n",
              "      <td>17</td>\n",
              "      <td>76</td>\n",
              "      <td>4.470588</td>\n",
              "      <td>9</td>\n",
              "      <td>0</td>\n",
              "      <td>1</td>\n",
              "      <td>0</td>\n",
              "      <td>0</td>\n",
              "      <td>@tyleka omg i thought i was the only one. i sw...</td>\n",
              "      <td>93</td>\n",
              "      <td>0</td>\n",
              "      <td>tyleka omg thought swoon vincent donofrio episode</td>\n",
              "    </tr>\n",
              "    <tr>\n",
              "      <th>464</th>\n",
              "      <td>freakingmuse nicht gut arm loulou</td>\n",
              "      <td>0</td>\n",
              "      <td>6</td>\n",
              "      <td>34</td>\n",
              "      <td>5.666667</td>\n",
              "      <td>0</td>\n",
              "      <td>0</td>\n",
              "      <td>1</td>\n",
              "      <td>0</td>\n",
              "      <td>0</td>\n",
              "      <td>@freakingmuse nicht gut  armes loulou :*</td>\n",
              "      <td>40</td>\n",
              "      <td>0</td>\n",
              "      <td>freakingmuse nicht gut armes loulou</td>\n",
              "    </tr>\n",
              "  </tbody>\n",
              "</table>\n",
              "</div>\n",
              "      <button class=\"colab-df-convert\" onclick=\"convertToInteractive('df-f097ba5c-23c8-44af-8429-805e3ba9bca7')\"\n",
              "              title=\"Convert this dataframe to an interactive table.\"\n",
              "              style=\"display:none;\">\n",
              "        \n",
              "  <svg xmlns=\"http://www.w3.org/2000/svg\" height=\"24px\"viewBox=\"0 0 24 24\"\n",
              "       width=\"24px\">\n",
              "    <path d=\"M0 0h24v24H0V0z\" fill=\"none\"/>\n",
              "    <path d=\"M18.56 5.44l.94 2.06.94-2.06 2.06-.94-2.06-.94-.94-2.06-.94 2.06-2.06.94zm-11 1L8.5 8.5l.94-2.06 2.06-.94-2.06-.94L8.5 2.5l-.94 2.06-2.06.94zm10 10l.94 2.06.94-2.06 2.06-.94-2.06-.94-.94-2.06-.94 2.06-2.06.94z\"/><path d=\"M17.41 7.96l-1.37-1.37c-.4-.4-.92-.59-1.43-.59-.52 0-1.04.2-1.43.59L10.3 9.45l-7.72 7.72c-.78.78-.78 2.05 0 2.83L4 21.41c.39.39.9.59 1.41.59.51 0 1.02-.2 1.41-.59l7.78-7.78 2.81-2.81c.8-.78.8-2.07 0-2.86zM5.41 20L4 18.59l7.72-7.72 1.47 1.35L5.41 20z\"/>\n",
              "  </svg>\n",
              "      </button>\n",
              "      \n",
              "  <style>\n",
              "    .colab-df-container {\n",
              "      display:flex;\n",
              "      flex-wrap:wrap;\n",
              "      gap: 12px;\n",
              "    }\n",
              "\n",
              "    .colab-df-convert {\n",
              "      background-color: #E8F0FE;\n",
              "      border: none;\n",
              "      border-radius: 50%;\n",
              "      cursor: pointer;\n",
              "      display: none;\n",
              "      fill: #1967D2;\n",
              "      height: 32px;\n",
              "      padding: 0 0 0 0;\n",
              "      width: 32px;\n",
              "    }\n",
              "\n",
              "    .colab-df-convert:hover {\n",
              "      background-color: #E2EBFA;\n",
              "      box-shadow: 0px 1px 2px rgba(60, 64, 67, 0.3), 0px 1px 3px 1px rgba(60, 64, 67, 0.15);\n",
              "      fill: #174EA6;\n",
              "    }\n",
              "\n",
              "    [theme=dark] .colab-df-convert {\n",
              "      background-color: #3B4455;\n",
              "      fill: #D2E3FC;\n",
              "    }\n",
              "\n",
              "    [theme=dark] .colab-df-convert:hover {\n",
              "      background-color: #434B5C;\n",
              "      box-shadow: 0px 1px 3px 1px rgba(0, 0, 0, 0.15);\n",
              "      filter: drop-shadow(0px 1px 2px rgba(0, 0, 0, 0.3));\n",
              "      fill: #FFFFFF;\n",
              "    }\n",
              "  </style>\n",
              "\n",
              "      <script>\n",
              "        const buttonEl =\n",
              "          document.querySelector('#df-f097ba5c-23c8-44af-8429-805e3ba9bca7 button.colab-df-convert');\n",
              "        buttonEl.style.display =\n",
              "          google.colab.kernel.accessAllowed ? 'block' : 'none';\n",
              "\n",
              "        async function convertToInteractive(key) {\n",
              "          const element = document.querySelector('#df-f097ba5c-23c8-44af-8429-805e3ba9bca7');\n",
              "          const dataTable =\n",
              "            await google.colab.kernel.invokeFunction('convertToInteractive',\n",
              "                                                     [key], {});\n",
              "          if (!dataTable) return;\n",
              "\n",
              "          const docLinkHtml = 'Like what you see? Visit the ' +\n",
              "            '<a target=\"_blank\" href=https://colab.research.google.com/notebooks/data_table.ipynb>data table notebook</a>'\n",
              "            + ' to learn more about interactive tables.';\n",
              "          element.innerHTML = '';\n",
              "          dataTable['output_type'] = 'display_data';\n",
              "          await google.colab.output.renderOutput(dataTable, element);\n",
              "          const docLink = document.createElement('div');\n",
              "          docLink.innerHTML = docLinkHtml;\n",
              "          element.appendChild(docLink);\n",
              "        }\n",
              "      </script>\n",
              "    </div>\n",
              "  </div>\n",
              "  "
            ]
          },
          "metadata": {},
          "execution_count": 179
        }
      ]
    },
    {
      "cell_type": "markdown",
      "source": [
        "##Rare word Removals"
      ],
      "metadata": {
        "id": "7olY8O41OyXH"
      }
    },
    {
      "cell_type": "code",
      "source": [
        "rare20 = freq_comm.tail(20)\n",
        "rare20"
      ],
      "metadata": {
        "colab": {
          "base_uri": "https://localhost:8080/"
        },
        "id": "rvQksxEHO3l6",
        "outputId": "fab7cbe4-f957-4bce-d5bd-8960350e362c"
      },
      "execution_count": null,
      "outputs": [
        {
          "output_type": "execute_result",
          "data": {
            "text/plain": [
              "loveanalove     1\n",
              "inform          1\n",
              "dote            1\n",
              "possibly        1\n",
              "dollparts666    1\n",
              "ichav           1\n",
              "mp3             1\n",
              "aubreyoday      1\n",
              "guide           1\n",
              "strand          1\n",
              "ronterrell      1\n",
              "anatomny        1\n",
              "eft             1\n",
              "rudd            1\n",
              "ato             1\n",
              "txtz            1\n",
              "firefoxafter    1\n",
              "measurement     1\n",
              "lb              1\n",
              "rerunlovin      1\n",
              "dtype: int64"
            ]
          },
          "metadata": {},
          "execution_count": 154
        }
      ]
    },
    {
      "cell_type": "code",
      "source": [
        "df['twitts'] = df['twitts'].apply(lambda x: ' '.join([t for t in x.split() if t not in rare20]))"
      ],
      "metadata": {
        "id": "qWXNzav_O3pC"
      },
      "execution_count": null,
      "outputs": []
    },
    {
      "cell_type": "code",
      "source": [
        "df.sample(5)"
      ],
      "metadata": {
        "colab": {
          "base_uri": "https://localhost:8080/",
          "height": 496
        },
        "id": "S8JBt6lYO3sL",
        "outputId": "2735d71d-12da-4173-faf2-677239e97977"
      },
      "execution_count": null,
      "outputs": [
        {
          "output_type": "execute_result",
          "data": {
            "text/plain": [
              "                                                 twitts  sentiment  \\\n",
              "3034  pandaran bryanperson yet twitt still bc contro...          1   \n",
              "1025  rip grandpa deeply miss by us wealth knowledge...          0   \n",
              "243                            internet damn slow today          0   \n",
              "3487      riskybuinessmb think should reply mmhmm ahaha          1   \n",
              "745          omg omg omg hear cuz his room his girl lol          0   \n",
              "\n",
              "      word_counts  char_counts  avg_word_len  stop_words_len  hashtag_counts  \\\n",
              "3034           21          101      4.809524               4               0   \n",
              "1025           23          104      4.521739              10               0   \n",
              "243             6           32      5.333333               1               0   \n",
              "3487           10           50      5.000000               4               0   \n",
              "745            15           49      3.266667               7               0   \n",
              "\n",
              "      mention_counts  numeric_counts  upper_counts  \\\n",
              "3034               2               0             3   \n",
              "1025               0               0             1   \n",
              "243                0               0             0   \n",
              "3487               1               0             0   \n",
              "745                0               0             0   \n",
              "\n",
              "                                                 emails  emails_count  \\\n",
              "3034  @pandaran @bryanperson and yet, twitter still ...           122   \n",
              "1025  rip grandpa.  you will be deeply missed by all...           127   \n",
              "243              internet is getting damn slow today..             38   \n",
              "3487  @riskybuinessmb i think you should reply to me...            60   \n",
              "745   omg omg omg! i just heard my cuz in his room w...            64   \n",
              "\n",
              "      url_flags                                     twitts_no_stop  \n",
              "3034          0  pandaran bryanperson twitter works bc control ...  \n",
              "1025          0  rip grandpa deeply missed wealth knowledge bro...  \n",
              "243           0                   internet getting damn slow today  \n",
              "3487          0             riskybuinessmb think reply mmhmm ahaha  \n",
              "745           0                omg omg omg heard cuz room girl lol  "
            ],
            "text/html": [
              "\n",
              "  <div id=\"df-3944d1df-2c89-49ba-8801-023f7be464c0\">\n",
              "    <div class=\"colab-df-container\">\n",
              "      <div>\n",
              "<style scoped>\n",
              "    .dataframe tbody tr th:only-of-type {\n",
              "        vertical-align: middle;\n",
              "    }\n",
              "\n",
              "    .dataframe tbody tr th {\n",
              "        vertical-align: top;\n",
              "    }\n",
              "\n",
              "    .dataframe thead th {\n",
              "        text-align: right;\n",
              "    }\n",
              "</style>\n",
              "<table border=\"1\" class=\"dataframe\">\n",
              "  <thead>\n",
              "    <tr style=\"text-align: right;\">\n",
              "      <th></th>\n",
              "      <th>twitts</th>\n",
              "      <th>sentiment</th>\n",
              "      <th>word_counts</th>\n",
              "      <th>char_counts</th>\n",
              "      <th>avg_word_len</th>\n",
              "      <th>stop_words_len</th>\n",
              "      <th>hashtag_counts</th>\n",
              "      <th>mention_counts</th>\n",
              "      <th>numeric_counts</th>\n",
              "      <th>upper_counts</th>\n",
              "      <th>emails</th>\n",
              "      <th>emails_count</th>\n",
              "      <th>url_flags</th>\n",
              "      <th>twitts_no_stop</th>\n",
              "    </tr>\n",
              "  </thead>\n",
              "  <tbody>\n",
              "    <tr>\n",
              "      <th>3034</th>\n",
              "      <td>pandaran bryanperson yet twitt still bc contro...</td>\n",
              "      <td>1</td>\n",
              "      <td>21</td>\n",
              "      <td>101</td>\n",
              "      <td>4.809524</td>\n",
              "      <td>4</td>\n",
              "      <td>0</td>\n",
              "      <td>2</td>\n",
              "      <td>0</td>\n",
              "      <td>3</td>\n",
              "      <td>@pandaran @bryanperson and yet, twitter still ...</td>\n",
              "      <td>122</td>\n",
              "      <td>0</td>\n",
              "      <td>pandaran bryanperson twitter works bc control ...</td>\n",
              "    </tr>\n",
              "    <tr>\n",
              "      <th>1025</th>\n",
              "      <td>rip grandpa deeply miss by us wealth knowledge...</td>\n",
              "      <td>0</td>\n",
              "      <td>23</td>\n",
              "      <td>104</td>\n",
              "      <td>4.521739</td>\n",
              "      <td>10</td>\n",
              "      <td>0</td>\n",
              "      <td>0</td>\n",
              "      <td>0</td>\n",
              "      <td>1</td>\n",
              "      <td>rip grandpa.  you will be deeply missed by all...</td>\n",
              "      <td>127</td>\n",
              "      <td>0</td>\n",
              "      <td>rip grandpa deeply missed wealth knowledge bro...</td>\n",
              "    </tr>\n",
              "    <tr>\n",
              "      <th>243</th>\n",
              "      <td>internet damn slow today</td>\n",
              "      <td>0</td>\n",
              "      <td>6</td>\n",
              "      <td>32</td>\n",
              "      <td>5.333333</td>\n",
              "      <td>1</td>\n",
              "      <td>0</td>\n",
              "      <td>0</td>\n",
              "      <td>0</td>\n",
              "      <td>0</td>\n",
              "      <td>internet is getting damn slow today..</td>\n",
              "      <td>38</td>\n",
              "      <td>0</td>\n",
              "      <td>internet getting damn slow today</td>\n",
              "    </tr>\n",
              "    <tr>\n",
              "      <th>3487</th>\n",
              "      <td>riskybuinessmb think should reply mmhmm ahaha</td>\n",
              "      <td>1</td>\n",
              "      <td>10</td>\n",
              "      <td>50</td>\n",
              "      <td>5.000000</td>\n",
              "      <td>4</td>\n",
              "      <td>0</td>\n",
              "      <td>1</td>\n",
              "      <td>0</td>\n",
              "      <td>0</td>\n",
              "      <td>@riskybuinessmb i think you should reply to me...</td>\n",
              "      <td>60</td>\n",
              "      <td>0</td>\n",
              "      <td>riskybuinessmb think reply mmhmm ahaha</td>\n",
              "    </tr>\n",
              "    <tr>\n",
              "      <th>745</th>\n",
              "      <td>omg omg omg hear cuz his room his girl lol</td>\n",
              "      <td>0</td>\n",
              "      <td>15</td>\n",
              "      <td>49</td>\n",
              "      <td>3.266667</td>\n",
              "      <td>7</td>\n",
              "      <td>0</td>\n",
              "      <td>0</td>\n",
              "      <td>0</td>\n",
              "      <td>0</td>\n",
              "      <td>omg omg omg! i just heard my cuz in his room w...</td>\n",
              "      <td>64</td>\n",
              "      <td>0</td>\n",
              "      <td>omg omg omg heard cuz room girl lol</td>\n",
              "    </tr>\n",
              "  </tbody>\n",
              "</table>\n",
              "</div>\n",
              "      <button class=\"colab-df-convert\" onclick=\"convertToInteractive('df-3944d1df-2c89-49ba-8801-023f7be464c0')\"\n",
              "              title=\"Convert this dataframe to an interactive table.\"\n",
              "              style=\"display:none;\">\n",
              "        \n",
              "  <svg xmlns=\"http://www.w3.org/2000/svg\" height=\"24px\"viewBox=\"0 0 24 24\"\n",
              "       width=\"24px\">\n",
              "    <path d=\"M0 0h24v24H0V0z\" fill=\"none\"/>\n",
              "    <path d=\"M18.56 5.44l.94 2.06.94-2.06 2.06-.94-2.06-.94-.94-2.06-.94 2.06-2.06.94zm-11 1L8.5 8.5l.94-2.06 2.06-.94-2.06-.94L8.5 2.5l-.94 2.06-2.06.94zm10 10l.94 2.06.94-2.06 2.06-.94-2.06-.94-.94-2.06-.94 2.06-2.06.94z\"/><path d=\"M17.41 7.96l-1.37-1.37c-.4-.4-.92-.59-1.43-.59-.52 0-1.04.2-1.43.59L10.3 9.45l-7.72 7.72c-.78.78-.78 2.05 0 2.83L4 21.41c.39.39.9.59 1.41.59.51 0 1.02-.2 1.41-.59l7.78-7.78 2.81-2.81c.8-.78.8-2.07 0-2.86zM5.41 20L4 18.59l7.72-7.72 1.47 1.35L5.41 20z\"/>\n",
              "  </svg>\n",
              "      </button>\n",
              "      \n",
              "  <style>\n",
              "    .colab-df-container {\n",
              "      display:flex;\n",
              "      flex-wrap:wrap;\n",
              "      gap: 12px;\n",
              "    }\n",
              "\n",
              "    .colab-df-convert {\n",
              "      background-color: #E8F0FE;\n",
              "      border: none;\n",
              "      border-radius: 50%;\n",
              "      cursor: pointer;\n",
              "      display: none;\n",
              "      fill: #1967D2;\n",
              "      height: 32px;\n",
              "      padding: 0 0 0 0;\n",
              "      width: 32px;\n",
              "    }\n",
              "\n",
              "    .colab-df-convert:hover {\n",
              "      background-color: #E2EBFA;\n",
              "      box-shadow: 0px 1px 2px rgba(60, 64, 67, 0.3), 0px 1px 3px 1px rgba(60, 64, 67, 0.15);\n",
              "      fill: #174EA6;\n",
              "    }\n",
              "\n",
              "    [theme=dark] .colab-df-convert {\n",
              "      background-color: #3B4455;\n",
              "      fill: #D2E3FC;\n",
              "    }\n",
              "\n",
              "    [theme=dark] .colab-df-convert:hover {\n",
              "      background-color: #434B5C;\n",
              "      box-shadow: 0px 1px 3px 1px rgba(0, 0, 0, 0.15);\n",
              "      filter: drop-shadow(0px 1px 2px rgba(0, 0, 0, 0.3));\n",
              "      fill: #FFFFFF;\n",
              "    }\n",
              "  </style>\n",
              "\n",
              "      <script>\n",
              "        const buttonEl =\n",
              "          document.querySelector('#df-3944d1df-2c89-49ba-8801-023f7be464c0 button.colab-df-convert');\n",
              "        buttonEl.style.display =\n",
              "          google.colab.kernel.accessAllowed ? 'block' : 'none';\n",
              "\n",
              "        async function convertToInteractive(key) {\n",
              "          const element = document.querySelector('#df-3944d1df-2c89-49ba-8801-023f7be464c0');\n",
              "          const dataTable =\n",
              "            await google.colab.kernel.invokeFunction('convertToInteractive',\n",
              "                                                     [key], {});\n",
              "          if (!dataTable) return;\n",
              "\n",
              "          const docLinkHtml = 'Like what you see? Visit the ' +\n",
              "            '<a target=\"_blank\" href=https://colab.research.google.com/notebooks/data_table.ipynb>data table notebook</a>'\n",
              "            + ' to learn more about interactive tables.';\n",
              "          element.innerHTML = '';\n",
              "          dataTable['output_type'] = 'display_data';\n",
              "          await google.colab.output.renderOutput(dataTable, element);\n",
              "          const docLink = document.createElement('div');\n",
              "          docLink.innerHTML = docLinkHtml;\n",
              "          element.appendChild(docLink);\n",
              "        }\n",
              "      </script>\n",
              "    </div>\n",
              "  </div>\n",
              "  "
            ]
          },
          "metadata": {},
          "execution_count": 181
        }
      ]
    },
    {
      "cell_type": "markdown",
      "source": [
        "##Word Cloud Visualization"
      ],
      "metadata": {
        "id": "cAhXd6uPQcif"
      }
    },
    {
      "cell_type": "code",
      "source": [
        "!pip install wordcloud"
      ],
      "metadata": {
        "colab": {
          "base_uri": "https://localhost:8080/"
        },
        "id": "sFIooSkNQiUL",
        "outputId": "0750a996-9c6f-4fa5-d57e-540de01f26d2"
      },
      "execution_count": null,
      "outputs": [
        {
          "output_type": "stream",
          "name": "stdout",
          "text": [
            "Requirement already satisfied: wordcloud in /usr/local/lib/python3.7/dist-packages (1.5.0)\n",
            "Requirement already satisfied: pillow in /usr/local/lib/python3.7/dist-packages (from wordcloud) (7.1.2)\n",
            "Requirement already satisfied: numpy>=1.6.1 in /usr/local/lib/python3.7/dist-packages (from wordcloud) (1.21.6)\n"
          ]
        }
      ]
    },
    {
      "cell_type": "code",
      "source": [
        "from wordcloud import WordCloud\n",
        "import matplotlib.pyplot as plt\n",
        "%matplotlib inline"
      ],
      "metadata": {
        "id": "sDFFZ5odQibi"
      },
      "execution_count": null,
      "outputs": []
    },
    {
      "cell_type": "code",
      "source": [
        "text = ' '.join(df['twitts'])"
      ],
      "metadata": {
        "id": "tjFIizbdSAl0"
      },
      "execution_count": null,
      "outputs": []
    },
    {
      "cell_type": "code",
      "source": [
        "len(text)"
      ],
      "metadata": {
        "colab": {
          "base_uri": "https://localhost:8080/"
        },
        "id": "TrU-Hbd-QilH",
        "outputId": "c94c8a1b-c9a2-4ac7-d22d-832ca9b153c9"
      },
      "execution_count": null,
      "outputs": [
        {
          "output_type": "execute_result",
          "data": {
            "text/plain": [
              "199301"
            ]
          },
          "metadata": {},
          "execution_count": 185
        }
      ]
    },
    {
      "cell_type": "code",
      "source": [
        "wc = WordCloud(width=5000, height=2000).generate(text)\n",
        "plt.imshow(wc)\n",
        "plt.axis('off')\n",
        "plt.show()              "
      ],
      "metadata": {
        "colab": {
          "base_uri": "https://localhost:8080/",
          "height": 165
        },
        "id": "CXTBbkqhQitJ",
        "outputId": "127095d7-a1be-4c9c-f874-8cf51b386dea"
      },
      "execution_count": null,
      "outputs": [
        {
          "output_type": "display_data",
          "data": {
            "text/plain": [
              "<Figure size 432x288 with 1 Axes>"
            ],
            "image/png": "[encoded data removed]"
          },
          "metadata": {
            "needs_background": "light"
          }
        }
      ]
    },
    {
      "cell_type": "markdown",
      "source": [
        "##Spelling Correction"
      ],
      "metadata": {
        "id": "JsrtFljLSY2a"
      }
    },
    {
      "cell_type": "code",
      "source": [
        "!pip install -U textblob"
      ],
      "metadata": {
        "colab": {
          "base_uri": "https://localhost:8080/"
        },
        "id": "MHrdJRXPRwo9",
        "outputId": "33cf3ab4-b37f-400e-a9d1-7f9eb58c26fc"
      },
      "execution_count": null,
      "outputs": [
        {
          "output_type": "stream",
          "name": "stdout",
          "text": [
            "Requirement already satisfied: textblob in /usr/local/lib/python3.7/dist-packages (0.17.1)\n",
            "Requirement already satisfied: nltk>=3.1 in /usr/local/lib/python3.7/dist-packages (from textblob) (3.2.5)\n",
            "Requirement already satisfied: six in /usr/local/lib/python3.7/dist-packages (from nltk>=3.1->textblob) (1.15.0)\n"
          ]
        }
      ]
    },
    {
      "cell_type": "code",
      "source": [
        "!python -m textblob.download_corpora"
      ],
      "metadata": {
        "colab": {
          "base_uri": "https://localhost:8080/"
        },
        "id": "vo8v3MM3RwtG",
        "outputId": "3a57a422-6b0b-428c-b084-81445335e904"
      },
      "execution_count": null,
      "outputs": [
        {
          "output_type": "stream",
          "name": "stdout",
          "text": [
            "[nltk_data] Downloading package brown to /root/nltk_data...\n",
            "[nltk_data]   Package brown is already up-to-date!\n",
            "[nltk_data] Downloading package punkt to /root/nltk_data...\n",
            "[nltk_data]   Package punkt is already up-to-date!\n",
            "[nltk_data] Downloading package wordnet to /root/nltk_data...\n",
            "[nltk_data]   Package wordnet is already up-to-date!\n",
            "[nltk_data] Downloading package averaged_perceptron_tagger to\n",
            "[nltk_data]     /root/nltk_data...\n",
            "[nltk_data]   Package averaged_perceptron_tagger is already up-to-\n",
            "[nltk_data]       date!\n",
            "[nltk_data] Downloading package conll2000 to /root/nltk_data...\n",
            "[nltk_data]   Package conll2000 is already up-to-date!\n",
            "[nltk_data] Downloading package movie_reviews to /root/nltk_data...\n",
            "[nltk_data]   Package movie_reviews is already up-to-date!\n",
            "Finished.\n"
          ]
        }
      ]
    },
    {
      "cell_type": "code",
      "source": [
        "from textblob import TextBlob"
      ],
      "metadata": {
        "id": "5aEh9CT1Rwwe"
      },
      "execution_count": null,
      "outputs": []
    },
    {
      "cell_type": "code",
      "source": [
        "x = \"thainks forr watching it\""
      ],
      "metadata": {
        "id": "LxafeJVwRw0C"
      },
      "execution_count": null,
      "outputs": []
    },
    {
      "cell_type": "code",
      "source": [
        "x = TextBlob(x).correct()"
      ],
      "metadata": {
        "id": "kRhKQLHZRw3M"
      },
      "execution_count": null,
      "outputs": []
    },
    {
      "cell_type": "code",
      "source": [
        "x"
      ],
      "metadata": {
        "colab": {
          "base_uri": "https://localhost:8080/"
        },
        "id": "CXq3nGwpSytj",
        "outputId": "21c71a36-a95d-4452-8de1-2d36a0e7e7ea"
      },
      "execution_count": null,
      "outputs": [
        {
          "output_type": "execute_result",
          "data": {
            "text/plain": [
              "TextBlob(\"thanks for watching it\")"
            ]
          },
          "metadata": {},
          "execution_count": 136
        }
      ]
    },
    {
      "cell_type": "markdown",
      "source": [
        "##Tokenization Using TextBlob"
      ],
      "metadata": {
        "id": "eDUh_b4QS-uE"
      }
    },
    {
      "cell_type": "code",
      "source": [
        "x = \"thanks#watching this video. please like it\""
      ],
      "metadata": {
        "id": "Q1XcgL9qSynz"
      },
      "execution_count": null,
      "outputs": []
    },
    {
      "cell_type": "code",
      "source": [
        "TextBlob(x).words"
      ],
      "metadata": {
        "colab": {
          "base_uri": "https://localhost:8080/"
        },
        "id": "5xY3USVjSyJ4",
        "outputId": "9028e0b6-582c-443e-9364-20b9ca350243"
      },
      "execution_count": null,
      "outputs": [
        {
          "output_type": "execute_result",
          "data": {
            "text/plain": [
              "WordList(['thanks', 'watching', 'this', 'video', 'please', 'like', 'it'])"
            ]
          },
          "metadata": {},
          "execution_count": 138
        }
      ]
    },
    {
      "cell_type": "code",
      "source": [
        "doc = nlp(x)\n",
        "for token in doc:\n",
        "  print(token)"
      ],
      "metadata": {
        "colab": {
          "base_uri": "https://localhost:8080/"
        },
        "id": "P-j5KLwrSyci",
        "outputId": "a07ca7f7-58b9-43b8-99fa-1b121679acd2"
      },
      "execution_count": null,
      "outputs": [
        {
          "output_type": "stream",
          "name": "stdout",
          "text": [
            "thanks#watching\n",
            "this\n",
            "video\n",
            ".\n",
            "please\n",
            "like\n",
            "it\n"
          ]
        }
      ]
    },
    {
      "cell_type": "markdown",
      "source": [
        "##Detecting Nouns"
      ],
      "metadata": {
        "id": "niTqKM87Ty3p"
      }
    },
    {
      "cell_type": "code",
      "source": [
        "x = 'Breaking News: Donal Trump, the president of th USA is looking to sign a deal to mine the moon'"
      ],
      "metadata": {
        "id": "hdTzrUEGSyPc"
      },
      "execution_count": null,
      "outputs": []
    },
    {
      "cell_type": "code",
      "source": [
        "doc = nlp(x)"
      ],
      "metadata": {
        "id": "dYz3MoTeT1Pd"
      },
      "execution_count": null,
      "outputs": []
    },
    {
      "cell_type": "code",
      "source": [
        "for noun in doc.noun_chunks:\n",
        "  print(noun)"
      ],
      "metadata": {
        "colab": {
          "base_uri": "https://localhost:8080/"
        },
        "id": "YkQma1gfT1VN",
        "outputId": "06a260f3-8226-410f-d9a2-a892078d8a11"
      },
      "execution_count": null,
      "outputs": [
        {
          "output_type": "stream",
          "name": "stdout",
          "text": [
            "Breaking News\n",
            "Donal Trump\n",
            "the president\n",
            "th USA\n",
            "a deal\n",
            "the moon\n"
          ]
        }
      ]
    },
    {
      "cell_type": "markdown",
      "source": [
        "##Language Translation And Detection"
      ],
      "metadata": {
        "id": "VMSSjz7KUIVg"
      }
    },
    {
      "cell_type": "code",
      "source": [
        "x"
      ],
      "metadata": {
        "colab": {
          "base_uri": "https://localhost:8080/",
          "height": 35
        },
        "id": "En-cUQwaT1ag",
        "outputId": "301b65bc-922a-4367-b2d7-27aa3ca70d8c"
      },
      "execution_count": null,
      "outputs": [
        {
          "output_type": "execute_result",
          "data": {
            "text/plain": [
              "'this is this okay bye'"
            ],
            "application/vnd.google.colaboratory.intrinsic+json": {
              "type": "string"
            }
          },
          "metadata": {},
          "execution_count": 186
        }
      ]
    },
    {
      "cell_type": "code",
      "source": [
        "tb.TextBlob(x)"
      ],
      "metadata": {
        "colab": {
          "base_uri": "https://localhost:8080/",
          "height": 165
        },
        "id": "C7fDHA1FT1gD",
        "outputId": "268bc923-67c9-4187-af10-99629d73a031"
      },
      "execution_count": null,
      "outputs": [
        {
          "output_type": "error",
          "ename": "NameError",
          "evalue": "ignored",
          "traceback": [
            "\u001b[0;31m---------------------------------------------------------------------------\u001b[0m",
            "\u001b[0;31mNameError\u001b[0m                                 Traceback (most recent call last)",
            "\u001b[0;32m<ipython-input-144-74f109bed772>\u001b[0m in \u001b[0;36m<module>\u001b[0;34m()\u001b[0m\n\u001b[0;32m----> 1\u001b[0;31m \u001b[0mtb\u001b[0m\u001b[0;34m.\u001b[0m\u001b[0mTextBlob\u001b[0m\u001b[0;34m(\u001b[0m\u001b[0mx\u001b[0m\u001b[0;34m)\u001b[0m\u001b[0;34m\u001b[0m\u001b[0;34m\u001b[0m\u001b[0m\n\u001b[0m",
            "\u001b[0;31mNameError\u001b[0m: name 'tb' is not defined"
          ]
        }
      ]
    },
    {
      "cell_type": "code",
      "source": [
        "tb.detect_language()"
      ],
      "metadata": {
        "id": "5E7q1dI2T1pu"
      },
      "execution_count": null,
      "outputs": []
    },
    {
      "cell_type": "code",
      "source": [
        ""
      ],
      "metadata": {
        "id": "Ks3zl1DcT1xR"
      },
      "execution_count": null,
      "outputs": []
    },
    {
      "cell_type": "code",
      "source": [
        ""
      ],
      "metadata": {
        "id": "HStPnnBNT13n"
      },
      "execution_count": null,
      "outputs": []
    },
    {
      "cell_type": "markdown",
      "source": [
        "##Use TextBlob's inbuilt Sentiment Classifier"
      ],
      "metadata": {
        "id": "fah7qp2hUWkk"
      }
    },
    {
      "cell_type": "code",
      "source": [
        "from textblob.sentiments import NaiveBayesAnalyzer"
      ],
      "metadata": {
        "id": "Bivx9zNCT17k"
      },
      "execution_count": null,
      "outputs": []
    },
    {
      "cell_type": "code",
      "source": [
        "x = 'we all stands together, we are gonna win this fight'"
      ],
      "metadata": {
        "id": "oZ8NhLWdT1_o"
      },
      "execution_count": null,
      "outputs": []
    },
    {
      "cell_type": "code",
      "source": [
        "tb = TextBlob(x, analyzer=NaiveBayesAnalyzer())"
      ],
      "metadata": {
        "id": "TPTVHIJzSyUp"
      },
      "execution_count": null,
      "outputs": []
    },
    {
      "cell_type": "code",
      "source": [
        "tb.sentiment"
      ],
      "metadata": {
        "colab": {
          "base_uri": "https://localhost:8080/"
        },
        "id": "2jKOov4TVLyx",
        "outputId": "8ddd9340-9731-4eae-fbd6-364fed3809ed"
      },
      "execution_count": null,
      "outputs": [
        {
          "output_type": "execute_result",
          "data": {
            "text/plain": [
              "Sentiment(classification='pos', p_pos=0.9180581552428241, p_neg=0.0819418447571765)"
            ]
          },
          "metadata": {},
          "execution_count": 190
        }
      ]
    },
    {
      "cell_type": "code",
      "source": [
        ""
      ],
      "metadata": {
        "id": "aLUCq_XSVL4w"
      },
      "execution_count": null,
      "outputs": []
    },
    {
      "cell_type": "code",
      "source": [
        ""
      ],
      "metadata": {
        "id": "kWT8hSnPVL87"
      },
      "execution_count": null,
      "outputs": []
    },
    {
      "cell_type": "code",
      "source": [
        ""
      ],
      "metadata": {
        "id": "I2-skR-2VMCk"
      },
      "execution_count": null,
      "outputs": []
    },
    {
      "cell_type": "code",
      "source": [
        ""
      ],
      "metadata": {
        "id": "-az9OmfGVMJj"
      },
      "execution_count": null,
      "outputs": []
    }
  ]
}