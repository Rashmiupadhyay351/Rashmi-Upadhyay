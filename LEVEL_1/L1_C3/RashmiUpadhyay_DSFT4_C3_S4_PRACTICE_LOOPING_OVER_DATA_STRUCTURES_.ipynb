{
 "cells": [
  {
   "cell_type": "code",
   "execution_count": 2,
   "id": "ade5ccee",
   "metadata": {},
   "outputs": [
    {
     "name": "stdout",
     "output_type": "stream",
     "text": [
      "Enter a number:2\n",
      "Factorial of 2 is 1\n",
      "Factorial of 2 is 2\n"
     ]
    }
   ],
   "source": [
    "#TASK - 1\n",
    "\n",
    "n=input(\"Enter a number:\")\n",
    "factorial=1\n",
    "if int(n)>=1:\n",
    "    for i in range(1,int(n)+1):\n",
    "        factorial=factorial*i\n",
    "        print(\"Factorial of\",n, \"is\",factorial)"
   ]
  },
  {
   "cell_type": "code",
   "execution_count": 18,
   "id": "3d3fcf00",
   "metadata": {},
   "outputs": [
    {
     "name": "stdout",
     "output_type": "stream",
     "text": [
      "Enter range:20\n",
      "Prime numbers:1 2 3 5 7 11 13 17 19 "
     ]
    }
   ],
   "source": [
    "#TASK - 2\n",
    "\n",
    "numr=int(input(\"Enter range:\"))\n",
    "print(\"Prime numbers:\",end='')\n",
    "for n in range(1,numr):\n",
    "    for i in range(2,n):\n",
    "        if(n%i==0):\n",
    "            break\n",
    "            \n",
    "    else:\n",
    "                print(n,end =' ')"
   ]
  },
  {
   "cell_type": "code",
   "execution_count": 16,
   "id": "17599459",
   "metadata": {},
   "outputs": [
    {
     "name": "stdout",
     "output_type": "stream",
     "text": [
      "enter 5 digit no. : 12345\n",
      "Sum of the number enter of  12345  :  15\n"
     ]
    }
   ],
   "source": [
    "#TASK - 3\n",
    "\n",
    "a=int(input('enter 5 digit no. : '))\n",
    "sums=0\n",
    "rem=0\n",
    "num=a\n",
    "while a > 0:\n",
    "    rem=a%10\n",
    "    sums=sums+rem\n",
    "    a=a//10\n",
    "    \n",
    "print ('Sum of the number enter of ',num,' : ',sums)"
   ]
  },
  {
   "cell_type": "code",
   "execution_count": 21,
   "id": "d38bc337",
   "metadata": {},
   "outputs": [
    {
     "name": "stdout",
     "output_type": "stream",
     "text": [
      "Fibonacci Series: :\n",
      "1 2 3 5 8 13 21 "
     ]
    }
   ],
   "source": [
    "#TASK - 4\n",
    "\n",
    "print(\"Fibonacci Series: :\")\n",
    "sum=1\n",
    "n=7\n",
    "i=1\n",
    "temp=1\n",
    "while n>0:\n",
    "    print(sum, end=\" \")\n",
    "    sum=i+temp\n",
    "    temp=i\n",
    "    i=sum\n",
    "    n=n-1"
   ]
  },
  {
   "cell_type": "code",
   "execution_count": 22,
   "id": "1e92b960",
   "metadata": {},
   "outputs": [
    {
     "name": "stdout",
     "output_type": "stream",
     "text": [
      "2420572501232\n",
      "2420572023840\n"
     ]
    }
   ],
   "source": [
    "#TASK - 5\n",
    "\n",
    "t1=(1,2,3,4,5)\n",
    "t2=(6,7,8,9,0)\n",
    "print(id(t1))\n",
    "print(id(t2))"
   ]
  },
  {
   "cell_type": "code",
   "execution_count": 23,
   "id": "17f45cc8",
   "metadata": {},
   "outputs": [
    {
     "name": "stdout",
     "output_type": "stream",
     "text": [
      "(1, 2, 3, 4, 5, 6, 7, 8, 9, 0)\n",
      "(6, 7, 8, 9, 0)\n"
     ]
    }
   ],
   "source": [
    "t1=t1+t2\n",
    "print(t1)\n",
    "print(t2)\n",
    "#There are changes in id because tuples are immutable so it stores t1 and t2 in different memory location\n",
    "#and stores the combination of t1 and t2 in a new location"
   ]
  },
  {
   "cell_type": "code",
   "execution_count": 24,
   "id": "ad11ff27",
   "metadata": {},
   "outputs": [
    {
     "name": "stdout",
     "output_type": "stream",
     "text": [
      "{70, 40, 10, 50, 20, 60, 30}\n"
     ]
    }
   ],
   "source": [
    "#TASK - 6\n",
    "\n",
    "m={10,20,30,40,50}\n",
    "n={30,40,50,60,70}\n",
    "m.update(n)\n",
    "print(m)"
   ]
  },
  {
   "cell_type": "code",
   "execution_count": 28,
   "id": "2624424d",
   "metadata": {},
   "outputs": [
    {
     "name": "stdout",
     "output_type": "stream",
     "text": [
      "SSH 2\n",
      "http 4\n"
     ]
    }
   ],
   "source": [
    "#TASK - 7\n",
    "\n",
    "port1={'FTP':1,'SSH':2,'telnet':3,'http':4}\n",
    "for keys,values in port1.items():\n",
    "    if values%2==0:\n",
    "        print(keys,values)"
   ]
  },
  {
   "cell_type": "code",
   "execution_count": 30,
   "id": "5863c765",
   "metadata": {},
   "outputs": [
    {
     "name": "stdout",
     "output_type": "stream",
     "text": [
      "{1: 1, 2: 4, 3: 9, 4: 16, 5: 25, 6: 36, 7: 49, 8: 64, 9: 81, 10: 100, 11: 121, 12: 144, 13: 169, 14: 196, 15: 225}\n",
      "{1: 1, 2: 4, 3: 9, 4: 16, 5: 25, 6: 36, 7: 49, 8: 64, 9: 81, 10: 100, 11: 121, 12: 144, 13: 169, 14: 196, 15: 225, 100: 10000}\n"
     ]
    }
   ],
   "source": [
    "#TASK - 8\n",
    "\n",
    "d={}\n",
    "for i in range(1,16):\n",
    "    d[i]=i**2\n",
    "    \n",
    "print(d)\n",
    "d[100]=10000\n",
    "print(d)"
   ]
  },
  {
   "cell_type": "code",
   "execution_count": 32,
   "id": "f2203023",
   "metadata": {},
   "outputs": [
    {
     "name": "stdout",
     "output_type": "stream",
     "text": [
      "{'FTP': 21, 'SSH': 22, 'telnet': 23, 'fttp': 80}\n"
     ]
    }
   ],
   "source": [
    "#TASK - 9\n",
    "\n",
    "port1={21:'FTP',22:'SSH',23:'telnet',80:'fttp'}\n",
    "port2={}\n",
    "for keys,values in port1.items():\n",
    "    temp={values:keys}\n",
    "    port2.update(temp)\n",
    "    \n",
    "print(port2)    "
   ]
  },
  {
   "cell_type": "code",
   "execution_count": 33,
   "id": "7a1225db",
   "metadata": {},
   "outputs": [
    {
     "name": "stdout",
     "output_type": "stream",
     "text": [
      "{'Emp1': {'name': 'Sara', 'Dept': 'IT', 'Designation': 'Team Lead'}, 'Emp2': {'name': 'Anna', 'Dept': 'IT', 'Designation': 'Senior Software Engineer'}, 'Emp3': {'name': 'Andy', 'Dept': 'Biotech', 'Designation': 'Senior Software Engineer'}}\n"
     ]
    }
   ],
   "source": [
    "#TASK - 10\n",
    "\n",
    "Employee = {\n",
    "    'Emp1':{'name':'Sara','Dept':'IT', 'Designation': 'Team Lead'},\n",
    "    'Emp2':{'name':'Anna','Dept':'IT', 'Designation': 'Senior Software Engineer'},\n",
    "    'Emp3':{'name':'Andy','Dept':'Biotech','Designation':'Senior Software Engineer'},\n",
    "    'Emp4':{'name':'Andy','Dept':'Biotech','Designation':'Senior Software Engineer'},    \n",
    "           }\n",
    "del Employee['Emp4']\n",
    "print(Employee)"
   ]
  },
  {
   "cell_type": "code",
   "execution_count": null,
   "id": "fe4d3bae",
   "metadata": {},
   "outputs": [],
   "source": []
  }
 ],
 "metadata": {
  "kernelspec": {
   "display_name": "Python 3 (ipykernel)",
   "language": "python",
   "name": "python3"
  },
  "language_info": {
   "codemirror_mode": {
    "name": "ipython",
    "version": 3
   },
   "file_extension": ".py",
   "mimetype": "text/x-python",
   "name": "python",
   "nbconvert_exporter": "python",
   "pygments_lexer": "ipython3",
   "version": "3.9.7"
  }
 },
 "nbformat": 4,
 "nbformat_minor": 5
}
