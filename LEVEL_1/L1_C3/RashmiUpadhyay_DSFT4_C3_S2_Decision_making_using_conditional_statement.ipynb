{
 "cells": [
  {
   "cell_type": "code",
   "execution_count": 2,
   "id": "fb619abb",
   "metadata": {},
   "outputs": [
    {
     "name": "stdout",
     "output_type": "stream",
     "text": [
      "Enter a character: D\n",
      "Holiday\n"
     ]
    }
   ],
   "source": [
    "#TASK 1\n",
    "\n",
    "Char=input(\"Enter a character: \")\n",
    "if Char.upper()=='A':\n",
    "    print('Python')\n",
    "elif Char.upper()=='B':\n",
    "    print(\"MySQL\")                           \n",
    "elif Char.upper()=='C':\n",
    "    print('Excel')\n",
    "else:\n",
    "    print(\"Holiday\")"
   ]
  },
  {
   "cell_type": "code",
   "execution_count": 3,
   "id": "02f3caaa",
   "metadata": {},
   "outputs": [
    {
     "name": "stdout",
     "output_type": "stream",
     "text": [
      "Enter a number: 4\n",
      "Enter a number: 8\n",
      " 8 is greater than 4\n"
     ]
    }
   ],
   "source": [
    "#TASK 2\n",
    "\n",
    "num1=int(input(\"Enter a number: \"))\n",
    "num2=int(input(\"Enter a number: \"))\n",
    "if num1>num2:\n",
    "    print(f\"{num2} is greater than {num2}\")\n",
    "else:\n",
    "    print(f\" {num2} is greater than {num1}\")\n"
   ]
  },
  {
   "cell_type": "code",
   "execution_count": 4,
   "id": "bd1f6cb7",
   "metadata": {},
   "outputs": [
    {
     "name": "stdout",
     "output_type": "stream",
     "text": [
      "Enter your basic salary: 15000\n",
      " Net income after deductions=18000.0\n"
     ]
    }
   ],
   "source": [
    "#TASK 3\n",
    "\n",
    "\n",
    "salary=int(input(\"Enter your basic salary: \"))\n",
    "if salary > 0 and salary <=4000:\n",
    "    hra=salary*(10/100)\n",
    "    da=salary*(5/100)\n",
    "    Net_income=salary+hra+da\n",
    "elif salary>=4001 and salary<=10000:\n",
    "    hra=salary*(20/100)  \n",
    "    da=salary*(10/100)\n",
    "    tax=salary*(15/100)\n",
    "    Net_income=salary+hra+da-tax \n",
    "else:\n",
    "     hra=salary*(25/100)\n",
    "     da=salary*(15/100)\n",
    "     tax=salary*(20/100)\n",
    "     Net_income=salary+hra+da-tax\n",
    "        \n",
    "print(f\" Net income after deductions={Net_income}\")"
   ]
  },
  {
   "cell_type": "code",
   "execution_count": 6,
   "id": "8105b0ad",
   "metadata": {},
   "outputs": [
    {
     "name": "stdout",
     "output_type": "stream",
     "text": [
      "Enter a word: command\n",
      "The word does not exist in var variable\n"
     ]
    }
   ],
   "source": [
    "#TASK 4\n",
    "\n",
    "var=\"Python is an interpreted high-level general-purpose programming language .Its design emphasizes code readability with its design philosphy emphasizes code readability with its use of significant intendation. Its language constructs as well as its object-oriented approach aim to help programmers write clear, logical code for small and large-scale projects. \"\n",
    "word=input(\"Enter a word: \")\n",
    "if word in var:\n",
    "    print(\"The word exists in var variable\")\n",
    "else:\n",
    "    print(\"The word does not exist in var variable\")"
   ]
  },
  {
   "cell_type": "code",
   "execution_count": 10,
   "id": "c047cd8a",
   "metadata": {},
   "outputs": [
    {
     "name": "stdout",
     "output_type": "stream",
     "text": [
      "Enter a colour: red\n",
      "Colour is present in rainbow\n"
     ]
    }
   ],
   "source": [
    "#TASK 5\n",
    "\n",
    "Mytuple = (\"orange\",\"yellow\",\"blue\",\"green\",\"violet\",\"indigo\",\"red\")\n",
    "str=input(\"Enter a colour: \")\n",
    "if str in Mytuple:\n",
    "    print(\"Colour is present in rainbow\")\n",
    "else:\n",
    "    print(\"Colour is not present in rainbow\")"
   ]
  },
  {
   "cell_type": "code",
   "execution_count": 12,
   "id": "9d130b5f",
   "metadata": {},
   "outputs": [
    {
     "name": "stdout",
     "output_type": "stream",
     "text": [
      "Enter a character: b\n",
      "Lower Case\n"
     ]
    }
   ],
   "source": [
    "#TASK 6\n",
    "\n",
    "char=input(\"Enter a character: \")\n",
    "if char==char.upper():\n",
    "    print(\"Upper Case\")\n",
    "else:\n",
    "    print(\"Lower Case\")"
   ]
  },
  {
   "cell_type": "code",
   "execution_count": 15,
   "id": "15008575",
   "metadata": {},
   "outputs": [
    {
     "name": "stdout",
     "output_type": "stream",
     "text": [
      "Enter a character: A\n",
      "vowel\n"
     ]
    }
   ],
   "source": [
    "#TASK 7\n",
    "\n",
    "c=input(\"Enter a character: \")\n",
    "if c.lower ()=='a' or c.lower()=='e' or c.lower()=='i' or c.lower()=='o' or c.lower()=='u':\n",
    "    print(\"vowel\")\n",
    "else:\n",
    "    print(\"consonant\")"
   ]
  },
  {
   "cell_type": "code",
   "execution_count": 19,
   "id": "e1e5e47b",
   "metadata": {},
   "outputs": [
    {
     "name": "stdout",
     "output_type": "stream",
     "text": [
      "Enter a year: 2020\n",
      "leap year\n"
     ]
    }
   ],
   "source": [
    "#TASK 8\n",
    "\n",
    "year=int(input(\"Enter a year: \"))\n",
    "if year%400==0:\n",
    "    print(\"leap year\")\n",
    "elif year%100!=0 and year%4==0:\n",
    "    print(\"leap year\")\n",
    "else:\n",
    "    print(\"Not a leap year\")"
   ]
  },
  {
   "cell_type": "code",
   "execution_count": 20,
   "id": "0e55ffbc",
   "metadata": {},
   "outputs": [
    {
     "name": "stdout",
     "output_type": "stream",
     "text": [
      "Enter a number between 1 and 12: 12\n",
      "Name=December\n",
      "Number of days=31\n"
     ]
    }
   ],
   "source": [
    "#TASK 9\n",
    "\n",
    "num=int (input(\"Enter a number between 1 and 12: \"))\n",
    "if num ==1:\n",
    "    print(\"Name=January\")\n",
    "    print(\"Number of days=31\")\n",
    "elif num==2:   \n",
    "    print(\"Name=February\")\n",
    "    print(\"Number of days=28\")\n",
    "elif num==3:   \n",
    "    print(\"Name=March\")\n",
    "    print(\"Number of days=31\")\n",
    "elif num==4:   \n",
    "    print(\"Name=April\")\n",
    "    print(\"Number of days=30\")\n",
    "elif num==5:   \n",
    "    print(\"Name=May\")\n",
    "    print(\"Number of days=31\")\n",
    "elif num==6:   \n",
    "    print(\"Name=June\")\n",
    "    print(\"Number of days=30\")\n",
    "elif num==7:   \n",
    "    print(\"Name=July\")\n",
    "    print(\"Number of days=31\")\n",
    "elif num==8:   \n",
    "    print(\"Name=August\")\n",
    "    print(\"Number of days=31\")\n",
    "elif num==9:   \n",
    "    print(\"Name=September\")\n",
    "    print(\"Number of days=30\")\n",
    "elif num==10:   \n",
    "    print(\"Name=October\")\n",
    "    print(\"Number of days=31\")\n",
    "elif num==11:   \n",
    "    print(\"Name=November\")\n",
    "    print(\"Number of days=30\")\n",
    "else:   \n",
    "    print(\"Name=December\")\n",
    "    print(\"Number of days=31\")\n",
    "  \n",
    "            "
   ]
  },
  {
   "cell_type": "code",
   "execution_count": 23,
   "id": "2df3db26",
   "metadata": {},
   "outputs": [
    {
     "name": "stdout",
     "output_type": "stream",
     "text": [
      "Enter your gender: f\n",
      "Enter your age: 21\n",
      "discount is 20%\n"
     ]
    }
   ],
   "source": [
    "#TASK 10\n",
    "\n",
    "Gender=input(\"Enter your gender: \")\n",
    "if Gender.lower()=='f':\n",
    "    age=int(input(\"Enter your age: \"))\n",
    "    if age>30:\n",
    "        print(\"discount is 30%\")\n",
    "    elif age<=21 and age<=30:\n",
    "        print(\"discount is 20%\")\n",
    "    elif age<=20:\n",
    "        print(\"discount is 10%\")\n",
    "        \n",
    "else:\n",
    "    print(\"No Discount\")"
   ]
  },
  {
   "cell_type": "code",
   "execution_count": null,
   "id": "4cd6ff40",
   "metadata": {},
   "outputs": [],
   "source": []
  }
 ],
 "metadata": {
  "kernelspec": {
   "display_name": "Python 3 (ipykernel)",
   "language": "python",
   "name": "python3"
  },
  "language_info": {
   "codemirror_mode": {
    "name": "ipython",
    "version": 3
   },
   "file_extension": ".py",
   "mimetype": "text/x-python",
   "name": "python",
   "nbconvert_exporter": "python",
   "pygments_lexer": "ipython3",
   "version": "3.9.7"
  }
 },
 "nbformat": 4,
 "nbformat_minor": 5
}
