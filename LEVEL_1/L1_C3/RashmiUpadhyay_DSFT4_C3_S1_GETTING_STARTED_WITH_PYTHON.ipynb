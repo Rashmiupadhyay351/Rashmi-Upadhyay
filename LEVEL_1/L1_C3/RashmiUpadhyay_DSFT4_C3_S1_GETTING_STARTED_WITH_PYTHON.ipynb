{
 "cells": [
  {
   "cell_type": "code",
   "execution_count": 60,
   "id": "31448bc2",
   "metadata": {},
   "outputs": [
    {
     "name": "stdout",
     "output_type": "stream",
     "text": [
      "65\n",
      "2138633228656\n",
      "<class 'int'>\n"
     ]
    }
   ],
   "source": [
    "rollno = 65\n",
    "print (rollno)                 TASK 1 A\n",
    "print (id(rollno))\n",
    "print (type(rollno))"
   ]
  },
  {
   "cell_type": "code",
   "execution_count": 43,
   "id": "fc0a8f92",
   "metadata": {},
   "outputs": [
    {
     "name": "stdout",
     "output_type": "stream",
     "text": [
      "Rashmi\n",
      "65\n"
     ]
    }
   ],
   "source": [
    "string = (\"Rashmi\")\n",
    "print (string)\n",
    "Rollno =(65)\n",
    "print(Rollno)                  TASK 1 B"
   ]
  },
  {
   "cell_type": "code",
   "execution_count": 52,
   "id": "f6798ecc",
   "metadata": {},
   "outputs": [
    {
     "name": "stdout",
     "output_type": "stream",
     "text": [
      "65\n",
      "<class 'int'>\n"
     ]
    }
   ],
   "source": [
    "roll_no = 65\n",
    "print(roll_no)\n",
    "print (type(roll_no))          TASK 1 C"
   ]
  },
  {
   "cell_type": "code",
   "execution_count": 58,
   "id": "86fd5576",
   "metadata": {},
   "outputs": [
    {
     "name": "stdout",
     "output_type": "stream",
     "text": [
      "50\n",
      "2138633039696\n",
      "<class 'int'>\n"
     ]
    }
   ],
   "source": [
    "maxmarks = 50\n",
    "print (maxmarks)\n",
    "print (id(maxmarks))\n",
    "print (type(maxmarks))          TASK 1 D"
   ]
  },
  {
   "cell_type": "code",
   "execution_count": null,
   "id": "28510a5b",
   "metadata": {},
   "outputs": [],
   "source": [
    "var 1=2 #THIS CODE WILL GIVE ERROR BECAUSE HERE VARIABLE CoNTAINs THE SPACE. VARIABLE NAME SHOULD NOT CONTAIN ANY SPACE# TASK 2 A"
   ]
  },
  {
   "cell_type": "code",
   "execution_count": 14,
   "id": "09c40437",
   "metadata": {},
   "outputs": [
    {
     "ename": "SyntaxError",
     "evalue": "invalid syntax (Temp/ipykernel_18352/2593071960.py, line 1)",
     "output_type": "error",
     "traceback": [
      "\u001b[1;36m  File \u001b[1;32m\"C:\\Users\\Manish\\AppData\\Local\\Temp/ipykernel_18352/2593071960.py\"\u001b[1;36m, line \u001b[1;32m1\u001b[0m\n\u001b[1;33m    2var = 2\u001b[0m\n\u001b[1;37m     ^\u001b[0m\n\u001b[1;31mSyntaxError\u001b[0m\u001b[1;31m:\u001b[0m invalid syntax\n"
     ]
    }
   ],
   "source": [
    "2var = 2 #This code will give error because here variable contains the space and the variable should not START WITH ANY NUMERICAL VALUE # TASK 2 B"
   ]
  },
  {
   "cell_type": "code",
   "execution_count": 16,
   "id": "1b73a28d",
   "metadata": {},
   "outputs": [
    {
     "ename": "SyntaxError",
     "evalue": "invalid syntax (Temp/ipykernel_18352/1052648542.py, line 1)",
     "output_type": "error",
     "traceback": [
      "\u001b[1;36m  File \u001b[1;32m\"C:\\Users\\Manish\\AppData\\Local\\Temp/ipykernel_18352/1052648542.py\"\u001b[1;36m, line \u001b[1;32m1\u001b[0m\n\u001b[1;33m    Var 1 = 2\u001b[0m\n\u001b[1;37m        ^\u001b[0m\n\u001b[1;31mSyntaxError\u001b[0m\u001b[1;31m:\u001b[0m invalid syntax\n"
     ]
    }
   ],
   "source": [
    "Var 1 = 2 # THIS CODE WILL GIVE ERROR BECAUSE HERE VARIABLE CONTAINS THE SPACE. VARIABLE NAME SHOULD NOT CONTAIN SPACE# TASK 2 C"
   ]
  },
  {
   "cell_type": "code",
   "execution_count": 18,
   "id": "7d38af25",
   "metadata": {},
   "outputs": [
    {
     "ename": "SyntaxError",
     "evalue": "invalid syntax (Temp/ipykernel_18352/957371410.py, line 1)",
     "output_type": "error",
     "traceback": [
      "\u001b[1;36m  File \u001b[1;32m\"C:\\Users\\Manish\\AppData\\Local\\Temp/ipykernel_18352/957371410.py\"\u001b[1;36m, line \u001b[1;32m1\u001b[0m\n\u001b[1;33m    VAR $2=2\u001b[0m\n\u001b[1;37m        ^\u001b[0m\n\u001b[1;31mSyntaxError\u001b[0m\u001b[1;31m:\u001b[0m invalid syntax\n"
     ]
    }
   ],
   "source": [
    "VAR $2=2 #THIS CODE WILL GIVE ERROR BECAUSE HERE VARIABLE CONTAIN SPECIAL CHARACTER#    TASK 2 D"
   ]
  },
  {
   "cell_type": "code",
   "execution_count": 21,
   "id": "e0afbba5",
   "metadata": {},
   "outputs": [],
   "source": [
    "Class = 15 # NO OUTPUT CAME#              TASK 3 A"
   ]
  },
  {
   "cell_type": "code",
   "execution_count": 22,
   "id": "a7188bfd",
   "metadata": {},
   "outputs": [
    {
     "ename": "SyntaxError",
     "evalue": "invalid syntax (Temp/ipykernel_18352/1850406401.py, line 1)",
     "output_type": "error",
     "traceback": [
      "\u001b[1;36m  File \u001b[1;32m\"C:\\Users\\Manish\\AppData\\Local\\Temp/ipykernel_18352/1850406401.py\"\u001b[1;36m, line \u001b[1;32m1\u001b[0m\n\u001b[1;33m    class = 15\u001b[0m\n\u001b[1;37m          ^\u001b[0m\n\u001b[1;31mSyntaxError\u001b[0m\u001b[1;31m:\u001b[0m invalid syntax\n"
     ]
    }
   ],
   "source": [
    "class = 15 # THIS CODE WILL GIVE ERROR BECAUSE HERE VARIABLE CONATINS SPACE VARIABLE NAME SHOULD NOT CONTAIN ANY SPACE#  TASK 3 B"
   ]
  },
  {
   "cell_type": "code",
   "execution_count": 24,
   "id": "6a1c74d8",
   "metadata": {},
   "outputs": [],
   "source": [
    "DEF = 13  # NO OUTPUT CAME#   TASK 3 C"
   ]
  },
  {
   "cell_type": "code",
   "execution_count": 25,
   "id": "9ce7c77b",
   "metadata": {},
   "outputs": [
    {
     "ename": "SyntaxError",
     "evalue": "invalid syntax (Temp/ipykernel_18352/1759817278.py, line 1)",
     "output_type": "error",
     "traceback": [
      "\u001b[1;36m  File \u001b[1;32m\"C:\\Users\\Manish\\AppData\\Local\\Temp/ipykernel_18352/1759817278.py\"\u001b[1;36m, line \u001b[1;32m1\u001b[0m\n\u001b[1;33m    def = 12\u001b[0m\n\u001b[1;37m        ^\u001b[0m\n\u001b[1;31mSyntaxError\u001b[0m\u001b[1;31m:\u001b[0m invalid syntax\n"
     ]
    }
   ],
   "source": [
    "def = 12 #THIS CODE WILL GIVE ERROR AS IT IS HAVING A SPACE AND VARIABLE NAME SHOULD NOT CONTAIN ANY SPACE#   TASK 3 D"
   ]
  },
  {
   "cell_type": "code",
   "execution_count": 26,
   "id": "6fdbb0c9",
   "metadata": {},
   "outputs": [
    {
     "ename": "NameError",
     "evalue": "name 'TRUE' is not defined",
     "output_type": "error",
     "traceback": [
      "\u001b[1;31m---------------------------------------------------------------------------\u001b[0m",
      "\u001b[1;31mNameError\u001b[0m                                 Traceback (most recent call last)",
      "\u001b[1;32m~\\AppData\\Local\\Temp/ipykernel_18352/1151946856.py\u001b[0m in \u001b[0;36m<module>\u001b[1;34m\u001b[0m\n\u001b[1;32m----> 1\u001b[1;33m \u001b[0ma\u001b[0m\u001b[1;33m=\u001b[0m\u001b[0mTRUE\u001b[0m\u001b[1;33m\u001b[0m\u001b[1;33m\u001b[0m\u001b[0m\n\u001b[0m",
      "\u001b[1;31mNameError\u001b[0m: name 'TRUE' is not defined"
     ]
    }
   ],
   "source": [
    "a=TRUE # THIS CODE WILL GIVE ERROR AS NAME ERROR IS THERE AND IT IS OT DEFINED AND SPACE IS NOT GIVEN#   TASK 3 E"
   ]
  },
  {
   "cell_type": "code",
   "execution_count": 27,
   "id": "72e5e47d",
   "metadata": {},
   "outputs": [
    {
     "ename": "NameError",
     "evalue": "name 'false' is not defined",
     "output_type": "error",
     "traceback": [
      "\u001b[1;31m---------------------------------------------------------------------------\u001b[0m",
      "\u001b[1;31mNameError\u001b[0m                                 Traceback (most recent call last)",
      "\u001b[1;32m~\\AppData\\Local\\Temp/ipykernel_18352/209756984.py\u001b[0m in \u001b[0;36m<module>\u001b[1;34m\u001b[0m\n\u001b[1;32m----> 1\u001b[1;33m \u001b[0mb\u001b[0m\u001b[1;33m=\u001b[0m\u001b[0mfalse\u001b[0m\u001b[1;33m\u001b[0m\u001b[1;33m\u001b[0m\u001b[0m\n\u001b[0m",
      "\u001b[1;31mNameError\u001b[0m: name 'false' is not defined"
     ]
    }
   ],
   "source": [
    "b=false # THIS CODE WILL GIVE ERROR AS NAME ERROR IS THERE AND IT IS OT DEFINED AND SPACE IS NOT GIVEN#  TASK 3 F"
   ]
  },
  {
   "cell_type": "code",
   "execution_count": 28,
   "id": "33f2093c",
   "metadata": {},
   "outputs": [
    {
     "name": "stdout",
     "output_type": "stream",
     "text": [
      "25.5\n",
      "<class 'float'>\n",
      "2138714989808\n"
     ]
    }
   ],
   "source": [
    "marks = 25.5\n",
    "print (marks)\n",
    "print (type(marks))          \n",
    "print (id(marks))                          TASK 4 A"
   ]
  },
  {
   "cell_type": "code",
   "execution_count": 29,
   "id": "af43c0de",
   "metadata": {},
   "outputs": [
    {
     "name": "stdout",
     "output_type": "stream",
     "text": [
      "27.5\n",
      "<class 'float'>\n",
      "2138714988880\n"
     ]
    }
   ],
   "source": [
    "marks = 27.5\n",
    "print (marks)                 \n",
    "print (type(marks))                       TASK 4 B\n",
    "print (id(marks))"
   ]
  },
  {
   "cell_type": "code",
   "execution_count": null,
   "id": "8401d999",
   "metadata": {},
   "outputs": [],
   "source": [
    "NO THE ID IS NOT SAME IN THE LAST TWO QUESTIONS BECAUSE THE UD CANNOT BE SAME FOR TWO OBJECTS  TASK 4 C"
   ]
  },
  {
   "cell_type": "code",
   "execution_count": 123,
   "id": "9cd8c82a",
   "metadata": {},
   "outputs": [
    {
     "name": "stdout",
     "output_type": "stream",
     "text": [
      "Percentage =  55.00000000000001 %\n"
     ]
    }
   ],
   "source": [
    "Percentage = (marks/maxmarks)*100\n",
    "print (\"Percentage = \", Percentage , \"%\")      TASK 5 A              "
   ]
  },
  {
   "cell_type": "code",
   "execution_count": 66,
   "id": "e31c44e6",
   "metadata": {},
   "outputs": [
    {
     "name": "stdout",
     "output_type": "stream",
     "text": [
      "Input your First Name : john\n",
      "Input your Last Name : Doe\n",
      "Hello  Doe john\n"
     ]
    }
   ],
   "source": [
    "fname = input (\"Input your First Name : \")\n",
    "lname = input (\"Input your Last Name : \")\n",
    "print (\"Hello  \" + lname + \" \" + fname)       TASK 5 B"
   ]
  },
  {
   "cell_type": "code",
   "execution_count": 125,
   "id": "f9f0691d",
   "metadata": {},
   "outputs": [
    {
     "name": "stdout",
     "output_type": "stream",
     "text": [
      "<class 'int'>\n",
      "john scored 55.00000000000001\n"
     ]
    }
   ],
   "source": [
    "string = (\"Rashmi\")\n",
    "Rollno = (65)                                  TASK 5 C\n",
    "print (type(rollno))\n",
    "print (fname, \"scored\", Percentage)   "
   ]
  },
  {
   "cell_type": "code",
   "execution_count": null,
   "id": "35618c2d",
   "metadata": {},
   "outputs": [],
   "source": [
    "# Task 6 a and b dictionary questions not to be done"
   ]
  },
  {
   "cell_type": "code",
   "execution_count": 67,
   "id": "ccde65f2",
   "metadata": {},
   "outputs": [
    {
     "ename": "TypeError",
     "evalue": "unsupported operand type(s) for +: 'int' and 'str'",
     "output_type": "error",
     "traceback": [
      "\u001b[1;31m---------------------------------------------------------------------------\u001b[0m",
      "\u001b[1;31mTypeError\u001b[0m                                 Traceback (most recent call last)",
      "\u001b[1;32m~\\AppData\\Local\\Temp/ipykernel_18352/54392328.py\u001b[0m in \u001b[0;36m<module>\u001b[1;34m\u001b[0m\n\u001b[1;32m----> 1\u001b[1;33m \u001b[1;36m1\u001b[0m \u001b[1;33m+\u001b[0m \u001b[1;34m\"2\"\u001b[0m\u001b[1;33m\u001b[0m\u001b[1;33m\u001b[0m\u001b[0m\n\u001b[0m",
      "\u001b[1;31mTypeError\u001b[0m: unsupported operand type(s) for +: 'int' and 'str'"
     ]
    }
   ],
   "source": [
    "1 + \"2\"  #this code will give error because we cannot merge two different data types # Task 7 A"
   ]
  },
  {
   "cell_type": "code",
   "execution_count": 68,
   "id": "25908fb9",
   "metadata": {},
   "outputs": [
    {
     "data": {
      "text/plain": [
       "'12'"
      ]
     },
     "execution_count": 68,
     "metadata": {},
     "output_type": "execute_result"
    }
   ],
   "source": [
    "\"1\" + \"2\" #this code will give error since both are string the utput shows '12' #             TASK 7 B"
   ]
  },
  {
   "cell_type": "code",
   "execution_count": 69,
   "id": "92dc625c",
   "metadata": {},
   "outputs": [
    {
     "data": {
      "text/plain": [
       "0.5"
      ]
     },
     "execution_count": 69,
     "metadata": {},
     "output_type": "execute_result"
    }
   ],
   "source": [
    "1/2      #this code will give error because output 0.5, arithmetic operation                  TASK 7 C"
   ]
  },
  {
   "cell_type": "code",
   "execution_count": 70,
   "id": "9b8ae4b7",
   "metadata": {},
   "outputs": [
    {
     "data": {
      "text/plain": [
       "0"
      ]
     },
     "execution_count": 70,
     "metadata": {},
     "output_type": "execute_result"
    }
   ],
   "source": [
    "1//2      #this code will give output 0 because it is floor division operation which only gives the integer part of the answer truncating the decimal                 TASK 7  D"
   ]
  },
  {
   "cell_type": "code",
   "execution_count": 71,
   "id": "abedf93d",
   "metadata": {},
   "outputs": [
    {
     "data": {
      "text/plain": [
       "True"
      ]
     },
     "execution_count": 71,
     "metadata": {},
     "output_type": "execute_result"
    }
   ],
   "source": [
    "True and True         #1 and 1 = 1      TASK 8 A "
   ]
  },
  {
   "cell_type": "code",
   "execution_count": 72,
   "id": "b513f3b2",
   "metadata": {},
   "outputs": [
    {
     "data": {
      "text/plain": [
       "False"
      ]
     },
     "execution_count": 72,
     "metadata": {},
     "output_type": "execute_result"
    }
   ],
   "source": [
    "True and False       #1 and 0 = 0       TASK 8 B"
   ]
  },
  {
   "cell_type": "code",
   "execution_count": 73,
   "id": "07efeafa",
   "metadata": {},
   "outputs": [
    {
     "data": {
      "text/plain": [
       "False"
      ]
     },
     "execution_count": 73,
     "metadata": {},
     "output_type": "execute_result"
    }
   ],
   "source": [
    "False or True       #0 and 1 = 0        TASK 8 C"
   ]
  },
  {
   "cell_type": "code",
   "execution_count": 75,
   "id": "97a268a6",
   "metadata": {},
   "outputs": [
    {
     "data": {
      "text/plain": [
       "False"
      ]
     },
     "execution_count": 75,
     "metadata": {},
     "output_type": "execute_result"
    }
   ],
   "source": [
    "False or False      #0 and 0 = 0       TASK 8 D"
   ]
  },
  {
   "cell_type": "code",
   "execution_count": 1,
   "id": "c7903ccf",
   "metadata": {},
   "outputs": [
    {
     "name": "stdout",
     "output_type": "stream",
     "text": [
      "true\n"
     ]
    }
   ],
   "source": [
    "fname=\"Rashmi\"\n",
    "fullname=\"Rashmi Upadhyay\"\n",
    "if(fname in fullname):\n",
    "  print('true')                TASK 9 A\n",
    "else:\n",
    "  print('false')\n",
    "#IF F NAME IS IN FULLNAME THEN EXPRESSION WILL BE SATISFIED "
   ]
  },
  {
   "cell_type": "code",
   "execution_count": 6,
   "id": "116c7bba",
   "metadata": {},
   "outputs": [
    {
     "name": "stdout",
     "output_type": "stream",
     "text": [
      "false\n"
     ]
    }
   ],
   "source": [
    "fname=\"Rashmi\"\n",
    "fullname=\"Rashmi Upadhyay\"\n",
    "if(fname is fullname):          TASK 9 B\n",
    "  print('true')                    \n",
    "else:\n",
    "  print('false')\n",
    "# IF F NAME IS SAME AS FULLNAME THEN EXPRESSION WILL BE SATISFIED "
   ]
  },
  {
   "cell_type": "code",
   "execution_count": 100,
   "id": "5b0ba308",
   "metadata": {},
   "outputs": [
    {
     "name": "stdout",
     "output_type": "stream",
     "text": [
      "Line 1 - value of d is  66\n",
      "Line 2 - value of e is  1024\n"
     ]
    }
   ],
   "source": [
    "a=4\n",
    "b=3 \n",
    "c=2\n",
    "d= a**b+c\n",
    "e= a**(b+c)                       TASK 10\n",
    "print (\"Line 1 - value of d is \", d)\n",
    "print (\"Line 2 - value of e is \", e)\n",
    "# Values of d  and e are different because we apply PEDMAS rule then according to this we get different ouput "
   ]
  },
  {
   "cell_type": "code",
   "execution_count": 117,
   "id": "e6541d0e",
   "metadata": {},
   "outputs": [
    {
     "name": "stdout",
     "output_type": "stream",
     "text": [
      "113.04\n"
     ]
    }
   ],
   "source": [
    "r=6\n",
    "area=3.14*(r**2)                       TASK 11\n",
    "print(area)"
   ]
  },
  {
   "cell_type": "code",
   "execution_count": 7,
   "id": "1164f49a",
   "metadata": {},
   "outputs": [
    {
     "name": "stdout",
     "output_type": "stream",
     "text": [
      "Tax amount:   15.299999999999999\n",
      "Final price: 1300.5\n"
     ]
    }
   ],
   "source": [
    "price=85                            \n",
    "tax =0.18                             TASK 12\n",
    "print('Tax amount:  ',price*tax)\n",
    "print('Final price:',price*(price*tax))"
   ]
  },
  {
   "cell_type": "code",
   "execution_count": 8,
   "id": "23228eb7",
   "metadata": {},
   "outputs": [
    {
     "name": "stdout",
     "output_type": "stream",
     "text": [
      "$ 44.44\n"
     ]
    }
   ],
   "source": [
    "Doll = 3333/75\n",
    "print(\"$\",Doll)                       TASK 13"
   ]
  },
  {
   "cell_type": "code",
   "execution_count": 10,
   "id": "74c59c14",
   "metadata": {},
   "outputs": [
    {
     "name": "stdout",
     "output_type": "stream",
     "text": [
      "Purchasing amount last year = $ 467.2897196261682\n"
     ]
    }
   ],
   "source": [
    "Purchasingamount=500/1.07             TASK 14\n",
    "print(\"Purchasing amount last year = $\", Purchasingamount)   "
   ]
  },
  {
   "cell_type": "code",
   "execution_count": null,
   "id": "7162da64",
   "metadata": {},
   "outputs": [],
   "source": [
    "#SAVE THE FILE                        TASK 15"
   ]
  }
 ],
 "metadata": {
  "kernelspec": {
   "display_name": "Python 3 (ipykernel)",
   "language": "python",
   "name": "python3"
  },
  "language_info": {
   "codemirror_mode": {
    "name": "ipython",
    "version": 3
   },
   "file_extension": ".py",
   "mimetype": "text/x-python",
   "name": "python",
   "nbconvert_exporter": "python",
   "pygments_lexer": "ipython3",
   "version": "3.9.7"
  }
 },
 "nbformat": 4,
 "nbformat_minor": 5
}
