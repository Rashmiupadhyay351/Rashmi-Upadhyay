{
 "cells": [
  {
   "cell_type": "markdown",
   "id": "b5225bc8",
   "metadata": {},
   "source": [
    "### TASK- 1\n",
    " Section (A)"
   ]
  },
  {
   "cell_type": "markdown",
   "id": "95da241c",
   "metadata": {},
   "source": [
    "\n",
    "\n",
    "Establish the null and alternate hypothesis\n",
    "\n",
    "H0: the average score greater than 71.   \n",
    "\n",
    "Ha:  the average score less than or quals to 71"
   ]
  },
  {
   "cell_type": "markdown",
   "id": "867461e9",
   "metadata": {},
   "source": [
    "### Calculate Sample Mean and standard deviation"
   ]
  },
  {
   "cell_type": "code",
   "execution_count": 1,
   "id": "c99a76d1",
   "metadata": {},
   "outputs": [
    {
     "name": "stdout",
     "output_type": "stream",
     "text": [
      "Sample Mean = 79.16666666666667\n",
      "Sample Standard Deviation = 13.862419221285535\n",
      "Sample Size = 6\n"
     ]
    }
   ],
   "source": [
    "import statistics as st\n",
    "\n",
    "sample_data=[61,93,75,67,84,95]\n",
    "s_mean=st.mean(sample_data)\n",
    "s_sd=st.stdev(sample_data)\n",
    "n=len(sample_data)\n",
    "print('Sample Mean = '+str(s_mean))\n",
    "print('Sample Standard Deviation = '+str(s_sd))\n",
    "print('Sample Size = '+str(n))"
   ]
  },
  {
   "cell_type": "markdown",
   "id": "c9d49d7b",
   "metadata": {},
   "source": [
    "### Determine the appropriate statistical test"
   ]
  },
  {
   "cell_type": "code",
   "execution_count": 2,
   "id": "e1138d59",
   "metadata": {},
   "outputs": [],
   "source": [
    "p_mean = 71  #Population Mean\n",
    "s_mean = 79.16666666666667 #  Sample Mean\n",
    "s_sd = 13.862419221285535 #  Sample Standard Deviation\n",
    "n = 6 # Sample Size\n",
    "dof = n-1 # Degrees of Freedom\n",
    "#We will test the hypothesis about a population mean using the t-statistic (standard deviation of the population is unknown)."
   ]
  },
  {
   "cell_type": "markdown",
   "id": "3481aa85",
   "metadata": {},
   "source": [
    "### Set the value of alpha\n",
    "Section (B)"
   ]
  },
  {
   "cell_type": "code",
   "execution_count": 3,
   "id": "9ed7a292",
   "metadata": {},
   "outputs": [],
   "source": [
    "alpha = 0.05 # Significance level\n",
    "\n",
    "#As this is a two-tailed test, we have to consider alpha/2 i.e. 0.025."
   ]
  },
  {
   "cell_type": "markdown",
   "id": "0e939dd0",
   "metadata": {},
   "source": [
    "### Establish the decision rule"
   ]
  },
  {
   "cell_type": "markdown",
   "id": "18896e0b",
   "metadata": {},
   "source": [
    "i. If -t-critical > t-statistics > +t-critical : Rejection of Null Hypothesis(H0)"
   ]
  },
  {
   "cell_type": "markdown",
   "id": "e927baf1",
   "metadata": {},
   "source": [
    "### Analyze the data\n",
    "Section (C)"
   ]
  },
  {
   "cell_type": "code",
   "execution_count": 4,
   "id": "75a76ee7",
   "metadata": {},
   "outputs": [
    {
     "name": "stdout",
     "output_type": "stream",
     "text": [
      "The t-statistics is  1.443050156931714\n",
      "The t-critical value is -2.57058183661474\n"
     ]
    }
   ],
   "source": [
    "import math\n",
    "from scipy.stats import t\n",
    "\n",
    "t_statistics = (s_mean - p_mean) / (s_sd/math.sqrt(n)) \n",
    "print(\"The t-statistics is \", t_statistics)\n",
    "\n",
    "t_critical = t.ppf(alpha/2, dof)\n",
    "print(\"The t-critical value is \"+str(t_critical))\n"
   ]
  },
  {
   "cell_type": "markdown",
   "id": "d9aceedd",
   "metadata": {},
   "source": [
    "### Reach a statistical conclusion\n",
    "Section (D)"
   ]
  },
  {
   "cell_type": "markdown",
   "id": "60dfe413",
   "metadata": {},
   "source": [
    "As per the decision rule:\n",
    "\n",
    "i. If -t-critical > t-statistics > +t-critical : Rejection of Null Hypothesis(H0)\n",
    "\n",
    "In our study,\n",
    "\n",
    "t_statistics= 1.443050156931714 > t-critical= -2.57058183661474, which leads to acceptance of Null Hypothesis(H0).\n"
   ]
  },
  {
   "cell_type": "markdown",
   "id": "de8eddf1",
   "metadata": {},
   "source": [
    "### Make a business decision\n"
   ]
  },
  {
   "cell_type": "markdown",
   "id": "bbeca096",
   "metadata": {},
   "source": [
    "Assumption:\n",
    "\n",
    "1) Sample size less than 30\n",
    "\n",
    "2) The sample mean does not follow a normal distribution but a T distribution. "
   ]
  },
  {
   "cell_type": "markdown",
   "id": "46f83c4b",
   "metadata": {},
   "source": [
    "## Plotting t-distribution\n",
    "Section - (E)"
   ]
  },
  {
   "cell_type": "code",
   "execution_count": 9,
   "id": "d453093d",
   "metadata": {},
   "outputs": [
    {
     "data": {
      "image/png": "[encoded data removed]",
      "text/plain": [
       "<Figure size 432x288 with 1 Axes>"
      ]
     },
     "metadata": {
      "needs_background": "light"
     },
     "output_type": "display_data"
    }
   ],
   "source": [
    "import matplotlib.pyplot as plt\n",
    "from scipy.stats import t\n",
    "import numpy as np\n",
    "\n",
    "s_mean = 79.16666666666667  #  Sample Mean\n",
    "s_sd =  13.862419221285535 #  Sample Standard Deviation\n",
    "upper=s_mean+4*s_sd\n",
    "lower=s_mean-4*s_sd\n",
    "\n",
    "x=np.arange(-4,4,.05)\n",
    "\n",
    "#tvals2=t.pdf(x,2)\n",
    "#tvals4=t.pdf(x,4)\n",
    "#tvals8=t.pdf(x,8)\n",
    "tvals11=t.pdf(x,11)      \n",
    "#tvals17=t.pdf(x,17)        \n",
    "#tvals30=t.pdf(x,30)\n",
    "\n",
    "plt.plot(x,tvals11,color='brown')\n",
    "plt.legend(['df=11']) \n",
    "#plt.plot(x,tvals2,x,tvals8, x,tvals30, x, tvals4)\n",
    "#plt.legend(['df=2','df=4','df=8','df=30'])\n",
    "plt.show()"
   ]
  },
  {
   "cell_type": "markdown",
   "id": "5203b212",
   "metadata": {},
   "source": [
    "### TASK- 2\n",
    "Section - (A)"
   ]
  },
  {
   "cell_type": "markdown",
   "id": "4c8d64fa",
   "metadata": {},
   "source": [
    "Establish the null and alternate hypothesis\n",
    "\n",
    "H0: Average fill for these machines are same.\n",
    "\n",
    "Ha: Average fill for these machines are not same."
   ]
  },
  {
   "cell_type": "code",
   "execution_count": 11,
   "id": "e7b172b1",
   "metadata": {},
   "outputs": [
    {
     "name": "stdout",
     "output_type": "stream",
     "text": [
      "Sample mean of Machine 1:  4.029999999999999\n",
      "Sample mean of Machine 2:  4.001666666666667\n",
      "Sample variance of Machine 1:  0.00033333333333333685\n",
      "Sample variance of Machine 2:  0.00013666666666666084\n",
      "Degrees of freedom : 8\n"
     ]
    }
   ],
   "source": [
    "Machines1=[4.05,4.01,4.04,4.02]\n",
    "Machines2=[4.02,3.99,4.01,3.99,4.00,4.00]\n",
    "x1=st.mean(Machines1)\n",
    "x2=st.mean(Machines2)\n",
    "v1=(st.stdev(Machines1))**2\n",
    "v2=(st.stdev(Machines2))**2\n",
    "n1= len(Machines1)\n",
    "n2= len(Machines2)\n",
    "df= n1+n2-2\n",
    "print(\"Sample mean of Machine 1: \",x1)\n",
    "print(\"Sample mean of Machine 2: \",x2)\n",
    "print(\"Sample variance of Machine 1: \",v1)\n",
    "print(\"Sample variance of Machine 2: \",v2)\n",
    "print(\"Degrees of freedom :\",df)\n"
   ]
  },
  {
   "cell_type": "markdown",
   "id": "4544de45",
   "metadata": {},
   "source": [
    "### Calculate t-statistic and t-critical\n",
    "Section (B) and (C)"
   ]
  },
  {
   "cell_type": "code",
   "execution_count": 12,
   "id": "fe09f939",
   "metadata": {},
   "outputs": [
    {
     "name": "stdout",
     "output_type": "stream",
     "text": [
      "t-statistic : 1.0698385183968115\n",
      "t_critical : 2.3060041350333704\n"
     ]
    }
   ],
   "source": [
    "import math\n",
    "from scipy.stats import t            \n",
    "signal=abs(x1-x2)\n",
    "noise=math.sqrt(v1*(n1-1) + v2*(n2-1))*math.sqrt(1/n1+1/n2)\n",
    "t_statistic=signal/noise\n",
    "print('t-statistic :',t_statistic)\n",
    "t_critical = t.ppf(1-0.025,df)\n",
    "print('t_critical :',t_critical)"
   ]
  },
  {
   "cell_type": "markdown",
   "id": "6ef843e6",
   "metadata": {},
   "source": [
    "### Business Decision\n",
    "Section (E)\n",
    "\n",
    "t-statistic < t-critical, which leads to rejection of Null Hypothesis(H0)\n",
    "So, Average fill for these machines are not same.\n"
   ]
  },
  {
   "cell_type": "markdown",
   "id": "654d0b42",
   "metadata": {},
   "source": [
    "### Section (D)"
   ]
  },
  {
   "cell_type": "code",
   "execution_count": 35,
   "id": "8cb36e43",
   "metadata": {},
   "outputs": [
    {
     "data": {
      "image/png": "[encoded data removed]",
      "text/plain": [
       "<Figure size 432x288 with 1 Axes>"
      ]
     },
     "metadata": {
      "needs_background": "light"
     },
     "output_type": "display_data"
    }
   ],
   "source": [
    "s_mean = (x1-x2) #  Sample Mean\n",
    "s_sd = (v1-v2)  #  Sample Standard Deviation\n",
    "upper=s_mean+4*s_sd\n",
    "lower=s_mean-4*s_sd\n",
    "\n",
    "x=np.arange(-4,4,.05)\n",
    "\n",
    "#tvals2=t.pdf(x,2)\n",
    "#tvals4=t.pdf(x,4)\n",
    "#tvals8=t.pdf(x,8)\n",
    "tvals11=t.pdf(x,11)      \n",
    "#tvals17=t.pdf(x,17)        \n",
    "#tvals30=t.pdf(x,30)\n",
    "\n",
    "plt.plot(x,tvals11,color='brown')\n",
    "plt.legend(['df=11']) \n",
    "#plt.plot(x,tvals2,x,tvals8, x,tvals30, x, tvals4)\n",
    "#plt.legend(['df=2','df=4','df=8','df=30'])\n",
    "plt.show()"
   ]
  },
  {
   "cell_type": "markdown",
   "id": "4a20c772",
   "metadata": {},
   "source": [
    "# TASK 3"
   ]
  },
  {
   "cell_type": "markdown",
   "id": "fe69971e",
   "metadata": {},
   "source": [
    "### Set the Null and Alternate Hypothesis\n",
    "Section (A)"
   ]
  },
  {
   "cell_type": "markdown",
   "id": "6237f1d8",
   "metadata": {},
   "source": [
    "H0: the average fill for these four machines are equal.\n",
    "\n",
    "Ha: the average fill for these four machines are different from others."
   ]
  },
  {
   "cell_type": "markdown",
   "id": "7ad18e10",
   "metadata": {},
   "source": [
    "### Determine the appropriate statistical test"
   ]
  },
  {
   "cell_type": "markdown",
   "id": "72dd04b2",
   "metadata": {},
   "source": [
    "The appropriate test statistic is the F-test calculated from ANOVA."
   ]
  },
  {
   "cell_type": "markdown",
   "id": "79159c2e",
   "metadata": {},
   "source": [
    "### Access the sample data\n",
    "\n",
    "Section (B) and (C)"
   ]
  },
  {
   "cell_type": "code",
   "execution_count": 14,
   "id": "c22325e4",
   "metadata": {},
   "outputs": [],
   "source": [
    "Machine1=[4.05,4.01,4.04,4.02]\n",
    "Machine2=[4.02,3.99,4.01,3.99,4.00,4.00]\n",
    "Machine3=[4.00,3.97,3.95,3.98,3.97]\n",
    "Machine4=[4.01,4.00,3.99,4.02]"
   ]
  },
  {
   "cell_type": "markdown",
   "id": "90f9d085",
   "metadata": {},
   "source": [
    "### Calculate the total measure for each sample(Tj)"
   ]
  },
  {
   "cell_type": "code",
   "execution_count": 16,
   "id": "a40f9188",
   "metadata": {},
   "outputs": [
    {
     "name": "stdout",
     "output_type": "stream",
     "text": [
      "Total measure from Machine 1 : 16.119999999999997\n",
      "Total measure from Machine 2 : 24.009999999999998\n",
      "Total measure from Machine 3 : 19.87\n",
      "Total measure from Machine 4 : 16.02\n"
     ]
    }
   ],
   "source": [
    "T1=sum(Machine1)\n",
    "T2=sum(Machine2)\n",
    "T3=sum(Machine3)\n",
    "T4=sum(Machine4)\n",
    "T=T1+T2+T3+T4\n",
    "print('Total measure from Machine 1 :',T1 )\n",
    "print('Total measure from Machine 2 :',T2 )\n",
    "print('Total measure from Machine 3 :',T3 )\n",
    "print('Total measure from Machine 4 :',T4 )\n"
   ]
  },
  {
   "cell_type": "markdown",
   "id": "c97d6e7c",
   "metadata": {},
   "source": [
    "### Samples size (nj)"
   ]
  },
  {
   "cell_type": "code",
   "execution_count": 17,
   "id": "4982275f",
   "metadata": {},
   "outputs": [
    {
     "name": "stdout",
     "output_type": "stream",
     "text": [
      "Size of Machine1 = 4\n",
      "Size of Machine2 = 6\n",
      "Size of Machine3 = 5\n",
      "Size of Machine4 = 4\n",
      "Size of all Machines = 19\n"
     ]
    }
   ],
   "source": [
    "n1=len(Machine1)\n",
    "n2=len(Machine2)\n",
    "n3=len(Machine3)\n",
    "n4=len(Machine4)\n",
    "n=n1+n2+n3+n4\n",
    "print('Size of Machine1 =',n1)\n",
    "print('Size of Machine2 =',n2)\n",
    "print('Size of Machine3 =',n3)\n",
    "print('Size of Machine4 =',n4)\n",
    "print('Size of all Machines =',n)"
   ]
  },
  {
   "cell_type": "markdown",
   "id": "b3462a5c",
   "metadata": {},
   "source": [
    "### Calculate sample means (xj)"
   ]
  },
  {
   "cell_type": "code",
   "execution_count": 36,
   "id": "19023486",
   "metadata": {},
   "outputs": [
    {
     "name": "stdout",
     "output_type": "stream",
     "text": [
      "Mean of the Machine 1 : 4.029999999999999\n",
      "Mean of the Machine 2 : 4.001666666666667\n",
      "Mean of the Machine 3 : 3.974\n",
      "Mean of the Machine 4 : 4.005\n",
      "Mean of the all Machines = 4.002666666666666\n"
     ]
    }
   ],
   "source": [
    "import statistics as st\n",
    "\n",
    "x1=st.mean(Machine1)\n",
    "x2=st.mean(Machine2)\n",
    "x3=st.mean(Machine3)\n",
    "x4=st.mean(Machine4)\n",
    "x=(x1+x2+x3+x4)/4\n",
    "print('Mean of the Machine 1 :',x1)\n",
    "print('Mean of the Machine 2 :',x2)\n",
    "print('Mean of the Machine 3 :',x3)\n",
    "print('Mean of the Machine 4 :',x4)\n",
    "print('Mean of the all Machines =',x)"
   ]
  },
  {
   "cell_type": "markdown",
   "id": "51a5c090",
   "metadata": {},
   "source": [
    "### Analyze the data"
   ]
  },
  {
   "cell_type": "markdown",
   "id": "ead097cd",
   "metadata": {},
   "source": [
    "### Calculate the sum of squares columns (SSC)"
   ]
  },
  {
   "cell_type": "code",
   "execution_count": 21,
   "id": "89a9213d",
   "metadata": {},
   "outputs": [
    {
     "name": "stdout",
     "output_type": "stream",
     "text": [
      "SSC = 0.007125111111110891\n"
     ]
    }
   ],
   "source": [
    "SSC=n1*(x1-x)**2 + n2*(x2-x)**2 + n3*(x3-x)**2 + n4*(x4-x)**2\n",
    "print(\"SSC =\",SSC)"
   ]
  },
  {
   "cell_type": "markdown",
   "id": "6c69755f",
   "metadata": {},
   "source": [
    "### Calculate the sum of squares errors (SSE)"
   ]
  },
  {
   "cell_type": "code",
   "execution_count": 24,
   "id": "94ce5a27",
   "metadata": {},
   "outputs": [
    {
     "name": "stdout",
     "output_type": "stream",
     "text": [
      "SSE = 0.0035033333333332815\n"
     ]
    }
   ],
   "source": [
    "SSE=0\n",
    "for i in  Machine1:\n",
    "    SSE=SSE+(i-x1)**2\n",
    "    \n",
    "for i in  Machine2:\n",
    "    SSE=SSE+(i-x2)**2\n",
    "    \n",
    "for i in  Machine3:\n",
    "    SSE=SSE+(i-x3)**2\n",
    "    \n",
    "for i in Machine4:\n",
    "    SSE=SSE+(i-x4)**2  \n",
    "print(\"SSE =\",SSE)"
   ]
  },
  {
   "cell_type": "markdown",
   "id": "88eac935",
   "metadata": {},
   "source": [
    "### Calculate the total sum of squares (SST)"
   ]
  },
  {
   "cell_type": "code",
   "execution_count": 26,
   "id": "712b85cc",
   "metadata": {},
   "outputs": [
    {
     "name": "stdout",
     "output_type": "stream",
     "text": [
      "SST = 0.010628444444444302\n"
     ]
    }
   ],
   "source": [
    "SST=0\n",
    "for i in Machine1:\n",
    "    SST=SST+(i-x)**2\n",
    "    \n",
    "for i in Machine2:\n",
    "    SST=SST+(i-x)**2\n",
    "    \n",
    "for i in Machine3:\n",
    "    SST=SST+(i-x)**2\n",
    "\n",
    "for i in Machine4:\n",
    "    SST=SST+(i-x)**2\n",
    " \n",
    "    \n",
    "print(\"SST =\",SST)"
   ]
  },
  {
   "cell_type": "markdown",
   "id": "2af3fc88",
   "metadata": {},
   "source": [
    "### Calculate column, error, and the total degree of freedoms (dfc,dfe,dft)"
   ]
  },
  {
   "cell_type": "code",
   "execution_count": 27,
   "id": "717cff05",
   "metadata": {},
   "outputs": [
    {
     "name": "stdout",
     "output_type": "stream",
     "text": [
      "dfc = 3\n",
      "dfe = 15\n",
      "dft = 18\n"
     ]
    }
   ],
   "source": [
    "dfc= 4-1\n",
    "dfe= 19-4\n",
    "dft= 19-1\n",
    "print('dfc =',dfc)\n",
    "print('dfe =',dfe)\n",
    "print('dft =',dft)"
   ]
  },
  {
   "cell_type": "markdown",
   "id": "927836ba",
   "metadata": {},
   "source": [
    "### Calculate MSC"
   ]
  },
  {
   "cell_type": "code",
   "execution_count": 28,
   "id": "cc582546",
   "metadata": {},
   "outputs": [
    {
     "name": "stdout",
     "output_type": "stream",
     "text": [
      "MSC = 0.0023750370370369638\n"
     ]
    }
   ],
   "source": [
    "MSC=SSC/dfc\n",
    "print('MSC =',MSC)"
   ]
  },
  {
   "cell_type": "markdown",
   "id": "46351984",
   "metadata": {},
   "source": [
    "### Calculate MSE"
   ]
  },
  {
   "cell_type": "code",
   "execution_count": 29,
   "id": "fbc3b2c1",
   "metadata": {},
   "outputs": [
    {
     "name": "stdout",
     "output_type": "stream",
     "text": [
      "MSE = 0.0002335555555555521\n"
     ]
    }
   ],
   "source": [
    "MSE=SSE/dfe\n",
    "print('MSE =',MSE)"
   ]
  },
  {
   "cell_type": "markdown",
   "id": "fc48f32c",
   "metadata": {},
   "source": [
    "### Calculate F-statistic"
   ]
  },
  {
   "cell_type": "code",
   "execution_count": 30,
   "id": "45bc658b",
   "metadata": {},
   "outputs": [
    {
     "name": "stdout",
     "output_type": "stream",
     "text": [
      "F-statistic = 10.169045353631299\n"
     ]
    }
   ],
   "source": [
    "f_statistic=MSC/MSE\n",
    "print('F-statistic =',f_statistic)"
   ]
  },
  {
   "cell_type": "markdown",
   "id": "d3906bf2",
   "metadata": {},
   "source": [
    "### Calculate F-critical"
   ]
  },
  {
   "cell_type": "code",
   "execution_count": 31,
   "id": "b167908c",
   "metadata": {},
   "outputs": [
    {
     "name": "stdout",
     "output_type": "stream",
     "text": [
      "F-critical = 5.416964857818421\n"
     ]
    }
   ],
   "source": [
    "from scipy.stats import f\n",
    "\n",
    "f_critical=f.ppf(1-0.01, dfc, dfe)\n",
    "print('F-critical =',f_critical)"
   ]
  },
  {
   "cell_type": "markdown",
   "id": "524abfd0",
   "metadata": {},
   "source": [
    "### Distribution using boxplot\n",
    "Section (D)"
   ]
  },
  {
   "cell_type": "code",
   "execution_count": 32,
   "id": "6f4babfe",
   "metadata": {},
   "outputs": [
    {
     "data": {
      "image/png": "[encoded data removed]",
      "text/plain": [
       "<Figure size 720x504 with 1 Axes>"
      ]
     },
     "metadata": {
      "needs_background": "light"
     },
     "output_type": "display_data"
    }
   ],
   "source": [
    "import matplotlib.pyplot as plt\n",
    "import numpy as np\n",
    " \n",
    "\n",
    "fig = plt.figure(figsize =(10, 7))\n",
    "ax = fig.add_axes([0, 0, 1, 1])\n",
    "data=[Machine1, Machine2, Machine3, Machine4]\n",
    "# Creating plot\n",
    "plt.boxplot(data,vert = 0)\n",
    "ax.set_yticklabels(['Machine-1', 'Machine-2','Machine-3','Machine-4'])\n",
    "# show plot\n",
    "plt.show()"
   ]
  },
  {
   "cell_type": "markdown",
   "id": "a0e4ddc1",
   "metadata": {},
   "source": [
    "### Reach a statistical conclusion"
   ]
  },
  {
   "cell_type": "code",
   "execution_count": null,
   "id": "7dc18486",
   "metadata": {},
   "outputs": [],
   "source": [
    "As per the decision rule:\n",
    "\n",
    "i. . If F-statistic > F-critical : Rejection of Null Hypothesis(H0)\n",
    "\n",
    "In our study,\n",
    "\n",
    "F-statistic=10.169045353631299 > F-critical=5.416964857818421, which leads to rejection of Null Hypothesis."
   ]
  },
  {
   "cell_type": "markdown",
   "id": "57bf78db",
   "metadata": {},
   "source": [
    "### Make a business decision\n",
    "Section (E)"
   ]
  },
  {
   "cell_type": "code",
   "execution_count": null,
   "id": "854c3428",
   "metadata": {},
   "outputs": [],
   "source": [
    "There is a significant difference in the average fill for these four machines."
   ]
  },
  {
   "cell_type": "markdown",
   "id": "0727b7ce",
   "metadata": {},
   "source": [
    "### Plotting f-distribution"
   ]
  },
  {
   "cell_type": "code",
   "execution_count": 33,
   "id": "4e2b5dc0",
   "metadata": {},
   "outputs": [
    {
     "data": {
      "text/plain": [
       "[<matplotlib.lines.Line2D at 0x1f69b1ee5e0>]"
      ]
     },
     "execution_count": 33,
     "metadata": {},
     "output_type": "execute_result"
    },
    {
     "data": {
      "image/png": "[encoded data removed]",
      "text/plain": [
       "<Figure size 432x288 with 1 Axes>"
      ]
     },
     "metadata": {
      "needs_background": "light"
     },
     "output_type": "display_data"
    }
   ],
   "source": [
    "import numpy as np\n",
    "from scipy.stats import f, norm\n",
    "import matplotlib.pyplot as plt\n",
    "\n",
    "\n",
    "rv1 = f(dfn=dfc, dfd=dfe, loc=0, scale=1)\n",
    "x = np.linspace(rv1.ppf(0.01), rv1.ppf(1-0.01), 100)\n",
    "y = rv1.pdf(x) \n",
    "\n",
    "plt.xlim(0,7)\n",
    "plt.plot(x,y, 'b-')"
   ]
  },
  {
   "cell_type": "code",
   "execution_count": null,
   "id": "c6920279",
   "metadata": {},
   "outputs": [],
   "source": []
  }
 ],
 "metadata": {
  "kernelspec": {
   "display_name": "Python 3 (ipykernel)",
   "language": "python",
   "name": "python3"
  },
  "language_info": {
   "codemirror_mode": {
    "name": "ipython",
    "version": 3
   },
   "file_extension": ".py",
   "mimetype": "text/x-python",
   "name": "python",
   "nbconvert_exporter": "python",
   "pygments_lexer": "ipython3",
   "version": "3.9.7"
  }
 },
 "nbformat": 4,
 "nbformat_minor": 5
}
