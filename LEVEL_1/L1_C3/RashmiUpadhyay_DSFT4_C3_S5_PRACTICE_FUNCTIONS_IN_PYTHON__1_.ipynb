{
 "cells": [
  {
   "cell_type": "code",
   "execution_count": 3,
   "id": "877a9dcd",
   "metadata": {},
   "outputs": [
    {
     "name": "stdout",
     "output_type": "stream",
     "text": [
      "Enter a word: rashu\n",
      "Not a palindrome\n"
     ]
    }
   ],
   "source": [
    "#TASK - 1\n",
    "\n",
    "def palindrome():\n",
    "    word=input(\"Enter a word: \")\n",
    "    if word == word[::-1]:\n",
    "        print(\"It's a palindrome\")\n",
    "    else:\n",
    "        print(\"Not a palindrome\")\n",
    "palindrome()"
   ]
  },
  {
   "cell_type": "code",
   "execution_count": 28,
   "id": "5f956ff6",
   "metadata": {},
   "outputs": [
    {
     "name": "stdout",
     "output_type": "stream",
     "text": [
      "Enter a string/sentence to be sorted: mango is the king of fruits\n",
      "Sorted in alphabetical order:   fruits is king mango of the\n"
     ]
    }
   ],
   "source": [
    "#TASK - 2\n",
    "\n",
    "def alphabetical_sorting(string):\n",
    "    l1=string.split()\n",
    "    l1.sort()\n",
    "    st1=\"\"\n",
    "    for i in range(0,len(l1)):\n",
    "        st1=st1+\" \"+l1[i]\n",
    "    print(\"Sorted in alphabetical order: \",st1)\n",
    "def main():\n",
    "    sen=input(\"Enter a string/sentence to be sorted: \")\n",
    "    alphabetical_sorting(sen)\n",
    "    \n",
    "main() \n"
   ]
  },
  {
   "cell_type": "code",
   "execution_count": 13,
   "id": "70031d18",
   "metadata": {},
   "outputs": [
    {
     "name": "stdout",
     "output_type": "stream",
     "text": [
      "abcde\n"
     ]
    }
   ],
   "source": [
    "#TASK - 3 \n",
    "\n",
    "def string(a):\n",
    "    b=\"\"\n",
    "    return(b.join(a))\n",
    "a=['a','b','c','d','e']\n",
    "print(string(a))\n"
   ]
  },
  {
   "cell_type": "code",
   "execution_count": 18,
   "id": "acb26193",
   "metadata": {},
   "outputs": [
    {
     "name": "stdout",
     "output_type": "stream",
     "text": [
      "Enter size of list: 5\n",
      "Enter numbers: 15\n",
      "Enter numbers: 3\n",
      "Enter numbers: 78\n",
      "Enter numbers: 6\n",
      "Enter numbers: 5\n",
      "Largest number is:  78\n",
      "Smallest number is:  3\n"
     ]
    }
   ],
   "source": [
    "#TASK - 4\n",
    "\n",
    "def largest(list):\n",
    "    large=max(list)\n",
    "    return large\n",
    "def smallest(list):\n",
    "    small=min(list)\n",
    "    return small\n",
    "    \n",
    "li=[]\n",
    "n=int(input(\"Enter size of list: \"))\n",
    "for i in range(0,n):\n",
    "    e=int(input(\"Enter numbers: \"))\n",
    "    li.append(e)\n",
    "print(\"Largest number is: \",largest(li))\n",
    "print(\"Smallest number is: \",smallest(li))\n"
   ]
  },
  {
   "cell_type": "code",
   "execution_count": 17,
   "id": "a4cf6257",
   "metadata": {},
   "outputs": [
    {
     "name": "stdout",
     "output_type": "stream",
     "text": [
      "(29, 'item4')\n",
      "(49.89, 'item5')\n"
     ]
    }
   ],
   "source": [
    "# TASK- 5 \n",
    "def print_key():\n",
    "    return \"Dictionary\"\n",
    "my_dict={\"item1\":45.50, \"item2\":35,\"item3\":41.30, \"item4\":29,\"item5\":49.89}\n",
    "print(min(zip( my_dict.values(),my_dict.keys())))\n",
    "print(max(zip( my_dict.values(),my_dict.keys())))"
   ]
  },
  {
   "cell_type": "code",
   "execution_count": 15,
   "id": "bcdb18f4",
   "metadata": {},
   "outputs": [
    {
     "name": "stdout",
     "output_type": "stream",
     "text": [
      "Enter your name: Rashmi Upadhyay\n",
      "Enter your age: 21\n",
      "Enter our gender: Female\n",
      "Profile Card: \n",
      "Name:  Rashmi Upadhyay\n",
      "Age:  21\n",
      "Gender:  Female\n"
     ]
    }
   ],
   "source": [
    "#TASK - 6\n",
    "\n",
    "def func():\n",
    "    name=input(\"Enter your name: \")\n",
    "    age=int(input(\"Enter your age: \"))\n",
    "    gender=input(\"Enter our gender: \")\n",
    "    return name,age,gender\n",
    "def main():\n",
    "    l1=func()\n",
    "    print(\"Profile Card: \")\n",
    "    print(\"Name: \", l1[0])\n",
    "    print(\"Age: \", l1[1])\n",
    "    print(\"Gender: \",l1[2])\n",
    "main()    \n",
    "    "
   ]
  },
  {
   "cell_type": "code",
   "execution_count": 16,
   "id": "7a923000",
   "metadata": {},
   "outputs": [
    {
     "name": "stdout",
     "output_type": "stream",
     "text": [
      "Enter a number: 4\n",
      "Enter another number:7\n",
      "Final value:  112\n"
     ]
    }
   ],
   "source": [
    "#TASK - 7\n",
    "def main():\n",
    "    x=int(input(\"Enter a number: \"))\n",
    "    y=int(input(\"Enter another number:\"))\n",
    "    def calc(a,b):\n",
    "        c=a**2*b\n",
    "        return c\n",
    "    print(\"Final value: \", calc(x,y))\n",
    "main()"
   ]
  },
  {
   "cell_type": "code",
   "execution_count": 17,
   "id": "6ab4cb8d",
   "metadata": {},
   "outputs": [
    {
     "name": "stdout",
     "output_type": "stream",
     "text": [
      "[('green', 1), ('blue', 2), ('yellow', 3), ('black', 4), ('red', 5)]\n"
     ]
    }
   ],
   "source": [
    "#TASK- 8\n",
    "\n",
    "def sort(color):\n",
    "    color.sort(key=lambda x:x[1])\n",
    "    print(color)\n",
    "\n",
    "color=[('black',4),('green',1),('red',5),('blue',2),('yellow',3)]\n",
    "sort(color)\n"
   ]
  },
  {
   "cell_type": "code",
   "execution_count": 19,
   "id": "8984da26",
   "metadata": {},
   "outputs": [
    {
     "name": "stdout",
     "output_type": "stream",
     "text": [
      "Intersection of a and b is: ['Mandy']\n"
     ]
    }
   ],
   "source": [
    "#TASK - 9\n",
    "\n",
    "a=['Andy','Mandy','Sandy']\n",
    "b=['handy','Brandy','Mandy']\n",
    "Intersection=list(filter(lambda x:x in a,b))\n",
    "print('Intersection of a and b is:',Intersection)"
   ]
  },
  {
   "cell_type": "code",
   "execution_count": 20,
   "id": "97adc01d",
   "metadata": {},
   "outputs": [
    {
     "name": "stdout",
     "output_type": "stream",
     "text": [
      "[12, 13, 14]\n",
      "[17, 16, 15]\n",
      "f: after adding two list\n",
      "[29, 29, 29]\n"
     ]
    }
   ],
   "source": [
    "#TASK - 10\n",
    "\n",
    "c=[12, 13, 14]\n",
    "d=[17, 16, 15]\n",
    "print(c)\n",
    "print(d)\n",
    "f = map(lambda x, y: x + y, c, d)\n",
    "print(\"f: after adding two list\")\n",
    "print(list(f))"
   ]
  },
  {
   "cell_type": "code",
   "execution_count": null,
   "id": "69f1802c",
   "metadata": {},
   "outputs": [],
   "source": []
  }
 ],
 "metadata": {
  "kernelspec": {
   "display_name": "Python 3 (ipykernel)",
   "language": "python",
   "name": "python3"
  },
  "language_info": {
   "codemirror_mode": {
    "name": "ipython",
    "version": 3
   },
   "file_extension": ".py",
   "mimetype": "text/x-python",
   "name": "python",
   "nbconvert_exporter": "python",
   "pygments_lexer": "ipython3",
   "version": "3.9.7"
  }
 },
 "nbformat": 4,
 "nbformat_minor": 5
}
