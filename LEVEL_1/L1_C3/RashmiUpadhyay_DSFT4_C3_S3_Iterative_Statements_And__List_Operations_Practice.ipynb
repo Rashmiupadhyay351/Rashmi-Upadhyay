{
 "cells": [
  {
   "cell_type": "code",
   "execution_count": 1,
   "id": "fa8eedc2",
   "metadata": {},
   "outputs": [
    {
     "name": "stdout",
     "output_type": "stream",
     "text": [
      "False\n"
     ]
    }
   ],
   "source": [
    "#Task -1\n",
    "mynames = (\"Joe\", \"Zoe\", \"world\", \"Brad\", \"Angelina\", \"world\", \"Zuki\", \"Tom\", \"Paris\", \"word\", \"magic\")\n",
    "\n",
    "if 'USA' in mynames:\n",
    "    Print('True')\n",
    "else:\n",
    "    print('False')"
   ]
  },
  {
   "cell_type": "code",
   "execution_count": 12,
   "id": "edd87183",
   "metadata": {},
   "outputs": [
    {
     "name": "stdout",
     "output_type": "stream",
     "text": [
      "2\n"
     ]
    }
   ],
   "source": [
    "#TASK -2\n",
    "mynames = (\"Joe\", \"Zoe\", \"world\", \"Brad\", \"Angelina\", \"world\", \"Zuki\", \"Tom\", \"Paris\", \"word\", \"magic\")\n",
    "def countX(tup, x):\n",
    "    count = 0\n",
    "    for ele in tup:\n",
    "        if (ele == x):\n",
    "            count = count + 1\n",
    "    return count\n",
    "tup = (\"Joe\", \"Zoe\", \"world\", \"Brad\", \"Angelina\", \"world\", \"Zuki\", \"Tom\", \"Paris\", \"word\", \"magic\")\n",
    "enq = ('world')\n",
    "print(countX(tup, enq))"
   ]
  },
  {
   "cell_type": "code",
   "execution_count": 14,
   "id": "5483c1cd",
   "metadata": {},
   "outputs": [
    {
     "name": "stdout",
     "output_type": "stream",
     "text": [
      "Number of even numbers : 15\n",
      "Number of odd numbers : 15\n"
     ]
    }
   ],
   "source": [
    "#TASK - 3\n",
    "\n",
    "dataset = list(range(1,30))\n",
    "numbers = (1, 2, 3, 4, 5, 6, 7, 8, 9,10,11,12,13,14,15,16,17,18,19,20,21,22,23,24,25,26,27,28,29,30) # Declaring the tuple\n",
    "count_odd = 0\n",
    "count_even = 0\n",
    "for x in numbers:\n",
    "        if not x % 2:\n",
    "            count_even+=1\n",
    "        else:\n",
    "            count_odd+=1\n",
    "print(\"Number of even numbers :\",count_even)\n",
    "print(\"Number of odd numbers :\",count_odd)"
   ]
  },
  {
   "cell_type": "code",
   "execution_count": 37,
   "id": "09ee78ed",
   "metadata": {},
   "outputs": [
    {
     "name": "stdout",
     "output_type": "stream",
     "text": [
      "[2, 4, 6, 8, 10]\n"
     ]
    }
   ],
   "source": [
    "#TASK -4\n",
    "\n",
    "dataset = list(range(1,30))\n",
    "L=[]\n",
    "count=0\n",
    "for x in dataset:\n",
    "    if (x%2 == 0):\n",
    "        L.append(x)\n",
    "        count=count+1\n",
    "    if (count==5):\n",
    "        break\n",
    "print (L)        "
   ]
  },
  {
   "cell_type": "code",
   "execution_count": 36,
   "id": "c783ceed",
   "metadata": {},
   "outputs": [
    {
     "name": "stdout",
     "output_type": "stream",
     "text": [
      "The last two odd numbers are: \n",
      "29 27 "
     ]
    }
   ],
   "source": [
    "#TASK - 5\n",
    "\n",
    "dataset = list(range(1,30))\n",
    "count=0\n",
    "length=len(dataset)\n",
    "print(\"The last two odd numbers are: \")\n",
    "for x in dataset:\n",
    "    y=dataset[length-1]\n",
    "    if(y%2!=0):\n",
    "        print(y, end=\" \")\n",
    "        count = count+1\n",
    "        if (count==2):\n",
    "            break\n",
    "    length=length-1"
   ]
  },
  {
   "cell_type": "code",
   "execution_count": 38,
   "id": "e01d5a15",
   "metadata": {},
   "outputs": [
    {
     "name": "stdout",
     "output_type": "stream",
     "text": [
      "enter value in x:1\n",
      "enter value in y:2\n",
      "enter value in x:3\n",
      "enter value in y:4\n",
      "enter value in x:5\n",
      "enter value in y:6\n",
      "enter value in x:7\n",
      "enter value in y:8\n",
      "enter value in x:9\n",
      "enter value in y:0\n",
      "x=   ['hi', 1, 3, 5, 7, 9, [2, 4, 6, 8, 0]]\n",
      "y=   [2, 4, 6, 8, 0]\n"
     ]
    }
   ],
   "source": [
    "#TASK -6\n",
    "\n",
    "x=[]\n",
    "y=[]\n",
    "for z in range(1,6):\n",
    "    j= int(input(\"enter value in x:\"))\n",
    "    x.append(j)\n",
    "    k= int(input(\"enter value in y:\"))\n",
    "    y.append(k)\n",
    "x.append(y)\n",
    "x.insert(0,\"hi\")\n",
    "print(\"x=  \",x)\n",
    "print(\"y=  \",y)"
   ]
  },
  {
   "cell_type": "code",
   "execution_count": 39,
   "id": "3e5082f3",
   "metadata": {},
   "outputs": [
    {
     "name": "stdout",
     "output_type": "stream",
     "text": [
      "first 10 elements are [1, 4, 9, 16, 25, 36, 49, 64, 81, 100]\n",
      "last 10 elements are  [961, 1024, 1089, 1156, 1225, 1296, 1369, 1444, 1521, 1600]\n"
     ]
    }
   ],
   "source": [
    "#TASK - 7\n",
    "\n",
    "L1=[]\n",
    "for r in range(1,41):\n",
    "    h= r**2\n",
    "    L1.append(h)\n",
    "first_10 = L1[0:10] \n",
    "print(\"first 10 elements are\", first_10)\n",
    "last_10 = L1[-10:]\n",
    "print(\"last 10 elements are \", last_10)\n"
   ]
  },
  {
   "cell_type": "code",
   "execution_count": 41,
   "id": "45ddc780",
   "metadata": {},
   "outputs": [
    {
     "name": "stdout",
     "output_type": "stream",
     "text": [
      "Enter the number whose table is required: 5\n",
      "5 * 1 = 5\n",
      "5 * 2 = 10\n",
      "5 * 3 = 15\n",
      "5 * 4 = 20\n",
      "5 * 5 = 25\n",
      "5 * 6 = 30\n",
      "5 * 7 = 35\n",
      "5 * 8 = 40\n",
      "5 * 9 = 45\n",
      "5 * 10 = 50\n"
     ]
    }
   ],
   "source": [
    "#TASK - 8\n",
    "\n",
    "c= int (input(\"Enter the number whose table is required: \"))\n",
    "for a in range (1,11):\n",
    "    print(\"%d * %d = %d\" %(c,a,(c*a)))"
   ]
  },
  {
   "cell_type": "code",
   "execution_count": null,
   "id": "d28c5fc3",
   "metadata": {},
   "outputs": [],
   "source": []
  }
 ],
 "metadata": {
  "kernelspec": {
   "display_name": "Python 3 (ipykernel)",
   "language": "python",
   "name": "python3"
  },
  "language_info": {
   "codemirror_mode": {
    "name": "ipython",
    "version": 3
   },
   "file_extension": ".py",
   "mimetype": "text/x-python",
   "name": "python",
   "nbconvert_exporter": "python",
   "pygments_lexer": "ipython3",
   "version": "3.9.7"
  }
 },
 "nbformat": 4,
 "nbformat_minor": 5
}
